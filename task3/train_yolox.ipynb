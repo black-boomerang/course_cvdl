{
 "cells": [
  {
   "cell_type": "markdown",
   "source": [
    "# Обучение YOLOX\n",
    "\n",
    "Загружаем необходимые библиотеки:"
   ],
   "metadata": {
    "collapsed": false,
    "pycharm": {
     "name": "#%% md\n"
    }
   }
  },
  {
   "cell_type": "code",
   "execution_count": 1,
   "outputs": [
    {
     "name": "stderr",
     "output_type": "stream",
     "text": [
      "C:\\Users\\Aleksei\\anaconda3\\envs\\data_science_3.9\\lib\\site-packages\\mmcv\\__init__.py:20: UserWarning: On January 1, 2023, MMCV will release v2.0.0, in which it will remove components related to the training process and add a data transformation module. In addition, it will rename the package names mmcv to mmcv-lite and mmcv-full to mmcv. See https://github.com/open-mmlab/mmcv/blob/master/docs/en/compatibility.md for more details.\n",
      "  warnings.warn(\n"
     ]
    }
   ],
   "source": [
    "import os\n",
    "import warnings\n",
    "\n",
    "from config import load_config\n",
    "from train import train\n",
    "from utils import convert_anns_to_suit_format\n",
    "\n",
    "warnings.filterwarnings('ignore')\n",
    "data_path = r'..\\data'"
   ],
   "metadata": {
    "collapsed": false,
    "pycharm": {
     "name": "#%%\n"
    }
   }
  },
  {
   "cell_type": "markdown",
   "source": [
    "Обучение будем проводить при помощи библиотеки mmdet. Для начала приведём файл с аннотациями к нужному виду и разобьём выборку на обучение и валидацию:"
   ],
   "metadata": {
    "collapsed": false,
    "pycharm": {
     "name": "#%% md\n"
    }
   }
  },
  {
   "cell_type": "code",
   "execution_count": 2,
   "outputs": [],
   "source": [
    "convert_anns_to_suit_format(os.path.join(data_path, 'cocotext.v2.json'),\n",
    "                            os.path.join(data_path, 'cocotext.train.json'),\n",
    "                            os.path.join(data_path, 'cocotext.val.json'))"
   ],
   "metadata": {
    "collapsed": false,
    "pycharm": {
     "name": "#%%\n"
    }
   }
  },
  {
   "cell_type": "markdown",
   "source": [
    "Создаём словарь, в котором названию модели сопоставляется URL предобученной модели (уже есть в репозитории):"
   ],
   "metadata": {
    "collapsed": false,
    "pycharm": {
     "name": "#%% md\n"
    }
   }
  },
  {
   "cell_type": "code",
   "execution_count": 3,
   "outputs": [],
   "source": [
    "# from utils import get_models_info_file\n",
    "# get_models_info_file('models_info.json')"
   ],
   "metadata": {
    "collapsed": false,
    "pycharm": {
     "name": "#%%\n"
    }
   }
  },
  {
   "cell_type": "markdown",
   "source": [
    "Обучаем модель:"
   ],
   "metadata": {
    "collapsed": false,
    "pycharm": {
     "name": "#%% md\n"
    }
   }
  },
  {
   "cell_type": "markdown",
   "source": [],
   "metadata": {
    "collapsed": false,
    "pycharm": {
     "name": "#%% md\n"
    }
   }
  },
  {
   "cell_type": "code",
   "execution_count": null,
   "outputs": [
    {
     "name": "stdout",
     "output_type": "stream",
     "text": [
      "loading annotations into memory...\n",
      "Done (t=0.49s)\n",
      "creating index...\n",
      "index created!\n"
     ]
    },
    {
     "name": "stderr",
     "output_type": "stream",
     "text": [
      "2022-11-20 11:46:36,291 - mmdet - INFO - Automatic scaling of learning rate (LR) has been disabled.\n"
     ]
    },
    {
     "name": "stdout",
     "output_type": "stream",
     "text": [
      "loading annotations into memory...\n"
     ]
    },
    {
     "name": "stderr",
     "output_type": "stream",
     "text": [
      "2022-11-20 11:46:36,628 - mmdet - INFO - load checkpoint from local path: C:\\Users\\Aleksei\\course_cvdl\\task3\\weights\\yolox_x_8x8_300e_coco.pth\n"
     ]
    },
    {
     "name": "stdout",
     "output_type": "stream",
     "text": [
      "Done (t=0.23s)\n",
      "creating index...\n",
      "index created!\n"
     ]
    },
    {
     "name": "stderr",
     "output_type": "stream",
     "text": [
      "2022-11-20 11:46:36,926 - mmdet - WARNING - The model and loaded state dict do not match exactly\n",
      "\n",
      "size mismatch for bbox_head.multi_level_conv_cls.0.weight: copying a param with shape torch.Size([80, 320, 1, 1]) from checkpoint, the shape in current model is torch.Size([1, 320, 1, 1]).\n",
      "size mismatch for bbox_head.multi_level_conv_cls.0.bias: copying a param with shape torch.Size([80]) from checkpoint, the shape in current model is torch.Size([1]).\n",
      "size mismatch for bbox_head.multi_level_conv_cls.1.weight: copying a param with shape torch.Size([80, 320, 1, 1]) from checkpoint, the shape in current model is torch.Size([1, 320, 1, 1]).\n",
      "size mismatch for bbox_head.multi_level_conv_cls.1.bias: copying a param with shape torch.Size([80]) from checkpoint, the shape in current model is torch.Size([1]).\n",
      "size mismatch for bbox_head.multi_level_conv_cls.2.weight: copying a param with shape torch.Size([80, 320, 1, 1]) from checkpoint, the shape in current model is torch.Size([1, 320, 1, 1]).\n",
      "size mismatch for bbox_head.multi_level_conv_cls.2.bias: copying a param with shape torch.Size([80]) from checkpoint, the shape in current model is torch.Size([1]).\n",
      "2022-11-20 11:46:36,954 - mmdet - INFO - Start running, host: Aleksei@DESKTOP-6FN7PTO, work_dir: C:\\Users\\Aleksei\\course_cvdl\\task3\\workdirs\\yolox_x_8x8_300e_coco\n",
      "2022-11-20 11:46:36,955 - mmdet - INFO - Hooks will be executed in the following order:\n",
      "before_run:\n",
      "(VERY_HIGH   ) YOLOXLrUpdaterHook                 \n",
      "(49          ) ExpMomentumEMAHook                 \n",
      "(NORMAL      ) CheckpointHook                     \n",
      "(LOW         ) EvalHook                           \n",
      "(VERY_LOW    ) TextLoggerHook                     \n",
      "(VERY_LOW    ) TensorboardLoggerHook              \n",
      " -------------------- \n",
      "before_train_epoch:\n",
      "(VERY_HIGH   ) YOLOXLrUpdaterHook                 \n",
      "(48          ) YOLOXModeSwitchHook                \n",
      "(48          ) SyncNormHook                       \n",
      "(49          ) ExpMomentumEMAHook                 \n",
      "(LOW         ) IterTimerHook                      \n",
      "(LOW         ) EvalHook                           \n",
      "(VERY_LOW    ) TextLoggerHook                     \n",
      "(VERY_LOW    ) TensorboardLoggerHook              \n",
      " -------------------- \n",
      "before_train_iter:\n",
      "(VERY_HIGH   ) YOLOXLrUpdaterHook                 \n",
      "(LOW         ) IterTimerHook                      \n",
      "(LOW         ) EvalHook                           \n",
      " -------------------- \n",
      "after_train_iter:\n",
      "(ABOVE_NORMAL) OptimizerHook                      \n",
      "(49          ) ExpMomentumEMAHook                 \n",
      "(NORMAL      ) CheckpointHook                     \n",
      "(LOW         ) IterTimerHook                      \n",
      "(LOW         ) EvalHook                           \n",
      "(VERY_LOW    ) TextLoggerHook                     \n",
      "(VERY_LOW    ) TensorboardLoggerHook              \n",
      " -------------------- \n",
      "after_train_epoch:\n",
      "(48          ) SyncNormHook                       \n",
      "(49          ) ExpMomentumEMAHook                 \n",
      "(NORMAL      ) CheckpointHook                     \n",
      "(LOW         ) EvalHook                           \n",
      "(VERY_LOW    ) TextLoggerHook                     \n",
      "(VERY_LOW    ) TensorboardLoggerHook              \n",
      " -------------------- \n",
      "before_val_epoch:\n",
      "(LOW         ) IterTimerHook                      \n",
      "(VERY_LOW    ) TextLoggerHook                     \n",
      "(VERY_LOW    ) TensorboardLoggerHook              \n",
      " -------------------- \n",
      "before_val_iter:\n",
      "(LOW         ) IterTimerHook                      \n",
      " -------------------- \n",
      "after_val_iter:\n",
      "(LOW         ) IterTimerHook                      \n",
      " -------------------- \n",
      "after_val_epoch:\n",
      "(VERY_LOW    ) TextLoggerHook                     \n",
      "(VERY_LOW    ) TensorboardLoggerHook              \n",
      " -------------------- \n",
      "after_run:\n",
      "(VERY_LOW    ) TextLoggerHook                     \n",
      "(VERY_LOW    ) TensorboardLoggerHook              \n",
      " -------------------- \n",
      "2022-11-20 11:46:36,956 - mmdet - INFO - workflow: [('train', 1)], max: 15 epochs\n",
      "2022-11-20 11:46:37,818 - mmdet - INFO - Checkpoints will be saved to C:\\Users\\Aleksei\\course_cvdl\\task3\\workdirs\\yolox_x_8x8_300e_coco by HardDiskBackend.\n",
      "2022-11-20 11:47:35,109 - mmdet - INFO - Epoch [1][100/10922]\tlr: 5.000e-06, eta: 1 day, 1:56:58, time: 0.571, data_time: 0.207, memory: 14349, loss_cls: 0.7325, loss_bbox: 3.6066, loss_obj: 9.2590, loss: 13.5981\n",
      "2022-11-20 11:48:08,086 - mmdet - INFO - Epoch [1][200/10922]\tlr: 5.000e-06, eta: 20:26:36, time: 0.329, data_time: 0.006, memory: 14349, loss_cls: 0.7008, loss_bbox: 3.2740, loss_obj: 4.5133, loss: 8.4880\n",
      "2022-11-20 11:48:37,244 - mmdet - INFO - Epoch [1][300/10922]\tlr: 5.000e-06, eta: 18:02:34, time: 0.292, data_time: 0.006, memory: 14349, loss_cls: 0.6864, loss_bbox: 3.1299, loss_obj: 3.7401, loss: 7.5564\n",
      "2022-11-20 11:49:08,424 - mmdet - INFO - Epoch [1][400/10922]\tlr: 5.000e-06, eta: 17:03:19, time: 0.311, data_time: 0.006, memory: 14349, loss_cls: 0.6687, loss_bbox: 3.0019, loss_obj: 3.5323, loss: 7.2029\n",
      "2022-11-20 11:49:39,530 - mmdet - INFO - Epoch [1][500/10922]\tlr: 5.000e-06, eta: 16:27:38, time: 0.311, data_time: 0.006, memory: 14384, loss_cls: 0.6593, loss_bbox: 3.0339, loss_obj: 3.4727, loss: 7.1658\n",
      "2022-11-20 11:50:09,977 - mmdet - INFO - Epoch [1][600/10922]\tlr: 5.000e-06, eta: 16:00:40, time: 0.305, data_time: 0.006, memory: 14384, loss_cls: 0.6510, loss_bbox: 2.8247, loss_obj: 3.2807, loss: 6.7564\n",
      "2022-11-20 11:50:45,172 - mmdet - INFO - Epoch [1][700/10922]\tlr: 5.000e-06, eta: 15:59:48, time: 0.352, data_time: 0.006, memory: 14384, loss_cls: 0.6447, loss_bbox: 2.7599, loss_obj: 3.1974, loss: 6.6019\n",
      "2022-11-20 11:51:17,420 - mmdet - INFO - Epoch [1][800/10922]\tlr: 5.000e-06, eta: 15:48:42, time: 0.322, data_time: 0.005, memory: 14384, loss_cls: 0.6444, loss_bbox: 2.8446, loss_obj: 3.2183, loss: 6.7074\n",
      "2022-11-20 11:51:47,631 - mmdet - INFO - Epoch [1][900/10922]\tlr: 5.000e-06, eta: 15:33:58, time: 0.302, data_time: 0.006, memory: 14384, loss_cls: 0.6428, loss_bbox: 2.8219, loss_obj: 3.1736, loss: 6.6382\n",
      "2022-11-20 11:52:16,447 - mmdet - INFO - Epoch [1][1000/10922]\tlr: 5.000e-06, eta: 15:18:19, time: 0.288, data_time: 0.005, memory: 14384, loss_cls: 0.6435, loss_bbox: 2.8587, loss_obj: 3.1229, loss: 6.6250\n",
      "2022-11-20 11:52:44,513 - mmdet - INFO - Epoch [1][1100/10922]\tlr: 5.000e-06, eta: 15:03:31, time: 0.281, data_time: 0.005, memory: 14384, loss_cls: 0.6356, loss_bbox: 2.8740, loss_obj: 3.0624, loss: 6.5720\n",
      "2022-11-20 11:53:17,546 - mmdet - INFO - Epoch [1][1200/10922]\tlr: 5.000e-06, eta: 15:02:16, time: 0.330, data_time: 0.005, memory: 14384, loss_cls: 0.6305, loss_bbox: 2.7814, loss_obj: 3.0485, loss: 6.4604\n",
      "2022-11-20 11:53:48,303 - mmdet - INFO - Epoch [1][1300/10922]\tlr: 5.000e-06, eta: 14:56:22, time: 0.307, data_time: 0.005, memory: 14384, loss_cls: 0.6283, loss_bbox: 2.7409, loss_obj: 3.1035, loss: 6.4727\n",
      "2022-11-20 11:54:15,722 - mmdet - INFO - Epoch [1][1400/10922]\tlr: 5.000e-06, eta: 14:44:54, time: 0.275, data_time: 0.005, memory: 14384, loss_cls: 0.6232, loss_bbox: 2.7818, loss_obj: 2.9398, loss: 6.3448\n",
      "2022-11-20 11:54:45,626 - mmdet - INFO - Epoch [1][1500/10922]\tlr: 5.000e-06, eta: 14:39:22, time: 0.299, data_time: 0.005, memory: 14384, loss_cls: 0.6329, loss_bbox: 2.7753, loss_obj: 2.9468, loss: 6.3550\n",
      "2022-11-20 11:55:17,677 - mmdet - INFO - Epoch [1][1600/10922]\tlr: 5.000e-06, eta: 14:37:59, time: 0.320, data_time: 0.006, memory: 14384, loss_cls: 0.6172, loss_bbox: 2.7034, loss_obj: 3.0202, loss: 6.3409\n",
      "2022-11-20 11:55:51,514 - mmdet - INFO - Epoch [1][1700/10922]\tlr: 5.000e-06, eta: 14:39:36, time: 0.338, data_time: 0.006, memory: 14384, loss_cls: 0.6322, loss_bbox: 2.7503, loss_obj: 2.8865, loss: 6.2690\n",
      "2022-11-20 11:56:22,779 - mmdet - INFO - Epoch [1][1800/10922]\tlr: 5.000e-06, eta: 14:37:10, time: 0.313, data_time: 0.006, memory: 14384, loss_cls: 0.6268, loss_bbox: 2.7471, loss_obj: 2.8684, loss: 6.2423\n",
      "2022-11-20 11:56:50,672 - mmdet - INFO - Epoch [1][1900/10922]\tlr: 5.000e-06, eta: 14:30:07, time: 0.279, data_time: 0.005, memory: 14384, loss_cls: 0.6202, loss_bbox: 2.8211, loss_obj: 2.8968, loss: 6.3380\n",
      "2022-11-20 11:57:21,966 - mmdet - INFO - Epoch [1][2000/10922]\tlr: 5.000e-06, eta: 14:28:17, time: 0.313, data_time: 0.006, memory: 14384, loss_cls: 0.6182, loss_bbox: 2.7330, loss_obj: 2.9016, loss: 6.2528\n",
      "2022-11-20 11:57:55,284 - mmdet - INFO - Epoch [1][2100/10922]\tlr: 5.000e-06, eta: 14:29:09, time: 0.333, data_time: 0.006, memory: 14384, loss_cls: 0.6196, loss_bbox: 2.7200, loss_obj: 2.8691, loss: 6.2088\n",
      "2022-11-20 11:58:23,128 - mmdet - INFO - Epoch [1][2200/10922]\tlr: 5.000e-06, eta: 14:23:15, time: 0.279, data_time: 0.006, memory: 14384, loss_cls: 0.6203, loss_bbox: 2.7782, loss_obj: 2.8230, loss: 6.2215\n",
      "2022-11-20 11:58:53,821 - mmdet - INFO - Epoch [1][2300/10922]\tlr: 5.000e-06, eta: 14:21:08, time: 0.307, data_time: 0.006, memory: 14384, loss_cls: 0.6178, loss_bbox: 2.6837, loss_obj: 2.9126, loss: 6.2142\n",
      "2022-11-20 11:59:28,346 - mmdet - INFO - Epoch [1][2400/10922]\tlr: 5.000e-06, eta: 14:23:28, time: 0.346, data_time: 0.006, memory: 14384, loss_cls: 0.6140, loss_bbox: 2.6455, loss_obj: 2.9641, loss: 6.2235\n",
      "2022-11-20 11:59:58,039 - mmdet - INFO - Epoch [1][2500/10922]\tlr: 5.000e-06, eta: 14:20:22, time: 0.297, data_time: 0.005, memory: 14384, loss_cls: 0.6207, loss_bbox: 2.7333, loss_obj: 2.8827, loss: 6.2367\n",
      "2022-11-20 12:00:29,474 - mmdet - INFO - Epoch [1][2600/10922]\tlr: 5.000e-06, eta: 14:19:16, time: 0.314, data_time: 0.005, memory: 14384, loss_cls: 0.6102, loss_bbox: 2.6661, loss_obj: 2.8387, loss: 6.1150\n",
      "2022-11-20 12:01:01,999 - mmdet - INFO - Epoch [1][2700/10922]\tlr: 5.000e-06, eta: 14:19:15, time: 0.325, data_time: 0.005, memory: 14384, loss_cls: 0.6099, loss_bbox: 2.6612, loss_obj: 2.7829, loss: 6.0540\n",
      "2022-11-20 12:01:29,216 - mmdet - INFO - Epoch [1][2800/10922]\tlr: 5.000e-06, eta: 14:14:08, time: 0.272, data_time: 0.005, memory: 14384, loss_cls: 0.6172, loss_bbox: 2.7288, loss_obj: 2.7626, loss: 6.1086\n",
      "2022-11-20 12:02:00,354 - mmdet - INFO - Epoch [1][2900/10922]\tlr: 5.000e-06, eta: 14:12:57, time: 0.311, data_time: 0.005, memory: 14384, loss_cls: 0.6036, loss_bbox: 2.5660, loss_obj: 2.6334, loss: 5.8031\n",
      "2022-11-20 12:02:32,576 - mmdet - INFO - Epoch [1][3000/10922]\tlr: 5.000e-06, eta: 14:12:47, time: 0.322, data_time: 0.006, memory: 14384, loss_cls: 0.6035, loss_bbox: 2.6067, loss_obj: 2.7535, loss: 5.9638\n",
      "2022-11-20 12:03:07,755 - mmdet - INFO - Epoch [1][3100/10922]\tlr: 5.000e-06, eta: 14:15:09, time: 0.352, data_time: 0.007, memory: 14384, loss_cls: 0.6014, loss_bbox: 2.5338, loss_obj: 2.7751, loss: 5.9103\n",
      "2022-11-20 12:03:36,902 - mmdet - INFO - Epoch [1][3200/10922]\tlr: 5.000e-06, eta: 14:12:21, time: 0.292, data_time: 0.006, memory: 14384, loss_cls: 0.6067, loss_bbox: 2.6715, loss_obj: 2.7264, loss: 6.0046\n",
      "2022-11-20 12:04:06,485 - mmdet - INFO - Epoch [1][3300/10922]\tlr: 5.000e-06, eta: 14:09:59, time: 0.296, data_time: 0.005, memory: 14384, loss_cls: 0.6094, loss_bbox: 2.6210, loss_obj: 2.7720, loss: 6.0025\n",
      "2022-11-20 12:04:38,656 - mmdet - INFO - Epoch [1][3400/10922]\tlr: 5.000e-06, eta: 14:09:46, time: 0.322, data_time: 0.005, memory: 14384, loss_cls: 0.6078, loss_bbox: 2.6230, loss_obj: 2.8393, loss: 6.0701\n",
      "2022-11-20 12:05:14,014 - mmdet - INFO - Epoch [1][3500/10922]\tlr: 5.000e-06, eta: 14:11:58, time: 0.354, data_time: 0.006, memory: 14486, loss_cls: 0.6048, loss_bbox: 2.5545, loss_obj: 2.7682, loss: 5.9276\n",
      "2022-11-20 12:05:43,608 - mmdet - INFO - Epoch [1][3600/10922]\tlr: 5.000e-06, eta: 14:09:44, time: 0.296, data_time: 0.005, memory: 14486, loss_cls: 0.6093, loss_bbox: 2.6417, loss_obj: 2.7609, loss: 6.0118\n",
      "2022-11-20 12:06:12,349 - mmdet - INFO - Epoch [1][3700/10922]\tlr: 5.000e-06, eta: 14:06:59, time: 0.287, data_time: 0.005, memory: 14486, loss_cls: 0.6105, loss_bbox: 2.6512, loss_obj: 2.6432, loss: 5.9048\n",
      "2022-11-20 12:06:38,007 - mmdet - INFO - Epoch [1][3800/10922]\tlr: 5.000e-06, eta: 14:02:11, time: 0.257, data_time: 0.005, memory: 14486, loss_cls: 0.6131, loss_bbox: 2.6917, loss_obj: 2.6905, loss: 5.9953\n",
      "2022-11-20 12:07:08,658 - mmdet - INFO - Epoch [1][3900/10922]\tlr: 5.000e-06, eta: 14:01:01, time: 0.306, data_time: 0.006, memory: 14486, loss_cls: 0.6068, loss_bbox: 2.6472, loss_obj: 2.7126, loss: 5.9665\n",
      "2022-11-20 12:07:40,237 - mmdet - INFO - Epoch [1][4000/10922]\tlr: 5.000e-06, eta: 14:00:30, time: 0.316, data_time: 0.006, memory: 14486, loss_cls: 0.5997, loss_bbox: 2.5778, loss_obj: 2.6381, loss: 5.8156\n",
      "2022-11-20 12:08:13,735 - mmdet - INFO - Epoch [1][4100/10922]\tlr: 5.000e-06, eta: 14:01:17, time: 0.336, data_time: 0.006, memory: 14486, loss_cls: 0.5976, loss_bbox: 2.5160, loss_obj: 2.6494, loss: 5.7630\n",
      "2022-11-20 12:08:44,443 - mmdet - INFO - Epoch [1][4200/10922]\tlr: 5.000e-06, eta: 14:00:09, time: 0.307, data_time: 0.005, memory: 14486, loss_cls: 0.6124, loss_bbox: 2.7055, loss_obj: 2.7367, loss: 6.0546\n",
      "2022-11-20 12:09:11,424 - mmdet - INFO - Epoch [1][4300/10922]\tlr: 5.000e-06, eta: 13:56:48, time: 0.270, data_time: 0.005, memory: 14486, loss_cls: 0.6094, loss_bbox: 2.6717, loss_obj: 2.7024, loss: 5.9834\n",
      "2022-11-20 12:09:43,305 - mmdet - INFO - Epoch [1][4400/10922]\tlr: 5.000e-06, eta: 13:56:29, time: 0.318, data_time: 0.006, memory: 14486, loss_cls: 0.6028, loss_bbox: 2.5940, loss_obj: 2.7518, loss: 5.9486\n",
      "2022-11-20 12:10:16,039 - mmdet - INFO - Epoch [1][4500/10922]\tlr: 5.000e-06, eta: 13:56:43, time: 0.328, data_time: 0.006, memory: 14486, loss_cls: 0.6120, loss_bbox: 2.6651, loss_obj: 2.7899, loss: 6.0670\n",
      "2022-11-20 12:10:48,403 - mmdet - INFO - Epoch [1][4600/10922]\tlr: 5.000e-06, eta: 13:56:43, time: 0.324, data_time: 0.006, memory: 14486, loss_cls: 0.6082, loss_bbox: 2.5982, loss_obj: 2.6910, loss: 5.8974\n",
      "2022-11-20 12:11:20,070 - mmdet - INFO - Epoch [1][4700/10922]\tlr: 5.000e-06, eta: 13:56:15, time: 0.316, data_time: 0.005, memory: 14486, loss_cls: 0.6025, loss_bbox: 2.5776, loss_obj: 2.6426, loss: 5.8228\n",
      "2022-11-20 12:11:48,572 - mmdet - INFO - Epoch [1][4800/10922]\tlr: 5.000e-06, eta: 13:54:03, time: 0.285, data_time: 0.005, memory: 14486, loss_cls: 0.6019, loss_bbox: 2.6159, loss_obj: 2.5349, loss: 5.7527\n",
      "2022-11-20 12:12:23,718 - mmdet - INFO - Epoch [1][4900/10922]\tlr: 5.000e-06, eta: 13:55:30, time: 0.351, data_time: 0.006, memory: 14486, loss_cls: 0.6019, loss_bbox: 2.5541, loss_obj: 2.6297, loss: 5.7858\n",
      "2022-11-20 12:12:55,924 - mmdet - INFO - Epoch [1][5000/10922]\tlr: 5.000e-06, eta: 13:55:19, time: 0.322, data_time: 0.006, memory: 14486, loss_cls: 0.6020, loss_bbox: 2.6076, loss_obj: 2.7948, loss: 6.0044\n",
      "2022-11-20 12:13:27,472 - mmdet - INFO - Epoch [1][5100/10922]\tlr: 5.000e-06, eta: 13:54:48, time: 0.316, data_time: 0.006, memory: 14486, loss_cls: 0.5979, loss_bbox: 2.5722, loss_obj: 2.5934, loss: 5.7635\n",
      "2022-11-20 12:13:59,978 - mmdet - INFO - Epoch [1][5200/10922]\tlr: 5.000e-06, eta: 13:54:46, time: 0.325, data_time: 0.006, memory: 14486, loss_cls: 0.6064, loss_bbox: 2.5984, loss_obj: 2.7971, loss: 6.0019\n",
      "2022-11-20 12:14:31,534 - mmdet - INFO - Epoch [1][5300/10922]\tlr: 5.000e-06, eta: 13:54:12, time: 0.315, data_time: 0.006, memory: 14486, loss_cls: 0.5998, loss_bbox: 2.5766, loss_obj: 2.7116, loss: 5.8880\n",
      "2022-11-20 12:15:02,378 - mmdet - INFO - Epoch [1][5400/10922]\tlr: 5.000e-06, eta: 13:53:20, time: 0.309, data_time: 0.006, memory: 14486, loss_cls: 0.5986, loss_bbox: 2.5455, loss_obj: 2.7131, loss: 5.8572\n",
      "2022-11-20 12:15:36,131 - mmdet - INFO - Epoch [1][5500/10922]\tlr: 5.000e-06, eta: 13:53:53, time: 0.338, data_time: 0.006, memory: 14486, loss_cls: 0.5970, loss_bbox: 2.5439, loss_obj: 2.6927, loss: 5.8336\n",
      "2022-11-20 12:16:06,797 - mmdet - INFO - Epoch [1][5600/10922]\tlr: 5.000e-06, eta: 13:52:54, time: 0.307, data_time: 0.005, memory: 14486, loss_cls: 0.5977, loss_bbox: 2.5833, loss_obj: 2.6312, loss: 5.8122\n",
      "2022-11-20 12:16:34,833 - mmdet - INFO - Epoch [1][5700/10922]\tlr: 5.000e-06, eta: 13:50:45, time: 0.280, data_time: 0.005, memory: 14486, loss_cls: 0.6024, loss_bbox: 2.6351, loss_obj: 2.5911, loss: 5.8286\n",
      "2022-11-20 12:17:06,807 - mmdet - INFO - Epoch [1][5800/10922]\tlr: 5.000e-06, eta: 13:50:25, time: 0.319, data_time: 0.005, memory: 14486, loss_cls: 0.5969, loss_bbox: 2.5641, loss_obj: 2.6765, loss: 5.8375\n",
      "2022-11-20 12:17:38,949 - mmdet - INFO - Epoch [1][5900/10922]\tlr: 5.000e-06, eta: 13:50:09, time: 0.321, data_time: 0.006, memory: 14486, loss_cls: 0.5979, loss_bbox: 2.5187, loss_obj: 2.6252, loss: 5.7418\n",
      "2022-11-20 12:18:11,665 - mmdet - INFO - Epoch [1][6000/10922]\tlr: 5.000e-06, eta: 13:50:10, time: 0.328, data_time: 0.006, memory: 14486, loss_cls: 0.5918, loss_bbox: 2.5024, loss_obj: 2.5626, loss: 5.6569\n",
      "2022-11-20 12:18:44,561 - mmdet - INFO - Epoch [1][6100/10922]\tlr: 5.000e-06, eta: 13:50:12, time: 0.328, data_time: 0.005, memory: 14486, loss_cls: 0.5913, loss_bbox: 2.5129, loss_obj: 2.5391, loss: 5.6432\n",
      "2022-11-20 12:19:13,826 - mmdet - INFO - Epoch [1][6200/10922]\tlr: 5.000e-06, eta: 13:48:41, time: 0.293, data_time: 0.005, memory: 14486, loss_cls: 0.6025, loss_bbox: 2.6220, loss_obj: 2.6544, loss: 5.8789\n",
      "2022-11-20 12:19:43,421 - mmdet - INFO - Epoch [1][6300/10922]\tlr: 5.000e-06, eta: 13:47:21, time: 0.296, data_time: 0.006, memory: 14486, loss_cls: 0.5986, loss_bbox: 2.6141, loss_obj: 2.5532, loss: 5.7659\n",
      "2022-11-20 12:20:13,540 - mmdet - INFO - Epoch [1][6400/10922]\tlr: 5.000e-06, eta: 13:46:16, time: 0.302, data_time: 0.006, memory: 14486, loss_cls: 0.5986, loss_bbox: 2.5778, loss_obj: 2.5588, loss: 5.7352\n",
      "2022-11-20 12:20:41,568 - mmdet - INFO - Epoch [1][6500/10922]\tlr: 5.000e-06, eta: 13:44:21, time: 0.281, data_time: 0.005, memory: 14486, loss_cls: 0.5944, loss_bbox: 2.6049, loss_obj: 2.4602, loss: 5.6595\n",
      "2022-11-20 12:21:16,631 - mmdet - INFO - Epoch [1][6600/10922]\tlr: 5.000e-06, eta: 13:45:14, time: 0.350, data_time: 0.006, memory: 14486, loss_cls: 0.5922, loss_bbox: 2.5371, loss_obj: 2.6324, loss: 5.7617\n",
      "2022-11-20 12:21:44,464 - mmdet - INFO - Epoch [1][6700/10922]\tlr: 5.000e-06, eta: 13:43:18, time: 0.279, data_time: 0.006, memory: 14486, loss_cls: 0.6035, loss_bbox: 2.6458, loss_obj: 2.4811, loss: 5.7303\n",
      "2022-11-20 12:22:18,941 - mmdet - INFO - Epoch [1][6800/10922]\tlr: 5.000e-06, eta: 13:43:56, time: 0.344, data_time: 0.006, memory: 14486, loss_cls: 0.5836, loss_bbox: 2.4114, loss_obj: 2.5289, loss: 5.5239\n",
      "2022-11-20 12:22:49,636 - mmdet - INFO - Epoch [1][6900/10922]\tlr: 5.000e-06, eta: 13:43:07, time: 0.307, data_time: 0.005, memory: 14486, loss_cls: 0.5943, loss_bbox: 2.5348, loss_obj: 2.5041, loss: 5.6332\n",
      "2022-11-20 12:23:22,731 - mmdet - INFO - Epoch [1][7000/10922]\tlr: 5.000e-06, eta: 13:43:11, time: 0.330, data_time: 0.006, memory: 14486, loss_cls: 0.5979, loss_bbox: 2.5675, loss_obj: 2.5456, loss: 5.7110\n",
      "2022-11-20 12:23:51,572 - mmdet - INFO - Epoch [1][7100/10922]\tlr: 5.000e-06, eta: 13:41:43, time: 0.289, data_time: 0.006, memory: 14486, loss_cls: 0.5938, loss_bbox: 2.6051, loss_obj: 2.5783, loss: 5.7772\n",
      "2022-11-20 12:24:19,859 - mmdet - INFO - Epoch [1][7200/10922]\tlr: 5.000e-06, eta: 13:40:02, time: 0.283, data_time: 0.005, memory: 14486, loss_cls: 0.5882, loss_bbox: 2.5278, loss_obj: 2.5176, loss: 5.6335\n",
      "2022-11-20 12:24:51,434 - mmdet - INFO - Epoch [1][7300/10922]\tlr: 5.000e-06, eta: 13:39:33, time: 0.315, data_time: 0.005, memory: 14486, loss_cls: 0.5934, loss_bbox: 2.5266, loss_obj: 2.5508, loss: 5.6708\n",
      "2022-11-20 12:25:19,515 - mmdet - INFO - Epoch [1][7400/10922]\tlr: 5.000e-06, eta: 13:37:52, time: 0.281, data_time: 0.006, memory: 14486, loss_cls: 0.5949, loss_bbox: 2.5779, loss_obj: 2.5915, loss: 5.7643\n",
      "2022-11-20 12:25:50,360 - mmdet - INFO - Epoch [1][7500/10922]\tlr: 5.000e-06, eta: 13:37:09, time: 0.308, data_time: 0.005, memory: 14486, loss_cls: 0.5961, loss_bbox: 2.5448, loss_obj: 2.5626, loss: 5.7035\n",
      "2022-11-20 12:26:22,767 - mmdet - INFO - Epoch [1][7600/10922]\tlr: 5.000e-06, eta: 13:37:00, time: 0.325, data_time: 0.006, memory: 14486, loss_cls: 0.5968, loss_bbox: 2.5383, loss_obj: 2.6553, loss: 5.7905\n",
      "2022-11-20 12:26:54,400 - mmdet - INFO - Epoch [1][7700/10922]\tlr: 5.000e-06, eta: 13:36:32, time: 0.315, data_time: 0.005, memory: 14486, loss_cls: 0.5883, loss_bbox: 2.5187, loss_obj: 2.4876, loss: 5.5946\n",
      "2022-11-20 12:27:23,483 - mmdet - INFO - Epoch [1][7800/10922]\tlr: 5.000e-06, eta: 13:35:16, time: 0.291, data_time: 0.006, memory: 14486, loss_cls: 0.6042, loss_bbox: 2.6187, loss_obj: 2.6210, loss: 5.8438\n",
      "2022-11-20 12:27:53,949 - mmdet - INFO - Epoch [1][7900/10922]\tlr: 5.000e-06, eta: 13:34:26, time: 0.304, data_time: 0.005, memory: 14486, loss_cls: 0.5958, loss_bbox: 2.5650, loss_obj: 2.6062, loss: 5.7670\n",
      "2022-11-20 12:28:24,642 - mmdet - INFO - Epoch [1][8000/10922]\tlr: 5.000e-06, eta: 13:33:43, time: 0.307, data_time: 0.006, memory: 14486, loss_cls: 0.5975, loss_bbox: 2.5823, loss_obj: 2.4699, loss: 5.6498\n",
      "2022-11-20 12:28:57,907 - mmdet - INFO - Epoch [1][8100/10922]\tlr: 5.000e-06, eta: 13:33:49, time: 0.333, data_time: 0.006, memory: 14486, loss_cls: 0.5924, loss_bbox: 2.5062, loss_obj: 2.4924, loss: 5.5911\n",
      "2022-11-20 12:29:30,791 - mmdet - INFO - Epoch [1][8200/10922]\tlr: 5.000e-06, eta: 13:33:46, time: 0.328, data_time: 0.006, memory: 14486, loss_cls: 0.5948, loss_bbox: 2.5373, loss_obj: 2.5120, loss: 5.6441\n",
      "2022-11-20 12:30:02,237 - mmdet - INFO - Epoch [1][8300/10922]\tlr: 5.000e-06, eta: 13:33:16, time: 0.315, data_time: 0.006, memory: 14486, loss_cls: 0.5929, loss_bbox: 2.4941, loss_obj: 2.5149, loss: 5.6019\n",
      "2022-11-20 12:30:34,720 - mmdet - INFO - Epoch [1][8400/10922]\tlr: 5.000e-06, eta: 13:33:06, time: 0.325, data_time: 0.006, memory: 14486, loss_cls: 0.5906, loss_bbox: 2.5208, loss_obj: 2.5166, loss: 5.6280\n",
      "2022-11-20 12:31:09,153 - mmdet - INFO - Epoch [1][8500/10922]\tlr: 5.000e-06, eta: 13:33:29, time: 0.344, data_time: 0.006, memory: 14486, loss_cls: 0.5859, loss_bbox: 2.5249, loss_obj: 2.5874, loss: 5.6981\n",
      "2022-11-20 12:31:37,687 - mmdet - INFO - Epoch [1][8600/10922]\tlr: 5.000e-06, eta: 13:32:06, time: 0.285, data_time: 0.006, memory: 14486, loss_cls: 0.5912, loss_bbox: 2.5833, loss_obj: 2.5331, loss: 5.7077\n",
      "2022-11-20 12:32:10,511 - mmdet - INFO - Epoch [1][8700/10922]\tlr: 5.000e-06, eta: 13:32:00, time: 0.328, data_time: 0.006, memory: 14486, loss_cls: 0.5937, loss_bbox: 2.5383, loss_obj: 2.5530, loss: 5.6850\n",
      "2022-11-20 12:32:41,320 - mmdet - INFO - Epoch [1][8800/10922]\tlr: 5.000e-06, eta: 13:31:19, time: 0.309, data_time: 0.006, memory: 14486, loss_cls: 0.5930, loss_bbox: 2.5052, loss_obj: 2.5579, loss: 5.6560\n",
      "2022-11-20 12:33:14,458 - mmdet - INFO - Epoch [1][8900/10922]\tlr: 5.000e-06, eta: 13:31:18, time: 0.331, data_time: 0.006, memory: 14486, loss_cls: 0.5763, loss_bbox: 2.4040, loss_obj: 2.3565, loss: 5.3368\n",
      "2022-11-20 12:33:45,520 - mmdet - INFO - Epoch [1][9000/10922]\tlr: 5.000e-06, eta: 13:30:40, time: 0.311, data_time: 0.006, memory: 14486, loss_cls: 0.5923, loss_bbox: 2.5222, loss_obj: 2.5942, loss: 5.7087\n",
      "2022-11-20 12:34:16,247 - mmdet - INFO - Epoch [1][9100/10922]\tlr: 5.000e-06, eta: 13:29:56, time: 0.307, data_time: 0.005, memory: 14486, loss_cls: 0.5873, loss_bbox: 2.5066, loss_obj: 2.5694, loss: 5.6632\n",
      "2022-11-20 12:34:44,280 - mmdet - INFO - Epoch [1][9200/10922]\tlr: 5.000e-06, eta: 13:28:28, time: 0.281, data_time: 0.006, memory: 14486, loss_cls: 0.5950, loss_bbox: 2.5659, loss_obj: 2.5571, loss: 5.7180\n",
      "2022-11-20 12:35:10,012 - mmdet - INFO - Epoch [1][9300/10922]\tlr: 5.000e-06, eta: 13:26:23, time: 0.257, data_time: 0.005, memory: 14486, loss_cls: 0.5910, loss_bbox: 2.5720, loss_obj: 2.4860, loss: 5.6490\n",
      "2022-11-20 12:35:42,056 - mmdet - INFO - Epoch [1][9400/10922]\tlr: 5.000e-06, eta: 13:26:04, time: 0.320, data_time: 0.006, memory: 14486, loss_cls: 0.5926, loss_bbox: 2.5139, loss_obj: 2.5415, loss: 5.6481\n",
      "2022-11-20 12:36:10,051 - mmdet - INFO - Epoch [1][9500/10922]\tlr: 5.000e-06, eta: 13:24:39, time: 0.280, data_time: 0.005, memory: 14486, loss_cls: 0.5929, loss_bbox: 2.5980, loss_obj: 2.4562, loss: 5.6472\n",
      "2022-11-20 12:36:36,912 - mmdet - INFO - Epoch [1][9600/10922]\tlr: 5.000e-06, eta: 13:22:56, time: 0.269, data_time: 0.005, memory: 14486, loss_cls: 0.5877, loss_bbox: 2.5107, loss_obj: 2.4331, loss: 5.5314\n",
      "2022-11-20 12:37:09,931 - mmdet - INFO - Epoch [1][9700/10922]\tlr: 5.000e-06, eta: 13:22:53, time: 0.330, data_time: 0.006, memory: 14486, loss_cls: 0.5839, loss_bbox: 2.4814, loss_obj: 2.4574, loss: 5.5227\n",
      "2022-11-20 12:37:38,030 - mmdet - INFO - Epoch [1][9800/10922]\tlr: 5.000e-06, eta: 13:21:33, time: 0.281, data_time: 0.006, memory: 14486, loss_cls: 0.5928, loss_bbox: 2.5599, loss_obj: 2.4781, loss: 5.6308\n",
      "2022-11-20 12:38:07,173 - mmdet - INFO - Epoch [1][9900/10922]\tlr: 5.000e-06, eta: 13:20:29, time: 0.291, data_time: 0.005, memory: 14486, loss_cls: 0.5933, loss_bbox: 2.5330, loss_obj: 2.4522, loss: 5.5785\n",
      "2022-11-20 12:38:36,180 - mmdet - INFO - Epoch [1][10000/10922]\tlr: 5.000e-06, eta: 13:19:24, time: 0.290, data_time: 0.005, memory: 14486, loss_cls: 0.5897, loss_bbox: 2.4964, loss_obj: 2.4385, loss: 5.5246\n",
      "2022-11-20 12:39:03,444 - mmdet - INFO - Epoch [1][10100/10922]\tlr: 5.000e-06, eta: 13:17:53, time: 0.272, data_time: 0.005, memory: 14486, loss_cls: 0.5886, loss_bbox: 2.5214, loss_obj: 2.3298, loss: 5.4398\n",
      "2022-11-20 12:39:29,798 - mmdet - INFO - Epoch [1][10200/10922]\tlr: 5.000e-06, eta: 13:16:11, time: 0.264, data_time: 0.005, memory: 14486, loss_cls: 0.5974, loss_bbox: 2.6495, loss_obj: 2.4949, loss: 5.7418\n",
      "2022-11-20 12:39:59,847 - mmdet - INFO - Epoch [1][10300/10922]\tlr: 5.000e-06, eta: 13:15:24, time: 0.300, data_time: 0.005, memory: 14486, loss_cls: 0.5822, loss_bbox: 2.4912, loss_obj: 2.3365, loss: 5.4099\n",
      "2022-11-20 12:40:28,755 - mmdet - INFO - Epoch [1][10400/10922]\tlr: 5.000e-06, eta: 13:14:20, time: 0.289, data_time: 0.005, memory: 14486, loss_cls: 0.5845, loss_bbox: 2.4886, loss_obj: 2.4704, loss: 5.5434\n",
      "2022-11-20 12:40:58,405 - mmdet - INFO - Epoch [1][10500/10922]\tlr: 5.000e-06, eta: 13:13:28, time: 0.296, data_time: 0.005, memory: 14486, loss_cls: 0.5954, loss_bbox: 2.5388, loss_obj: 2.4668, loss: 5.6010\n",
      "2022-11-20 12:41:24,200 - mmdet - INFO - Epoch [1][10600/10922]\tlr: 5.000e-06, eta: 13:11:42, time: 0.259, data_time: 0.006, memory: 14486, loss_cls: 0.5950, loss_bbox: 2.6306, loss_obj: 2.4684, loss: 5.6940\n",
      "2022-11-20 12:41:53,489 - mmdet - INFO - Epoch [1][10700/10922]\tlr: 5.000e-06, eta: 13:10:46, time: 0.293, data_time: 0.005, memory: 14486, loss_cls: 0.5887, loss_bbox: 2.4971, loss_obj: 2.4627, loss: 5.5485\n",
      "2022-11-20 12:42:27,614 - mmdet - INFO - Epoch [1][10800/10922]\tlr: 5.000e-06, eta: 13:10:59, time: 0.341, data_time: 0.006, memory: 14486, loss_cls: 0.5837, loss_bbox: 2.4450, loss_obj: 2.3983, loss: 5.4270\n",
      "2022-11-20 12:43:00,988 - mmdet - INFO - Epoch [1][10900/10922]\tlr: 5.000e-06, eta: 13:11:02, time: 0.334, data_time: 0.007, memory: 14486, loss_cls: 0.5872, loss_bbox: 2.4585, loss_obj: 2.5203, loss: 5.5660\n",
      "2022-11-20 12:43:08,618 - mmdet - INFO - Saving checkpoint at 1 epochs\n"
     ]
    },
    {
     "name": "stdout",
     "output_type": "stream",
     "text": [
      "[                                                  ] 0/10000, elapsed: 0s, ETA:"
     ]
    }
   ],
   "source": [
    "cfg = load_config('yolox_x_8x8_300e_coco', data_path=data_path)\n",
    "train(cfg)"
   ],
   "metadata": {
    "collapsed": false,
    "pycharm": {
     "name": "#%%\n",
     "is_executing": true
    }
   }
  }
 ],
 "metadata": {
  "kernelspec": {
   "display_name": "Python 3",
   "language": "python",
   "name": "python3"
  },
  "language_info": {
   "codemirror_mode": {
    "name": "ipython",
    "version": 2
   },
   "file_extension": ".py",
   "mimetype": "text/x-python",
   "name": "python",
   "nbconvert_exporter": "python",
   "pygments_lexer": "ipython2",
   "version": "2.7.6"
  }
 },
 "nbformat": 4,
 "nbformat_minor": 0
}