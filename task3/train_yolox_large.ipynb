{
 "cells": [
  {
   "cell_type": "markdown",
   "source": [
    "# Обучение YOLOX (Large)\n",
    "\n",
    "Загружаем необходимые библиотеки:"
   ],
   "metadata": {
    "collapsed": false,
    "pycharm": {
     "name": "#%% md\n"
    }
   }
  },
  {
   "cell_type": "code",
   "execution_count": 1,
   "outputs": [
    {
     "name": "stderr",
     "output_type": "stream",
     "text": [
      "C:\\Users\\Aleksei\\anaconda3\\envs\\data_science_3.9\\lib\\site-packages\\mmcv\\__init__.py:20: UserWarning: On January 1, 2023, MMCV will release v2.0.0, in which it will remove components related to the training process and add a data transformation module. In addition, it will rename the package names mmcv to mmcv-lite and mmcv-full to mmcv. See https://github.com/open-mmlab/mmcv/blob/master/docs/en/compatibility.md for more details.\n",
      "  warnings.warn(\n"
     ]
    }
   ],
   "source": [
    "import os\n",
    "import warnings\n",
    "\n",
    "from config import load_config\n",
    "from train import train\n",
    "from utils import convert_anns_to_suit_format\n",
    "\n",
    "warnings.filterwarnings('ignore')\n",
    "data_path = r'..\\data'"
   ],
   "metadata": {
    "collapsed": false,
    "pycharm": {
     "name": "#%%\n"
    }
   }
  },
  {
   "cell_type": "markdown",
   "source": [
    "Обучение будем проводить при помощи библиотеки mmdet. Для начала приведём файл с аннотациями к нужному виду и разобьём выборку на обучение и валидацию:"
   ],
   "metadata": {
    "collapsed": false,
    "pycharm": {
     "name": "#%% md\n"
    }
   }
  },
  {
   "cell_type": "code",
   "execution_count": 2,
   "outputs": [],
   "source": [
    "convert_anns_to_suit_format(os.path.join(data_path, 'cocotext.v2.json'),\n",
    "                            os.path.join(data_path, 'cocotext.train.json'),\n",
    "                            os.path.join(data_path, 'cocotext.val.json'))"
   ],
   "metadata": {
    "collapsed": false,
    "pycharm": {
     "name": "#%%\n"
    }
   }
  },
  {
   "cell_type": "markdown",
   "source": [
    "Создаём словарь, в котором названию модели сопоставляется URL предобученной модели (уже есть в репозитории):"
   ],
   "metadata": {
    "collapsed": false,
    "pycharm": {
     "name": "#%% md\n"
    }
   }
  },
  {
   "cell_type": "code",
   "execution_count": 1,
   "outputs": [
    {
     "data": {
      "text/plain": "  0%|          | 0/91 [00:00<?, ?it/s]",
      "application/vnd.jupyter.widget-view+json": {
       "version_major": 2,
       "version_minor": 0,
       "model_id": "3b3f786877504a29b992c7bdab59cc54"
      }
     },
     "metadata": {},
     "output_type": "display_data"
    }
   ],
   "source": [
    "# from utils import get_models_info_file\n",
    "# get_models_info_file('models_info.json')"
   ],
   "metadata": {
    "collapsed": false,
    "pycharm": {
     "name": "#%%\n"
    }
   }
  },
  {
   "cell_type": "markdown",
   "source": [
    "Обучаем модель:"
   ],
   "metadata": {
    "collapsed": false,
    "pycharm": {
     "name": "#%% md\n"
    }
   }
  },
  {
   "cell_type": "markdown",
   "source": [],
   "metadata": {
    "collapsed": false,
    "pycharm": {
     "name": "#%% md\n"
    }
   }
  },
  {
   "cell_type": "code",
   "execution_count": 3,
   "outputs": [
    {
     "name": "stdout",
     "output_type": "stream",
     "text": [
      "loading annotations into memory...\n",
      "Done (t=0.86s)\n",
      "creating index...\n",
      "index created!\n"
     ]
    },
    {
     "name": "stderr",
     "output_type": "stream",
     "text": [
      "2022-11-18 10:49:43,309 - mmdet - INFO - Automatic scaling of learning rate (LR) has been disabled.\n",
      "2022-11-18 10:49:43,531 - mmdet - INFO - load checkpoint from local path: D:\\Homework\\course_cvdl\\task3\\weights\\yolox_l_8x8_300e_coco.pth\n"
     ]
    },
    {
     "name": "stdout",
     "output_type": "stream",
     "text": [
      "loading annotations into memory...\n",
      "Done (t=0.11s)\n",
      "creating index...\n",
      "index created!\n"
     ]
    },
    {
     "name": "stderr",
     "output_type": "stream",
     "text": [
      "2022-11-18 10:49:43,760 - mmdet - WARNING - The model and loaded state dict do not match exactly\n",
      "\n",
      "size mismatch for bbox_head.multi_level_conv_cls.0.weight: copying a param with shape torch.Size([80, 256, 1, 1]) from checkpoint, the shape in current model is torch.Size([1, 256, 1, 1]).\n",
      "size mismatch for bbox_head.multi_level_conv_cls.0.bias: copying a param with shape torch.Size([80]) from checkpoint, the shape in current model is torch.Size([1]).\n",
      "size mismatch for bbox_head.multi_level_conv_cls.1.weight: copying a param with shape torch.Size([80, 256, 1, 1]) from checkpoint, the shape in current model is torch.Size([1, 256, 1, 1]).\n",
      "size mismatch for bbox_head.multi_level_conv_cls.1.bias: copying a param with shape torch.Size([80]) from checkpoint, the shape in current model is torch.Size([1]).\n",
      "size mismatch for bbox_head.multi_level_conv_cls.2.weight: copying a param with shape torch.Size([80, 256, 1, 1]) from checkpoint, the shape in current model is torch.Size([1, 256, 1, 1]).\n",
      "size mismatch for bbox_head.multi_level_conv_cls.2.bias: copying a param with shape torch.Size([80]) from checkpoint, the shape in current model is torch.Size([1]).\n",
      "2022-11-18 10:49:43,773 - mmdet - INFO - Start running, host: Aleksei@DESKTOP-6FN7PTO, work_dir: D:\\Homework\\course_cvdl\\task3\\workdirs\\yolox_l_8x8_300e_coco\n",
      "2022-11-18 10:49:43,774 - mmdet - INFO - Hooks will be executed in the following order:\n",
      "before_run:\n",
      "(VERY_HIGH   ) YOLOXLrUpdaterHook                 \n",
      "(49          ) ExpMomentumEMAHook                 \n",
      "(NORMAL      ) CheckpointHook                     \n",
      "(LOW         ) EvalHook                           \n",
      "(VERY_LOW    ) TextLoggerHook                     \n",
      "(VERY_LOW    ) TensorboardLoggerHook              \n",
      " -------------------- \n",
      "before_train_epoch:\n",
      "(VERY_HIGH   ) YOLOXLrUpdaterHook                 \n",
      "(48          ) YOLOXModeSwitchHook                \n",
      "(48          ) SyncNormHook                       \n",
      "(49          ) ExpMomentumEMAHook                 \n",
      "(LOW         ) IterTimerHook                      \n",
      "(LOW         ) EvalHook                           \n",
      "(VERY_LOW    ) TextLoggerHook                     \n",
      "(VERY_LOW    ) TensorboardLoggerHook              \n",
      " -------------------- \n",
      "before_train_iter:\n",
      "(VERY_HIGH   ) YOLOXLrUpdaterHook                 \n",
      "(LOW         ) IterTimerHook                      \n",
      "(LOW         ) EvalHook                           \n",
      " -------------------- \n",
      "after_train_iter:\n",
      "(ABOVE_NORMAL) OptimizerHook                      \n",
      "(49          ) ExpMomentumEMAHook                 \n",
      "(NORMAL      ) CheckpointHook                     \n",
      "(LOW         ) IterTimerHook                      \n",
      "(LOW         ) EvalHook                           \n",
      "(VERY_LOW    ) TextLoggerHook                     \n",
      "(VERY_LOW    ) TensorboardLoggerHook              \n",
      " -------------------- \n",
      "after_train_epoch:\n",
      "(48          ) SyncNormHook                       \n",
      "(49          ) ExpMomentumEMAHook                 \n",
      "(NORMAL      ) CheckpointHook                     \n",
      "(LOW         ) EvalHook                           \n",
      "(VERY_LOW    ) TextLoggerHook                     \n",
      "(VERY_LOW    ) TensorboardLoggerHook              \n",
      " -------------------- \n",
      "before_val_epoch:\n",
      "(LOW         ) IterTimerHook                      \n",
      "(VERY_LOW    ) TextLoggerHook                     \n",
      "(VERY_LOW    ) TensorboardLoggerHook              \n",
      " -------------------- \n",
      "before_val_iter:\n",
      "(LOW         ) IterTimerHook                      \n",
      " -------------------- \n",
      "after_val_iter:\n",
      "(LOW         ) IterTimerHook                      \n",
      " -------------------- \n",
      "after_val_epoch:\n",
      "(VERY_LOW    ) TextLoggerHook                     \n",
      "(VERY_LOW    ) TensorboardLoggerHook              \n",
      " -------------------- \n",
      "after_run:\n",
      "(VERY_LOW    ) TextLoggerHook                     \n",
      "(VERY_LOW    ) TensorboardLoggerHook              \n",
      " -------------------- \n",
      "2022-11-18 10:49:43,775 - mmdet - INFO - workflow: [('train', 1)], max: 15 epochs\n",
      "2022-11-18 10:49:44,734 - mmdet - INFO - Checkpoints will be saved to D:\\Homework\\course_cvdl\\task3\\workdirs\\yolox_l_8x8_300e_coco by HardDiskBackend.\n",
      "2022-11-18 10:50:47,436 - mmdet - INFO - Epoch [1][100/5462]\tlr: 5.000e-06, eta: 14:10:31, time: 0.624, data_time: 0.220, memory: 18489, loss_cls: 0.8441, loss_bbox: 3.6681, loss_obj: 9.3086, loss: 13.8208\n",
      "2022-11-18 10:51:25,801 - mmdet - INFO - Epoch [1][200/5462]\tlr: 5.000e-06, eta: 11:24:57, time: 0.382, data_time: 0.008, memory: 18537, loss_cls: 0.7180, loss_bbox: 3.2076, loss_obj: 4.6402, loss: 8.5658\n",
      "2022-11-18 10:51:59,470 - mmdet - INFO - Epoch [1][300/5462]\tlr: 5.000e-06, eta: 10:09:16, time: 0.338, data_time: 0.010, memory: 18537, loss_cls: 0.6962, loss_bbox: 3.1741, loss_obj: 3.8595, loss: 7.7298\n",
      "2022-11-18 10:52:35,387 - mmdet - INFO - Epoch [1][400/5462]\tlr: 5.000e-06, eta: 9:38:02, time: 0.358, data_time: 0.009, memory: 18537, loss_cls: 0.6742, loss_bbox: 3.0233, loss_obj: 3.5396, loss: 7.2372\n",
      "2022-11-18 10:53:10,771 - mmdet - INFO - Epoch [1][500/5462]\tlr: 5.000e-06, eta: 9:17:57, time: 0.354, data_time: 0.010, memory: 18537, loss_cls: 0.6691, loss_bbox: 2.9839, loss_obj: 3.3591, loss: 7.0120\n",
      "2022-11-18 10:53:45,854 - mmdet - INFO - Epoch [1][600/5462]\tlr: 5.000e-06, eta: 9:03:43, time: 0.351, data_time: 0.009, memory: 18537, loss_cls: 0.6591, loss_bbox: 3.0143, loss_obj: 3.2823, loss: 6.9558\n",
      "2022-11-18 10:54:26,115 - mmdet - INFO - Epoch [1][700/5462]\tlr: 5.000e-06, eta: 9:03:30, time: 0.403, data_time: 0.009, memory: 18537, loss_cls: 0.6513, loss_bbox: 2.8559, loss_obj: 3.2439, loss: 6.7510\n",
      "2022-11-18 10:55:03,430 - mmdet - INFO - Epoch [1][800/5462]\tlr: 5.000e-06, eta: 8:57:56, time: 0.372, data_time: 0.009, memory: 18537, loss_cls: 0.6477, loss_bbox: 2.8666, loss_obj: 3.1838, loss: 6.6981\n",
      "2022-11-18 10:56:02,268 - mmdet - INFO - Epoch [1][900/5462]\tlr: 5.000e-06, eta: 9:25:54, time: 0.589, data_time: 0.284, memory: 18537, loss_cls: 0.6495, loss_bbox: 2.9297, loss_obj: 3.1599, loss: 6.7391\n",
      "2022-11-18 10:57:06,554 - mmdet - INFO - Epoch [1][1000/5462]\tlr: 5.000e-06, eta: 9:55:26, time: 0.643, data_time: 0.349, memory: 18537, loss_cls: 0.6439, loss_bbox: 2.9440, loss_obj: 3.1020, loss: 6.6898\n",
      "2022-11-18 10:58:11,744 - mmdet - INFO - Epoch [1][1100/5462]\tlr: 5.000e-06, eta: 10:20:29, time: 0.652, data_time: 0.363, memory: 18537, loss_cls: 0.6400, loss_bbox: 2.8971, loss_obj: 2.9898, loss: 6.5270\n",
      "2022-11-18 10:59:17,990 - mmdet - INFO - Epoch [1][1200/5462]\tlr: 5.000e-06, eta: 10:42:16, time: 0.662, data_time: 0.334, memory: 18537, loss_cls: 0.6365, loss_bbox: 2.7917, loss_obj: 3.0683, loss: 6.4965\n",
      "2022-11-18 11:00:17,055 - mmdet - INFO - Epoch [1][1300/5462]\tlr: 5.000e-06, eta: 10:53:09, time: 0.590, data_time: 0.274, memory: 18537, loss_cls: 0.6368, loss_bbox: 2.8320, loss_obj: 3.0219, loss: 6.4907\n",
      "2022-11-18 11:01:10,363 - mmdet - INFO - Epoch [1][1400/5462]\tlr: 5.000e-06, eta: 10:56:54, time: 0.534, data_time: 0.256, memory: 18537, loss_cls: 0.6344, loss_bbox: 2.8723, loss_obj: 2.9252, loss: 6.4319\n",
      "2022-11-18 11:02:10,080 - mmdet - INFO - Epoch [1][1500/5462]\tlr: 5.000e-06, eta: 11:05:44, time: 0.597, data_time: 0.294, memory: 18537, loss_cls: 0.6265, loss_bbox: 2.7790, loss_obj: 2.8613, loss: 6.2668\n",
      "2022-11-18 11:02:59,645 - mmdet - INFO - Epoch [1][1600/5462]\tlr: 5.000e-06, eta: 11:04:46, time: 0.495, data_time: 0.166, memory: 18537, loss_cls: 0.6215, loss_bbox: 2.6787, loss_obj: 2.8408, loss: 6.1410\n",
      "2022-11-18 11:03:45,890 - mmdet - INFO - Epoch [1][1700/5462]\tlr: 5.000e-06, eta: 11:01:14, time: 0.462, data_time: 0.104, memory: 18537, loss_cls: 0.6273, loss_bbox: 2.7232, loss_obj: 2.9155, loss: 6.2659\n",
      "2022-11-18 11:04:29,035 - mmdet - INFO - Epoch [1][1800/5462]\tlr: 5.000e-06, eta: 10:55:47, time: 0.432, data_time: 0.107, memory: 18537, loss_cls: 0.6265, loss_bbox: 2.7366, loss_obj: 2.8663, loss: 6.2294\n",
      "2022-11-18 11:05:12,207 - mmdet - INFO - Epoch [1][1900/5462]\tlr: 5.000e-06, eta: 10:50:48, time: 0.432, data_time: 0.140, memory: 18537, loss_cls: 0.6312, loss_bbox: 2.8246, loss_obj: 2.8750, loss: 6.3308\n",
      "2022-11-18 11:05:50,894 - mmdet - INFO - Epoch [1][2000/5462]\tlr: 5.000e-06, eta: 10:43:14, time: 0.386, data_time: 0.046, memory: 18537, loss_cls: 0.6222, loss_bbox: 2.7242, loss_obj: 2.8122, loss: 6.1586\n",
      "2022-11-18 11:06:28,784 - mmdet - INFO - Epoch [1][2100/5462]\tlr: 5.000e-06, eta: 10:35:48, time: 0.378, data_time: 0.009, memory: 18537, loss_cls: 0.6214, loss_bbox: 2.6916, loss_obj: 2.8373, loss: 6.1503\n",
      "2022-11-18 11:07:03,810 - mmdet - INFO - Epoch [1][2200/5462]\tlr: 5.000e-06, eta: 10:27:19, time: 0.351, data_time: 0.054, memory: 18537, loss_cls: 0.6236, loss_bbox: 2.7811, loss_obj: 2.8543, loss: 6.2589\n",
      "2022-11-18 11:07:40,281 - mmdet - INFO - Epoch [1][2300/5462]\tlr: 5.000e-06, eta: 10:20:20, time: 0.365, data_time: 0.026, memory: 18537, loss_cls: 0.6293, loss_bbox: 2.7748, loss_obj: 2.8444, loss: 6.2485\n",
      "2022-11-18 11:08:19,522 - mmdet - INFO - Epoch [1][2400/5462]\tlr: 5.000e-06, eta: 10:15:27, time: 0.393, data_time: 0.011, memory: 18537, loss_cls: 0.6154, loss_bbox: 2.6472, loss_obj: 2.7053, loss: 5.9680\n",
      "2022-11-18 11:08:54,407 - mmdet - INFO - Epoch [1][2500/5462]\tlr: 5.000e-06, eta: 10:08:34, time: 0.349, data_time: 0.018, memory: 18537, loss_cls: 0.6258, loss_bbox: 2.8102, loss_obj: 2.8960, loss: 6.3320\n",
      "2022-11-18 11:09:30,293 - mmdet - INFO - Epoch [1][2600/5462]\tlr: 5.000e-06, eta: 10:02:41, time: 0.359, data_time: 0.010, memory: 18625, loss_cls: 0.6165, loss_bbox: 2.7109, loss_obj: 2.8165, loss: 6.1438\n",
      "2022-11-18 11:10:07,214 - mmdet - INFO - Epoch [1][2700/5462]\tlr: 5.000e-06, eta: 9:57:39, time: 0.368, data_time: 0.008, memory: 18625, loss_cls: 0.6136, loss_bbox: 2.6544, loss_obj: 2.7591, loss: 6.0270\n",
      "2022-11-18 11:10:38,562 - mmdet - INFO - Epoch [1][2800/5462]\tlr: 5.000e-06, eta: 9:50:22, time: 0.314, data_time: 0.009, memory: 18625, loss_cls: 0.6205, loss_bbox: 2.7388, loss_obj: 2.7295, loss: 6.0888\n",
      "2022-11-18 11:11:14,776 - mmdet - INFO - Epoch [1][2900/5462]\tlr: 5.000e-06, eta: 9:45:42, time: 0.362, data_time: 0.018, memory: 18625, loss_cls: 0.6140, loss_bbox: 2.6786, loss_obj: 2.7616, loss: 6.0542\n",
      "2022-11-18 11:11:51,068 - mmdet - INFO - Epoch [1][3000/5462]\tlr: 5.000e-06, eta: 9:41:23, time: 0.363, data_time: 0.009, memory: 18625, loss_cls: 0.6139, loss_bbox: 2.6324, loss_obj: 2.7064, loss: 5.9527\n",
      "2022-11-18 11:12:31,451 - mmdet - INFO - Epoch [1][3100/5462]\tlr: 5.000e-06, eta: 9:39:01, time: 0.403, data_time: 0.013, memory: 18627, loss_cls: 0.6121, loss_bbox: 2.6354, loss_obj: 2.7269, loss: 5.9745\n",
      "2022-11-18 11:13:04,990 - mmdet - INFO - Epoch [1][3200/5462]\tlr: 5.000e-06, eta: 9:34:00, time: 0.337, data_time: 0.009, memory: 18627, loss_cls: 0.6173, loss_bbox: 2.7236, loss_obj: 2.7039, loss: 6.0448\n",
      "2022-11-18 11:13:39,608 - mmdet - INFO - Epoch [1][3300/5462]\tlr: 5.000e-06, eta: 9:29:38, time: 0.346, data_time: 0.015, memory: 18627, loss_cls: 0.6063, loss_bbox: 2.6605, loss_obj: 2.6441, loss: 5.9109\n",
      "2022-11-18 11:14:16,281 - mmdet - INFO - Epoch [1][3400/5462]\tlr: 5.000e-06, eta: 9:26:18, time: 0.367, data_time: 0.009, memory: 18627, loss_cls: 0.6066, loss_bbox: 2.5972, loss_obj: 2.6183, loss: 5.8220\n",
      "2022-11-18 11:14:56,458 - mmdet - INFO - Epoch [1][3500/5462]\tlr: 5.000e-06, eta: 9:24:25, time: 0.402, data_time: 0.009, memory: 18627, loss_cls: 0.6090, loss_bbox: 2.5963, loss_obj: 2.6902, loss: 5.8956\n",
      "2022-11-18 11:15:30,464 - mmdet - INFO - Epoch [1][3600/5462]\tlr: 5.000e-06, eta: 9:20:22, time: 0.340, data_time: 0.008, memory: 18627, loss_cls: 0.6077, loss_bbox: 2.6359, loss_obj: 2.6522, loss: 5.8958\n",
      "2022-11-18 11:16:03,279 - mmdet - INFO - Epoch [1][3700/5462]\tlr: 5.000e-06, eta: 9:16:06, time: 0.328, data_time: 0.009, memory: 18627, loss_cls: 0.6061, loss_bbox: 2.6430, loss_obj: 2.6356, loss: 5.8847\n",
      "2022-11-18 11:16:33,150 - mmdet - INFO - Epoch [1][3800/5462]\tlr: 5.000e-06, eta: 9:11:00, time: 0.298, data_time: 0.012, memory: 18627, loss_cls: 0.6171, loss_bbox: 2.7529, loss_obj: 2.6864, loss: 6.0564\n",
      "2022-11-18 11:17:08,328 - mmdet - INFO - Epoch [1][3900/5462]\tlr: 5.000e-06, eta: 9:07:54, time: 0.351, data_time: 0.013, memory: 18627, loss_cls: 0.6096, loss_bbox: 2.6517, loss_obj: 2.6778, loss: 5.9391\n",
      "2022-11-18 11:17:45,349 - mmdet - INFO - Epoch [1][4000/5462]\tlr: 5.000e-06, eta: 9:05:33, time: 0.370, data_time: 0.021, memory: 18627, loss_cls: 0.6145, loss_bbox: 2.6842, loss_obj: 2.7196, loss: 6.0183\n",
      "2022-11-18 11:18:23,426 - mmdet - INFO - Epoch [1][4100/5462]\tlr: 5.000e-06, eta: 9:03:38, time: 0.382, data_time: 0.009, memory: 18627, loss_cls: 0.6073, loss_bbox: 2.5942, loss_obj: 2.5970, loss: 5.7984\n",
      "2022-11-18 11:18:58,252 - mmdet - INFO - Epoch [1][4200/5462]\tlr: 5.000e-06, eta: 9:00:43, time: 0.347, data_time: 0.008, memory: 18627, loss_cls: 0.6073, loss_bbox: 2.6328, loss_obj: 2.6207, loss: 5.8607\n",
      "2022-11-18 11:19:29,551 - mmdet - INFO - Epoch [1][4300/5462]\tlr: 5.000e-06, eta: 8:56:55, time: 0.314, data_time: 0.012, memory: 18627, loss_cls: 0.6112, loss_bbox: 2.7245, loss_obj: 2.6935, loss: 6.0292\n",
      "2022-11-18 11:20:05,780 - mmdet - INFO - Epoch [1][4400/5462]\tlr: 5.000e-06, eta: 8:54:38, time: 0.361, data_time: 0.008, memory: 18627, loss_cls: 0.6079, loss_bbox: 2.6681, loss_obj: 2.7177, loss: 5.9937\n",
      "2022-11-18 11:20:42,902 - mmdet - INFO - Epoch [1][4500/5462]\tlr: 5.000e-06, eta: 8:52:44, time: 0.372, data_time: 0.013, memory: 18627, loss_cls: 0.5989, loss_bbox: 2.5358, loss_obj: 2.5667, loss: 5.7015\n",
      "2022-11-18 11:21:19,460 - mmdet - INFO - Epoch [1][4600/5462]\tlr: 5.000e-06, eta: 8:50:45, time: 0.367, data_time: 0.009, memory: 18627, loss_cls: 0.6073, loss_bbox: 2.6264, loss_obj: 2.6615, loss: 5.8952\n",
      "2022-11-18 11:21:55,470 - mmdet - INFO - Epoch [1][4700/5462]\tlr: 5.000e-06, eta: 8:48:38, time: 0.359, data_time: 0.008, memory: 18627, loss_cls: 0.6057, loss_bbox: 2.6251, loss_obj: 2.6372, loss: 5.8681\n",
      "2022-11-18 11:22:28,105 - mmdet - INFO - Epoch [1][4800/5462]\tlr: 5.000e-06, eta: 8:45:41, time: 0.326, data_time: 0.011, memory: 18627, loss_cls: 0.6032, loss_bbox: 2.6287, loss_obj: 2.5936, loss: 5.8254\n",
      "2022-11-18 11:23:07,786 - mmdet - INFO - Epoch [1][4900/5462]\tlr: 5.000e-06, eta: 8:44:41, time: 0.397, data_time: 0.008, memory: 18627, loss_cls: 0.6008, loss_bbox: 2.5703, loss_obj: 2.6482, loss: 5.8193\n",
      "2022-11-18 11:23:44,316 - mmdet - INFO - Epoch [1][5000/5462]\tlr: 5.000e-06, eta: 8:42:52, time: 0.365, data_time: 0.009, memory: 18627, loss_cls: 0.6049, loss_bbox: 2.5935, loss_obj: 2.6335, loss: 5.8319\n",
      "2022-11-18 11:24:20,560 - mmdet - INFO - Epoch [1][5100/5462]\tlr: 5.000e-06, eta: 8:41:04, time: 0.363, data_time: 0.014, memory: 18627, loss_cls: 0.6020, loss_bbox: 2.6046, loss_obj: 2.5983, loss: 5.8050\n",
      "2022-11-18 11:24:57,486 - mmdet - INFO - Epoch [1][5200/5462]\tlr: 5.000e-06, eta: 8:39:28, time: 0.369, data_time: 0.009, memory: 18627, loss_cls: 0.5966, loss_bbox: 2.5352, loss_obj: 2.5620, loss: 5.6938\n",
      "2022-11-18 11:25:33,720 - mmdet - INFO - Epoch [1][5300/5462]\tlr: 5.000e-06, eta: 8:37:43, time: 0.362, data_time: 0.010, memory: 18627, loss_cls: 0.6077, loss_bbox: 2.6384, loss_obj: 2.6006, loss: 5.8467\n",
      "2022-11-18 11:26:08,977 - mmdet - INFO - Epoch [1][5400/5462]\tlr: 5.000e-06, eta: 8:35:49, time: 0.353, data_time: 0.009, memory: 18627, loss_cls: 0.5969, loss_bbox: 2.5361, loss_obj: 2.5430, loss: 5.6759\n",
      "2022-11-18 11:26:32,884 - mmdet - INFO - Saving checkpoint at 1 epochs\n"
     ]
    },
    {
     "name": "stdout",
     "output_type": "stream",
     "text": [
      "[>>>>>>>>>>>>>>>>>>>>>>>>] 10000/10000, 18.5 task/s, elapsed: 540s, ETA:     0s"
     ]
    },
    {
     "name": "stderr",
     "output_type": "stream",
     "text": [
      "2022-11-18 11:36:09,221 - mmdet - INFO - Evaluating bbox...\n"
     ]
    },
    {
     "name": "stdout",
     "output_type": "stream",
     "text": [
      "Loading and preparing results...\n",
      "DONE (t=1.71s)\n",
      "creating index...\n",
      "index created!\n",
      "Running per image evaluation...\n",
      "Evaluate annotation type *bbox*\n",
      "DONE (t=107.82s).\n",
      "Accumulating evaluation results...\n"
     ]
    },
    {
     "name": "stderr",
     "output_type": "stream",
     "text": [
      "2022-11-18 11:38:20,939 - mmdet - INFO - \n",
      " Average Precision  (AP) @[ IoU=0.50:0.95 | area=   all | maxDets=100 ] = 0.168\n",
      " Average Precision  (AP) @[ IoU=0.50      | area=   all | maxDets=1000 ] = 0.330\n",
      " Average Precision  (AP) @[ IoU=0.75      | area=   all | maxDets=1000 ] = 0.155\n",
      " Average Precision  (AP) @[ IoU=0.50:0.95 | area= small | maxDets=1000 ] = 0.154\n",
      " Average Precision  (AP) @[ IoU=0.50:0.95 | area=medium | maxDets=1000 ] = 0.325\n",
      " Average Precision  (AP) @[ IoU=0.50:0.95 | area= large | maxDets=1000 ] = 0.280\n",
      " Average Recall     (AR) @[ IoU=0.50:0.95 | area=   all | maxDets=100 ] = 0.337\n",
      " Average Recall     (AR) @[ IoU=0.50:0.95 | area=   all | maxDets=300 ] = 0.351\n",
      " Average Recall     (AR) @[ IoU=0.50:0.95 | area=   all | maxDets=1000 ] = 0.353\n",
      " Average Recall     (AR) @[ IoU=0.50:0.95 | area= small | maxDets=1000 ] = 0.331\n",
      " Average Recall     (AR) @[ IoU=0.50:0.95 | area=medium | maxDets=1000 ] = 0.596\n",
      " Average Recall     (AR) @[ IoU=0.50:0.95 | area= large | maxDets=1000 ] = 0.561\n",
      "\n"
     ]
    },
    {
     "name": "stdout",
     "output_type": "stream",
     "text": [
      "DONE (t=17.93s).\n"
     ]
    },
    {
     "name": "stderr",
     "output_type": "stream",
     "text": [
      "2022-11-18 11:38:29,072 - mmdet - INFO - Now best checkpoint is saved as best_bbox_mAP_epoch_1.pth.\n",
      "2022-11-18 11:38:29,073 - mmdet - INFO - Best bbox_mAP is 0.1680 at 1 epoch.\n",
      "2022-11-18 11:38:29,073 - mmdet - INFO - Epoch(val) [1][10000]\tbbox_mAP: 0.1680, bbox_mAP_50: 0.3300, bbox_mAP_75: 0.1550, bbox_mAP_s: 0.1540, bbox_mAP_m: 0.3250, bbox_mAP_l: 0.2800, bbox_mAP_copypaste: 0.168 0.330 0.155 0.154 0.325 0.280\n",
      "2022-11-18 11:39:40,544 - mmdet - INFO - Epoch [2][100/5462]\tlr: 5.000e-06, eta: 8:36:03, time: 0.714, data_time: 0.364, memory: 18627, loss_cls: 0.5999, loss_bbox: 2.5616, loss_obj: 2.5230, loss: 5.6845\n",
      "2022-11-18 11:41:19,831 - mmdet - INFO - Epoch [2][200/5462]\tlr: 5.000e-06, eta: 8:48:34, time: 0.993, data_time: 0.687, memory: 18627, loss_cls: 0.6077, loss_bbox: 2.6787, loss_obj: 2.5820, loss: 5.8684\n",
      "2022-11-18 11:42:33,134 - mmdet - INFO - Epoch [2][300/5462]\tlr: 5.000e-06, eta: 8:54:51, time: 0.732, data_time: 0.389, memory: 18627, loss_cls: 0.6026, loss_bbox: 2.5808, loss_obj: 2.5546, loss: 5.7379\n",
      "2022-11-18 11:43:57,544 - mmdet - INFO - Epoch [2][400/5462]\tlr: 5.000e-06, eta: 9:03:18, time: 0.845, data_time: 0.504, memory: 18627, loss_cls: 0.5987, loss_bbox: 2.5621, loss_obj: 2.4999, loss: 5.6607\n",
      "2022-11-18 11:44:58,585 - mmdet - INFO - Epoch [2][500/5462]\tlr: 5.000e-06, eta: 9:06:26, time: 0.610, data_time: 0.216, memory: 18627, loss_cls: 0.6056, loss_bbox: 2.5811, loss_obj: 2.6241, loss: 5.8108\n",
      "2022-11-18 11:46:05,795 - mmdet - INFO - Epoch [2][600/5462]\tlr: 5.000e-06, eta: 9:10:44, time: 0.672, data_time: 0.337, memory: 18627, loss_cls: 0.6052, loss_bbox: 2.6408, loss_obj: 2.5714, loss: 5.8174\n",
      "2022-11-18 11:46:57,585 - mmdet - INFO - Epoch [2][700/5462]\tlr: 5.000e-06, eta: 9:11:43, time: 0.519, data_time: 0.174, memory: 18627, loss_cls: 0.6028, loss_bbox: 2.5930, loss_obj: 2.6112, loss: 5.8069\n",
      "2022-11-18 11:48:03,065 - mmdet - INFO - Epoch [2][800/5462]\tlr: 5.000e-06, eta: 9:15:22, time: 0.655, data_time: 0.361, memory: 18627, loss_cls: 0.6050, loss_bbox: 2.6654, loss_obj: 2.5936, loss: 5.8640\n",
      "2022-11-18 11:48:58,279 - mmdet - INFO - Epoch [2][900/5462]\tlr: 5.000e-06, eta: 9:16:51, time: 0.552, data_time: 0.215, memory: 18627, loss_cls: 0.5972, loss_bbox: 2.5776, loss_obj: 2.5624, loss: 5.7373\n",
      "2022-11-18 11:50:04,229 - mmdet - INFO - Epoch [2][1000/5462]\tlr: 5.000e-06, eta: 9:20:21, time: 0.660, data_time: 0.326, memory: 18627, loss_cls: 0.6032, loss_bbox: 2.5810, loss_obj: 2.5844, loss: 5.7686\n",
      "2022-11-18 11:50:52,399 - mmdet - INFO - Epoch [2][1100/5462]\tlr: 5.000e-06, eta: 9:20:16, time: 0.481, data_time: 0.144, memory: 18627, loss_cls: 0.5999, loss_bbox: 2.5823, loss_obj: 2.5433, loss: 5.7256\n",
      "2022-11-18 11:51:43,529 - mmdet - INFO - Epoch [2][1200/5462]\tlr: 5.000e-06, eta: 9:20:46, time: 0.512, data_time: 0.168, memory: 18627, loss_cls: 0.5982, loss_bbox: 2.5850, loss_obj: 2.4748, loss: 5.6580\n",
      "2022-11-18 11:52:20,333 - mmdet - INFO - Epoch [2][1300/5462]\tlr: 5.000e-06, eta: 9:18:33, time: 0.368, data_time: 0.009, memory: 18627, loss_cls: 0.6011, loss_bbox: 2.5515, loss_obj: 2.5617, loss: 5.7143\n",
      "2022-11-18 11:52:53,838 - mmdet - INFO - Epoch [2][1400/5462]\tlr: 5.000e-06, eta: 9:15:47, time: 0.335, data_time: 0.010, memory: 18627, loss_cls: 0.6017, loss_bbox: 2.5916, loss_obj: 2.5390, loss: 5.7324\n",
      "2022-11-18 11:53:30,745 - mmdet - INFO - Epoch [2][1500/5462]\tlr: 5.000e-06, eta: 9:13:42, time: 0.369, data_time: 0.011, memory: 18627, loss_cls: 0.6005, loss_bbox: 2.5630, loss_obj: 2.5259, loss: 5.6894\n",
      "2022-11-18 11:54:07,460 - mmdet - INFO - Epoch [2][1600/5462]\tlr: 5.000e-06, eta: 9:11:38, time: 0.368, data_time: 0.010, memory: 18627, loss_cls: 0.5982, loss_bbox: 2.5682, loss_obj: 2.5593, loss: 5.7257\n",
      "2022-11-18 11:54:38,200 - mmdet - INFO - Epoch [2][1700/5462]\tlr: 5.000e-06, eta: 9:08:32, time: 0.306, data_time: 0.009, memory: 18627, loss_cls: 0.6049, loss_bbox: 2.6932, loss_obj: 2.5823, loss: 5.8804\n",
      "2022-11-18 11:55:13,286 - mmdet - INFO - Epoch [2][1800/5462]\tlr: 5.000e-06, eta: 9:06:17, time: 0.352, data_time: 0.010, memory: 18627, loss_cls: 0.5995, loss_bbox: 2.5892, loss_obj: 2.5919, loss: 5.7806\n",
      "2022-11-18 11:55:46,829 - mmdet - INFO - Epoch [2][1900/5462]\tlr: 5.000e-06, eta: 9:03:48, time: 0.335, data_time: 0.009, memory: 18627, loss_cls: 0.5991, loss_bbox: 2.5822, loss_obj: 2.6465, loss: 5.8279\n",
      "2022-11-18 11:56:19,702 - mmdet - INFO - Epoch [2][2000/5462]\tlr: 5.000e-06, eta: 9:01:15, time: 0.328, data_time: 0.009, memory: 18627, loss_cls: 0.6011, loss_bbox: 2.6038, loss_obj: 2.4910, loss: 5.6959\n",
      "2022-11-18 11:56:56,212 - mmdet - INFO - Epoch [2][2100/5462]\tlr: 5.000e-06, eta: 8:59:22, time: 0.365, data_time: 0.010, memory: 18627, loss_cls: 0.5985, loss_bbox: 2.5329, loss_obj: 2.5736, loss: 5.7050\n",
      "2022-11-18 11:57:31,809 - mmdet - INFO - Epoch [2][2200/5462]\tlr: 5.000e-06, eta: 8:57:22, time: 0.356, data_time: 0.010, memory: 18627, loss_cls: 0.5997, loss_bbox: 2.5822, loss_obj: 2.6718, loss: 5.8537\n",
      "2022-11-18 11:58:05,240 - mmdet - INFO - Epoch [2][2300/5462]\tlr: 5.000e-06, eta: 8:55:03, time: 0.334, data_time: 0.009, memory: 18627, loss_cls: 0.6032, loss_bbox: 2.6273, loss_obj: 2.5584, loss: 5.7889\n",
      "2022-11-18 11:58:39,571 - mmdet - INFO - Epoch [2][2400/5462]\tlr: 5.000e-06, eta: 8:52:56, time: 0.344, data_time: 0.010, memory: 18627, loss_cls: 0.6033, loss_bbox: 2.6142, loss_obj: 2.5575, loss: 5.7750\n",
      "2022-11-18 11:59:14,976 - mmdet - INFO - Epoch [2][2500/5462]\tlr: 5.000e-06, eta: 8:50:59, time: 0.353, data_time: 0.008, memory: 18627, loss_cls: 0.6053, loss_bbox: 2.6338, loss_obj: 2.5432, loss: 5.7823\n",
      "2022-11-18 11:59:54,065 - mmdet - INFO - Epoch [2][2600/5462]\tlr: 5.000e-06, eta: 8:49:40, time: 0.392, data_time: 0.009, memory: 18627, loss_cls: 0.5924, loss_bbox: 2.5177, loss_obj: 2.5299, loss: 5.6401\n",
      "2022-11-18 12:00:32,059 - mmdet - INFO - Epoch [2][2700/5462]\tlr: 5.000e-06, eta: 8:48:12, time: 0.380, data_time: 0.009, memory: 18627, loss_cls: 0.5920, loss_bbox: 2.5096, loss_obj: 2.4737, loss: 5.5753\n",
      "2022-11-18 12:01:04,922 - mmdet - INFO - Epoch [2][2800/5462]\tlr: 5.000e-06, eta: 8:45:59, time: 0.328, data_time: 0.009, memory: 18627, loss_cls: 0.5993, loss_bbox: 2.5791, loss_obj: 2.5282, loss: 5.7066\n",
      "2022-11-18 12:01:42,703 - mmdet - INFO - Epoch [2][2900/5462]\tlr: 5.000e-06, eta: 8:44:32, time: 0.378, data_time: 0.009, memory: 18627, loss_cls: 0.5971, loss_bbox: 2.5381, loss_obj: 2.5248, loss: 5.6600\n",
      "2022-11-18 12:02:19,201 - mmdet - INFO - Epoch [2][3000/5462]\tlr: 5.000e-06, eta: 8:42:54, time: 0.365, data_time: 0.009, memory: 18627, loss_cls: 0.5933, loss_bbox: 2.5328, loss_obj: 2.4989, loss: 5.6250\n",
      "2022-11-18 12:02:55,270 - mmdet - INFO - Epoch [2][3100/5462]\tlr: 5.000e-06, eta: 8:41:15, time: 0.361, data_time: 0.009, memory: 18627, loss_cls: 0.5950, loss_bbox: 2.5197, loss_obj: 2.5031, loss: 5.6178\n",
      "2022-11-18 12:03:29,988 - mmdet - INFO - Epoch [2][3200/5462]\tlr: 5.000e-06, eta: 8:39:25, time: 0.347, data_time: 0.008, memory: 18627, loss_cls: 0.5975, loss_bbox: 2.5612, loss_obj: 2.4673, loss: 5.6260\n",
      "2022-11-18 12:04:07,532 - mmdet - INFO - Epoch [2][3300/5462]\tlr: 5.000e-06, eta: 8:38:01, time: 0.375, data_time: 0.009, memory: 18627, loss_cls: 0.5960, loss_bbox: 2.5410, loss_obj: 2.4802, loss: 5.6172\n",
      "2022-11-18 12:04:45,221 - mmdet - INFO - Epoch [2][3400/5462]\tlr: 5.000e-06, eta: 8:36:40, time: 0.378, data_time: 0.009, memory: 18627, loss_cls: 0.5976, loss_bbox: 2.5496, loss_obj: 2.5330, loss: 5.6801\n",
      "2022-11-18 12:05:21,907 - mmdet - INFO - Epoch [2][3500/5462]\tlr: 5.000e-06, eta: 8:35:11, time: 0.367, data_time: 0.008, memory: 18627, loss_cls: 0.5985, loss_bbox: 2.5966, loss_obj: 2.5903, loss: 5.7854\n",
      "2022-11-18 12:05:54,784 - mmdet - INFO - Epoch [2][3600/5462]\tlr: 5.000e-06, eta: 8:33:11, time: 0.328, data_time: 0.008, memory: 18627, loss_cls: 0.6028, loss_bbox: 2.6102, loss_obj: 2.4926, loss: 5.7056\n",
      "2022-11-18 12:06:28,798 - mmdet - INFO - Epoch [2][3700/5462]\tlr: 5.000e-06, eta: 8:31:24, time: 0.340, data_time: 0.008, memory: 18627, loss_cls: 0.6028, loss_bbox: 2.6081, loss_obj: 2.5000, loss: 5.7109\n",
      "2022-11-18 12:06:57,322 - mmdet - INFO - Epoch [2][3800/5462]\tlr: 5.000e-06, eta: 8:28:54, time: 0.285, data_time: 0.009, memory: 18627, loss_cls: 0.6052, loss_bbox: 2.6581, loss_obj: 2.4794, loss: 5.7427\n",
      "2022-11-18 12:07:33,684 - mmdet - INFO - Epoch [2][3900/5462]\tlr: 5.000e-06, eta: 8:27:29, time: 0.364, data_time: 0.009, memory: 18627, loss_cls: 0.5927, loss_bbox: 2.5147, loss_obj: 2.4638, loss: 5.5712\n",
      "2022-11-18 12:08:05,855 - mmdet - INFO - Epoch [2][4000/5462]\tlr: 5.000e-06, eta: 8:25:32, time: 0.321, data_time: 0.010, memory: 18627, loss_cls: 0.5954, loss_bbox: 2.5747, loss_obj: 2.4362, loss: 5.6062\n",
      "2022-11-18 12:08:37,945 - mmdet - INFO - Epoch [2][4100/5462]\tlr: 5.000e-06, eta: 8:23:36, time: 0.321, data_time: 0.009, memory: 18627, loss_cls: 0.5969, loss_bbox: 2.5751, loss_obj: 2.4549, loss: 5.6268\n",
      "2022-11-18 12:09:15,268 - mmdet - INFO - Epoch [2][4200/5462]\tlr: 5.000e-06, eta: 8:22:21, time: 0.373, data_time: 0.008, memory: 18627, loss_cls: 0.5962, loss_bbox: 2.5353, loss_obj: 2.4968, loss: 5.6283\n",
      "2022-11-18 12:09:49,242 - mmdet - INFO - Epoch [2][4300/5462]\tlr: 5.000e-06, eta: 8:20:42, time: 0.340, data_time: 0.009, memory: 18627, loss_cls: 0.5982, loss_bbox: 2.5749, loss_obj: 2.4694, loss: 5.6425\n",
      "2022-11-18 12:10:21,686 - mmdet - INFO - Epoch [2][4400/5462]\tlr: 5.000e-06, eta: 8:18:54, time: 0.325, data_time: 0.009, memory: 18627, loss_cls: 0.5946, loss_bbox: 2.5776, loss_obj: 2.3626, loss: 5.5348\n",
      "2022-11-18 12:10:53,722 - mmdet - INFO - Epoch [2][4500/5462]\tlr: 5.000e-06, eta: 8:17:03, time: 0.320, data_time: 0.009, memory: 18627, loss_cls: 0.5939, loss_bbox: 2.5811, loss_obj: 2.4866, loss: 5.6615\n",
      "2022-11-18 12:11:25,445 - mmdet - INFO - Epoch [2][4600/5462]\tlr: 5.000e-06, eta: 8:15:12, time: 0.317, data_time: 0.010, memory: 18627, loss_cls: 0.5968, loss_bbox: 2.5754, loss_obj: 2.4763, loss: 5.6484\n",
      "2022-11-18 12:11:57,170 - mmdet - INFO - Epoch [2][4700/5462]\tlr: 5.000e-06, eta: 8:13:23, time: 0.318, data_time: 0.011, memory: 18627, loss_cls: 0.5985, loss_bbox: 2.5884, loss_obj: 2.4342, loss: 5.6211\n",
      "2022-11-18 12:12:30,718 - mmdet - INFO - Epoch [2][4800/5462]\tlr: 5.000e-06, eta: 8:11:48, time: 0.336, data_time: 0.009, memory: 18627, loss_cls: 0.5981, loss_bbox: 2.5894, loss_obj: 2.5291, loss: 5.7166\n",
      "2022-11-18 12:13:02,848 - mmdet - INFO - Epoch [2][4900/5462]\tlr: 5.000e-06, eta: 8:10:04, time: 0.321, data_time: 0.009, memory: 18627, loss_cls: 0.5978, loss_bbox: 2.5800, loss_obj: 2.5252, loss: 5.7030\n",
      "2022-11-18 12:13:37,013 - mmdet - INFO - Epoch [2][5000/5462]\tlr: 5.000e-06, eta: 8:08:36, time: 0.342, data_time: 0.009, memory: 18627, loss_cls: 0.5963, loss_bbox: 2.5748, loss_obj: 2.4755, loss: 5.6466\n",
      "2022-11-18 12:14:06,403 - mmdet - INFO - Epoch [2][5100/5462]\tlr: 5.000e-06, eta: 8:06:36, time: 0.293, data_time: 0.009, memory: 18627, loss_cls: 0.6035, loss_bbox: 2.6797, loss_obj: 2.4722, loss: 5.7555\n",
      "2022-11-18 12:14:41,554 - mmdet - INFO - Epoch [2][5200/5462]\tlr: 5.000e-06, eta: 8:05:17, time: 0.353, data_time: 0.009, memory: 18627, loss_cls: 0.5924, loss_bbox: 2.5451, loss_obj: 2.4350, loss: 5.5725\n",
      "2022-11-18 12:15:15,337 - mmdet - INFO - Epoch [2][5300/5462]\tlr: 5.000e-06, eta: 8:03:49, time: 0.337, data_time: 0.008, memory: 18627, loss_cls: 0.5937, loss_bbox: 2.5528, loss_obj: 2.4781, loss: 5.6246\n",
      "2022-11-18 12:15:54,869 - mmdet - INFO - Epoch [2][5400/5462]\tlr: 5.000e-06, eta: 8:03:00, time: 0.395, data_time: 0.009, memory: 18627, loss_cls: 0.5871, loss_bbox: 2.4528, loss_obj: 2.4967, loss: 5.5365\n",
      "2022-11-18 12:16:18,361 - mmdet - INFO - Saving checkpoint at 2 epochs\n"
     ]
    },
    {
     "name": "stdout",
     "output_type": "stream",
     "text": [
      "[>>>>>>>>>>>>>>>>>>>>>>>>] 10000/10000, 28.7 task/s, elapsed: 348s, ETA:     0s"
     ]
    },
    {
     "name": "stderr",
     "output_type": "stream",
     "text": [
      "2022-11-18 12:22:39,579 - mmdet - INFO - Evaluating bbox...\n"
     ]
    },
    {
     "name": "stdout",
     "output_type": "stream",
     "text": [
      "Loading and preparing results...\n",
      "DONE (t=2.22s)\n",
      "creating index...\n",
      "index created!\n",
      "Running per image evaluation...\n",
      "Evaluate annotation type *bbox*\n",
      "DONE (t=109.76s).\n",
      "Accumulating evaluation results...\n"
     ]
    },
    {
     "name": "stderr",
     "output_type": "stream",
     "text": [
      "2022-11-18 12:24:54,251 - mmdet - INFO - \n",
      " Average Precision  (AP) @[ IoU=0.50:0.95 | area=   all | maxDets=100 ] = 0.187\n",
      " Average Precision  (AP) @[ IoU=0.50      | area=   all | maxDets=1000 ] = 0.363\n",
      " Average Precision  (AP) @[ IoU=0.75      | area=   all | maxDets=1000 ] = 0.175\n",
      " Average Precision  (AP) @[ IoU=0.50:0.95 | area= small | maxDets=1000 ] = 0.173\n",
      " Average Precision  (AP) @[ IoU=0.50:0.95 | area=medium | maxDets=1000 ] = 0.358\n",
      " Average Precision  (AP) @[ IoU=0.50:0.95 | area= large | maxDets=1000 ] = 0.346\n",
      " Average Recall     (AR) @[ IoU=0.50:0.95 | area=   all | maxDets=100 ] = 0.359\n",
      " Average Recall     (AR) @[ IoU=0.50:0.95 | area=   all | maxDets=300 ] = 0.373\n",
      " Average Recall     (AR) @[ IoU=0.50:0.95 | area=   all | maxDets=1000 ] = 0.376\n",
      " Average Recall     (AR) @[ IoU=0.50:0.95 | area= small | maxDets=1000 ] = 0.355\n",
      " Average Recall     (AR) @[ IoU=0.50:0.95 | area=medium | maxDets=1000 ] = 0.613\n",
      " Average Recall     (AR) @[ IoU=0.50:0.95 | area= large | maxDets=1000 ] = 0.640\n",
      "\n"
     ]
    },
    {
     "name": "stdout",
     "output_type": "stream",
     "text": [
      "DONE (t=18.28s).\n"
     ]
    },
    {
     "name": "stderr",
     "output_type": "stream",
     "text": [
      "2022-11-18 12:24:54,885 - mmdet - INFO - The previous best checkpoint D:\\Homework\\course_cvdl\\task3\\workdirs\\yolox_l_8x8_300e_coco\\best_bbox_mAP_epoch_1.pth was removed\n",
      "2022-11-18 12:25:03,670 - mmdet - INFO - Now best checkpoint is saved as best_bbox_mAP_epoch_2.pth.\n",
      "2022-11-18 12:25:03,671 - mmdet - INFO - Best bbox_mAP is 0.1870 at 2 epoch.\n",
      "2022-11-18 12:25:03,671 - mmdet - INFO - Epoch(val) [2][10000]\tbbox_mAP: 0.1870, bbox_mAP_50: 0.3630, bbox_mAP_75: 0.1750, bbox_mAP_s: 0.1730, bbox_mAP_m: 0.3580, bbox_mAP_l: 0.3460, bbox_mAP_copypaste: 0.187 0.363 0.175 0.173 0.358 0.346\n",
      "2022-11-18 12:25:41,416 - mmdet - INFO - Epoch [3][100/5462]\tlr: 5.000e-06, eta: 7:58:51, time: 0.377, data_time: 0.035, memory: 18627, loss_cls: 0.5921, loss_bbox: 2.5188, loss_obj: 2.4409, loss: 5.5517\n",
      "2022-11-18 12:26:15,500 - mmdet - INFO - Epoch [3][200/5462]\tlr: 5.000e-06, eta: 7:57:29, time: 0.340, data_time: 0.008, memory: 18627, loss_cls: 0.5923, loss_bbox: 2.5520, loss_obj: 2.5235, loss: 5.6678\n",
      "2022-11-18 12:26:52,687 - mmdet - INFO - Epoch [3][300/5462]\tlr: 5.000e-06, eta: 7:56:28, time: 0.372, data_time: 0.009, memory: 18627, loss_cls: 0.5873, loss_bbox: 2.5026, loss_obj: 2.4264, loss: 5.5163\n",
      "2022-11-18 12:27:27,162 - mmdet - INFO - Epoch [3][400/5462]\tlr: 5.000e-06, eta: 7:55:11, time: 0.345, data_time: 0.010, memory: 18627, loss_cls: 0.5903, loss_bbox: 2.4918, loss_obj: 2.4049, loss: 5.4870\n",
      "2022-11-18 12:28:05,528 - mmdet - INFO - Epoch [3][500/5462]\tlr: 5.000e-06, eta: 7:54:18, time: 0.383, data_time: 0.008, memory: 18627, loss_cls: 0.5903, loss_bbox: 2.4942, loss_obj: 2.4300, loss: 5.5145\n",
      "2022-11-18 12:28:42,556 - mmdet - INFO - Epoch [3][600/5462]\tlr: 5.000e-06, eta: 7:53:17, time: 0.370, data_time: 0.009, memory: 18627, loss_cls: 0.5905, loss_bbox: 2.5288, loss_obj: 2.4496, loss: 5.5689\n",
      "2022-11-18 12:29:15,021 - mmdet - INFO - Epoch [3][700/5462]\tlr: 5.000e-06, eta: 7:51:49, time: 0.325, data_time: 0.009, memory: 18627, loss_cls: 0.5961, loss_bbox: 2.5982, loss_obj: 2.4470, loss: 5.6413\n",
      "2022-11-18 12:29:50,443 - mmdet - INFO - Epoch [3][800/5462]\tlr: 5.000e-06, eta: 7:50:40, time: 0.354, data_time: 0.009, memory: 18627, loss_cls: 0.5914, loss_bbox: 2.5157, loss_obj: 2.4468, loss: 5.5539\n",
      "2022-11-18 12:30:25,892 - mmdet - INFO - Epoch [3][900/5462]\tlr: 5.000e-06, eta: 7:49:31, time: 0.354, data_time: 0.009, memory: 18627, loss_cls: 0.5906, loss_bbox: 2.4909, loss_obj: 2.4240, loss: 5.5055\n",
      "2022-11-18 12:30:59,746 - mmdet - INFO - Epoch [3][1000/5462]\tlr: 5.000e-06, eta: 7:48:14, time: 0.339, data_time: 0.009, memory: 18627, loss_cls: 0.5948, loss_bbox: 2.5552, loss_obj: 2.3805, loss: 5.5305\n",
      "2022-11-18 12:31:34,519 - mmdet - INFO - Epoch [3][1100/5462]\tlr: 5.000e-06, eta: 7:47:03, time: 0.348, data_time: 0.008, memory: 18627, loss_cls: 0.5869, loss_bbox: 2.4985, loss_obj: 2.4773, loss: 5.5627\n",
      "2022-11-18 12:32:10,627 - mmdet - INFO - Epoch [3][1200/5462]\tlr: 5.000e-06, eta: 7:45:59, time: 0.360, data_time: 0.008, memory: 18627, loss_cls: 0.5939, loss_bbox: 2.5298, loss_obj: 2.5105, loss: 5.6342\n",
      "2022-11-18 12:32:47,705 - mmdet - INFO - Epoch [3][1300/5462]\tlr: 5.000e-06, eta: 7:45:02, time: 0.371, data_time: 0.009, memory: 18627, loss_cls: 0.5907, loss_bbox: 2.5015, loss_obj: 2.4941, loss: 5.5863\n",
      "2022-11-18 12:33:22,210 - mmdet - INFO - Epoch [3][1400/5462]\tlr: 5.000e-06, eta: 7:43:51, time: 0.345, data_time: 0.009, memory: 18627, loss_cls: 0.5915, loss_bbox: 2.5143, loss_obj: 2.3831, loss: 5.4890\n",
      "2022-11-18 12:33:57,616 - mmdet - INFO - Epoch [3][1500/5462]\tlr: 5.000e-06, eta: 7:42:46, time: 0.354, data_time: 0.009, memory: 18627, loss_cls: 0.6012, loss_bbox: 2.6195, loss_obj: 2.5261, loss: 5.7469\n",
      "2022-11-18 12:34:32,378 - mmdet - INFO - Epoch [3][1600/5462]\tlr: 5.000e-06, eta: 7:41:37, time: 0.347, data_time: 0.009, memory: 18627, loss_cls: 0.5924, loss_bbox: 2.5242, loss_obj: 2.3896, loss: 5.5062\n",
      "2022-11-18 12:35:07,220 - mmdet - INFO - Epoch [3][1700/5462]\tlr: 5.000e-06, eta: 7:40:29, time: 0.348, data_time: 0.009, memory: 18627, loss_cls: 0.5960, loss_bbox: 2.5799, loss_obj: 2.4693, loss: 5.6453\n",
      "2022-11-18 12:35:42,455 - mmdet - INFO - Epoch [3][1800/5462]\tlr: 5.000e-06, eta: 7:39:24, time: 0.353, data_time: 0.010, memory: 18627, loss_cls: 0.5919, loss_bbox: 2.5215, loss_obj: 2.3957, loss: 5.5090\n",
      "2022-11-18 12:36:18,438 - mmdet - INFO - Epoch [3][1900/5462]\tlr: 5.000e-06, eta: 7:38:24, time: 0.360, data_time: 0.009, memory: 18627, loss_cls: 0.5910, loss_bbox: 2.5026, loss_obj: 2.4049, loss: 5.4986\n",
      "2022-11-18 12:36:51,373 - mmdet - INFO - Epoch [3][2000/5462]\tlr: 5.000e-06, eta: 7:37:07, time: 0.330, data_time: 0.009, memory: 18627, loss_cls: 0.5879, loss_bbox: 2.5101, loss_obj: 2.3815, loss: 5.4795\n",
      "2022-11-18 12:37:23,709 - mmdet - INFO - Epoch [3][2100/5462]\tlr: 5.000e-06, eta: 7:35:48, time: 0.323, data_time: 0.008, memory: 18627, loss_cls: 0.5910, loss_bbox: 2.5390, loss_obj: 2.4180, loss: 5.5479\n",
      "2022-11-18 12:38:01,198 - mmdet - INFO - Epoch [3][2200/5462]\tlr: 5.000e-06, eta: 7:34:57, time: 0.375, data_time: 0.009, memory: 18627, loss_cls: 0.5894, loss_bbox: 2.4617, loss_obj: 2.4075, loss: 5.4587\n",
      "2022-11-18 12:38:38,231 - mmdet - INFO - Epoch [3][2300/5462]\tlr: 5.000e-06, eta: 7:34:04, time: 0.370, data_time: 0.009, memory: 18627, loss_cls: 0.5862, loss_bbox: 2.4845, loss_obj: 2.3694, loss: 5.4401\n",
      "2022-11-18 12:39:12,274 - mmdet - INFO - Epoch [3][2400/5462]\tlr: 5.000e-06, eta: 7:32:55, time: 0.340, data_time: 0.009, memory: 18627, loss_cls: 0.5949, loss_bbox: 2.5533, loss_obj: 2.4359, loss: 5.5841\n",
      "2022-11-18 12:39:48,617 - mmdet - INFO - Epoch [3][2500/5462]\tlr: 5.000e-06, eta: 7:31:59, time: 0.364, data_time: 0.009, memory: 18627, loss_cls: 0.5911, loss_bbox: 2.5106, loss_obj: 2.4123, loss: 5.5139\n",
      "2022-11-18 12:40:27,360 - mmdet - INFO - Epoch [3][2600/5462]\tlr: 5.000e-06, eta: 7:31:15, time: 0.387, data_time: 0.009, memory: 18627, loss_cls: 0.5884, loss_bbox: 2.4802, loss_obj: 2.4843, loss: 5.5529\n",
      "2022-11-18 12:41:04,155 - mmdet - INFO - Epoch [3][2700/5462]\tlr: 5.000e-06, eta: 7:30:21, time: 0.368, data_time: 0.009, memory: 18627, loss_cls: 0.5909, loss_bbox: 2.4961, loss_obj: 2.3585, loss: 5.4456\n",
      "2022-11-18 12:41:43,060 - mmdet - INFO - Epoch [3][2800/5462]\tlr: 5.000e-06, eta: 7:29:38, time: 0.389, data_time: 0.009, memory: 18627, loss_cls: 0.5834, loss_bbox: 2.4294, loss_obj: 2.3267, loss: 5.3395\n",
      "2022-11-18 12:42:18,785 - mmdet - INFO - Epoch [3][2900/5462]\tlr: 5.000e-06, eta: 7:28:40, time: 0.357, data_time: 0.009, memory: 18627, loss_cls: 0.5932, loss_bbox: 2.5506, loss_obj: 2.4816, loss: 5.6254\n",
      "2022-11-18 12:42:56,626 - mmdet - INFO - Epoch [3][3000/5462]\tlr: 5.000e-06, eta: 7:27:52, time: 0.378, data_time: 0.009, memory: 18627, loss_cls: 0.5868, loss_bbox: 2.4782, loss_obj: 2.4498, loss: 5.5148\n",
      "2022-11-18 12:43:32,468 - mmdet - INFO - Epoch [3][3100/5462]\tlr: 5.000e-06, eta: 7:26:55, time: 0.359, data_time: 0.009, memory: 18627, loss_cls: 0.5908, loss_bbox: 2.5097, loss_obj: 2.4375, loss: 5.5379\n",
      "2022-11-18 12:44:08,306 - mmdet - INFO - Epoch [3][3200/5462]\tlr: 5.000e-06, eta: 7:25:58, time: 0.358, data_time: 0.009, memory: 18627, loss_cls: 0.5849, loss_bbox: 2.4917, loss_obj: 2.4371, loss: 5.5136\n",
      "2022-11-18 12:44:43,212 - mmdet - INFO - Epoch [3][3300/5462]\tlr: 5.000e-06, eta: 7:24:57, time: 0.349, data_time: 0.009, memory: 18627, loss_cls: 0.5878, loss_bbox: 2.4828, loss_obj: 2.3583, loss: 5.4289\n",
      "2022-11-18 12:45:19,943 - mmdet - INFO - Epoch [3][3400/5462]\tlr: 5.000e-06, eta: 7:24:05, time: 0.368, data_time: 0.009, memory: 18627, loss_cls: 0.5885, loss_bbox: 2.5113, loss_obj: 2.5139, loss: 5.6136\n",
      "2022-11-18 12:45:55,996 - mmdet - INFO - Epoch [3][3500/5462]\tlr: 5.000e-06, eta: 7:23:09, time: 0.359, data_time: 0.008, memory: 18627, loss_cls: 0.5939, loss_bbox: 2.5167, loss_obj: 2.4064, loss: 5.5170\n",
      "2022-11-18 12:46:33,914 - mmdet - INFO - Epoch [3][3600/5462]\tlr: 5.000e-06, eta: 7:22:23, time: 0.379, data_time: 0.010, memory: 18627, loss_cls: 0.5848, loss_bbox: 2.4655, loss_obj: 2.4213, loss: 5.4716\n",
      "2022-11-18 12:47:12,968 - mmdet - INFO - Epoch [3][3700/5462]\tlr: 5.000e-06, eta: 7:21:42, time: 0.391, data_time: 0.010, memory: 18627, loss_cls: 0.5840, loss_bbox: 2.4464, loss_obj: 2.4433, loss: 5.4736\n",
      "2022-11-18 12:47:44,768 - mmdet - INFO - Epoch [3][3800/5462]\tlr: 5.000e-06, eta: 7:20:28, time: 0.317, data_time: 0.009, memory: 18627, loss_cls: 0.5915, loss_bbox: 2.5197, loss_obj: 2.4285, loss: 5.5397\n",
      "2022-11-18 12:48:21,919 - mmdet - INFO - Epoch [3][3900/5462]\tlr: 5.000e-06, eta: 7:19:39, time: 0.372, data_time: 0.014, memory: 18627, loss_cls: 0.5865, loss_bbox: 2.4850, loss_obj: 2.3787, loss: 5.4502\n",
      "2022-11-18 12:48:58,868 - mmdet - INFO - Epoch [3][4000/5462]\tlr: 5.000e-06, eta: 7:18:50, time: 0.370, data_time: 0.010, memory: 18627, loss_cls: 0.5918, loss_bbox: 2.5276, loss_obj: 2.3716, loss: 5.4910\n",
      "2022-11-18 12:49:33,152 - mmdet - INFO - Epoch [3][4100/5462]\tlr: 5.000e-06, eta: 7:17:48, time: 0.342, data_time: 0.009, memory: 18627, loss_cls: 0.5869, loss_bbox: 2.5088, loss_obj: 2.4171, loss: 5.5129\n",
      "2022-11-18 12:50:11,111 - mmdet - INFO - Epoch [3][4200/5462]\tlr: 5.000e-06, eta: 7:17:03, time: 0.380, data_time: 0.009, memory: 18627, loss_cls: 0.5820, loss_bbox: 2.4304, loss_obj: 2.2785, loss: 5.2909\n",
      "2022-11-18 12:50:49,159 - mmdet - INFO - Epoch [3][4300/5462]\tlr: 5.000e-06, eta: 7:16:18, time: 0.381, data_time: 0.012, memory: 18627, loss_cls: 0.5893, loss_bbox: 2.4983, loss_obj: 2.4300, loss: 5.5175\n",
      "2022-11-18 12:51:29,186 - mmdet - INFO - Epoch [3][4400/5462]\tlr: 5.000e-06, eta: 7:15:43, time: 0.401, data_time: 0.009, memory: 18627, loss_cls: 0.5888, loss_bbox: 2.4700, loss_obj: 2.3911, loss: 5.4498\n",
      "2022-11-18 12:52:04,007 - mmdet - INFO - Epoch [3][4500/5462]\tlr: 5.000e-06, eta: 7:14:44, time: 0.348, data_time: 0.009, memory: 18627, loss_cls: 0.5869, loss_bbox: 2.4813, loss_obj: 2.3251, loss: 5.3932\n",
      "2022-11-18 12:52:36,385 - mmdet - INFO - Epoch [3][4600/5462]\tlr: 5.000e-06, eta: 7:13:35, time: 0.323, data_time: 0.009, memory: 18627, loss_cls: 0.5904, loss_bbox: 2.5385, loss_obj: 2.3966, loss: 5.5255\n",
      "2022-11-18 12:53:10,126 - mmdet - INFO - Epoch [3][4700/5462]\tlr: 5.000e-06, eta: 7:12:33, time: 0.337, data_time: 0.009, memory: 18627, loss_cls: 0.5943, loss_bbox: 2.5426, loss_obj: 2.3481, loss: 5.4849\n",
      "2022-11-18 12:53:48,587 - mmdet - INFO - Epoch [3][4800/5462]\tlr: 5.000e-06, eta: 7:11:51, time: 0.385, data_time: 0.009, memory: 18627, loss_cls: 0.5845, loss_bbox: 2.4479, loss_obj: 2.3510, loss: 5.3835\n",
      "2022-11-18 12:54:28,900 - mmdet - INFO - Epoch [3][4900/5462]\tlr: 5.000e-06, eta: 7:11:17, time: 0.403, data_time: 0.009, memory: 18627, loss_cls: 0.5802, loss_bbox: 2.4031, loss_obj: 2.3926, loss: 5.3758\n",
      "2022-11-18 12:55:05,547 - mmdet - INFO - Epoch [3][5000/5462]\tlr: 5.000e-06, eta: 7:10:27, time: 0.367, data_time: 0.009, memory: 18627, loss_cls: 0.5843, loss_bbox: 2.4605, loss_obj: 2.3216, loss: 5.3665\n",
      "2022-11-18 12:55:41,418 - mmdet - INFO - Epoch [3][5100/5462]\tlr: 5.000e-06, eta: 7:09:35, time: 0.359, data_time: 0.009, memory: 18627, loss_cls: 0.5887, loss_bbox: 2.5044, loss_obj: 2.3995, loss: 5.4926\n",
      "2022-11-18 12:56:16,467 - mmdet - INFO - Epoch [3][5200/5462]\tlr: 5.000e-06, eta: 7:08:39, time: 0.351, data_time: 0.009, memory: 18627, loss_cls: 0.5833, loss_bbox: 2.4569, loss_obj: 2.3657, loss: 5.4059\n",
      "2022-11-18 12:56:51,437 - mmdet - INFO - Epoch [3][5300/5462]\tlr: 5.000e-06, eta: 7:07:44, time: 0.350, data_time: 0.009, memory: 18627, loss_cls: 0.5924, loss_bbox: 2.5333, loss_obj: 2.4449, loss: 5.5706\n",
      "2022-11-18 12:57:25,982 - mmdet - INFO - Epoch [3][5400/5462]\tlr: 5.000e-06, eta: 7:06:47, time: 0.346, data_time: 0.008, memory: 18627, loss_cls: 0.5834, loss_bbox: 2.4888, loss_obj: 2.3835, loss: 5.4556\n",
      "2022-11-18 12:57:46,850 - mmdet - INFO - Saving checkpoint at 3 epochs\n"
     ]
    },
    {
     "name": "stdout",
     "output_type": "stream",
     "text": [
      "[>>>>>>>>>>>>>>>>>>>>>>>>] 10000/10000, 28.2 task/s, elapsed: 354s, ETA:     0s"
     ]
    },
    {
     "name": "stderr",
     "output_type": "stream",
     "text": [
      "2022-11-18 13:04:16,742 - mmdet - INFO - Evaluating bbox...\n"
     ]
    },
    {
     "name": "stdout",
     "output_type": "stream",
     "text": [
      "Loading and preparing results...\n",
      "DONE (t=2.13s)\n",
      "creating index...\n",
      "index created!\n",
      "Running per image evaluation...\n",
      "Evaluate annotation type *bbox*\n",
      "DONE (t=103.99s).\n",
      "Accumulating evaluation results...\n"
     ]
    },
    {
     "name": "stderr",
     "output_type": "stream",
     "text": [
      "2022-11-18 13:06:23,762 - mmdet - INFO - \n",
      " Average Precision  (AP) @[ IoU=0.50:0.95 | area=   all | maxDets=100 ] = 0.197\n",
      " Average Precision  (AP) @[ IoU=0.50      | area=   all | maxDets=1000 ] = 0.377\n",
      " Average Precision  (AP) @[ IoU=0.75      | area=   all | maxDets=1000 ] = 0.185\n",
      " Average Precision  (AP) @[ IoU=0.50:0.95 | area= small | maxDets=1000 ] = 0.182\n",
      " Average Precision  (AP) @[ IoU=0.50:0.95 | area=medium | maxDets=1000 ] = 0.380\n",
      " Average Precision  (AP) @[ IoU=0.50:0.95 | area= large | maxDets=1000 ] = 0.377\n",
      " Average Recall     (AR) @[ IoU=0.50:0.95 | area=   all | maxDets=100 ] = 0.368\n",
      " Average Recall     (AR) @[ IoU=0.50:0.95 | area=   all | maxDets=300 ] = 0.382\n",
      " Average Recall     (AR) @[ IoU=0.50:0.95 | area=   all | maxDets=1000 ] = 0.385\n",
      " Average Recall     (AR) @[ IoU=0.50:0.95 | area= small | maxDets=1000 ] = 0.363\n",
      " Average Recall     (AR) @[ IoU=0.50:0.95 | area=medium | maxDets=1000 ] = 0.625\n",
      " Average Recall     (AR) @[ IoU=0.50:0.95 | area= large | maxDets=1000 ] = 0.650\n",
      "\n"
     ]
    },
    {
     "name": "stdout",
     "output_type": "stream",
     "text": [
      "DONE (t=16.70s).\n"
     ]
    },
    {
     "name": "stderr",
     "output_type": "stream",
     "text": [
      "2022-11-18 13:06:24,316 - mmdet - INFO - The previous best checkpoint D:\\Homework\\course_cvdl\\task3\\workdirs\\yolox_l_8x8_300e_coco\\best_bbox_mAP_epoch_2.pth was removed\n",
      "2022-11-18 13:06:32,331 - mmdet - INFO - Now best checkpoint is saved as best_bbox_mAP_epoch_3.pth.\n",
      "2022-11-18 13:06:32,332 - mmdet - INFO - Best bbox_mAP is 0.1970 at 3 epoch.\n",
      "2022-11-18 13:06:32,332 - mmdet - INFO - Epoch(val) [3][10000]\tbbox_mAP: 0.1970, bbox_mAP_50: 0.3770, bbox_mAP_75: 0.1850, bbox_mAP_s: 0.1820, bbox_mAP_m: 0.3800, bbox_mAP_l: 0.3770, bbox_mAP_copypaste: 0.197 0.377 0.185 0.182 0.380 0.377\n",
      "2022-11-18 13:08:19,269 - mmdet - INFO - Epoch [4][100/5462]\tlr: 5.000e-06, eta: 7:08:36, time: 1.068, data_time: 0.768, memory: 18627, loss_cls: 0.5899, loss_bbox: 2.5013, loss_obj: 2.3508, loss: 5.4421\n",
      "2022-11-18 13:09:24,593 - mmdet - INFO - Epoch [4][200/5462]\tlr: 5.000e-06, eta: 7:09:40, time: 0.654, data_time: 0.343, memory: 18627, loss_cls: 0.5863, loss_bbox: 2.5332, loss_obj: 2.3951, loss: 5.5146\n",
      "2022-11-18 13:10:28,291 - mmdet - INFO - Epoch [4][300/5462]\tlr: 5.000e-06, eta: 7:10:35, time: 0.636, data_time: 0.338, memory: 18627, loss_cls: 0.5844, loss_bbox: 2.4710, loss_obj: 2.3478, loss: 5.4033\n",
      "2022-11-18 13:11:23,934 - mmdet - INFO - Epoch [4][400/5462]\tlr: 5.000e-06, eta: 7:10:58, time: 0.557, data_time: 0.272, memory: 18627, loss_cls: 0.5889, loss_bbox: 2.5463, loss_obj: 2.2817, loss: 5.4168\n",
      "2022-11-18 13:12:17,486 - mmdet - INFO - Epoch [4][500/5462]\tlr: 5.000e-06, eta: 7:11:11, time: 0.536, data_time: 0.181, memory: 18627, loss_cls: 0.5858, loss_bbox: 2.4658, loss_obj: 2.3213, loss: 5.3729\n",
      "2022-11-18 13:13:15,451 - mmdet - INFO - Epoch [4][600/5462]\tlr: 5.000e-06, eta: 7:11:41, time: 0.579, data_time: 0.260, memory: 18627, loss_cls: 0.5886, loss_bbox: 2.5060, loss_obj: 2.4047, loss: 5.4993\n",
      "2022-11-18 13:13:56,897 - mmdet - INFO - Epoch [4][700/5462]\tlr: 5.000e-06, eta: 7:11:07, time: 0.415, data_time: 0.082, memory: 18627, loss_cls: 0.5807, loss_bbox: 2.4523, loss_obj: 2.3614, loss: 5.3944\n",
      "2022-11-18 13:14:50,381 - mmdet - INFO - Epoch [4][800/5462]\tlr: 5.000e-06, eta: 7:11:19, time: 0.535, data_time: 0.216, memory: 18627, loss_cls: 0.5876, loss_bbox: 2.5118, loss_obj: 2.4545, loss: 5.5538\n",
      "2022-11-18 13:15:38,676 - mmdet - INFO - Epoch [4][900/5462]\tlr: 5.000e-06, eta: 7:11:09, time: 0.482, data_time: 0.157, memory: 18627, loss_cls: 0.5826, loss_bbox: 2.4608, loss_obj: 2.3832, loss: 5.4266\n",
      "2022-11-18 13:16:19,785 - mmdet - INFO - Epoch [4][1000/5462]\tlr: 5.000e-06, eta: 7:10:33, time: 0.411, data_time: 0.088, memory: 18627, loss_cls: 0.5894, loss_bbox: 2.5124, loss_obj: 2.3997, loss: 5.5015\n",
      "2022-11-18 13:17:02,887 - mmdet - INFO - Epoch [4][1100/5462]\tlr: 5.000e-06, eta: 7:10:05, time: 0.431, data_time: 0.086, memory: 18627, loss_cls: 0.5792, loss_bbox: 2.4452, loss_obj: 2.3211, loss: 5.3456\n",
      "2022-11-18 13:17:42,388 - mmdet - INFO - Epoch [4][1200/5462]\tlr: 5.000e-06, eta: 7:09:23, time: 0.395, data_time: 0.067, memory: 18627, loss_cls: 0.5901, loss_bbox: 2.5505, loss_obj: 2.3780, loss: 5.5186\n",
      "2022-11-18 13:18:21,531 - mmdet - INFO - Epoch [4][1300/5462]\tlr: 5.000e-06, eta: 7:08:40, time: 0.392, data_time: 0.061, memory: 18627, loss_cls: 0.5837, loss_bbox: 2.4801, loss_obj: 2.3165, loss: 5.3803\n",
      "2022-11-18 13:18:59,185 - mmdet - INFO - Epoch [4][1400/5462]\tlr: 5.000e-06, eta: 7:07:51, time: 0.377, data_time: 0.013, memory: 18627, loss_cls: 0.5883, loss_bbox: 2.4911, loss_obj: 2.3762, loss: 5.4557\n",
      "2022-11-18 13:19:35,349 - mmdet - INFO - Epoch [4][1500/5462]\tlr: 5.000e-06, eta: 7:06:57, time: 0.362, data_time: 0.028, memory: 18627, loss_cls: 0.5898, loss_bbox: 2.5056, loss_obj: 2.3220, loss: 5.4174\n",
      "2022-11-18 13:20:22,918 - mmdet - INFO - Epoch [4][1600/5462]\tlr: 5.000e-06, eta: 7:06:44, time: 0.476, data_time: 0.150, memory: 18627, loss_cls: 0.5905, loss_bbox: 2.5071, loss_obj: 2.3428, loss: 5.4403\n",
      "2022-11-18 13:20:57,175 - mmdet - INFO - Epoch [4][1700/5462]\tlr: 5.000e-06, eta: 7:05:44, time: 0.342, data_time: 0.008, memory: 18627, loss_cls: 0.5872, loss_bbox: 2.4946, loss_obj: 2.3943, loss: 5.4761\n",
      "2022-11-18 13:21:34,335 - mmdet - INFO - Epoch [4][1800/5462]\tlr: 5.000e-06, eta: 7:04:54, time: 0.372, data_time: 0.020, memory: 18627, loss_cls: 0.5871, loss_bbox: 2.5016, loss_obj: 2.3277, loss: 5.4164\n",
      "2022-11-18 13:22:09,296 - mmdet - INFO - Epoch [4][1900/5462]\tlr: 5.000e-06, eta: 7:03:56, time: 0.349, data_time: 0.009, memory: 18627, loss_cls: 0.5826, loss_bbox: 2.4555, loss_obj: 2.2566, loss: 5.2947\n",
      "2022-11-18 13:22:42,895 - mmdet - INFO - Epoch [4][2000/5462]\tlr: 5.000e-06, eta: 7:02:54, time: 0.336, data_time: 0.010, memory: 18627, loss_cls: 0.5866, loss_bbox: 2.5275, loss_obj: 2.3918, loss: 5.5059\n",
      "2022-11-18 13:23:17,087 - mmdet - INFO - Epoch [4][2100/5462]\tlr: 5.000e-06, eta: 7:01:55, time: 0.343, data_time: 0.012, memory: 18627, loss_cls: 0.5847, loss_bbox: 2.4766, loss_obj: 2.3302, loss: 5.3915\n",
      "2022-11-18 13:23:55,210 - mmdet - INFO - Epoch [4][2200/5462]\tlr: 5.000e-06, eta: 7:01:08, time: 0.380, data_time: 0.010, memory: 18627, loss_cls: 0.5858, loss_bbox: 2.4706, loss_obj: 2.3061, loss: 5.3625\n",
      "2022-11-18 13:24:26,883 - mmdet - INFO - Epoch [4][2300/5462]\tlr: 5.000e-06, eta: 7:00:01, time: 0.317, data_time: 0.012, memory: 18627, loss_cls: 0.5866, loss_bbox: 2.5044, loss_obj: 2.2906, loss: 5.3815\n",
      "2022-11-18 13:25:02,230 - mmdet - INFO - Epoch [4][2400/5462]\tlr: 5.000e-06, eta: 6:59:06, time: 0.354, data_time: 0.020, memory: 18627, loss_cls: 0.5879, loss_bbox: 2.5021, loss_obj: 2.4136, loss: 5.5036\n",
      "2022-11-18 13:25:35,261 - mmdet - INFO - Epoch [4][2500/5462]\tlr: 5.000e-06, eta: 6:58:03, time: 0.331, data_time: 0.009, memory: 18627, loss_cls: 0.5937, loss_bbox: 2.5473, loss_obj: 2.3490, loss: 5.4899\n",
      "2022-11-18 13:26:10,365 - mmdet - INFO - Epoch [4][2600/5462]\tlr: 5.000e-06, eta: 6:57:08, time: 0.350, data_time: 0.009, memory: 18627, loss_cls: 0.5881, loss_bbox: 2.4950, loss_obj: 2.4502, loss: 5.5333\n",
      "2022-11-18 13:26:44,102 - mmdet - INFO - Epoch [4][2700/5462]\tlr: 5.000e-06, eta: 6:56:08, time: 0.338, data_time: 0.010, memory: 18651, loss_cls: 0.5854, loss_bbox: 2.4878, loss_obj: 2.4110, loss: 5.4843\n",
      "2022-11-18 13:27:23,804 - mmdet - INFO - Epoch [4][2800/5462]\tlr: 5.000e-06, eta: 6:55:28, time: 0.397, data_time: 0.010, memory: 18651, loss_cls: 0.5774, loss_bbox: 2.4004, loss_obj: 2.3635, loss: 5.3413\n",
      "2022-11-18 13:27:58,284 - mmdet - INFO - Epoch [4][2900/5462]\tlr: 5.000e-06, eta: 6:54:32, time: 0.345, data_time: 0.014, memory: 18651, loss_cls: 0.5922, loss_bbox: 2.5225, loss_obj: 2.3708, loss: 5.4855\n",
      "2022-11-18 13:28:34,225 - mmdet - INFO - Epoch [4][3000/5462]\tlr: 5.000e-06, eta: 6:53:40, time: 0.359, data_time: 0.010, memory: 18651, loss_cls: 0.5777, loss_bbox: 2.4220, loss_obj: 2.2801, loss: 5.2799\n",
      "2022-11-18 13:29:06,368 - mmdet - INFO - Epoch [4][3100/5462]\tlr: 5.000e-06, eta: 6:52:36, time: 0.322, data_time: 0.009, memory: 18651, loss_cls: 0.5884, loss_bbox: 2.5157, loss_obj: 2.3477, loss: 5.4519\n",
      "2022-11-18 13:29:40,508 - mmdet - INFO - Epoch [4][3200/5462]\tlr: 5.000e-06, eta: 6:51:39, time: 0.341, data_time: 0.010, memory: 18651, loss_cls: 0.5865, loss_bbox: 2.5037, loss_obj: 2.4102, loss: 5.5004\n",
      "2022-11-18 13:30:15,987 - mmdet - INFO - Epoch [4][3300/5462]\tlr: 5.000e-06, eta: 6:50:46, time: 0.355, data_time: 0.010, memory: 18651, loss_cls: 0.5791, loss_bbox: 2.4576, loss_obj: 2.3179, loss: 5.3546\n",
      "2022-11-18 13:30:52,101 - mmdet - INFO - Epoch [4][3400/5462]\tlr: 5.000e-06, eta: 6:49:56, time: 0.362, data_time: 0.010, memory: 18651, loss_cls: 0.5830, loss_bbox: 2.4684, loss_obj: 2.3609, loss: 5.4123\n",
      "2022-11-18 13:31:29,474 - mmdet - INFO - Epoch [4][3500/5462]\tlr: 5.000e-06, eta: 6:49:09, time: 0.373, data_time: 0.008, memory: 18651, loss_cls: 0.5857, loss_bbox: 2.4703, loss_obj: 2.3891, loss: 5.4452\n",
      "2022-11-18 13:32:04,916 - mmdet - INFO - Epoch [4][3600/5462]\tlr: 5.000e-06, eta: 6:48:17, time: 0.354, data_time: 0.009, memory: 18651, loss_cls: 0.5772, loss_bbox: 2.4198, loss_obj: 2.3104, loss: 5.3074\n",
      "2022-11-18 13:32:39,410 - mmdet - INFO - Epoch [4][3700/5462]\tlr: 5.000e-06, eta: 6:47:22, time: 0.346, data_time: 0.010, memory: 18651, loss_cls: 0.5847, loss_bbox: 2.4737, loss_obj: 2.2574, loss: 5.3158\n",
      "2022-11-18 13:33:15,439 - mmdet - INFO - Epoch [4][3800/5462]\tlr: 5.000e-06, eta: 6:46:32, time: 0.360, data_time: 0.008, memory: 18651, loss_cls: 0.5846, loss_bbox: 2.4773, loss_obj: 2.3467, loss: 5.4086\n",
      "2022-11-18 13:33:48,426 - mmdet - INFO - Epoch [4][3900/5462]\tlr: 5.000e-06, eta: 6:45:32, time: 0.328, data_time: 0.008, memory: 18651, loss_cls: 0.5808, loss_bbox: 2.4532, loss_obj: 2.2899, loss: 5.3239\n",
      "2022-11-18 13:34:20,755 - mmdet - INFO - Epoch [4][4000/5462]\tlr: 5.000e-06, eta: 6:44:31, time: 0.324, data_time: 0.010, memory: 18651, loss_cls: 0.5868, loss_bbox: 2.5155, loss_obj: 2.3951, loss: 5.4974\n",
      "2022-11-18 13:34:56,549 - mmdet - INFO - Epoch [4][4100/5462]\tlr: 5.000e-06, eta: 6:43:40, time: 0.357, data_time: 0.009, memory: 18651, loss_cls: 0.5846, loss_bbox: 2.4952, loss_obj: 2.3731, loss: 5.4529\n",
      "2022-11-18 13:35:29,784 - mmdet - INFO - Epoch [4][4200/5462]\tlr: 5.000e-06, eta: 6:42:43, time: 0.333, data_time: 0.010, memory: 18651, loss_cls: 0.5835, loss_bbox: 2.4836, loss_obj: 2.3447, loss: 5.4118\n",
      "2022-11-18 13:36:02,031 - mmdet - INFO - Epoch [4][4300/5462]\tlr: 5.000e-06, eta: 6:41:42, time: 0.322, data_time: 0.009, memory: 18651, loss_cls: 0.5878, loss_bbox: 2.4840, loss_obj: 2.3222, loss: 5.3940\n",
      "2022-11-18 13:36:36,956 - mmdet - INFO - Epoch [4][4400/5462]\tlr: 5.000e-06, eta: 6:40:50, time: 0.349, data_time: 0.009, memory: 18651, loss_cls: 0.5882, loss_bbox: 2.5108, loss_obj: 2.4236, loss: 5.5226\n",
      "2022-11-18 13:37:12,252 - mmdet - INFO - Epoch [4][4500/5462]\tlr: 5.000e-06, eta: 6:39:59, time: 0.353, data_time: 0.009, memory: 18651, loss_cls: 0.5858, loss_bbox: 2.4663, loss_obj: 2.3811, loss: 5.4332\n",
      "2022-11-18 13:37:47,986 - mmdet - INFO - Epoch [4][4600/5462]\tlr: 5.000e-06, eta: 6:39:09, time: 0.357, data_time: 0.009, memory: 18658, loss_cls: 0.5861, loss_bbox: 2.4764, loss_obj: 2.3811, loss: 5.4435\n",
      "2022-11-18 13:38:24,722 - mmdet - INFO - Epoch [4][4700/5462]\tlr: 5.000e-06, eta: 6:38:22, time: 0.367, data_time: 0.009, memory: 18658, loss_cls: 0.5832, loss_bbox: 2.4504, loss_obj: 2.3337, loss: 5.3673\n",
      "2022-11-18 13:39:01,234 - mmdet - INFO - Epoch [4][4800/5462]\tlr: 5.000e-06, eta: 6:37:35, time: 0.365, data_time: 0.009, memory: 18658, loss_cls: 0.5842, loss_bbox: 2.4519, loss_obj: 2.3111, loss: 5.3471\n",
      "2022-11-18 13:39:35,623 - mmdet - INFO - Epoch [4][4900/5462]\tlr: 5.000e-06, eta: 6:36:42, time: 0.345, data_time: 0.010, memory: 18658, loss_cls: 0.5848, loss_bbox: 2.4755, loss_obj: 2.3487, loss: 5.4090\n",
      "2022-11-18 13:40:09,677 - mmdet - INFO - Epoch [4][5000/5462]\tlr: 5.000e-06, eta: 6:35:48, time: 0.341, data_time: 0.009, memory: 18658, loss_cls: 0.5794, loss_bbox: 2.4634, loss_obj: 2.3698, loss: 5.4126\n",
      "2022-11-18 13:40:46,507 - mmdet - INFO - Epoch [4][5100/5462]\tlr: 5.000e-06, eta: 6:35:02, time: 0.367, data_time: 0.008, memory: 18658, loss_cls: 0.5784, loss_bbox: 2.4101, loss_obj: 2.3531, loss: 5.3415\n",
      "2022-11-18 13:41:20,671 - mmdet - INFO - Epoch [4][5200/5462]\tlr: 5.000e-06, eta: 6:34:09, time: 0.342, data_time: 0.010, memory: 18658, loss_cls: 0.5797, loss_bbox: 2.4564, loss_obj: 2.2927, loss: 5.3289\n",
      "2022-11-18 13:41:54,705 - mmdet - INFO - Epoch [4][5300/5462]\tlr: 5.000e-06, eta: 6:33:15, time: 0.341, data_time: 0.009, memory: 18658, loss_cls: 0.5863, loss_bbox: 2.4839, loss_obj: 2.3896, loss: 5.4597\n",
      "2022-11-18 13:42:28,388 - mmdet - INFO - Epoch [4][5400/5462]\tlr: 5.000e-06, eta: 6:32:21, time: 0.337, data_time: 0.009, memory: 18658, loss_cls: 0.5889, loss_bbox: 2.4961, loss_obj: 2.3768, loss: 5.4619\n",
      "2022-11-18 13:42:51,495 - mmdet - INFO - Saving checkpoint at 4 epochs\n"
     ]
    },
    {
     "name": "stdout",
     "output_type": "stream",
     "text": [
      "[>>>>>>>>>>>>>>>>>>>>>>>>] 10000/10000, 27.5 task/s, elapsed: 364s, ETA:     0s"
     ]
    },
    {
     "name": "stderr",
     "output_type": "stream",
     "text": [
      "2022-11-18 13:49:28,387 - mmdet - INFO - Evaluating bbox...\n"
     ]
    },
    {
     "name": "stdout",
     "output_type": "stream",
     "text": [
      "Loading and preparing results...\n",
      "DONE (t=1.65s)\n",
      "creating index...\n",
      "index created!\n",
      "Running per image evaluation...\n",
      "Evaluate annotation type *bbox*\n",
      "DONE (t=99.44s).\n",
      "Accumulating evaluation results...\n"
     ]
    },
    {
     "name": "stderr",
     "output_type": "stream",
     "text": [
      "2022-11-18 13:51:29,498 - mmdet - INFO - \n",
      " Average Precision  (AP) @[ IoU=0.50:0.95 | area=   all | maxDets=100 ] = 0.202\n",
      " Average Precision  (AP) @[ IoU=0.50      | area=   all | maxDets=1000 ] = 0.386\n",
      " Average Precision  (AP) @[ IoU=0.75      | area=   all | maxDets=1000 ] = 0.191\n",
      " Average Precision  (AP) @[ IoU=0.50:0.95 | area= small | maxDets=1000 ] = 0.187\n",
      " Average Precision  (AP) @[ IoU=0.50:0.95 | area=medium | maxDets=1000 ] = 0.388\n",
      " Average Precision  (AP) @[ IoU=0.50:0.95 | area= large | maxDets=1000 ] = 0.388\n",
      " Average Recall     (AR) @[ IoU=0.50:0.95 | area=   all | maxDets=100 ] = 0.374\n",
      " Average Recall     (AR) @[ IoU=0.50:0.95 | area=   all | maxDets=300 ] = 0.387\n",
      " Average Recall     (AR) @[ IoU=0.50:0.95 | area=   all | maxDets=1000 ] = 0.390\n",
      " Average Recall     (AR) @[ IoU=0.50:0.95 | area= small | maxDets=1000 ] = 0.368\n",
      " Average Recall     (AR) @[ IoU=0.50:0.95 | area=medium | maxDets=1000 ] = 0.631\n",
      " Average Recall     (AR) @[ IoU=0.50:0.95 | area= large | maxDets=1000 ] = 0.670\n",
      "\n"
     ]
    },
    {
     "name": "stdout",
     "output_type": "stream",
     "text": [
      "DONE (t=16.08s).\n"
     ]
    },
    {
     "name": "stderr",
     "output_type": "stream",
     "text": [
      "2022-11-18 13:51:30,037 - mmdet - INFO - The previous best checkpoint D:\\Homework\\course_cvdl\\task3\\workdirs\\yolox_l_8x8_300e_coco\\best_bbox_mAP_epoch_3.pth was removed\n",
      "2022-11-18 13:51:37,164 - mmdet - INFO - Now best checkpoint is saved as best_bbox_mAP_epoch_4.pth.\n",
      "2022-11-18 13:51:37,165 - mmdet - INFO - Best bbox_mAP is 0.2020 at 4 epoch.\n",
      "2022-11-18 13:51:37,165 - mmdet - INFO - Epoch(val) [4][10000]\tbbox_mAP: 0.2020, bbox_mAP_50: 0.3860, bbox_mAP_75: 0.1910, bbox_mAP_s: 0.1870, bbox_mAP_m: 0.3880, bbox_mAP_l: 0.3880, bbox_mAP_copypaste: 0.202 0.386 0.191 0.187 0.388 0.388\n",
      "2022-11-18 13:52:15,489 - mmdet - INFO - Epoch [5][100/5462]\tlr: 5.000e-06, eta: 6:30:09, time: 0.382, data_time: 0.035, memory: 18658, loss_cls: 0.5804, loss_bbox: 2.4195, loss_obj: 2.2638, loss: 5.2637\n",
      "2022-11-18 13:52:48,693 - mmdet - INFO - Epoch [5][200/5462]\tlr: 5.000e-06, eta: 6:29:14, time: 0.331, data_time: 0.009, memory: 18658, loss_cls: 0.5892, loss_bbox: 2.5144, loss_obj: 2.3041, loss: 5.4078\n",
      "2022-11-18 13:53:18,847 - mmdet - INFO - Epoch [5][300/5462]\tlr: 5.000e-06, eta: 6:28:11, time: 0.302, data_time: 0.010, memory: 18658, loss_cls: 0.5930, loss_bbox: 2.5574, loss_obj: 2.3980, loss: 5.5485\n",
      "2022-11-18 13:53:56,257 - mmdet - INFO - Epoch [5][400/5462]\tlr: 5.000e-06, eta: 6:27:28, time: 0.373, data_time: 0.009, memory: 18658, loss_cls: 0.5833, loss_bbox: 2.4434, loss_obj: 2.2771, loss: 5.3038\n",
      "2022-11-18 13:54:34,414 - mmdet - INFO - Epoch [5][500/5462]\tlr: 5.000e-06, eta: 6:26:46, time: 0.381, data_time: 0.009, memory: 18658, loss_cls: 0.5851, loss_bbox: 2.4714, loss_obj: 2.3971, loss: 5.4535\n",
      "2022-11-18 13:55:10,412 - mmdet - INFO - Epoch [5][600/5462]\tlr: 5.000e-06, eta: 6:26:00, time: 0.360, data_time: 0.010, memory: 18658, loss_cls: 0.5826, loss_bbox: 2.4524, loss_obj: 2.3162, loss: 5.3512\n",
      "2022-11-18 13:55:48,188 - mmdet - INFO - Epoch [5][700/5462]\tlr: 5.000e-06, eta: 6:25:18, time: 0.377, data_time: 0.009, memory: 18658, loss_cls: 0.5792, loss_bbox: 2.4146, loss_obj: 2.2926, loss: 5.2864\n",
      "2022-11-18 13:56:20,324 - mmdet - INFO - Epoch [5][800/5462]\tlr: 5.000e-06, eta: 6:24:21, time: 0.321, data_time: 0.010, memory: 18658, loss_cls: 0.5870, loss_bbox: 2.4873, loss_obj: 2.3138, loss: 5.3881\n",
      "2022-11-18 13:56:57,479 - mmdet - INFO - Epoch [5][900/5462]\tlr: 5.000e-06, eta: 6:23:38, time: 0.372, data_time: 0.009, memory: 18658, loss_cls: 0.5898, loss_bbox: 2.4938, loss_obj: 2.3801, loss: 5.4637\n",
      "2022-11-18 13:57:31,342 - mmdet - INFO - Epoch [5][1000/5462]\tlr: 5.000e-06, eta: 6:22:46, time: 0.338, data_time: 0.010, memory: 18658, loss_cls: 0.5825, loss_bbox: 2.4450, loss_obj: 2.2918, loss: 5.3193\n",
      "2022-11-18 13:58:04,572 - mmdet - INFO - Epoch [5][1100/5462]\tlr: 5.000e-06, eta: 6:21:52, time: 0.333, data_time: 0.010, memory: 18658, loss_cls: 0.5883, loss_bbox: 2.4966, loss_obj: 2.3600, loss: 5.4449\n",
      "2022-11-18 13:58:37,063 - mmdet - INFO - Epoch [5][1200/5462]\tlr: 5.000e-06, eta: 6:20:57, time: 0.325, data_time: 0.009, memory: 18658, loss_cls: 0.5884, loss_bbox: 2.5106, loss_obj: 2.2958, loss: 5.3949\n",
      "2022-11-18 13:59:09,644 - mmdet - INFO - Epoch [5][1300/5462]\tlr: 5.000e-06, eta: 6:20:03, time: 0.326, data_time: 0.009, memory: 18658, loss_cls: 0.5877, loss_bbox: 2.4899, loss_obj: 2.2925, loss: 5.3700\n",
      "2022-11-18 13:59:47,928 - mmdet - INFO - Epoch [5][1400/5462]\tlr: 5.000e-06, eta: 6:19:23, time: 0.383, data_time: 0.008, memory: 18658, loss_cls: 0.5810, loss_bbox: 2.4094, loss_obj: 2.3212, loss: 5.3116\n",
      "2022-11-18 14:00:20,006 - mmdet - INFO - Epoch [5][1500/5462]\tlr: 5.000e-06, eta: 6:18:27, time: 0.320, data_time: 0.009, memory: 18658, loss_cls: 0.5826, loss_bbox: 2.4590, loss_obj: 2.2625, loss: 5.3041\n",
      "2022-11-18 14:00:54,211 - mmdet - INFO - Epoch [5][1600/5462]\tlr: 5.000e-06, eta: 6:17:37, time: 0.342, data_time: 0.009, memory: 18658, loss_cls: 0.5860, loss_bbox: 2.4804, loss_obj: 2.2996, loss: 5.3660\n",
      "2022-11-18 14:01:31,267 - mmdet - INFO - Epoch [5][1700/5462]\tlr: 5.000e-06, eta: 6:16:54, time: 0.371, data_time: 0.018, memory: 18658, loss_cls: 0.5789, loss_bbox: 2.4161, loss_obj: 2.2980, loss: 5.2931\n",
      "2022-11-18 14:02:07,426 - mmdet - INFO - Epoch [5][1800/5462]\tlr: 5.000e-06, eta: 6:16:09, time: 0.361, data_time: 0.017, memory: 18658, loss_cls: 0.5866, loss_bbox: 2.5131, loss_obj: 2.3177, loss: 5.4174\n",
      "2022-11-18 14:02:43,064 - mmdet - INFO - Epoch [5][1900/5462]\tlr: 5.000e-06, eta: 6:15:23, time: 0.358, data_time: 0.010, memory: 18658, loss_cls: 0.5841, loss_bbox: 2.4585, loss_obj: 2.2957, loss: 5.3383\n",
      "2022-11-18 14:03:16,190 - mmdet - INFO - Epoch [5][2000/5462]\tlr: 5.000e-06, eta: 6:14:30, time: 0.331, data_time: 0.009, memory: 18658, loss_cls: 0.5869, loss_bbox: 2.5253, loss_obj: 2.3435, loss: 5.4558\n",
      "2022-11-18 14:03:49,048 - mmdet - INFO - Epoch [5][2100/5462]\tlr: 5.000e-06, eta: 6:13:37, time: 0.328, data_time: 0.009, memory: 18658, loss_cls: 0.5835, loss_bbox: 2.4816, loss_obj: 2.3557, loss: 5.4207\n",
      "2022-11-18 14:04:23,984 - mmdet - INFO - Epoch [5][2200/5462]\tlr: 5.000e-06, eta: 6:12:50, time: 0.349, data_time: 0.009, memory: 18658, loss_cls: 0.5787, loss_bbox: 2.4323, loss_obj: 2.2906, loss: 5.3017\n",
      "2022-11-18 14:04:58,990 - mmdet - INFO - Epoch [5][2300/5462]\tlr: 5.000e-06, eta: 6:12:02, time: 0.351, data_time: 0.010, memory: 18658, loss_cls: 0.5819, loss_bbox: 2.4612, loss_obj: 2.2491, loss: 5.2921\n",
      "2022-11-18 14:05:34,605 - mmdet - INFO - Epoch [5][2400/5462]\tlr: 5.000e-06, eta: 6:11:17, time: 0.356, data_time: 0.009, memory: 18658, loss_cls: 0.5803, loss_bbox: 2.4590, loss_obj: 2.3011, loss: 5.3404\n",
      "2022-11-18 14:06:12,412 - mmdet - INFO - Epoch [5][2500/5462]\tlr: 5.000e-06, eta: 6:10:36, time: 0.377, data_time: 0.008, memory: 18658, loss_cls: 0.5809, loss_bbox: 2.4301, loss_obj: 2.3287, loss: 5.3397\n",
      "2022-11-18 14:06:45,469 - mmdet - INFO - Epoch [5][2600/5462]\tlr: 5.000e-06, eta: 6:09:44, time: 0.332, data_time: 0.018, memory: 18658, loss_cls: 0.5783, loss_bbox: 2.4513, loss_obj: 2.2394, loss: 5.2689\n",
      "2022-11-18 14:07:24,895 - mmdet - INFO - Epoch [5][2700/5462]\tlr: 5.000e-06, eta: 6:09:07, time: 0.393, data_time: 0.008, memory: 18658, loss_cls: 0.5746, loss_bbox: 2.3844, loss_obj: 2.2639, loss: 5.2228\n",
      "2022-11-18 14:08:01,061 - mmdet - INFO - Epoch [5][2800/5462]\tlr: 5.000e-06, eta: 6:08:24, time: 0.363, data_time: 0.009, memory: 18658, loss_cls: 0.5850, loss_bbox: 2.5020, loss_obj: 2.3384, loss: 5.4255\n",
      "2022-11-18 14:08:35,398 - mmdet - INFO - Epoch [5][2900/5462]\tlr: 5.000e-06, eta: 6:07:35, time: 0.343, data_time: 0.008, memory: 18658, loss_cls: 0.5812, loss_bbox: 2.4578, loss_obj: 2.2983, loss: 5.3374\n",
      "2022-11-18 14:09:12,067 - mmdet - INFO - Epoch [5][3000/5462]\tlr: 5.000e-06, eta: 6:06:52, time: 0.366, data_time: 0.008, memory: 18658, loss_cls: 0.5824, loss_bbox: 2.4928, loss_obj: 2.3718, loss: 5.4470\n",
      "2022-11-18 14:09:48,249 - mmdet - INFO - Epoch [5][3100/5462]\tlr: 5.000e-06, eta: 6:06:08, time: 0.362, data_time: 0.010, memory: 18658, loss_cls: 0.5807, loss_bbox: 2.4516, loss_obj: 2.3919, loss: 5.4242\n",
      "2022-11-18 14:10:24,714 - mmdet - INFO - Epoch [5][3200/5462]\tlr: 5.000e-06, eta: 6:05:25, time: 0.365, data_time: 0.009, memory: 18658, loss_cls: 0.5791, loss_bbox: 2.4204, loss_obj: 2.2713, loss: 5.2708\n",
      "2022-11-18 14:10:55,301 - mmdet - INFO - Epoch [5][3300/5462]\tlr: 5.000e-06, eta: 6:04:28, time: 0.307, data_time: 0.009, memory: 18658, loss_cls: 0.5893, loss_bbox: 2.5455, loss_obj: 2.2972, loss: 5.4321\n",
      "2022-11-18 14:11:27,463 - mmdet - INFO - Epoch [5][3400/5462]\tlr: 5.000e-06, eta: 6:03:35, time: 0.321, data_time: 0.009, memory: 18658, loss_cls: 0.5805, loss_bbox: 2.4412, loss_obj: 2.2496, loss: 5.2713\n",
      "2022-11-18 14:11:56,613 - mmdet - INFO - Epoch [5][3500/5462]\tlr: 5.000e-06, eta: 6:02:36, time: 0.292, data_time: 0.009, memory: 18658, loss_cls: 0.5863, loss_bbox: 2.5172, loss_obj: 2.2553, loss: 5.3587\n",
      "2022-11-18 14:12:31,153 - mmdet - INFO - Epoch [5][3600/5462]\tlr: 5.000e-06, eta: 6:01:49, time: 0.345, data_time: 0.008, memory: 18658, loss_cls: 0.5864, loss_bbox: 2.5052, loss_obj: 2.2729, loss: 5.3645\n",
      "2022-11-18 14:13:01,022 - mmdet - INFO - Epoch [5][3700/5462]\tlr: 5.000e-06, eta: 6:00:52, time: 0.298, data_time: 0.008, memory: 18658, loss_cls: 0.5888, loss_bbox: 2.5493, loss_obj: 2.3451, loss: 5.4832\n",
      "2022-11-18 14:13:33,256 - mmdet - INFO - Epoch [5][3800/5462]\tlr: 5.000e-06, eta: 6:00:00, time: 0.323, data_time: 0.010, memory: 18658, loss_cls: 0.5854, loss_bbox: 2.4931, loss_obj: 2.2486, loss: 5.3271\n",
      "2022-11-18 14:14:08,190 - mmdet - INFO - Epoch [5][3900/5462]\tlr: 5.000e-06, eta: 5:59:14, time: 0.349, data_time: 0.008, memory: 18658, loss_cls: 0.5868, loss_bbox: 2.4986, loss_obj: 2.3014, loss: 5.3869\n",
      "2022-11-18 14:14:45,105 - mmdet - INFO - Epoch [5][4000/5462]\tlr: 5.000e-06, eta: 5:58:32, time: 0.369, data_time: 0.008, memory: 18658, loss_cls: 0.5808, loss_bbox: 2.4504, loss_obj: 2.3634, loss: 5.3946\n",
      "2022-11-18 14:15:17,924 - mmdet - INFO - Epoch [5][4100/5462]\tlr: 5.000e-06, eta: 5:57:42, time: 0.329, data_time: 0.009, memory: 18658, loss_cls: 0.5873, loss_bbox: 2.5046, loss_obj: 2.3344, loss: 5.4263\n",
      "2022-11-18 14:15:53,950 - mmdet - INFO - Epoch [5][4200/5462]\tlr: 5.000e-06, eta: 5:56:59, time: 0.359, data_time: 0.008, memory: 18658, loss_cls: 0.5813, loss_bbox: 2.4469, loss_obj: 2.3183, loss: 5.3464\n",
      "2022-11-18 14:16:28,993 - mmdet - INFO - Epoch [5][4300/5462]\tlr: 5.000e-06, eta: 5:56:13, time: 0.351, data_time: 0.009, memory: 18658, loss_cls: 0.5880, loss_bbox: 2.4962, loss_obj: 2.4056, loss: 5.4899\n",
      "2022-11-18 14:17:03,719 - mmdet - INFO - Epoch [5][4400/5462]\tlr: 5.000e-06, eta: 5:55:28, time: 0.348, data_time: 0.009, memory: 18658, loss_cls: 0.5841, loss_bbox: 2.4733, loss_obj: 2.3168, loss: 5.3742\n",
      "2022-11-18 14:17:37,957 - mmdet - INFO - Epoch [5][4500/5462]\tlr: 5.000e-06, eta: 5:54:40, time: 0.341, data_time: 0.008, memory: 18658, loss_cls: 0.5846, loss_bbox: 2.4922, loss_obj: 2.3841, loss: 5.4609\n",
      "2022-11-18 14:18:11,956 - mmdet - INFO - Epoch [5][4600/5462]\tlr: 5.000e-06, eta: 5:53:53, time: 0.340, data_time: 0.010, memory: 18658, loss_cls: 0.5777, loss_bbox: 2.4280, loss_obj: 2.2193, loss: 5.2250\n",
      "2022-11-18 14:18:45,890 - mmdet - INFO - Epoch [5][4700/5462]\tlr: 5.000e-06, eta: 5:53:06, time: 0.339, data_time: 0.011, memory: 18658, loss_cls: 0.5846, loss_bbox: 2.4930, loss_obj: 2.2926, loss: 5.3703\n",
      "2022-11-18 14:19:20,097 - mmdet - INFO - Epoch [5][4800/5462]\tlr: 5.000e-06, eta: 5:52:19, time: 0.342, data_time: 0.009, memory: 18658, loss_cls: 0.5783, loss_bbox: 2.4428, loss_obj: 2.2669, loss: 5.2881\n",
      "2022-11-18 14:19:55,770 - mmdet - INFO - Epoch [5][4900/5462]\tlr: 5.000e-06, eta: 5:51:36, time: 0.358, data_time: 0.009, memory: 18658, loss_cls: 0.5790, loss_bbox: 2.4212, loss_obj: 2.2105, loss: 5.2108\n",
      "2022-11-18 14:20:32,174 - mmdet - INFO - Epoch [5][5000/5462]\tlr: 5.000e-06, eta: 5:50:54, time: 0.364, data_time: 0.008, memory: 18658, loss_cls: 0.5774, loss_bbox: 2.4051, loss_obj: 2.1923, loss: 5.1748\n",
      "2022-11-18 14:21:05,041 - mmdet - INFO - Epoch [5][5100/5462]\tlr: 5.000e-06, eta: 5:50:05, time: 0.329, data_time: 0.009, memory: 18658, loss_cls: 0.5853, loss_bbox: 2.4907, loss_obj: 2.2723, loss: 5.3483\n",
      "2022-11-18 14:21:39,409 - mmdet - INFO - Epoch [5][5200/5462]\tlr: 5.000e-06, eta: 5:49:19, time: 0.344, data_time: 0.009, memory: 18658, loss_cls: 0.5827, loss_bbox: 2.4478, loss_obj: 2.2651, loss: 5.2956\n",
      "2022-11-18 14:22:15,836 - mmdet - INFO - Epoch [5][5300/5462]\tlr: 5.000e-06, eta: 5:48:37, time: 0.364, data_time: 0.008, memory: 18658, loss_cls: 0.5809, loss_bbox: 2.4394, loss_obj: 2.2828, loss: 5.3030\n",
      "2022-11-18 14:22:54,737 - mmdet - INFO - Epoch [5][5400/5462]\tlr: 5.000e-06, eta: 5:48:00, time: 0.388, data_time: 0.008, memory: 18658, loss_cls: 0.5751, loss_bbox: 2.3972, loss_obj: 2.2394, loss: 5.2116\n",
      "2022-11-18 14:23:16,981 - mmdet - INFO - Saving checkpoint at 5 epochs\n"
     ]
    },
    {
     "name": "stdout",
     "output_type": "stream",
     "text": [
      "[>>>>>>>>>>>>>>>>>>>>>>>>] 10000/10000, 27.6 task/s, elapsed: 362s, ETA:     0s"
     ]
    },
    {
     "name": "stderr",
     "output_type": "stream",
     "text": [
      "2022-11-18 14:29:50,639 - mmdet - INFO - Evaluating bbox...\n"
     ]
    },
    {
     "name": "stdout",
     "output_type": "stream",
     "text": [
      "Loading and preparing results...\n",
      "DONE (t=1.61s)\n",
      "creating index...\n",
      "index created!\n",
      "Running per image evaluation...\n",
      "Evaluate annotation type *bbox*\n",
      "DONE (t=97.09s).\n",
      "Accumulating evaluation results...\n"
     ]
    },
    {
     "name": "stderr",
     "output_type": "stream",
     "text": [
      "2022-11-18 14:31:49,032 - mmdet - INFO - \n",
      " Average Precision  (AP) @[ IoU=0.50:0.95 | area=   all | maxDets=100 ] = 0.207\n",
      " Average Precision  (AP) @[ IoU=0.50      | area=   all | maxDets=1000 ] = 0.393\n",
      " Average Precision  (AP) @[ IoU=0.75      | area=   all | maxDets=1000 ] = 0.196\n",
      " Average Precision  (AP) @[ IoU=0.50:0.95 | area= small | maxDets=1000 ] = 0.191\n",
      " Average Precision  (AP) @[ IoU=0.50:0.95 | area=medium | maxDets=1000 ] = 0.395\n",
      " Average Precision  (AP) @[ IoU=0.50:0.95 | area= large | maxDets=1000 ] = 0.397\n",
      " Average Recall     (AR) @[ IoU=0.50:0.95 | area=   all | maxDets=100 ] = 0.378\n",
      " Average Recall     (AR) @[ IoU=0.50:0.95 | area=   all | maxDets=300 ] = 0.392\n",
      " Average Recall     (AR) @[ IoU=0.50:0.95 | area=   all | maxDets=1000 ] = 0.394\n",
      " Average Recall     (AR) @[ IoU=0.50:0.95 | area= small | maxDets=1000 ] = 0.372\n",
      " Average Recall     (AR) @[ IoU=0.50:0.95 | area=medium | maxDets=1000 ] = 0.636\n",
      " Average Recall     (AR) @[ IoU=0.50:0.95 | area= large | maxDets=1000 ] = 0.673\n",
      "\n"
     ]
    },
    {
     "name": "stdout",
     "output_type": "stream",
     "text": [
      "DONE (t=15.68s).\n"
     ]
    },
    {
     "name": "stderr",
     "output_type": "stream",
     "text": [
      "2022-11-18 14:31:49,603 - mmdet - INFO - The previous best checkpoint D:\\Homework\\course_cvdl\\task3\\workdirs\\yolox_l_8x8_300e_coco\\best_bbox_mAP_epoch_4.pth was removed\n",
      "2022-11-18 14:31:56,755 - mmdet - INFO - Now best checkpoint is saved as best_bbox_mAP_epoch_5.pth.\n",
      "2022-11-18 14:31:56,756 - mmdet - INFO - Best bbox_mAP is 0.2070 at 5 epoch.\n",
      "2022-11-18 14:31:56,757 - mmdet - INFO - Epoch(val) [5][10000]\tbbox_mAP: 0.2070, bbox_mAP_50: 0.3930, bbox_mAP_75: 0.1960, bbox_mAP_s: 0.1910, bbox_mAP_m: 0.3950, bbox_mAP_l: 0.3970, bbox_mAP_copypaste: 0.207 0.393 0.196 0.191 0.395 0.397\n",
      "2022-11-18 14:32:31,855 - mmdet - INFO - Epoch [6][100/5462]\tlr: 5.000e-06, eta: 5:46:05, time: 0.350, data_time: 0.035, memory: 18658, loss_cls: 0.5858, loss_bbox: 2.4946, loss_obj: 2.2828, loss: 5.3632\n",
      "2022-11-18 14:33:07,078 - mmdet - INFO - Epoch [6][200/5462]\tlr: 5.000e-06, eta: 5:45:21, time: 0.351, data_time: 0.009, memory: 18658, loss_cls: 0.5750, loss_bbox: 2.4154, loss_obj: 2.2243, loss: 5.2147\n",
      "2022-11-18 14:33:40,775 - mmdet - INFO - Epoch [6][300/5462]\tlr: 5.000e-06, eta: 5:44:34, time: 0.338, data_time: 0.010, memory: 18658, loss_cls: 0.5839, loss_bbox: 2.4943, loss_obj: 2.3112, loss: 5.3895\n",
      "2022-11-18 14:34:16,761 - mmdet - INFO - Epoch [6][400/5462]\tlr: 5.000e-06, eta: 5:43:52, time: 0.359, data_time: 0.009, memory: 18658, loss_cls: 0.5828, loss_bbox: 2.4572, loss_obj: 2.2749, loss: 5.3148\n",
      "2022-11-18 14:34:52,681 - mmdet - INFO - Epoch [6][500/5462]\tlr: 5.000e-06, eta: 5:43:10, time: 0.360, data_time: 0.009, memory: 18658, loss_cls: 0.5794, loss_bbox: 2.4360, loss_obj: 2.2824, loss: 5.2978\n",
      "2022-11-18 14:35:28,184 - mmdet - INFO - Epoch [6][600/5462]\tlr: 5.000e-06, eta: 5:42:27, time: 0.354, data_time: 0.009, memory: 18658, loss_cls: 0.5801, loss_bbox: 2.4539, loss_obj: 2.2959, loss: 5.3299\n",
      "2022-11-18 14:36:04,347 - mmdet - INFO - Epoch [6][700/5462]\tlr: 5.000e-06, eta: 5:41:45, time: 0.362, data_time: 0.010, memory: 18658, loss_cls: 0.5780, loss_bbox: 2.4257, loss_obj: 2.2468, loss: 5.2505\n",
      "2022-11-18 14:36:36,982 - mmdet - INFO - Epoch [6][800/5462]\tlr: 5.000e-06, eta: 5:40:57, time: 0.326, data_time: 0.009, memory: 18658, loss_cls: 0.5867, loss_bbox: 2.4916, loss_obj: 2.2920, loss: 5.3703\n",
      "2022-11-18 14:37:07,438 - mmdet - INFO - Epoch [6][900/5462]\tlr: 5.000e-06, eta: 5:40:05, time: 0.305, data_time: 0.009, memory: 18658, loss_cls: 0.5826, loss_bbox: 2.4575, loss_obj: 2.2224, loss: 5.2625\n",
      "2022-11-18 14:37:44,447 - mmdet - INFO - Epoch [6][1000/5462]\tlr: 5.000e-06, eta: 5:39:24, time: 0.368, data_time: 0.008, memory: 18658, loss_cls: 0.5810, loss_bbox: 2.4390, loss_obj: 2.2985, loss: 5.3186\n",
      "2022-11-18 14:38:21,474 - mmdet - INFO - Epoch [6][1100/5462]\tlr: 5.000e-06, eta: 5:38:45, time: 0.371, data_time: 0.023, memory: 18658, loss_cls: 0.5765, loss_bbox: 2.4036, loss_obj: 2.2334, loss: 5.2134\n",
      "2022-11-18 14:38:55,172 - mmdet - INFO - Epoch [6][1200/5462]\tlr: 5.000e-06, eta: 5:37:59, time: 0.338, data_time: 0.009, memory: 18658, loss_cls: 0.5755, loss_bbox: 2.4125, loss_obj: 2.2708, loss: 5.2588\n",
      "2022-11-18 14:39:30,039 - mmdet - INFO - Epoch [6][1300/5462]\tlr: 5.000e-06, eta: 5:37:15, time: 0.348, data_time: 0.009, memory: 18658, loss_cls: 0.5830, loss_bbox: 2.5027, loss_obj: 2.3894, loss: 5.4751\n",
      "2022-11-18 14:40:06,085 - mmdet - INFO - Epoch [6][1400/5462]\tlr: 5.000e-06, eta: 5:36:34, time: 0.361, data_time: 0.009, memory: 18658, loss_cls: 0.5768, loss_bbox: 2.4229, loss_obj: 2.2158, loss: 5.2156\n",
      "2022-11-18 14:40:37,425 - mmdet - INFO - Epoch [6][1500/5462]\tlr: 5.000e-06, eta: 5:35:44, time: 0.313, data_time: 0.008, memory: 18658, loss_cls: 0.5849, loss_bbox: 2.4768, loss_obj: 2.1847, loss: 5.2464\n",
      "2022-11-18 14:41:09,186 - mmdet - INFO - Epoch [6][1600/5462]\tlr: 5.000e-06, eta: 5:34:54, time: 0.317, data_time: 0.009, memory: 18658, loss_cls: 0.5834, loss_bbox: 2.4684, loss_obj: 2.2337, loss: 5.2855\n",
      "2022-11-18 14:41:44,897 - mmdet - INFO - Epoch [6][1700/5462]\tlr: 5.000e-06, eta: 5:34:12, time: 0.357, data_time: 0.009, memory: 18658, loss_cls: 0.5809, loss_bbox: 2.4832, loss_obj: 2.4063, loss: 5.4704\n",
      "2022-11-18 14:42:19,024 - mmdet - INFO - Epoch [6][1800/5462]\tlr: 5.000e-06, eta: 5:33:28, time: 0.341, data_time: 0.010, memory: 18658, loss_cls: 0.5850, loss_bbox: 2.4889, loss_obj: 2.3138, loss: 5.3878\n",
      "2022-11-18 14:42:52,629 - mmdet - INFO - Epoch [6][1900/5462]\tlr: 5.000e-06, eta: 5:32:42, time: 0.337, data_time: 0.010, memory: 18658, loss_cls: 0.5760, loss_bbox: 2.4079, loss_obj: 2.2562, loss: 5.2401\n",
      "2022-11-18 14:43:28,639 - mmdet - INFO - Epoch [6][2000/5462]\tlr: 5.000e-06, eta: 5:32:01, time: 0.361, data_time: 0.009, memory: 18658, loss_cls: 0.5776, loss_bbox: 2.4084, loss_obj: 2.2790, loss: 5.2650\n",
      "2022-11-18 14:44:01,455 - mmdet - INFO - Epoch [6][2100/5462]\tlr: 5.000e-06, eta: 5:31:14, time: 0.328, data_time: 0.009, memory: 18658, loss_cls: 0.5832, loss_bbox: 2.4718, loss_obj: 2.2889, loss: 5.3438\n",
      "2022-11-18 14:44:34,596 - mmdet - INFO - Epoch [6][2200/5462]\tlr: 5.000e-06, eta: 5:30:28, time: 0.331, data_time: 0.008, memory: 18658, loss_cls: 0.5809, loss_bbox: 2.4403, loss_obj: 2.2500, loss: 5.2712\n",
      "2022-11-18 14:45:13,572 - mmdet - INFO - Epoch [6][2300/5462]\tlr: 5.000e-06, eta: 5:29:52, time: 0.389, data_time: 0.008, memory: 18658, loss_cls: 0.5782, loss_bbox: 2.4154, loss_obj: 2.3493, loss: 5.3429\n",
      "2022-11-18 14:45:50,396 - mmdet - INFO - Epoch [6][2400/5462]\tlr: 5.000e-06, eta: 5:29:12, time: 0.369, data_time: 0.009, memory: 18658, loss_cls: 0.5727, loss_bbox: 2.3461, loss_obj: 2.1955, loss: 5.1143\n",
      "2022-11-18 14:46:26,815 - mmdet - INFO - Epoch [6][2500/5462]\tlr: 5.000e-06, eta: 5:28:32, time: 0.364, data_time: 0.009, memory: 18658, loss_cls: 0.5784, loss_bbox: 2.4248, loss_obj: 2.2518, loss: 5.2550\n",
      "2022-11-18 14:46:57,521 - mmdet - INFO - Epoch [6][2600/5462]\tlr: 5.000e-06, eta: 5:27:42, time: 0.306, data_time: 0.009, memory: 18658, loss_cls: 0.5881, loss_bbox: 2.5064, loss_obj: 2.2813, loss: 5.3758\n",
      "2022-11-18 14:47:36,211 - mmdet - INFO - Epoch [6][2700/5462]\tlr: 5.000e-06, eta: 5:27:06, time: 0.387, data_time: 0.009, memory: 18658, loss_cls: 0.5793, loss_bbox: 2.4009, loss_obj: 2.2773, loss: 5.2575\n",
      "2022-11-18 14:48:13,730 - mmdet - INFO - Epoch [6][2800/5462]\tlr: 5.000e-06, eta: 5:26:27, time: 0.375, data_time: 0.009, memory: 18658, loss_cls: 0.5755, loss_bbox: 2.4016, loss_obj: 2.4201, loss: 5.3972\n",
      "2022-11-18 14:48:49,230 - mmdet - INFO - Epoch [6][2900/5462]\tlr: 5.000e-06, eta: 5:25:46, time: 0.356, data_time: 0.009, memory: 18658, loss_cls: 0.5795, loss_bbox: 2.4484, loss_obj: 2.2845, loss: 5.3124\n",
      "2022-11-18 14:49:24,931 - mmdet - INFO - Epoch [6][3000/5462]\tlr: 5.000e-06, eta: 5:25:04, time: 0.356, data_time: 0.009, memory: 18658, loss_cls: 0.5806, loss_bbox: 2.4608, loss_obj: 2.2644, loss: 5.3058\n",
      "2022-11-18 14:49:55,217 - mmdet - INFO - Epoch [6][3100/5462]\tlr: 5.000e-06, eta: 5:24:14, time: 0.303, data_time: 0.009, memory: 18658, loss_cls: 0.5827, loss_bbox: 2.4758, loss_obj: 2.2945, loss: 5.3530\n",
      "2022-11-18 14:50:26,912 - mmdet - INFO - Epoch [6][3200/5462]\tlr: 5.000e-06, eta: 5:23:26, time: 0.317, data_time: 0.009, memory: 18658, loss_cls: 0.5858, loss_bbox: 2.4538, loss_obj: 2.2485, loss: 5.2881\n",
      "2022-11-18 14:51:02,731 - mmdet - INFO - Epoch [6][3300/5462]\tlr: 5.000e-06, eta: 5:22:45, time: 0.358, data_time: 0.009, memory: 18658, loss_cls: 0.5804, loss_bbox: 2.4265, loss_obj: 2.2897, loss: 5.2966\n",
      "2022-11-18 14:51:34,145 - mmdet - INFO - Epoch [6][3400/5462]\tlr: 5.000e-06, eta: 5:21:57, time: 0.314, data_time: 0.009, memory: 18658, loss_cls: 0.5878, loss_bbox: 2.4925, loss_obj: 2.2636, loss: 5.3440\n",
      "2022-11-18 14:52:07,925 - mmdet - INFO - Epoch [6][3500/5462]\tlr: 5.000e-06, eta: 5:21:12, time: 0.339, data_time: 0.009, memory: 18658, loss_cls: 0.5807, loss_bbox: 2.4469, loss_obj: 2.2651, loss: 5.2928\n",
      "2022-11-18 14:52:42,034 - mmdet - INFO - Epoch [6][3600/5462]\tlr: 5.000e-06, eta: 5:20:29, time: 0.341, data_time: 0.009, memory: 18658, loss_cls: 0.5831, loss_bbox: 2.4749, loss_obj: 2.3254, loss: 5.3834\n",
      "2022-11-18 14:53:19,348 - mmdet - INFO - Epoch [6][3700/5462]\tlr: 5.000e-06, eta: 5:19:50, time: 0.372, data_time: 0.008, memory: 18658, loss_cls: 0.5778, loss_bbox: 2.3922, loss_obj: 2.3109, loss: 5.2809\n",
      "2022-11-18 14:53:53,183 - mmdet - INFO - Epoch [6][3800/5462]\tlr: 5.000e-06, eta: 5:19:06, time: 0.338, data_time: 0.009, memory: 18658, loss_cls: 0.5803, loss_bbox: 2.4577, loss_obj: 2.2290, loss: 5.2670\n",
      "2022-11-18 14:54:26,304 - mmdet - INFO - Epoch [6][3900/5462]\tlr: 5.000e-06, eta: 5:18:21, time: 0.331, data_time: 0.009, memory: 18658, loss_cls: 0.5777, loss_bbox: 2.4296, loss_obj: 2.2139, loss: 5.2212\n",
      "2022-11-18 14:55:03,645 - mmdet - INFO - Epoch [6][4000/5462]\tlr: 5.000e-06, eta: 5:17:43, time: 0.374, data_time: 0.009, memory: 18658, loss_cls: 0.5739, loss_bbox: 2.3855, loss_obj: 2.3287, loss: 5.2881\n",
      "2022-11-18 14:55:40,947 - mmdet - INFO - Epoch [6][4100/5462]\tlr: 5.000e-06, eta: 5:17:05, time: 0.373, data_time: 0.009, memory: 18658, loss_cls: 0.5784, loss_bbox: 2.4197, loss_obj: 2.2808, loss: 5.2789\n",
      "2022-11-18 14:56:12,910 - mmdet - INFO - Epoch [6][4200/5462]\tlr: 5.000e-06, eta: 5:16:18, time: 0.320, data_time: 0.009, memory: 18658, loss_cls: 0.5815, loss_bbox: 2.4947, loss_obj: 2.2301, loss: 5.3063\n",
      "2022-11-18 14:56:49,428 - mmdet - INFO - Epoch [6][4300/5462]\tlr: 5.000e-06, eta: 5:15:39, time: 0.364, data_time: 0.008, memory: 18658, loss_cls: 0.5812, loss_bbox: 2.4489, loss_obj: 2.2930, loss: 5.3230\n",
      "2022-11-18 14:57:26,884 - mmdet - INFO - Epoch [6][4400/5462]\tlr: 5.000e-06, eta: 5:15:01, time: 0.375, data_time: 0.009, memory: 18658, loss_cls: 0.5734, loss_bbox: 2.3964, loss_obj: 2.2232, loss: 5.1930\n",
      "2022-11-18 14:57:59,491 - mmdet - INFO - Epoch [6][4500/5462]\tlr: 5.000e-06, eta: 5:14:15, time: 0.326, data_time: 0.009, memory: 18658, loss_cls: 0.5805, loss_bbox: 2.4362, loss_obj: 2.2014, loss: 5.2181\n",
      "2022-11-18 14:58:32,644 - mmdet - INFO - Epoch [6][4600/5462]\tlr: 5.000e-06, eta: 5:13:31, time: 0.331, data_time: 0.008, memory: 18658, loss_cls: 0.5798, loss_bbox: 2.4355, loss_obj: 2.2711, loss: 5.2864\n",
      "2022-11-18 14:59:09,157 - mmdet - INFO - Epoch [6][4700/5462]\tlr: 5.000e-06, eta: 5:12:51, time: 0.365, data_time: 0.009, memory: 18658, loss_cls: 0.5775, loss_bbox: 2.4304, loss_obj: 2.2365, loss: 5.2443\n",
      "2022-11-18 14:59:42,797 - mmdet - INFO - Epoch [6][4800/5462]\tlr: 5.000e-06, eta: 5:12:07, time: 0.336, data_time: 0.010, memory: 18658, loss_cls: 0.5820, loss_bbox: 2.4602, loss_obj: 2.2328, loss: 5.2751\n",
      "2022-11-18 15:00:21,922 - mmdet - INFO - Epoch [6][4900/5462]\tlr: 5.000e-06, eta: 5:11:32, time: 0.392, data_time: 0.009, memory: 18658, loss_cls: 0.5785, loss_bbox: 2.4006, loss_obj: 2.1857, loss: 5.1649\n",
      "2022-11-18 15:00:56,646 - mmdet - INFO - Epoch [6][5000/5462]\tlr: 5.000e-06, eta: 5:10:50, time: 0.348, data_time: 0.009, memory: 18658, loss_cls: 0.5772, loss_bbox: 2.4567, loss_obj: 2.2701, loss: 5.3040\n",
      "2022-11-18 15:01:32,179 - mmdet - INFO - Epoch [6][5100/5462]\tlr: 5.000e-06, eta: 5:10:10, time: 0.355, data_time: 0.009, memory: 18658, loss_cls: 0.5787, loss_bbox: 2.4252, loss_obj: 2.2767, loss: 5.2806\n",
      "2022-11-18 15:02:08,666 - mmdet - INFO - Epoch [6][5200/5462]\tlr: 5.000e-06, eta: 5:09:30, time: 0.364, data_time: 0.009, memory: 18658, loss_cls: 0.5791, loss_bbox: 2.4365, loss_obj: 2.2383, loss: 5.2539\n",
      "2022-11-18 15:02:46,610 - mmdet - INFO - Epoch [6][5300/5462]\tlr: 5.000e-06, eta: 5:08:53, time: 0.380, data_time: 0.009, memory: 18658, loss_cls: 0.5786, loss_bbox: 2.3968, loss_obj: 2.2665, loss: 5.2419\n",
      "2022-11-18 15:03:23,539 - mmdet - INFO - Epoch [6][5400/5462]\tlr: 5.000e-06, eta: 5:08:15, time: 0.369, data_time: 0.009, memory: 18658, loss_cls: 0.5740, loss_bbox: 2.3913, loss_obj: 2.2197, loss: 5.1850\n",
      "2022-11-18 15:03:43,865 - mmdet - INFO - Saving checkpoint at 6 epochs\n"
     ]
    },
    {
     "name": "stdout",
     "output_type": "stream",
     "text": [
      "[>>>>>>>>>>>>>>>>>>>>>>>>] 10000/10000, 27.8 task/s, elapsed: 360s, ETA:     0s"
     ]
    },
    {
     "name": "stderr",
     "output_type": "stream",
     "text": [
      "2022-11-18 15:10:14,280 - mmdet - INFO - Evaluating bbox...\n"
     ]
    },
    {
     "name": "stdout",
     "output_type": "stream",
     "text": [
      "Loading and preparing results...\n",
      "DONE (t=1.52s)\n",
      "creating index...\n",
      "index created!\n",
      "Running per image evaluation...\n",
      "Evaluate annotation type *bbox*\n",
      "DONE (t=93.71s).\n",
      "Accumulating evaluation results...\n"
     ]
    },
    {
     "name": "stderr",
     "output_type": "stream",
     "text": [
      "2022-11-18 15:12:08,418 - mmdet - INFO - \n",
      " Average Precision  (AP) @[ IoU=0.50:0.95 | area=   all | maxDets=100 ] = 0.212\n",
      " Average Precision  (AP) @[ IoU=0.50      | area=   all | maxDets=1000 ] = 0.401\n",
      " Average Precision  (AP) @[ IoU=0.75      | area=   all | maxDets=1000 ] = 0.202\n",
      " Average Precision  (AP) @[ IoU=0.50:0.95 | area= small | maxDets=1000 ] = 0.196\n",
      " Average Precision  (AP) @[ IoU=0.50:0.95 | area=medium | maxDets=1000 ] = 0.404\n",
      " Average Precision  (AP) @[ IoU=0.50:0.95 | area= large | maxDets=1000 ] = 0.412\n",
      " Average Recall     (AR) @[ IoU=0.50:0.95 | area=   all | maxDets=100 ] = 0.383\n",
      " Average Recall     (AR) @[ IoU=0.50:0.95 | area=   all | maxDets=300 ] = 0.396\n",
      " Average Recall     (AR) @[ IoU=0.50:0.95 | area=   all | maxDets=1000 ] = 0.399\n",
      " Average Recall     (AR) @[ IoU=0.50:0.95 | area= small | maxDets=1000 ] = 0.376\n",
      " Average Recall     (AR) @[ IoU=0.50:0.95 | area=medium | maxDets=1000 ] = 0.641\n",
      " Average Recall     (AR) @[ IoU=0.50:0.95 | area= large | maxDets=1000 ] = 0.682\n",
      "\n"
     ]
    },
    {
     "name": "stdout",
     "output_type": "stream",
     "text": [
      "DONE (t=15.19s).\n"
     ]
    },
    {
     "name": "stderr",
     "output_type": "stream",
     "text": [
      "2022-11-18 15:12:08,954 - mmdet - INFO - The previous best checkpoint D:\\Homework\\course_cvdl\\task3\\workdirs\\yolox_l_8x8_300e_coco\\best_bbox_mAP_epoch_5.pth was removed\n",
      "2022-11-18 15:12:16,183 - mmdet - INFO - Now best checkpoint is saved as best_bbox_mAP_epoch_6.pth.\n",
      "2022-11-18 15:12:16,184 - mmdet - INFO - Best bbox_mAP is 0.2120 at 6 epoch.\n",
      "2022-11-18 15:12:16,185 - mmdet - INFO - Epoch(val) [6][10000]\tbbox_mAP: 0.2120, bbox_mAP_50: 0.4010, bbox_mAP_75: 0.2020, bbox_mAP_s: 0.1960, bbox_mAP_m: 0.4040, bbox_mAP_l: 0.4120, bbox_mAP_copypaste: 0.212 0.401 0.202 0.196 0.404 0.412\n",
      "2022-11-18 15:12:52,766 - mmdet - INFO - Epoch [7][100/5462]\tlr: 5.000e-06, eta: 5:06:37, time: 0.365, data_time: 0.035, memory: 18658, loss_cls: 0.5803, loss_bbox: 2.4649, loss_obj: 2.2830, loss: 5.3282\n",
      "2022-11-18 15:13:28,666 - mmdet - INFO - Epoch [7][200/5462]\tlr: 5.000e-06, eta: 5:05:57, time: 0.359, data_time: 0.008, memory: 18658, loss_cls: 0.5763, loss_bbox: 2.4228, loss_obj: 2.2344, loss: 5.2335\n",
      "2022-11-18 15:14:04,502 - mmdet - INFO - Epoch [7][300/5462]\tlr: 5.000e-06, eta: 5:05:17, time: 0.357, data_time: 0.008, memory: 18658, loss_cls: 0.5799, loss_bbox: 2.4391, loss_obj: 2.3023, loss: 5.3212\n",
      "2022-11-18 15:14:41,984 - mmdet - INFO - Epoch [7][400/5462]\tlr: 5.000e-06, eta: 5:04:40, time: 0.376, data_time: 0.010, memory: 18658, loss_cls: 0.5764, loss_bbox: 2.4188, loss_obj: 2.2886, loss: 5.2838\n",
      "2022-11-18 15:15:16,938 - mmdet - INFO - Epoch [7][500/5462]\tlr: 5.000e-06, eta: 5:03:59, time: 0.349, data_time: 0.009, memory: 18658, loss_cls: 0.5846, loss_bbox: 2.4678, loss_obj: 2.2889, loss: 5.3414\n",
      "2022-11-18 15:15:52,496 - mmdet - INFO - Epoch [7][600/5462]\tlr: 5.000e-06, eta: 5:03:19, time: 0.356, data_time: 0.009, memory: 18658, loss_cls: 0.5734, loss_bbox: 2.3892, loss_obj: 2.2118, loss: 5.1744\n",
      "2022-11-18 15:16:25,307 - mmdet - INFO - Epoch [7][700/5462]\tlr: 5.000e-06, eta: 5:02:34, time: 0.327, data_time: 0.009, memory: 18658, loss_cls: 0.5814, loss_bbox: 2.4545, loss_obj: 2.2662, loss: 5.3021\n",
      "2022-11-18 15:17:03,145 - mmdet - INFO - Epoch [7][800/5462]\tlr: 5.000e-06, eta: 5:01:57, time: 0.379, data_time: 0.009, memory: 18658, loss_cls: 0.5718, loss_bbox: 2.3519, loss_obj: 2.1616, loss: 5.0853\n",
      "2022-11-18 15:17:36,567 - mmdet - INFO - Epoch [7][900/5462]\tlr: 5.000e-06, eta: 5:01:14, time: 0.333, data_time: 0.008, memory: 18658, loss_cls: 0.5751, loss_bbox: 2.4259, loss_obj: 2.1725, loss: 5.1735\n",
      "2022-11-18 15:18:12,400 - mmdet - INFO - Epoch [7][1000/5462]\tlr: 5.000e-06, eta: 5:00:34, time: 0.359, data_time: 0.009, memory: 18658, loss_cls: 0.5831, loss_bbox: 2.4541, loss_obj: 2.3294, loss: 5.3666\n",
      "2022-11-18 15:18:52,239 - mmdet - INFO - Epoch [7][1100/5462]\tlr: 5.000e-06, eta: 5:00:00, time: 0.398, data_time: 0.009, memory: 18658, loss_cls: 0.5692, loss_bbox: 2.3560, loss_obj: 2.2741, loss: 5.1994\n",
      "2022-11-18 15:19:24,762 - mmdet - INFO - Epoch [7][1200/5462]\tlr: 5.000e-06, eta: 4:59:16, time: 0.325, data_time: 0.009, memory: 18658, loss_cls: 0.5802, loss_bbox: 2.4630, loss_obj: 2.2791, loss: 5.3223\n",
      "2022-11-18 15:20:02,693 - mmdet - INFO - Epoch [7][1300/5462]\tlr: 5.000e-06, eta: 4:58:39, time: 0.380, data_time: 0.009, memory: 18658, loss_cls: 0.5780, loss_bbox: 2.4099, loss_obj: 2.2903, loss: 5.2782\n",
      "2022-11-18 15:20:39,532 - mmdet - INFO - Epoch [7][1400/5462]\tlr: 5.000e-06, eta: 4:58:01, time: 0.368, data_time: 0.008, memory: 18658, loss_cls: 0.5749, loss_bbox: 2.3921, loss_obj: 2.2312, loss: 5.1982\n",
      "2022-11-18 15:21:15,793 - mmdet - INFO - Epoch [7][1500/5462]\tlr: 5.000e-06, eta: 4:57:22, time: 0.363, data_time: 0.009, memory: 18658, loss_cls: 0.5780, loss_bbox: 2.4252, loss_obj: 2.2500, loss: 5.2532\n",
      "2022-11-18 15:21:50,476 - mmdet - INFO - Epoch [7][1600/5462]\tlr: 5.000e-06, eta: 4:56:40, time: 0.346, data_time: 0.008, memory: 18658, loss_cls: 0.5775, loss_bbox: 2.4222, loss_obj: 2.2166, loss: 5.2164\n",
      "2022-11-18 15:22:25,131 - mmdet - INFO - Epoch [7][1700/5462]\tlr: 5.000e-06, eta: 4:55:59, time: 0.347, data_time: 0.009, memory: 18658, loss_cls: 0.5772, loss_bbox: 2.4222, loss_obj: 2.2601, loss: 5.2594\n",
      "2022-11-18 15:22:59,168 - mmdet - INFO - Epoch [7][1800/5462]\tlr: 5.000e-06, eta: 4:55:17, time: 0.341, data_time: 0.009, memory: 18658, loss_cls: 0.5826, loss_bbox: 2.4840, loss_obj: 2.2191, loss: 5.2857\n",
      "2022-11-18 15:23:32,184 - mmdet - INFO - Epoch [7][1900/5462]\tlr: 5.000e-06, eta: 4:54:34, time: 0.330, data_time: 0.008, memory: 18658, loss_cls: 0.5804, loss_bbox: 2.4835, loss_obj: 2.2915, loss: 5.3554\n",
      "2022-11-18 15:24:09,910 - mmdet - INFO - Epoch [7][2000/5462]\tlr: 5.000e-06, eta: 4:53:57, time: 0.377, data_time: 0.008, memory: 18658, loss_cls: 0.5792, loss_bbox: 2.4309, loss_obj: 2.2328, loss: 5.2430\n",
      "2022-11-18 15:24:42,846 - mmdet - INFO - Epoch [7][2100/5462]\tlr: 5.000e-06, eta: 4:53:13, time: 0.329, data_time: 0.009, memory: 18658, loss_cls: 0.5893, loss_bbox: 2.5374, loss_obj: 2.3006, loss: 5.4273\n",
      "2022-11-18 15:25:15,293 - mmdet - INFO - Epoch [7][2200/5462]\tlr: 5.000e-06, eta: 4:52:29, time: 0.324, data_time: 0.009, memory: 18658, loss_cls: 0.5735, loss_bbox: 2.4359, loss_obj: 2.2709, loss: 5.2804\n",
      "2022-11-18 15:25:49,758 - mmdet - INFO - Epoch [7][2300/5462]\tlr: 5.000e-06, eta: 4:51:48, time: 0.344, data_time: 0.009, memory: 18658, loss_cls: 0.5794, loss_bbox: 2.4122, loss_obj: 2.2294, loss: 5.2210\n",
      "2022-11-18 15:26:25,086 - mmdet - INFO - Epoch [7][2400/5462]\tlr: 5.000e-06, eta: 4:51:08, time: 0.354, data_time: 0.009, memory: 18658, loss_cls: 0.5779, loss_bbox: 2.4300, loss_obj: 2.2398, loss: 5.2477\n",
      "2022-11-18 15:27:01,629 - mmdet - INFO - Epoch [7][2500/5462]\tlr: 5.000e-06, eta: 4:50:30, time: 0.366, data_time: 0.009, memory: 18658, loss_cls: 0.5783, loss_bbox: 2.4370, loss_obj: 2.2322, loss: 5.2475\n",
      "2022-11-18 15:27:33,001 - mmdet - INFO - Epoch [7][2600/5462]\tlr: 5.000e-06, eta: 4:49:44, time: 0.312, data_time: 0.008, memory: 18658, loss_cls: 0.5799, loss_bbox: 2.4519, loss_obj: 2.1962, loss: 5.2281\n",
      "2022-11-18 15:28:06,472 - mmdet - INFO - Epoch [7][2700/5462]\tlr: 5.000e-06, eta: 4:49:02, time: 0.335, data_time: 0.010, memory: 18658, loss_cls: 0.5761, loss_bbox: 2.4201, loss_obj: 2.2317, loss: 5.2279\n",
      "2022-11-18 15:28:43,083 - mmdet - INFO - Epoch [7][2800/5462]\tlr: 5.000e-06, eta: 4:48:24, time: 0.366, data_time: 0.010, memory: 18658, loss_cls: 0.5768, loss_bbox: 2.4418, loss_obj: 2.2903, loss: 5.3089\n",
      "2022-11-18 15:29:17,939 - mmdet - INFO - Epoch [7][2900/5462]\tlr: 5.000e-06, eta: 4:47:43, time: 0.350, data_time: 0.010, memory: 18658, loss_cls: 0.5851, loss_bbox: 2.4859, loss_obj: 2.3226, loss: 5.3936\n",
      "2022-11-18 15:29:52,605 - mmdet - INFO - Epoch [7][3000/5462]\tlr: 5.000e-06, eta: 4:47:02, time: 0.346, data_time: 0.008, memory: 18658, loss_cls: 0.5797, loss_bbox: 2.4541, loss_obj: 2.2126, loss: 5.2464\n",
      "2022-11-18 15:30:28,373 - mmdet - INFO - Epoch [7][3100/5462]\tlr: 5.000e-06, eta: 4:46:23, time: 0.357, data_time: 0.009, memory: 18658, loss_cls: 0.5795, loss_bbox: 2.4341, loss_obj: 2.2720, loss: 5.2856\n",
      "2022-11-18 15:31:02,904 - mmdet - INFO - Epoch [7][3200/5462]\tlr: 5.000e-06, eta: 4:45:42, time: 0.346, data_time: 0.010, memory: 18658, loss_cls: 0.5777, loss_bbox: 2.4434, loss_obj: 2.2096, loss: 5.2306\n",
      "2022-11-18 15:31:34,161 - mmdet - INFO - Epoch [7][3300/5462]\tlr: 5.000e-06, eta: 4:44:57, time: 0.313, data_time: 0.009, memory: 18658, loss_cls: 0.5766, loss_bbox: 2.4405, loss_obj: 2.2093, loss: 5.2264\n",
      "2022-11-18 15:32:07,014 - mmdet - INFO - Epoch [7][3400/5462]\tlr: 5.000e-06, eta: 4:44:14, time: 0.327, data_time: 0.009, memory: 18658, loss_cls: 0.5785, loss_bbox: 2.4489, loss_obj: 2.2243, loss: 5.2517\n",
      "2022-11-18 15:32:44,459 - mmdet - INFO - Epoch [7][3500/5462]\tlr: 5.000e-06, eta: 4:43:37, time: 0.376, data_time: 0.009, memory: 18658, loss_cls: 0.5760, loss_bbox: 2.4039, loss_obj: 2.3064, loss: 5.2863\n",
      "2022-11-18 15:33:20,652 - mmdet - INFO - Epoch [7][3600/5462]\tlr: 5.000e-06, eta: 4:42:59, time: 0.360, data_time: 0.008, memory: 18658, loss_cls: 0.5782, loss_bbox: 2.4029, loss_obj: 2.2399, loss: 5.2211\n",
      "2022-11-18 15:33:56,657 - mmdet - INFO - Epoch [7][3700/5462]\tlr: 5.000e-06, eta: 4:42:20, time: 0.361, data_time: 0.010, memory: 18658, loss_cls: 0.5709, loss_bbox: 2.3793, loss_obj: 2.2351, loss: 5.1853\n",
      "2022-11-18 15:34:31,878 - mmdet - INFO - Epoch [7][3800/5462]\tlr: 5.000e-06, eta: 4:41:40, time: 0.352, data_time: 0.009, memory: 18658, loss_cls: 0.5755, loss_bbox: 2.4414, loss_obj: 2.2389, loss: 5.2558\n",
      "2022-11-18 15:35:03,814 - mmdet - INFO - Epoch [7][3900/5462]\tlr: 5.000e-06, eta: 4:40:56, time: 0.319, data_time: 0.009, memory: 18658, loss_cls: 0.5803, loss_bbox: 2.4586, loss_obj: 2.1973, loss: 5.2362\n",
      "2022-11-18 15:35:36,967 - mmdet - INFO - Epoch [7][4000/5462]\tlr: 5.000e-06, eta: 4:40:14, time: 0.331, data_time: 0.009, memory: 18658, loss_cls: 0.5743, loss_bbox: 2.4067, loss_obj: 2.1873, loss: 5.1682\n",
      "2022-11-18 15:36:13,781 - mmdet - INFO - Epoch [7][4100/5462]\tlr: 5.000e-06, eta: 4:39:36, time: 0.368, data_time: 0.009, memory: 18658, loss_cls: 0.5743, loss_bbox: 2.3992, loss_obj: 2.2795, loss: 5.2529\n",
      "2022-11-18 15:36:48,451 - mmdet - INFO - Epoch [7][4200/5462]\tlr: 5.000e-06, eta: 4:38:56, time: 0.347, data_time: 0.009, memory: 18658, loss_cls: 0.5791, loss_bbox: 2.4280, loss_obj: 2.1985, loss: 5.2057\n",
      "2022-11-18 15:37:22,266 - mmdet - INFO - Epoch [7][4300/5462]\tlr: 5.000e-06, eta: 4:38:14, time: 0.338, data_time: 0.009, memory: 18658, loss_cls: 0.5770, loss_bbox: 2.4071, loss_obj: 2.2028, loss: 5.1869\n",
      "2022-11-18 15:37:57,810 - mmdet - INFO - Epoch [7][4400/5462]\tlr: 5.000e-06, eta: 4:37:35, time: 0.356, data_time: 0.009, memory: 18658, loss_cls: 0.5717, loss_bbox: 2.3846, loss_obj: 2.1978, loss: 5.1542\n",
      "2022-11-18 15:38:32,711 - mmdet - INFO - Epoch [7][4500/5462]\tlr: 5.000e-06, eta: 4:36:55, time: 0.349, data_time: 0.008, memory: 18658, loss_cls: 0.5755, loss_bbox: 2.4053, loss_obj: 2.2168, loss: 5.1976\n",
      "2022-11-18 15:39:09,533 - mmdet - INFO - Epoch [7][4600/5462]\tlr: 5.000e-06, eta: 4:36:17, time: 0.367, data_time: 0.009, memory: 18658, loss_cls: 0.5695, loss_bbox: 2.3619, loss_obj: 2.1790, loss: 5.1103\n",
      "2022-11-18 15:39:45,188 - mmdet - INFO - Epoch [7][4700/5462]\tlr: 5.000e-06, eta: 4:35:38, time: 0.357, data_time: 0.010, memory: 18658, loss_cls: 0.5780, loss_bbox: 2.4154, loss_obj: 2.2212, loss: 5.2146\n",
      "2022-11-18 15:40:20,993 - mmdet - INFO - Epoch [7][4800/5462]\tlr: 5.000e-06, eta: 4:35:00, time: 0.359, data_time: 0.010, memory: 18658, loss_cls: 0.5744, loss_bbox: 2.4246, loss_obj: 2.2852, loss: 5.2842\n",
      "2022-11-18 15:40:51,307 - mmdet - INFO - Epoch [7][4900/5462]\tlr: 5.000e-06, eta: 4:34:14, time: 0.302, data_time: 0.009, memory: 18658, loss_cls: 0.5776, loss_bbox: 2.4600, loss_obj: 2.2116, loss: 5.2492\n",
      "2022-11-18 15:41:25,668 - mmdet - INFO - Epoch [7][5000/5462]\tlr: 5.000e-06, eta: 4:33:34, time: 0.344, data_time: 0.010, memory: 18658, loss_cls: 0.5807, loss_bbox: 2.4393, loss_obj: 2.1974, loss: 5.2175\n",
      "2022-11-18 15:41:59,055 - mmdet - INFO - Epoch [7][5100/5462]\tlr: 5.000e-06, eta: 4:32:52, time: 0.334, data_time: 0.009, memory: 18658, loss_cls: 0.5786, loss_bbox: 2.4571, loss_obj: 2.2378, loss: 5.2735\n",
      "2022-11-18 15:42:32,992 - mmdet - INFO - Epoch [7][5200/5462]\tlr: 5.000e-06, eta: 4:32:11, time: 0.340, data_time: 0.009, memory: 18658, loss_cls: 0.5744, loss_bbox: 2.3981, loss_obj: 2.1633, loss: 5.1357\n",
      "2022-11-18 15:43:07,727 - mmdet - INFO - Epoch [7][5300/5462]\tlr: 5.000e-06, eta: 4:31:32, time: 0.347, data_time: 0.009, memory: 18658, loss_cls: 0.5744, loss_bbox: 2.3801, loss_obj: 2.1950, loss: 5.1495\n",
      "2022-11-18 15:43:38,515 - mmdet - INFO - Epoch [7][5400/5462]\tlr: 5.000e-06, eta: 4:30:47, time: 0.307, data_time: 0.009, memory: 18658, loss_cls: 0.5723, loss_bbox: 2.4169, loss_obj: 2.2093, loss: 5.1984\n",
      "2022-11-18 15:43:59,177 - mmdet - INFO - Saving checkpoint at 7 epochs\n"
     ]
    },
    {
     "name": "stdout",
     "output_type": "stream",
     "text": [
      "[>>>>>>>>>>>>>>>>>>>>>>>>] 10000/10000, 27.7 task/s, elapsed: 362s, ETA:     0s"
     ]
    },
    {
     "name": "stderr",
     "output_type": "stream",
     "text": [
      "2022-11-18 15:50:32,997 - mmdet - INFO - Evaluating bbox...\n"
     ]
    },
    {
     "name": "stdout",
     "output_type": "stream",
     "text": [
      "Loading and preparing results...\n",
      "DONE (t=1.82s)\n",
      "creating index...\n",
      "index created!\n",
      "Running per image evaluation...\n",
      "Evaluate annotation type *bbox*\n",
      "DONE (t=91.46s).\n",
      "Accumulating evaluation results...\n"
     ]
    },
    {
     "name": "stderr",
     "output_type": "stream",
     "text": [
      "2022-11-18 15:52:24,207 - mmdet - INFO - \n",
      " Average Precision  (AP) @[ IoU=0.50:0.95 | area=   all | maxDets=100 ] = 0.217\n",
      " Average Precision  (AP) @[ IoU=0.50      | area=   all | maxDets=1000 ] = 0.409\n",
      " Average Precision  (AP) @[ IoU=0.75      | area=   all | maxDets=1000 ] = 0.208\n",
      " Average Precision  (AP) @[ IoU=0.50:0.95 | area= small | maxDets=1000 ] = 0.201\n",
      " Average Precision  (AP) @[ IoU=0.50:0.95 | area=medium | maxDets=1000 ] = 0.412\n",
      " Average Precision  (AP) @[ IoU=0.50:0.95 | area= large | maxDets=1000 ] = 0.428\n",
      " Average Recall     (AR) @[ IoU=0.50:0.95 | area=   all | maxDets=100 ] = 0.388\n",
      " Average Recall     (AR) @[ IoU=0.50:0.95 | area=   all | maxDets=300 ] = 0.400\n",
      " Average Recall     (AR) @[ IoU=0.50:0.95 | area=   all | maxDets=1000 ] = 0.402\n",
      " Average Recall     (AR) @[ IoU=0.50:0.95 | area= small | maxDets=1000 ] = 0.379\n",
      " Average Recall     (AR) @[ IoU=0.50:0.95 | area=medium | maxDets=1000 ] = 0.646\n",
      " Average Recall     (AR) @[ IoU=0.50:0.95 | area= large | maxDets=1000 ] = 0.688\n",
      "\n"
     ]
    },
    {
     "name": "stdout",
     "output_type": "stream",
     "text": [
      "DONE (t=14.62s).\n"
     ]
    },
    {
     "name": "stderr",
     "output_type": "stream",
     "text": [
      "2022-11-18 15:52:24,719 - mmdet - INFO - The previous best checkpoint D:\\Homework\\course_cvdl\\task3\\workdirs\\yolox_l_8x8_300e_coco\\best_bbox_mAP_epoch_6.pth was removed\n",
      "2022-11-18 15:52:31,937 - mmdet - INFO - Now best checkpoint is saved as best_bbox_mAP_epoch_7.pth.\n",
      "2022-11-18 15:52:31,938 - mmdet - INFO - Best bbox_mAP is 0.2170 at 7 epoch.\n",
      "2022-11-18 15:52:31,938 - mmdet - INFO - Epoch(val) [7][10000]\tbbox_mAP: 0.2170, bbox_mAP_50: 0.4090, bbox_mAP_75: 0.2080, bbox_mAP_s: 0.2010, bbox_mAP_m: 0.4120, bbox_mAP_l: 0.4280, bbox_mAP_copypaste: 0.217 0.409 0.208 0.201 0.412 0.428\n",
      "2022-11-18 15:53:09,232 - mmdet - INFO - Epoch [8][100/5462]\tlr: 5.000e-06, eta: 4:29:21, time: 0.372, data_time: 0.035, memory: 18658, loss_cls: 0.5796, loss_bbox: 2.4159, loss_obj: 2.2208, loss: 5.2164\n",
      "2022-11-18 15:53:43,843 - mmdet - INFO - Epoch [8][200/5462]\tlr: 5.000e-06, eta: 4:28:41, time: 0.346, data_time: 0.008, memory: 18658, loss_cls: 0.5799, loss_bbox: 2.4326, loss_obj: 2.1665, loss: 5.1790\n",
      "2022-11-18 15:54:17,341 - mmdet - INFO - Epoch [8][300/5462]\tlr: 5.000e-06, eta: 4:28:00, time: 0.335, data_time: 0.008, memory: 18658, loss_cls: 0.5745, loss_bbox: 2.4154, loss_obj: 2.1690, loss: 5.1589\n",
      "2022-11-18 15:54:48,779 - mmdet - INFO - Epoch [8][400/5462]\tlr: 5.000e-06, eta: 4:27:16, time: 0.313, data_time: 0.008, memory: 18658, loss_cls: 0.5751, loss_bbox: 2.4229, loss_obj: 2.1542, loss: 5.1521\n",
      "2022-11-18 15:55:25,627 - mmdet - INFO - Epoch [8][500/5462]\tlr: 5.000e-06, eta: 4:26:39, time: 0.369, data_time: 0.009, memory: 18658, loss_cls: 0.5742, loss_bbox: 2.3906, loss_obj: 2.2447, loss: 5.2095\n",
      "2022-11-18 15:56:02,286 - mmdet - INFO - Epoch [8][600/5462]\tlr: 5.000e-06, eta: 4:26:02, time: 0.366, data_time: 0.009, memory: 18658, loss_cls: 0.5762, loss_bbox: 2.3817, loss_obj: 2.2494, loss: 5.2074\n",
      "2022-11-18 15:56:37,174 - mmdet - INFO - Epoch [8][700/5462]\tlr: 5.000e-06, eta: 4:25:22, time: 0.349, data_time: 0.009, memory: 18658, loss_cls: 0.5738, loss_bbox: 2.3795, loss_obj: 2.2029, loss: 5.1562\n",
      "2022-11-18 15:57:11,882 - mmdet - INFO - Epoch [8][800/5462]\tlr: 5.000e-06, eta: 4:24:43, time: 0.348, data_time: 0.010, memory: 18658, loss_cls: 0.5760, loss_bbox: 2.3990, loss_obj: 2.1998, loss: 5.1748\n",
      "2022-11-18 15:57:49,917 - mmdet - INFO - Epoch [8][900/5462]\tlr: 5.000e-06, eta: 4:24:07, time: 0.380, data_time: 0.008, memory: 18658, loss_cls: 0.5759, loss_bbox: 2.3818, loss_obj: 2.2267, loss: 5.1844\n",
      "2022-11-18 15:58:24,839 - mmdet - INFO - Epoch [8][1000/5462]\tlr: 5.000e-06, eta: 4:23:27, time: 0.350, data_time: 0.009, memory: 18658, loss_cls: 0.5735, loss_bbox: 2.3967, loss_obj: 2.1912, loss: 5.1614\n",
      "2022-11-18 15:59:00,579 - mmdet - INFO - Epoch [8][1100/5462]\tlr: 5.000e-06, eta: 4:22:49, time: 0.356, data_time: 0.008, memory: 18658, loss_cls: 0.5729, loss_bbox: 2.3803, loss_obj: 2.1983, loss: 5.1515\n",
      "2022-11-18 15:59:36,105 - mmdet - INFO - Epoch [8][1200/5462]\tlr: 5.000e-06, eta: 4:22:10, time: 0.357, data_time: 0.010, memory: 18658, loss_cls: 0.5794, loss_bbox: 2.4241, loss_obj: 2.1954, loss: 5.1989\n",
      "2022-11-18 16:00:06,684 - mmdet - INFO - Epoch [8][1300/5462]\tlr: 5.000e-06, eta: 4:21:26, time: 0.306, data_time: 0.009, memory: 18658, loss_cls: 0.5816, loss_bbox: 2.4648, loss_obj: 2.2304, loss: 5.2768\n",
      "2022-11-18 16:00:42,062 - mmdet - INFO - Epoch [8][1400/5462]\tlr: 5.000e-06, eta: 4:20:48, time: 0.352, data_time: 0.008, memory: 18658, loss_cls: 0.5738, loss_bbox: 2.4055, loss_obj: 2.1725, loss: 5.1518\n",
      "2022-11-18 16:01:16,108 - mmdet - INFO - Epoch [8][1500/5462]\tlr: 5.000e-06, eta: 4:20:08, time: 0.342, data_time: 0.009, memory: 18658, loss_cls: 0.5791, loss_bbox: 2.4238, loss_obj: 2.2027, loss: 5.2056\n",
      "2022-11-18 16:01:51,594 - mmdet - INFO - Epoch [8][1600/5462]\tlr: 5.000e-06, eta: 4:19:29, time: 0.354, data_time: 0.008, memory: 18658, loss_cls: 0.5706, loss_bbox: 2.3902, loss_obj: 2.1943, loss: 5.1552\n",
      "2022-11-18 16:02:24,196 - mmdet - INFO - Epoch [8][1700/5462]\tlr: 5.000e-06, eta: 4:18:47, time: 0.327, data_time: 0.010, memory: 18658, loss_cls: 0.5773, loss_bbox: 2.4443, loss_obj: 2.2356, loss: 5.2572\n",
      "2022-11-18 16:03:00,851 - mmdet - INFO - Epoch [8][1800/5462]\tlr: 5.000e-06, eta: 4:18:10, time: 0.365, data_time: 0.009, memory: 18658, loss_cls: 0.5760, loss_bbox: 2.4047, loss_obj: 2.1618, loss: 5.1426\n",
      "2022-11-18 16:03:33,621 - mmdet - INFO - Epoch [8][1900/5462]\tlr: 5.000e-06, eta: 4:17:29, time: 0.328, data_time: 0.010, memory: 18658, loss_cls: 0.5786, loss_bbox: 2.4198, loss_obj: 2.2165, loss: 5.2149\n",
      "2022-11-18 16:04:10,108 - mmdet - INFO - Epoch [8][2000/5462]\tlr: 5.000e-06, eta: 4:16:51, time: 0.365, data_time: 0.009, memory: 18658, loss_cls: 0.5754, loss_bbox: 2.4120, loss_obj: 2.2714, loss: 5.2588\n",
      "2022-11-18 16:04:45,168 - mmdet - INFO - Epoch [8][2100/5462]\tlr: 5.000e-06, eta: 4:16:12, time: 0.350, data_time: 0.009, memory: 18658, loss_cls: 0.5800, loss_bbox: 2.4207, loss_obj: 2.2225, loss: 5.2232\n",
      "2022-11-18 16:05:20,728 - mmdet - INFO - Epoch [8][2200/5462]\tlr: 5.000e-06, eta: 4:15:34, time: 0.356, data_time: 0.010, memory: 18658, loss_cls: 0.5733, loss_bbox: 2.3902, loss_obj: 2.2589, loss: 5.2224\n",
      "2022-11-18 16:05:53,631 - mmdet - INFO - Epoch [8][2300/5462]\tlr: 5.000e-06, eta: 4:14:53, time: 0.328, data_time: 0.009, memory: 18658, loss_cls: 0.5754, loss_bbox: 2.4223, loss_obj: 2.1968, loss: 5.1945\n",
      "2022-11-18 16:06:30,192 - mmdet - INFO - Epoch [8][2400/5462]\tlr: 5.000e-06, eta: 4:14:15, time: 0.366, data_time: 0.010, memory: 18658, loss_cls: 0.5740, loss_bbox: 2.3873, loss_obj: 2.2329, loss: 5.1943\n",
      "2022-11-18 16:07:04,419 - mmdet - INFO - Epoch [8][2500/5462]\tlr: 5.000e-06, eta: 4:13:36, time: 0.343, data_time: 0.009, memory: 18658, loss_cls: 0.5790, loss_bbox: 2.4431, loss_obj: 2.2828, loss: 5.3049\n",
      "2022-11-18 16:07:42,352 - mmdet - INFO - Epoch [8][2600/5462]\tlr: 5.000e-06, eta: 4:13:00, time: 0.379, data_time: 0.008, memory: 18658, loss_cls: 0.5760, loss_bbox: 2.3962, loss_obj: 2.2091, loss: 5.1813\n",
      "2022-11-18 16:08:15,766 - mmdet - INFO - Epoch [8][2700/5462]\tlr: 5.000e-06, eta: 4:12:19, time: 0.334, data_time: 0.009, memory: 18658, loss_cls: 0.5768, loss_bbox: 2.4388, loss_obj: 2.2049, loss: 5.2205\n",
      "2022-11-18 16:08:49,579 - mmdet - INFO - Epoch [8][2800/5462]\tlr: 5.000e-06, eta: 4:11:39, time: 0.338, data_time: 0.009, memory: 18658, loss_cls: 0.5765, loss_bbox: 2.4418, loss_obj: 2.1742, loss: 5.1926\n",
      "2022-11-18 16:09:22,938 - mmdet - INFO - Epoch [8][2900/5462]\tlr: 5.000e-06, eta: 4:10:59, time: 0.334, data_time: 0.009, memory: 18658, loss_cls: 0.5765, loss_bbox: 2.4435, loss_obj: 2.1913, loss: 5.2113\n",
      "2022-11-18 16:09:58,174 - mmdet - INFO - Epoch [8][3000/5462]\tlr: 5.000e-06, eta: 4:10:20, time: 0.352, data_time: 0.009, memory: 18658, loss_cls: 0.5723, loss_bbox: 2.3868, loss_obj: 2.1740, loss: 5.1331\n",
      "2022-11-18 16:10:34,624 - mmdet - INFO - Epoch [8][3100/5462]\tlr: 5.000e-06, eta: 4:09:43, time: 0.365, data_time: 0.009, memory: 18658, loss_cls: 0.5696, loss_bbox: 2.3619, loss_obj: 2.1602, loss: 5.0917\n",
      "2022-11-18 16:11:08,041 - mmdet - INFO - Epoch [8][3200/5462]\tlr: 5.000e-06, eta: 4:09:03, time: 0.334, data_time: 0.009, memory: 18658, loss_cls: 0.5775, loss_bbox: 2.4588, loss_obj: 2.2934, loss: 5.3297\n",
      "2022-11-18 16:11:44,168 - mmdet - INFO - Epoch [8][3300/5462]\tlr: 5.000e-06, eta: 4:08:25, time: 0.361, data_time: 0.010, memory: 18658, loss_cls: 0.5773, loss_bbox: 2.4311, loss_obj: 2.2908, loss: 5.2992\n",
      "2022-11-18 16:12:24,660 - mmdet - INFO - Epoch [8][3400/5462]\tlr: 5.000e-06, eta: 4:07:52, time: 0.405, data_time: 0.009, memory: 18658, loss_cls: 0.5709, loss_bbox: 2.3436, loss_obj: 2.1799, loss: 5.0944\n",
      "2022-11-18 16:12:57,292 - mmdet - INFO - Epoch [8][3500/5462]\tlr: 5.000e-06, eta: 4:07:11, time: 0.327, data_time: 0.009, memory: 18658, loss_cls: 0.5830, loss_bbox: 2.4702, loss_obj: 2.2884, loss: 5.3416\n",
      "2022-11-18 16:13:32,911 - mmdet - INFO - Epoch [8][3600/5462]\tlr: 5.000e-06, eta: 4:06:32, time: 0.355, data_time: 0.008, memory: 18658, loss_cls: 0.5702, loss_bbox: 2.3697, loss_obj: 2.1788, loss: 5.1187\n",
      "2022-11-18 16:14:06,403 - mmdet - INFO - Epoch [8][3700/5462]\tlr: 5.000e-06, eta: 4:05:52, time: 0.335, data_time: 0.009, memory: 18658, loss_cls: 0.5746, loss_bbox: 2.3914, loss_obj: 2.1754, loss: 5.1415\n",
      "2022-11-18 16:14:37,296 - mmdet - INFO - Epoch [8][3800/5462]\tlr: 5.000e-06, eta: 4:05:10, time: 0.308, data_time: 0.009, memory: 18658, loss_cls: 0.5838, loss_bbox: 2.4971, loss_obj: 2.2388, loss: 5.3197\n",
      "2022-11-18 16:15:14,270 - mmdet - INFO - Epoch [8][3900/5462]\tlr: 5.000e-06, eta: 4:04:33, time: 0.371, data_time: 0.010, memory: 18658, loss_cls: 0.5764, loss_bbox: 2.4177, loss_obj: 2.2874, loss: 5.2815\n",
      "2022-11-18 16:15:49,419 - mmdet - INFO - Epoch [8][4000/5462]\tlr: 5.000e-06, eta: 4:03:54, time: 0.351, data_time: 0.009, memory: 18658, loss_cls: 0.5742, loss_bbox: 2.3973, loss_obj: 2.2360, loss: 5.2076\n",
      "2022-11-18 16:16:21,135 - mmdet - INFO - Epoch [8][4100/5462]\tlr: 5.000e-06, eta: 4:03:13, time: 0.318, data_time: 0.010, memory: 18658, loss_cls: 0.5763, loss_bbox: 2.4302, loss_obj: 2.2555, loss: 5.2619\n",
      "2022-11-18 16:16:54,013 - mmdet - INFO - Epoch [8][4200/5462]\tlr: 5.000e-06, eta: 4:02:32, time: 0.329, data_time: 0.009, memory: 18658, loss_cls: 0.5815, loss_bbox: 2.4360, loss_obj: 2.2060, loss: 5.2234\n",
      "2022-11-18 16:17:27,632 - mmdet - INFO - Epoch [8][4300/5462]\tlr: 5.000e-06, eta: 4:01:52, time: 0.336, data_time: 0.008, memory: 18658, loss_cls: 0.5772, loss_bbox: 2.4321, loss_obj: 2.1829, loss: 5.1923\n",
      "2022-11-18 16:18:02,516 - mmdet - INFO - Epoch [8][4400/5462]\tlr: 5.000e-06, eta: 4:01:14, time: 0.348, data_time: 0.009, memory: 18658, loss_cls: 0.5770, loss_bbox: 2.4222, loss_obj: 2.2043, loss: 5.2035\n",
      "2022-11-18 16:18:35,765 - mmdet - INFO - Epoch [8][4500/5462]\tlr: 5.000e-06, eta: 4:00:34, time: 0.333, data_time: 0.010, memory: 18658, loss_cls: 0.5735, loss_bbox: 2.3755, loss_obj: 2.1297, loss: 5.0787\n",
      "2022-11-18 16:19:09,266 - mmdet - INFO - Epoch [8][4600/5462]\tlr: 5.000e-06, eta: 3:59:54, time: 0.334, data_time: 0.009, memory: 18658, loss_cls: 0.5789, loss_bbox: 2.4340, loss_obj: 2.2303, loss: 5.2432\n",
      "2022-11-18 16:19:43,558 - mmdet - INFO - Epoch [8][4700/5462]\tlr: 5.000e-06, eta: 3:59:15, time: 0.343, data_time: 0.010, memory: 18658, loss_cls: 0.5799, loss_bbox: 2.4487, loss_obj: 2.2022, loss: 5.2308\n",
      "2022-11-18 16:20:20,884 - mmdet - INFO - Epoch [8][4800/5462]\tlr: 5.000e-06, eta: 3:58:38, time: 0.374, data_time: 0.009, memory: 18658, loss_cls: 0.5720, loss_bbox: 2.3724, loss_obj: 2.1980, loss: 5.1424\n",
      "2022-11-18 16:20:54,499 - mmdet - INFO - Epoch [8][4900/5462]\tlr: 5.000e-06, eta: 3:57:59, time: 0.336, data_time: 0.009, memory: 18658, loss_cls: 0.5771, loss_bbox: 2.4340, loss_obj: 2.2007, loss: 5.2118\n",
      "2022-11-18 16:21:31,590 - mmdet - INFO - Epoch [8][5000/5462]\tlr: 5.000e-06, eta: 3:57:22, time: 0.370, data_time: 0.008, memory: 18658, loss_cls: 0.5790, loss_bbox: 2.4186, loss_obj: 2.2503, loss: 5.2478\n",
      "2022-11-18 16:22:04,591 - mmdet - INFO - Epoch [8][5100/5462]\tlr: 5.000e-06, eta: 3:56:42, time: 0.332, data_time: 0.010, memory: 18658, loss_cls: 0.5725, loss_bbox: 2.3897, loss_obj: 2.1455, loss: 5.1077\n",
      "2022-11-18 16:22:43,413 - mmdet - INFO - Epoch [8][5200/5462]\tlr: 5.000e-06, eta: 3:56:07, time: 0.387, data_time: 0.008, memory: 18658, loss_cls: 0.5720, loss_bbox: 2.3537, loss_obj: 2.2033, loss: 5.1290\n",
      "2022-11-18 16:23:19,125 - mmdet - INFO - Epoch [8][5300/5462]\tlr: 5.000e-06, eta: 3:55:29, time: 0.358, data_time: 0.009, memory: 18658, loss_cls: 0.5751, loss_bbox: 2.3901, loss_obj: 2.1486, loss: 5.1138\n",
      "2022-11-18 16:23:50,730 - mmdet - INFO - Epoch [8][5400/5462]\tlr: 5.000e-06, eta: 3:54:48, time: 0.315, data_time: 0.009, memory: 18658, loss_cls: 0.5842, loss_bbox: 2.4617, loss_obj: 2.2197, loss: 5.2656\n",
      "2022-11-18 16:24:14,200 - mmdet - INFO - Saving checkpoint at 8 epochs\n"
     ]
    },
    {
     "name": "stdout",
     "output_type": "stream",
     "text": [
      "[>>>>>>>>>>>>>>>>>>>>>>>>] 10000/10000, 27.5 task/s, elapsed: 364s, ETA:     0s"
     ]
    },
    {
     "name": "stderr",
     "output_type": "stream",
     "text": [
      "2022-11-18 16:30:48,662 - mmdet - INFO - Evaluating bbox...\n"
     ]
    },
    {
     "name": "stdout",
     "output_type": "stream",
     "text": [
      "Loading and preparing results...\n",
      "DONE (t=1.43s)\n",
      "creating index...\n",
      "index created!\n",
      "Running per image evaluation...\n",
      "Evaluate annotation type *bbox*\n",
      "DONE (t=88.71s).\n",
      "Accumulating evaluation results...\n"
     ]
    },
    {
     "name": "stderr",
     "output_type": "stream",
     "text": [
      "2022-11-18 16:32:36,567 - mmdet - INFO - \n",
      " Average Precision  (AP) @[ IoU=0.50:0.95 | area=   all | maxDets=100 ] = 0.221\n",
      " Average Precision  (AP) @[ IoU=0.50      | area=   all | maxDets=1000 ] = 0.415\n",
      " Average Precision  (AP) @[ IoU=0.75      | area=   all | maxDets=1000 ] = 0.212\n",
      " Average Precision  (AP) @[ IoU=0.50:0.95 | area= small | maxDets=1000 ] = 0.205\n",
      " Average Precision  (AP) @[ IoU=0.50:0.95 | area=medium | maxDets=1000 ] = 0.419\n",
      " Average Precision  (AP) @[ IoU=0.50:0.95 | area= large | maxDets=1000 ] = 0.446\n",
      " Average Recall     (AR) @[ IoU=0.50:0.95 | area=   all | maxDets=100 ] = 0.392\n",
      " Average Recall     (AR) @[ IoU=0.50:0.95 | area=   all | maxDets=300 ] = 0.403\n",
      " Average Recall     (AR) @[ IoU=0.50:0.95 | area=   all | maxDets=1000 ] = 0.405\n",
      " Average Recall     (AR) @[ IoU=0.50:0.95 | area= small | maxDets=1000 ] = 0.382\n",
      " Average Recall     (AR) @[ IoU=0.50:0.95 | area=medium | maxDets=1000 ] = 0.651\n",
      " Average Recall     (AR) @[ IoU=0.50:0.95 | area= large | maxDets=1000 ] = 0.698\n",
      "\n"
     ]
    },
    {
     "name": "stdout",
     "output_type": "stream",
     "text": [
      "DONE (t=14.32s).\n"
     ]
    },
    {
     "name": "stderr",
     "output_type": "stream",
     "text": [
      "2022-11-18 16:32:37,070 - mmdet - INFO - The previous best checkpoint D:\\Homework\\course_cvdl\\task3\\workdirs\\yolox_l_8x8_300e_coco\\best_bbox_mAP_epoch_7.pth was removed\n",
      "2022-11-18 16:32:44,310 - mmdet - INFO - Now best checkpoint is saved as best_bbox_mAP_epoch_8.pth.\n",
      "2022-11-18 16:32:44,311 - mmdet - INFO - Best bbox_mAP is 0.2210 at 8 epoch.\n",
      "2022-11-18 16:32:44,312 - mmdet - INFO - Epoch(val) [8][10000]\tbbox_mAP: 0.2210, bbox_mAP_50: 0.4150, bbox_mAP_75: 0.2120, bbox_mAP_s: 0.2050, bbox_mAP_m: 0.4190, bbox_mAP_l: 0.4460, bbox_mAP_copypaste: 0.221 0.415 0.212 0.205 0.419 0.446\n",
      "2022-11-18 16:33:21,046 - mmdet - INFO - Epoch [9][100/5462]\tlr: 5.000e-06, eta: 3:53:28, time: 0.366, data_time: 0.035, memory: 18658, loss_cls: 0.5797, loss_bbox: 2.4293, loss_obj: 2.2756, loss: 5.2847\n",
      "2022-11-18 16:33:55,164 - mmdet - INFO - Epoch [9][200/5462]\tlr: 5.000e-06, eta: 3:52:49, time: 0.341, data_time: 0.009, memory: 18658, loss_cls: 0.5785, loss_bbox: 2.4601, loss_obj: 2.1953, loss: 5.2340\n",
      "2022-11-18 16:34:30,073 - mmdet - INFO - Epoch [9][300/5462]\tlr: 5.000e-06, eta: 3:52:11, time: 0.349, data_time: 0.010, memory: 18658, loss_cls: 0.5751, loss_bbox: 2.4183, loss_obj: 2.2280, loss: 5.2214\n",
      "2022-11-18 16:35:06,923 - mmdet - INFO - Epoch [9][400/5462]\tlr: 5.000e-06, eta: 3:51:34, time: 0.368, data_time: 0.009, memory: 18658, loss_cls: 0.5757, loss_bbox: 2.3872, loss_obj: 2.1987, loss: 5.1615\n",
      "2022-11-18 16:35:43,133 - mmdet - INFO - Epoch [9][500/5462]\tlr: 5.000e-06, eta: 3:50:57, time: 0.362, data_time: 0.011, memory: 18658, loss_cls: 0.5748, loss_bbox: 2.4163, loss_obj: 2.1436, loss: 5.1347\n",
      "2022-11-18 16:36:19,690 - mmdet - INFO - Epoch [9][600/5462]\tlr: 5.000e-06, eta: 3:50:20, time: 0.365, data_time: 0.013, memory: 18658, loss_cls: 0.5773, loss_bbox: 2.4214, loss_obj: 2.2660, loss: 5.2647\n",
      "2022-11-18 16:36:55,502 - mmdet - INFO - Epoch [9][700/5462]\tlr: 5.000e-06, eta: 3:49:43, time: 0.358, data_time: 0.022, memory: 18658, loss_cls: 0.5654, loss_bbox: 2.3428, loss_obj: 2.1329, loss: 5.0412\n",
      "2022-11-18 16:37:35,973 - mmdet - INFO - Epoch [9][800/5462]\tlr: 5.000e-06, eta: 3:49:09, time: 0.405, data_time: 0.010, memory: 18658, loss_cls: 0.5724, loss_bbox: 2.3451, loss_obj: 2.2368, loss: 5.1543\n",
      "2022-11-18 16:38:09,372 - mmdet - INFO - Epoch [9][900/5462]\tlr: 5.000e-06, eta: 3:48:30, time: 0.334, data_time: 0.009, memory: 18658, loss_cls: 0.5768, loss_bbox: 2.4229, loss_obj: 2.2376, loss: 5.2373\n",
      "2022-11-18 16:38:44,465 - mmdet - INFO - Epoch [9][1000/5462]\tlr: 5.000e-06, eta: 3:47:51, time: 0.351, data_time: 0.019, memory: 18658, loss_cls: 0.5716, loss_bbox: 2.4083, loss_obj: 2.1585, loss: 5.1384\n",
      "2022-11-18 16:39:21,902 - mmdet - INFO - Epoch [9][1100/5462]\tlr: 5.000e-06, eta: 3:47:15, time: 0.375, data_time: 0.015, memory: 18658, loss_cls: 0.5716, loss_bbox: 2.3739, loss_obj: 2.1914, loss: 5.1368\n",
      "2022-11-18 16:39:58,909 - mmdet - INFO - Epoch [9][1200/5462]\tlr: 5.000e-06, eta: 3:46:39, time: 0.370, data_time: 0.023, memory: 18658, loss_cls: 0.5679, loss_bbox: 2.3650, loss_obj: 2.1904, loss: 5.1234\n",
      "2022-11-18 16:40:34,569 - mmdet - INFO - Epoch [9][1300/5462]\tlr: 5.000e-06, eta: 3:46:01, time: 0.355, data_time: 0.015, memory: 18658, loss_cls: 0.5726, loss_bbox: 2.3736, loss_obj: 2.1908, loss: 5.1371\n",
      "2022-11-18 16:41:08,013 - mmdet - INFO - Epoch [9][1400/5462]\tlr: 5.000e-06, eta: 3:45:22, time: 0.335, data_time: 0.010, memory: 18658, loss_cls: 0.5735, loss_bbox: 2.4207, loss_obj: 2.2129, loss: 5.2072\n",
      "2022-11-18 16:41:41,859 - mmdet - INFO - Epoch [9][1500/5462]\tlr: 5.000e-06, eta: 3:44:43, time: 0.339, data_time: 0.010, memory: 18658, loss_cls: 0.5743, loss_bbox: 2.4040, loss_obj: 2.1843, loss: 5.1626\n",
      "2022-11-18 16:42:17,979 - mmdet - INFO - Epoch [9][1600/5462]\tlr: 5.000e-06, eta: 3:44:06, time: 0.360, data_time: 0.008, memory: 18658, loss_cls: 0.5671, loss_bbox: 2.3440, loss_obj: 2.1472, loss: 5.0582\n",
      "2022-11-18 16:42:57,177 - mmdet - INFO - Epoch [9][1700/5462]\tlr: 5.000e-06, eta: 3:43:31, time: 0.393, data_time: 0.009, memory: 18658, loss_cls: 0.5664, loss_bbox: 2.3287, loss_obj: 2.1969, loss: 5.0921\n",
      "2022-11-18 16:43:30,525 - mmdet - INFO - Epoch [9][1800/5462]\tlr: 5.000e-06, eta: 3:42:52, time: 0.334, data_time: 0.013, memory: 18658, loss_cls: 0.5760, loss_bbox: 2.4210, loss_obj: 2.1757, loss: 5.1728\n",
      "2022-11-18 16:44:07,580 - mmdet - INFO - Epoch [9][1900/5462]\tlr: 5.000e-06, eta: 3:42:15, time: 0.369, data_time: 0.013, memory: 18658, loss_cls: 0.5686, loss_bbox: 2.3631, loss_obj: 2.1730, loss: 5.1047\n",
      "2022-11-18 16:44:44,298 - mmdet - INFO - Epoch [9][2000/5462]\tlr: 5.000e-06, eta: 3:41:38, time: 0.368, data_time: 0.010, memory: 18658, loss_cls: 0.5762, loss_bbox: 2.3915, loss_obj: 2.1745, loss: 5.1422\n",
      "2022-11-18 16:45:20,661 - mmdet - INFO - Epoch [9][2100/5462]\tlr: 5.000e-06, eta: 3:41:01, time: 0.363, data_time: 0.021, memory: 18658, loss_cls: 0.5717, loss_bbox: 2.3867, loss_obj: 2.2020, loss: 5.1604\n",
      "2022-11-18 16:45:57,178 - mmdet - INFO - Epoch [9][2200/5462]\tlr: 5.000e-06, eta: 3:40:25, time: 0.365, data_time: 0.010, memory: 18658, loss_cls: 0.5642, loss_bbox: 2.3201, loss_obj: 2.1579, loss: 5.0422\n",
      "2022-11-18 16:46:31,417 - mmdet - INFO - Epoch [9][2300/5462]\tlr: 5.000e-06, eta: 3:39:46, time: 0.343, data_time: 0.009, memory: 18658, loss_cls: 0.5757, loss_bbox: 2.4109, loss_obj: 2.2134, loss: 5.2000\n",
      "2022-11-18 16:47:09,066 - mmdet - INFO - Epoch [9][2400/5462]\tlr: 5.000e-06, eta: 3:39:10, time: 0.376, data_time: 0.013, memory: 18658, loss_cls: 0.5641, loss_bbox: 2.3261, loss_obj: 2.1607, loss: 5.0509\n",
      "2022-11-18 16:47:44,201 - mmdet - INFO - Epoch [9][2500/5462]\tlr: 5.000e-06, eta: 3:38:32, time: 0.352, data_time: 0.010, memory: 18658, loss_cls: 0.5794, loss_bbox: 2.4251, loss_obj: 2.1271, loss: 5.1316\n",
      "2022-11-18 16:48:19,516 - mmdet - INFO - Epoch [9][2600/5462]\tlr: 5.000e-06, eta: 3:37:54, time: 0.353, data_time: 0.008, memory: 18658, loss_cls: 0.5739, loss_bbox: 2.3863, loss_obj: 2.1603, loss: 5.1205\n",
      "2022-11-18 16:48:54,634 - mmdet - INFO - Epoch [9][2700/5462]\tlr: 5.000e-06, eta: 3:37:16, time: 0.351, data_time: 0.009, memory: 18658, loss_cls: 0.5751, loss_bbox: 2.4003, loss_obj: 2.1991, loss: 5.1745\n",
      "2022-11-18 16:49:26,968 - mmdet - INFO - Epoch [9][2800/5462]\tlr: 5.000e-06, eta: 3:36:36, time: 0.324, data_time: 0.015, memory: 18658, loss_cls: 0.5813, loss_bbox: 2.4568, loss_obj: 2.2247, loss: 5.2628\n",
      "2022-11-18 16:50:05,009 - mmdet - INFO - Epoch [9][2900/5462]\tlr: 5.000e-06, eta: 3:36:01, time: 0.379, data_time: 0.008, memory: 18658, loss_cls: 0.5713, loss_bbox: 2.3750, loss_obj: 2.2102, loss: 5.1565\n",
      "2022-11-18 16:50:41,431 - mmdet - INFO - Epoch [9][3000/5462]\tlr: 5.000e-06, eta: 3:35:24, time: 0.365, data_time: 0.010, memory: 18658, loss_cls: 0.5765, loss_bbox: 2.4268, loss_obj: 2.2551, loss: 5.2584\n",
      "2022-11-18 16:51:16,694 - mmdet - INFO - Epoch [9][3100/5462]\tlr: 5.000e-06, eta: 3:34:46, time: 0.352, data_time: 0.009, memory: 18658, loss_cls: 0.5760, loss_bbox: 2.4058, loss_obj: 2.2394, loss: 5.2212\n",
      "2022-11-18 16:51:52,875 - mmdet - INFO - Epoch [9][3200/5462]\tlr: 5.000e-06, eta: 3:34:09, time: 0.362, data_time: 0.011, memory: 18658, loss_cls: 0.5721, loss_bbox: 2.3733, loss_obj: 2.2141, loss: 5.1595\n",
      "2022-11-18 16:52:26,086 - mmdet - INFO - Epoch [9][3300/5462]\tlr: 5.000e-06, eta: 3:33:30, time: 0.332, data_time: 0.009, memory: 18658, loss_cls: 0.5749, loss_bbox: 2.4174, loss_obj: 2.1715, loss: 5.1638\n",
      "2022-11-18 16:53:02,581 - mmdet - INFO - Epoch [9][3400/5462]\tlr: 5.000e-06, eta: 3:32:53, time: 0.364, data_time: 0.011, memory: 18658, loss_cls: 0.5770, loss_bbox: 2.4065, loss_obj: 2.2189, loss: 5.2023\n",
      "2022-11-18 16:53:37,508 - mmdet - INFO - Epoch [9][3500/5462]\tlr: 5.000e-06, eta: 3:32:15, time: 0.350, data_time: 0.015, memory: 18658, loss_cls: 0.5781, loss_bbox: 2.4363, loss_obj: 2.2384, loss: 5.2528\n",
      "2022-11-18 16:54:14,946 - mmdet - INFO - Epoch [9][3600/5462]\tlr: 5.000e-06, eta: 3:31:39, time: 0.375, data_time: 0.009, memory: 18658, loss_cls: 0.5772, loss_bbox: 2.4045, loss_obj: 2.1615, loss: 5.1433\n",
      "2022-11-18 16:54:46,904 - mmdet - INFO - Epoch [9][3700/5462]\tlr: 5.000e-06, eta: 3:30:59, time: 0.320, data_time: 0.011, memory: 18658, loss_cls: 0.5737, loss_bbox: 2.3939, loss_obj: 2.1550, loss: 5.1227\n",
      "2022-11-18 16:55:19,791 - mmdet - INFO - Epoch [9][3800/5462]\tlr: 5.000e-06, eta: 3:30:20, time: 0.328, data_time: 0.008, memory: 18658, loss_cls: 0.5764, loss_bbox: 2.4413, loss_obj: 2.1389, loss: 5.1566\n",
      "2022-11-18 16:56:01,524 - mmdet - INFO - Epoch [9][3900/5462]\tlr: 5.000e-06, eta: 3:29:47, time: 0.417, data_time: 0.008, memory: 18658, loss_cls: 0.5662, loss_bbox: 2.3109, loss_obj: 2.1881, loss: 5.0652\n",
      "2022-11-18 16:56:35,559 - mmdet - INFO - Epoch [9][4000/5462]\tlr: 5.000e-06, eta: 3:29:08, time: 0.341, data_time: 0.009, memory: 18694, loss_cls: 0.5732, loss_bbox: 2.4216, loss_obj: 2.1395, loss: 5.1343\n",
      "2022-11-18 16:57:11,779 - mmdet - INFO - Epoch [9][4100/5462]\tlr: 5.000e-06, eta: 3:28:31, time: 0.363, data_time: 0.009, memory: 18694, loss_cls: 0.5750, loss_bbox: 2.3817, loss_obj: 2.2271, loss: 5.1837\n",
      "2022-11-18 16:57:47,522 - mmdet - INFO - Epoch [9][4200/5462]\tlr: 5.000e-06, eta: 3:27:54, time: 0.356, data_time: 0.008, memory: 18694, loss_cls: 0.5713, loss_bbox: 2.3780, loss_obj: 2.2038, loss: 5.1531\n",
      "2022-11-18 16:58:25,207 - mmdet - INFO - Epoch [9][4300/5462]\tlr: 5.000e-06, eta: 3:27:18, time: 0.377, data_time: 0.009, memory: 18694, loss_cls: 0.5694, loss_bbox: 2.3434, loss_obj: 2.1613, loss: 5.0741\n",
      "2022-11-18 16:59:00,758 - mmdet - INFO - Epoch [9][4400/5462]\tlr: 5.000e-06, eta: 3:26:40, time: 0.356, data_time: 0.023, memory: 18694, loss_cls: 0.5793, loss_bbox: 2.4411, loss_obj: 2.2446, loss: 5.2649\n",
      "2022-11-18 16:59:34,369 - mmdet - INFO - Epoch [9][4500/5462]\tlr: 5.000e-06, eta: 3:26:02, time: 0.336, data_time: 0.011, memory: 18694, loss_cls: 0.5813, loss_bbox: 2.4672, loss_obj: 2.2353, loss: 5.2838\n",
      "2022-11-18 17:00:10,631 - mmdet - INFO - Epoch [9][4600/5462]\tlr: 5.000e-06, eta: 3:25:25, time: 0.362, data_time: 0.009, memory: 18694, loss_cls: 0.5719, loss_bbox: 2.3866, loss_obj: 2.1892, loss: 5.1477\n",
      "2022-11-18 17:00:44,990 - mmdet - INFO - Epoch [9][4700/5462]\tlr: 5.000e-06, eta: 3:24:46, time: 0.344, data_time: 0.009, memory: 18694, loss_cls: 0.5679, loss_bbox: 2.3705, loss_obj: 2.2054, loss: 5.1438\n",
      "2022-11-18 17:01:17,231 - mmdet - INFO - Epoch [9][4800/5462]\tlr: 5.000e-06, eta: 3:24:07, time: 0.322, data_time: 0.009, memory: 18694, loss_cls: 0.5748, loss_bbox: 2.4229, loss_obj: 2.1757, loss: 5.1735\n",
      "2022-11-18 17:01:53,398 - mmdet - INFO - Epoch [9][4900/5462]\tlr: 5.000e-06, eta: 3:23:30, time: 0.361, data_time: 0.009, memory: 18694, loss_cls: 0.5730, loss_bbox: 2.3671, loss_obj: 2.2845, loss: 5.2247\n",
      "2022-11-18 17:02:24,670 - mmdet - INFO - Epoch [9][5000/5462]\tlr: 5.000e-06, eta: 3:22:50, time: 0.314, data_time: 0.009, memory: 18694, loss_cls: 0.5781, loss_bbox: 2.4422, loss_obj: 2.2034, loss: 5.2237\n",
      "2022-11-18 17:03:01,007 - mmdet - INFO - Epoch [9][5100/5462]\tlr: 5.000e-06, eta: 3:22:13, time: 0.362, data_time: 0.008, memory: 18694, loss_cls: 0.5740, loss_bbox: 2.3837, loss_obj: 2.2067, loss: 5.1644\n",
      "2022-11-18 17:03:37,629 - mmdet - INFO - Epoch [9][5200/5462]\tlr: 5.000e-06, eta: 3:21:36, time: 0.366, data_time: 0.009, memory: 18694, loss_cls: 0.5678, loss_bbox: 2.3499, loss_obj: 2.1642, loss: 5.0819\n",
      "2022-11-18 17:04:11,925 - mmdet - INFO - Epoch [9][5300/5462]\tlr: 5.000e-06, eta: 3:20:58, time: 0.343, data_time: 0.010, memory: 18694, loss_cls: 0.5775, loss_bbox: 2.4254, loss_obj: 2.1780, loss: 5.1809\n",
      "2022-11-18 17:04:46,617 - mmdet - INFO - Epoch [9][5400/5462]\tlr: 5.000e-06, eta: 3:20:20, time: 0.346, data_time: 0.009, memory: 18694, loss_cls: 0.5735, loss_bbox: 2.3934, loss_obj: 2.1813, loss: 5.1482\n",
      "2022-11-18 17:05:06,655 - mmdet - INFO - Saving checkpoint at 9 epochs\n"
     ]
    },
    {
     "name": "stdout",
     "output_type": "stream",
     "text": [
      "[>>>>>>>>>>>>>>>>>>>>>>>>] 10000/10000, 27.4 task/s, elapsed: 364s, ETA:     0s"
     ]
    },
    {
     "name": "stderr",
     "output_type": "stream",
     "text": [
      "2022-11-18 17:11:44,211 - mmdet - INFO - Evaluating bbox...\n"
     ]
    },
    {
     "name": "stdout",
     "output_type": "stream",
     "text": [
      "Loading and preparing results...\n",
      "DONE (t=1.43s)\n",
      "creating index...\n",
      "index created!\n",
      "Running per image evaluation...\n",
      "Evaluate annotation type *bbox*\n",
      "DONE (t=87.11s).\n",
      "Accumulating evaluation results...\n"
     ]
    },
    {
     "name": "stderr",
     "output_type": "stream",
     "text": [
      "2022-11-18 17:13:30,119 - mmdet - INFO - \n",
      " Average Precision  (AP) @[ IoU=0.50:0.95 | area=   all | maxDets=100 ] = 0.224\n",
      " Average Precision  (AP) @[ IoU=0.50      | area=   all | maxDets=1000 ] = 0.420\n",
      " Average Precision  (AP) @[ IoU=0.75      | area=   all | maxDets=1000 ] = 0.217\n",
      " Average Precision  (AP) @[ IoU=0.50:0.95 | area= small | maxDets=1000 ] = 0.209\n",
      " Average Precision  (AP) @[ IoU=0.50:0.95 | area=medium | maxDets=1000 ] = 0.424\n",
      " Average Precision  (AP) @[ IoU=0.50:0.95 | area= large | maxDets=1000 ] = 0.458\n",
      " Average Recall     (AR) @[ IoU=0.50:0.95 | area=   all | maxDets=100 ] = 0.395\n",
      " Average Recall     (AR) @[ IoU=0.50:0.95 | area=   all | maxDets=300 ] = 0.407\n",
      " Average Recall     (AR) @[ IoU=0.50:0.95 | area=   all | maxDets=1000 ] = 0.408\n",
      " Average Recall     (AR) @[ IoU=0.50:0.95 | area= small | maxDets=1000 ] = 0.386\n",
      " Average Recall     (AR) @[ IoU=0.50:0.95 | area=medium | maxDets=1000 ] = 0.654\n",
      " Average Recall     (AR) @[ IoU=0.50:0.95 | area= large | maxDets=1000 ] = 0.705\n",
      "\n"
     ]
    },
    {
     "name": "stdout",
     "output_type": "stream",
     "text": [
      "DONE (t=14.18s).\n"
     ]
    },
    {
     "name": "stderr",
     "output_type": "stream",
     "text": [
      "2022-11-18 17:13:30,574 - mmdet - INFO - The previous best checkpoint D:\\Homework\\course_cvdl\\task3\\workdirs\\yolox_l_8x8_300e_coco\\best_bbox_mAP_epoch_8.pth was removed\n",
      "2022-11-18 17:13:37,843 - mmdet - INFO - Now best checkpoint is saved as best_bbox_mAP_epoch_9.pth.\n",
      "2022-11-18 17:13:37,844 - mmdet - INFO - Best bbox_mAP is 0.2240 at 9 epoch.\n",
      "2022-11-18 17:13:37,845 - mmdet - INFO - Epoch(val) [9][10000]\tbbox_mAP: 0.2240, bbox_mAP_50: 0.4200, bbox_mAP_75: 0.2170, bbox_mAP_s: 0.2090, bbox_mAP_m: 0.4240, bbox_mAP_l: 0.4580, bbox_mAP_copypaste: 0.224 0.420 0.217 0.209 0.424 0.458\n",
      "2022-11-18 17:14:14,753 - mmdet - INFO - Epoch [10][100/5462]\tlr: 5.000e-06, eta: 3:19:06, time: 0.367, data_time: 0.035, memory: 18694, loss_cls: 0.5706, loss_bbox: 2.3779, loss_obj: 2.0620, loss: 5.0105\n",
      "2022-11-18 17:14:48,342 - mmdet - INFO - Epoch [10][200/5462]\tlr: 5.000e-06, eta: 3:18:27, time: 0.336, data_time: 0.009, memory: 18694, loss_cls: 0.5710, loss_bbox: 2.3671, loss_obj: 2.1559, loss: 5.0939\n",
      "2022-11-18 17:15:25,103 - mmdet - INFO - Epoch [10][300/5462]\tlr: 5.000e-06, eta: 3:17:51, time: 0.368, data_time: 0.010, memory: 18694, loss_cls: 0.5711, loss_bbox: 2.3803, loss_obj: 2.2161, loss: 5.1675\n",
      "2022-11-18 17:16:03,226 - mmdet - INFO - Epoch [10][400/5462]\tlr: 5.000e-06, eta: 3:17:15, time: 0.383, data_time: 0.009, memory: 18694, loss_cls: 0.5700, loss_bbox: 2.3704, loss_obj: 2.2337, loss: 5.1741\n",
      "2022-11-18 17:16:37,863 - mmdet - INFO - Epoch [10][500/5462]\tlr: 5.000e-06, eta: 3:16:37, time: 0.346, data_time: 0.008, memory: 18694, loss_cls: 0.5758, loss_bbox: 2.4191, loss_obj: 2.2235, loss: 5.2184\n",
      "2022-11-18 17:17:07,368 - mmdet - INFO - Epoch [10][600/5462]\tlr: 5.000e-06, eta: 3:15:56, time: 0.295, data_time: 0.009, memory: 18694, loss_cls: 0.5778, loss_bbox: 2.4434, loss_obj: 2.1985, loss: 5.2196\n",
      "2022-11-18 17:17:41,085 - mmdet - INFO - Epoch [10][700/5462]\tlr: 5.000e-06, eta: 3:15:18, time: 0.336, data_time: 0.009, memory: 18694, loss_cls: 0.5737, loss_bbox: 2.3919, loss_obj: 2.2098, loss: 5.1754\n",
      "2022-11-18 17:18:15,801 - mmdet - INFO - Epoch [10][800/5462]\tlr: 5.000e-06, eta: 3:14:40, time: 0.349, data_time: 0.010, memory: 18694, loss_cls: 0.5766, loss_bbox: 2.4106, loss_obj: 2.2621, loss: 5.2493\n",
      "2022-11-18 17:18:54,238 - mmdet - INFO - Epoch [10][900/5462]\tlr: 5.000e-06, eta: 3:14:05, time: 0.383, data_time: 0.008, memory: 18694, loss_cls: 0.5637, loss_bbox: 2.3102, loss_obj: 2.1590, loss: 5.0329\n",
      "2022-11-18 17:19:26,496 - mmdet - INFO - Epoch [10][1000/5462]\tlr: 5.000e-06, eta: 3:13:26, time: 0.324, data_time: 0.010, memory: 18694, loss_cls: 0.5731, loss_bbox: 2.3869, loss_obj: 2.1011, loss: 5.0611\n",
      "2022-11-18 17:20:02,591 - mmdet - INFO - Epoch [10][1100/5462]\tlr: 5.000e-06, eta: 3:12:49, time: 0.361, data_time: 0.008, memory: 18694, loss_cls: 0.5648, loss_bbox: 2.3235, loss_obj: 2.1339, loss: 5.0222\n",
      "2022-11-18 17:20:32,957 - mmdet - INFO - Epoch [10][1200/5462]\tlr: 5.000e-06, eta: 3:12:08, time: 0.303, data_time: 0.009, memory: 18694, loss_cls: 0.5813, loss_bbox: 2.4747, loss_obj: 2.2424, loss: 5.2984\n",
      "2022-11-18 17:21:08,617 - mmdet - INFO - Epoch [10][1300/5462]\tlr: 5.000e-06, eta: 3:11:31, time: 0.356, data_time: 0.009, memory: 18694, loss_cls: 0.5762, loss_bbox: 2.4269, loss_obj: 2.1338, loss: 5.1369\n",
      "2022-11-18 17:21:42,865 - mmdet - INFO - Epoch [10][1400/5462]\tlr: 5.000e-06, eta: 3:10:53, time: 0.343, data_time: 0.009, memory: 18694, loss_cls: 0.5659, loss_bbox: 2.3663, loss_obj: 2.1585, loss: 5.0907\n",
      "2022-11-18 17:22:15,715 - mmdet - INFO - Epoch [10][1500/5462]\tlr: 5.000e-06, eta: 3:10:15, time: 0.328, data_time: 0.009, memory: 18694, loss_cls: 0.5810, loss_bbox: 2.4614, loss_obj: 2.1465, loss: 5.1889\n",
      "2022-11-18 17:22:50,270 - mmdet - INFO - Epoch [10][1600/5462]\tlr: 5.000e-06, eta: 3:09:37, time: 0.347, data_time: 0.010, memory: 18694, loss_cls: 0.5785, loss_bbox: 2.4426, loss_obj: 2.2510, loss: 5.2721\n",
      "2022-11-18 17:23:27,387 - mmdet - INFO - Epoch [10][1700/5462]\tlr: 5.000e-06, eta: 3:09:01, time: 0.370, data_time: 0.008, memory: 18694, loss_cls: 0.5657, loss_bbox: 2.3233, loss_obj: 2.1219, loss: 5.0109\n",
      "2022-11-18 17:24:05,333 - mmdet - INFO - Epoch [10][1800/5462]\tlr: 5.000e-06, eta: 3:08:25, time: 0.380, data_time: 0.009, memory: 18694, loss_cls: 0.5676, loss_bbox: 2.3570, loss_obj: 2.1432, loss: 5.0677\n",
      "2022-11-18 17:24:42,250 - mmdet - INFO - Epoch [10][1900/5462]\tlr: 5.000e-06, eta: 3:07:49, time: 0.369, data_time: 0.009, memory: 18694, loss_cls: 0.5748, loss_bbox: 2.4173, loss_obj: 2.1844, loss: 5.1766\n",
      "2022-11-18 17:25:18,446 - mmdet - INFO - Epoch [10][2000/5462]\tlr: 5.000e-06, eta: 3:07:12, time: 0.362, data_time: 0.009, memory: 18694, loss_cls: 0.5701, loss_bbox: 2.3511, loss_obj: 2.1538, loss: 5.0750\n",
      "2022-11-18 17:25:55,220 - mmdet - INFO - Epoch [10][2100/5462]\tlr: 5.000e-06, eta: 3:06:36, time: 0.367, data_time: 0.009, memory: 18694, loss_cls: 0.5732, loss_bbox: 2.3632, loss_obj: 2.1733, loss: 5.1097\n",
      "2022-11-18 17:26:34,563 - mmdet - INFO - Epoch [10][2200/5462]\tlr: 5.000e-06, eta: 3:06:01, time: 0.395, data_time: 0.009, memory: 18694, loss_cls: 0.5773, loss_bbox: 2.3993, loss_obj: 2.3312, loss: 5.3078\n",
      "2022-11-18 17:27:10,995 - mmdet - INFO - Epoch [10][2300/5462]\tlr: 5.000e-06, eta: 3:05:25, time: 0.364, data_time: 0.008, memory: 18694, loss_cls: 0.5744, loss_bbox: 2.4433, loss_obj: 2.2732, loss: 5.2910\n",
      "2022-11-18 17:27:44,139 - mmdet - INFO - Epoch [10][2400/5462]\tlr: 5.000e-06, eta: 3:04:46, time: 0.331, data_time: 0.009, memory: 18694, loss_cls: 0.5791, loss_bbox: 2.4444, loss_obj: 2.2194, loss: 5.2429\n",
      "2022-11-18 17:28:19,591 - mmdet - INFO - Epoch [10][2500/5462]\tlr: 5.000e-06, eta: 3:04:09, time: 0.355, data_time: 0.010, memory: 18694, loss_cls: 0.5767, loss_bbox: 2.4057, loss_obj: 2.2555, loss: 5.2378\n",
      "2022-11-18 17:28:55,514 - mmdet - INFO - Epoch [10][2600/5462]\tlr: 5.000e-06, eta: 3:03:32, time: 0.359, data_time: 0.009, memory: 18694, loss_cls: 0.5676, loss_bbox: 2.3247, loss_obj: 2.1264, loss: 5.0187\n",
      "2022-11-18 17:29:31,594 - mmdet - INFO - Epoch [10][2700/5462]\tlr: 5.000e-06, eta: 3:02:55, time: 0.362, data_time: 0.016, memory: 18694, loss_cls: 0.5734, loss_bbox: 2.4190, loss_obj: 2.2403, loss: 5.2326\n",
      "2022-11-18 17:30:12,068 - mmdet - INFO - Epoch [10][2800/5462]\tlr: 5.000e-06, eta: 3:02:21, time: 0.404, data_time: 0.008, memory: 18694, loss_cls: 0.5653, loss_bbox: 2.3014, loss_obj: 2.1873, loss: 5.0541\n",
      "2022-11-18 17:30:45,368 - mmdet - INFO - Epoch [10][2900/5462]\tlr: 5.000e-06, eta: 3:01:43, time: 0.333, data_time: 0.009, memory: 18694, loss_cls: 0.5763, loss_bbox: 2.4226, loss_obj: 2.1939, loss: 5.1928\n",
      "2022-11-18 17:31:16,725 - mmdet - INFO - Epoch [10][3000/5462]\tlr: 5.000e-06, eta: 3:01:03, time: 0.313, data_time: 0.009, memory: 18694, loss_cls: 0.5808, loss_bbox: 2.4522, loss_obj: 2.1661, loss: 5.1992\n",
      "2022-11-18 17:31:54,797 - mmdet - INFO - Epoch [10][3100/5462]\tlr: 5.000e-06, eta: 3:00:28, time: 0.381, data_time: 0.010, memory: 18694, loss_cls: 0.5729, loss_bbox: 2.3788, loss_obj: 2.1678, loss: 5.1195\n",
      "2022-11-18 17:32:29,173 - mmdet - INFO - Epoch [10][3200/5462]\tlr: 5.000e-06, eta: 2:59:50, time: 0.344, data_time: 0.009, memory: 18694, loss_cls: 0.5732, loss_bbox: 2.4078, loss_obj: 2.1601, loss: 5.1410\n",
      "2022-11-18 17:33:03,150 - mmdet - INFO - Epoch [10][3300/5462]\tlr: 5.000e-06, eta: 2:59:12, time: 0.339, data_time: 0.009, memory: 18694, loss_cls: 0.5701, loss_bbox: 2.3579, loss_obj: 2.1564, loss: 5.0844\n",
      "2022-11-18 17:33:36,486 - mmdet - INFO - Epoch [10][3400/5462]\tlr: 5.000e-06, eta: 2:58:34, time: 0.333, data_time: 0.009, memory: 18694, loss_cls: 0.5725, loss_bbox: 2.3893, loss_obj: 2.1690, loss: 5.1308\n",
      "2022-11-18 17:34:05,101 - mmdet - INFO - Epoch [10][3500/5462]\tlr: 5.000e-06, eta: 2:57:53, time: 0.287, data_time: 0.010, memory: 18694, loss_cls: 0.5754, loss_bbox: 2.4357, loss_obj: 2.2033, loss: 5.2144\n",
      "2022-11-18 17:34:38,786 - mmdet - INFO - Epoch [10][3600/5462]\tlr: 5.000e-06, eta: 2:57:15, time: 0.336, data_time: 0.009, memory: 18694, loss_cls: 0.5781, loss_bbox: 2.4417, loss_obj: 2.1984, loss: 5.2181\n",
      "2022-11-18 17:35:12,141 - mmdet - INFO - Epoch [10][3700/5462]\tlr: 5.000e-06, eta: 2:56:37, time: 0.334, data_time: 0.009, memory: 18694, loss_cls: 0.5761, loss_bbox: 2.4294, loss_obj: 2.2286, loss: 5.2341\n",
      "2022-11-18 17:35:48,066 - mmdet - INFO - Epoch [10][3800/5462]\tlr: 5.000e-06, eta: 2:56:00, time: 0.359, data_time: 0.009, memory: 18694, loss_cls: 0.5770, loss_bbox: 2.4077, loss_obj: 2.2201, loss: 5.2048\n",
      "2022-11-18 17:36:24,086 - mmdet - INFO - Epoch [10][3900/5462]\tlr: 5.000e-06, eta: 2:55:24, time: 0.360, data_time: 0.010, memory: 18694, loss_cls: 0.5693, loss_bbox: 2.3568, loss_obj: 2.1266, loss: 5.0528\n",
      "2022-11-18 17:36:59,920 - mmdet - INFO - Epoch [10][4000/5462]\tlr: 5.000e-06, eta: 2:54:47, time: 0.359, data_time: 0.010, memory: 18694, loss_cls: 0.5673, loss_bbox: 2.3626, loss_obj: 2.1522, loss: 5.0822\n",
      "2022-11-18 17:37:33,676 - mmdet - INFO - Epoch [10][4100/5462]\tlr: 5.000e-06, eta: 2:54:09, time: 0.338, data_time: 0.009, memory: 18694, loss_cls: 0.5755, loss_bbox: 2.4134, loss_obj: 2.1599, loss: 5.1488\n",
      "2022-11-18 17:38:13,451 - mmdet - INFO - Epoch [10][4200/5462]\tlr: 5.000e-06, eta: 2:53:34, time: 0.399, data_time: 0.009, memory: 18694, loss_cls: 0.5675, loss_bbox: 2.3388, loss_obj: 2.1963, loss: 5.1025\n",
      "2022-11-18 17:38:41,975 - mmdet - INFO - Epoch [10][4300/5462]\tlr: 5.000e-06, eta: 2:52:54, time: 0.285, data_time: 0.008, memory: 18694, loss_cls: 0.5845, loss_bbox: 2.4981, loss_obj: 2.2475, loss: 5.3301\n",
      "2022-11-18 17:39:18,735 - mmdet - INFO - Epoch [10][4400/5462]\tlr: 5.000e-06, eta: 2:52:17, time: 0.367, data_time: 0.009, memory: 18694, loss_cls: 0.5704, loss_bbox: 2.3752, loss_obj: 2.1409, loss: 5.0865\n",
      "2022-11-18 17:39:55,008 - mmdet - INFO - Epoch [10][4500/5462]\tlr: 5.000e-06, eta: 2:51:41, time: 0.363, data_time: 0.009, memory: 18694, loss_cls: 0.5696, loss_bbox: 2.3604, loss_obj: 2.1184, loss: 5.0484\n",
      "2022-11-18 17:40:29,828 - mmdet - INFO - Epoch [10][4600/5462]\tlr: 5.000e-06, eta: 2:51:04, time: 0.349, data_time: 0.009, memory: 18694, loss_cls: 0.5759, loss_bbox: 2.4144, loss_obj: 2.1629, loss: 5.1533\n",
      "2022-11-18 17:41:05,647 - mmdet - INFO - Epoch [10][4700/5462]\tlr: 5.000e-06, eta: 2:50:27, time: 0.357, data_time: 0.008, memory: 18694, loss_cls: 0.5710, loss_bbox: 2.3698, loss_obj: 2.1008, loss: 5.0415\n",
      "2022-11-18 17:41:38,394 - mmdet - INFO - Epoch [10][4800/5462]\tlr: 5.000e-06, eta: 2:49:48, time: 0.328, data_time: 0.010, memory: 18694, loss_cls: 0.5727, loss_bbox: 2.3882, loss_obj: 2.1709, loss: 5.1319\n",
      "2022-11-18 17:42:13,847 - mmdet - INFO - Epoch [10][4900/5462]\tlr: 5.000e-06, eta: 2:49:11, time: 0.354, data_time: 0.009, memory: 18694, loss_cls: 0.5732, loss_bbox: 2.3967, loss_obj: 2.2469, loss: 5.2168\n",
      "2022-11-18 17:42:49,552 - mmdet - INFO - Epoch [10][5000/5462]\tlr: 5.000e-06, eta: 2:48:35, time: 0.358, data_time: 0.009, memory: 18694, loss_cls: 0.5686, loss_bbox: 2.3578, loss_obj: 2.1484, loss: 5.0748\n",
      "2022-11-18 17:43:25,111 - mmdet - INFO - Epoch [10][5100/5462]\tlr: 5.000e-06, eta: 2:47:58, time: 0.355, data_time: 0.008, memory: 18694, loss_cls: 0.5702, loss_bbox: 2.3629, loss_obj: 2.1135, loss: 5.0466\n",
      "2022-11-18 17:44:02,301 - mmdet - INFO - Epoch [10][5200/5462]\tlr: 5.000e-06, eta: 2:47:22, time: 0.371, data_time: 0.009, memory: 18694, loss_cls: 0.5672, loss_bbox: 2.3334, loss_obj: 2.1141, loss: 5.0147\n",
      "2022-11-18 17:44:36,146 - mmdet - INFO - Epoch [10][5300/5462]\tlr: 5.000e-06, eta: 2:46:44, time: 0.339, data_time: 0.010, memory: 18694, loss_cls: 0.5755, loss_bbox: 2.4135, loss_obj: 2.1374, loss: 5.1265\n",
      "2022-11-18 17:45:10,227 - mmdet - INFO - Epoch [10][5400/5462]\tlr: 5.000e-06, eta: 2:46:06, time: 0.341, data_time: 0.009, memory: 18694, loss_cls: 0.5719, loss_bbox: 2.3865, loss_obj: 2.1566, loss: 5.1151\n",
      "2022-11-18 17:45:30,310 - mmdet - INFO - Saving checkpoint at 10 epochs\n"
     ]
    },
    {
     "name": "stdout",
     "output_type": "stream",
     "text": [
      "[>>>>>>>>>>>>>>>>>>>>>>>>] 10000/10000, 27.7 task/s, elapsed: 361s, ETA:     0s"
     ]
    },
    {
     "name": "stderr",
     "output_type": "stream",
     "text": [
      "2022-11-18 17:52:01,081 - mmdet - INFO - Evaluating bbox...\n"
     ]
    },
    {
     "name": "stdout",
     "output_type": "stream",
     "text": [
      "Loading and preparing results...\n",
      "DONE (t=1.35s)\n",
      "creating index...\n",
      "index created!\n",
      "Running per image evaluation...\n",
      "Evaluate annotation type *bbox*\n",
      "DONE (t=84.41s).\n",
      "Accumulating evaluation results...\n"
     ]
    },
    {
     "name": "stderr",
     "output_type": "stream",
     "text": [
      "2022-11-18 17:53:43,914 - mmdet - INFO - \n",
      " Average Precision  (AP) @[ IoU=0.50:0.95 | area=   all | maxDets=100 ] = 0.228\n",
      " Average Precision  (AP) @[ IoU=0.50      | area=   all | maxDets=1000 ] = 0.426\n",
      " Average Precision  (AP) @[ IoU=0.75      | area=   all | maxDets=1000 ] = 0.221\n",
      " Average Precision  (AP) @[ IoU=0.50:0.95 | area= small | maxDets=1000 ] = 0.212\n",
      " Average Precision  (AP) @[ IoU=0.50:0.95 | area=medium | maxDets=1000 ] = 0.429\n",
      " Average Precision  (AP) @[ IoU=0.50:0.95 | area= large | maxDets=1000 ] = 0.468\n",
      " Average Recall     (AR) @[ IoU=0.50:0.95 | area=   all | maxDets=100 ] = 0.399\n",
      " Average Recall     (AR) @[ IoU=0.50:0.95 | area=   all | maxDets=300 ] = 0.410\n",
      " Average Recall     (AR) @[ IoU=0.50:0.95 | area=   all | maxDets=1000 ] = 0.412\n",
      " Average Recall     (AR) @[ IoU=0.50:0.95 | area= small | maxDets=1000 ] = 0.389\n",
      " Average Recall     (AR) @[ IoU=0.50:0.95 | area=medium | maxDets=1000 ] = 0.658\n",
      " Average Recall     (AR) @[ IoU=0.50:0.95 | area= large | maxDets=1000 ] = 0.722\n",
      "\n"
     ]
    },
    {
     "name": "stdout",
     "output_type": "stream",
     "text": [
      "DONE (t=13.80s).\n"
     ]
    },
    {
     "name": "stderr",
     "output_type": "stream",
     "text": [
      "2022-11-18 17:53:44,369 - mmdet - INFO - The previous best checkpoint D:\\Homework\\course_cvdl\\task3\\workdirs\\yolox_l_8x8_300e_coco\\best_bbox_mAP_epoch_9.pth was removed\n",
      "2022-11-18 17:53:51,681 - mmdet - INFO - Now best checkpoint is saved as best_bbox_mAP_epoch_10.pth.\n",
      "2022-11-18 17:53:51,681 - mmdet - INFO - Best bbox_mAP is 0.2280 at 10 epoch.\n",
      "2022-11-18 17:53:51,682 - mmdet - INFO - Epoch(val) [10][10000]\tbbox_mAP: 0.2280, bbox_mAP_50: 0.4260, bbox_mAP_75: 0.2210, bbox_mAP_s: 0.2120, bbox_mAP_m: 0.4290, bbox_mAP_l: 0.4680, bbox_mAP_copypaste: 0.228 0.426 0.221 0.212 0.429 0.468\n",
      "2022-11-18 17:54:29,894 - mmdet - INFO - Epoch [11][100/5462]\tlr: 5.000e-06, eta: 2:44:57, time: 0.381, data_time: 0.036, memory: 18694, loss_cls: 0.5741, loss_bbox: 2.4001, loss_obj: 2.2019, loss: 5.1760\n",
      "2022-11-18 17:55:02,742 - mmdet - INFO - Epoch [11][200/5462]\tlr: 5.000e-06, eta: 2:44:19, time: 0.328, data_time: 0.008, memory: 18694, loss_cls: 0.5732, loss_bbox: 2.4137, loss_obj: 2.1602, loss: 5.1471\n",
      "2022-11-18 17:55:38,027 - mmdet - INFO - Epoch [11][300/5462]\tlr: 5.000e-06, eta: 2:43:42, time: 0.353, data_time: 0.009, memory: 18694, loss_cls: 0.5732, loss_bbox: 2.3854, loss_obj: 2.1867, loss: 5.1453\n",
      "2022-11-18 17:56:13,076 - mmdet - INFO - Epoch [11][400/5462]\tlr: 5.000e-06, eta: 2:43:05, time: 0.351, data_time: 0.009, memory: 18694, loss_cls: 0.5695, loss_bbox: 2.3698, loss_obj: 2.1485, loss: 5.0878\n",
      "2022-11-18 17:56:49,432 - mmdet - INFO - Epoch [11][500/5462]\tlr: 5.000e-06, eta: 2:42:29, time: 0.364, data_time: 0.008, memory: 18694, loss_cls: 0.5715, loss_bbox: 2.3776, loss_obj: 2.1413, loss: 5.0904\n",
      "2022-11-18 17:57:23,920 - mmdet - INFO - Epoch [11][600/5462]\tlr: 5.000e-06, eta: 2:41:51, time: 0.345, data_time: 0.008, memory: 18694, loss_cls: 0.5687, loss_bbox: 2.3350, loss_obj: 2.1283, loss: 5.0319\n",
      "2022-11-18 17:58:02,246 - mmdet - INFO - Epoch [11][700/5462]\tlr: 5.000e-06, eta: 2:41:16, time: 0.382, data_time: 0.009, memory: 18694, loss_cls: 0.5689, loss_bbox: 2.3628, loss_obj: 2.1449, loss: 5.0766\n",
      "2022-11-18 17:58:37,818 - mmdet - INFO - Epoch [11][800/5462]\tlr: 5.000e-06, eta: 2:40:39, time: 0.356, data_time: 0.010, memory: 18694, loss_cls: 0.5767, loss_bbox: 2.4142, loss_obj: 2.1592, loss: 5.1501\n",
      "2022-11-18 17:59:12,432 - mmdet - INFO - Epoch [11][900/5462]\tlr: 5.000e-06, eta: 2:40:02, time: 0.347, data_time: 0.009, memory: 18694, loss_cls: 0.5729, loss_bbox: 2.3956, loss_obj: 2.2064, loss: 5.1749\n",
      "2022-11-18 17:59:45,454 - mmdet - INFO - Epoch [11][1000/5462]\tlr: 5.000e-06, eta: 2:39:24, time: 0.330, data_time: 0.009, memory: 18694, loss_cls: 0.5795, loss_bbox: 2.4239, loss_obj: 2.1842, loss: 5.1876\n",
      "2022-11-18 18:00:22,704 - mmdet - INFO - Epoch [11][1100/5462]\tlr: 5.000e-06, eta: 2:38:48, time: 0.372, data_time: 0.009, memory: 18694, loss_cls: 0.5656, loss_bbox: 2.3529, loss_obj: 2.1666, loss: 5.0852\n",
      "2022-11-18 18:00:57,042 - mmdet - INFO - Epoch [11][1200/5462]\tlr: 5.000e-06, eta: 2:38:11, time: 0.344, data_time: 0.009, memory: 18694, loss_cls: 0.5726, loss_bbox: 2.4182, loss_obj: 2.2470, loss: 5.2379\n",
      "2022-11-18 18:01:32,048 - mmdet - INFO - Epoch [11][1300/5462]\tlr: 5.000e-06, eta: 2:37:34, time: 0.350, data_time: 0.009, memory: 18694, loss_cls: 0.5783, loss_bbox: 2.4121, loss_obj: 2.1352, loss: 5.1256\n",
      "2022-11-18 18:02:10,461 - mmdet - INFO - Epoch [11][1400/5462]\tlr: 5.000e-06, eta: 2:36:58, time: 0.384, data_time: 0.009, memory: 18694, loss_cls: 0.5705, loss_bbox: 2.3495, loss_obj: 2.1685, loss: 5.0885\n",
      "2022-11-18 18:02:46,217 - mmdet - INFO - Epoch [11][1500/5462]\tlr: 5.000e-06, eta: 2:36:22, time: 0.359, data_time: 0.009, memory: 18694, loss_cls: 0.5737, loss_bbox: 2.3867, loss_obj: 2.2123, loss: 5.1728\n",
      "2022-11-18 18:03:23,110 - mmdet - INFO - Epoch [11][1600/5462]\tlr: 5.000e-06, eta: 2:35:46, time: 0.368, data_time: 0.008, memory: 18694, loss_cls: 0.5682, loss_bbox: 2.3646, loss_obj: 2.1784, loss: 5.1113\n",
      "2022-11-18 18:04:02,066 - mmdet - INFO - Epoch [11][1700/5462]\tlr: 5.000e-06, eta: 2:35:11, time: 0.390, data_time: 0.009, memory: 18694, loss_cls: 0.5698, loss_bbox: 2.3566, loss_obj: 2.1876, loss: 5.1141\n",
      "2022-11-18 18:04:36,217 - mmdet - INFO - Epoch [11][1800/5462]\tlr: 5.000e-06, eta: 2:34:33, time: 0.342, data_time: 0.009, memory: 18694, loss_cls: 0.5711, loss_bbox: 2.3807, loss_obj: 2.1333, loss: 5.0850\n",
      "2022-11-18 18:05:09,114 - mmdet - INFO - Epoch [11][1900/5462]\tlr: 5.000e-06, eta: 2:33:55, time: 0.328, data_time: 0.013, memory: 18694, loss_cls: 0.5710, loss_bbox: 2.4084, loss_obj: 2.1950, loss: 5.1744\n",
      "2022-11-18 18:05:44,422 - mmdet - INFO - Epoch [11][2000/5462]\tlr: 5.000e-06, eta: 2:33:19, time: 0.354, data_time: 0.010, memory: 18694, loss_cls: 0.5642, loss_bbox: 2.3236, loss_obj: 2.0573, loss: 4.9451\n",
      "2022-11-18 18:06:19,003 - mmdet - INFO - Epoch [11][2100/5462]\tlr: 5.000e-06, eta: 2:32:41, time: 0.346, data_time: 0.008, memory: 18694, loss_cls: 0.5737, loss_bbox: 2.4099, loss_obj: 2.1953, loss: 5.1788\n",
      "2022-11-18 18:06:52,232 - mmdet - INFO - Epoch [11][2200/5462]\tlr: 5.000e-06, eta: 2:32:04, time: 0.332, data_time: 0.008, memory: 18694, loss_cls: 0.5685, loss_bbox: 2.3844, loss_obj: 2.1185, loss: 5.0715\n",
      "2022-11-18 18:07:30,787 - mmdet - INFO - Epoch [11][2300/5462]\tlr: 5.000e-06, eta: 2:31:28, time: 0.385, data_time: 0.008, memory: 18694, loss_cls: 0.5650, loss_bbox: 2.3082, loss_obj: 2.1192, loss: 4.9924\n",
      "2022-11-18 18:08:08,667 - mmdet - INFO - Epoch [11][2400/5462]\tlr: 5.000e-06, eta: 2:30:53, time: 0.379, data_time: 0.009, memory: 18694, loss_cls: 0.5645, loss_bbox: 2.3125, loss_obj: 2.1258, loss: 5.0028\n",
      "2022-11-18 18:08:47,509 - mmdet - INFO - Epoch [11][2500/5462]\tlr: 5.000e-06, eta: 2:30:17, time: 0.388, data_time: 0.009, memory: 18694, loss_cls: 0.5649, loss_bbox: 2.3155, loss_obj: 2.1704, loss: 5.0508\n",
      "2022-11-18 18:09:20,854 - mmdet - INFO - Epoch [11][2600/5462]\tlr: 5.000e-06, eta: 2:29:40, time: 0.334, data_time: 0.010, memory: 18694, loss_cls: 0.5723, loss_bbox: 2.3743, loss_obj: 2.1510, loss: 5.0976\n",
      "2022-11-18 18:09:57,588 - mmdet - INFO - Epoch [11][2700/5462]\tlr: 5.000e-06, eta: 2:29:04, time: 0.367, data_time: 0.009, memory: 18694, loss_cls: 0.5694, loss_bbox: 2.3694, loss_obj: 2.1298, loss: 5.0686\n",
      "2022-11-18 18:10:32,242 - mmdet - INFO - Epoch [11][2800/5462]\tlr: 5.000e-06, eta: 2:28:27, time: 0.347, data_time: 0.011, memory: 18694, loss_cls: 0.5735, loss_bbox: 2.4087, loss_obj: 2.1908, loss: 5.1730\n",
      "2022-11-18 18:11:10,870 - mmdet - INFO - Epoch [11][2900/5462]\tlr: 5.000e-06, eta: 2:27:51, time: 0.386, data_time: 0.008, memory: 18694, loss_cls: 0.5716, loss_bbox: 2.3943, loss_obj: 2.2243, loss: 5.1902\n",
      "2022-11-18 18:11:44,580 - mmdet - INFO - Epoch [11][3000/5462]\tlr: 5.000e-06, eta: 2:27:14, time: 0.338, data_time: 0.009, memory: 18694, loss_cls: 0.5760, loss_bbox: 2.4149, loss_obj: 2.1833, loss: 5.1743\n",
      "2022-11-18 18:12:22,137 - mmdet - INFO - Epoch [11][3100/5462]\tlr: 5.000e-06, eta: 2:26:38, time: 0.375, data_time: 0.008, memory: 18694, loss_cls: 0.5726, loss_bbox: 2.3845, loss_obj: 2.0976, loss: 5.0547\n",
      "2022-11-18 18:12:59,753 - mmdet - INFO - Epoch [11][3200/5462]\tlr: 5.000e-06, eta: 2:26:02, time: 0.376, data_time: 0.009, memory: 18694, loss_cls: 0.5679, loss_bbox: 2.3393, loss_obj: 2.1914, loss: 5.0986\n",
      "2022-11-18 18:13:32,355 - mmdet - INFO - Epoch [11][3300/5462]\tlr: 5.000e-06, eta: 2:25:24, time: 0.327, data_time: 0.009, memory: 18694, loss_cls: 0.5782, loss_bbox: 2.4445, loss_obj: 2.1960, loss: 5.2187\n",
      "2022-11-18 18:14:05,119 - mmdet - INFO - Epoch [11][3400/5462]\tlr: 5.000e-06, eta: 2:24:46, time: 0.327, data_time: 0.009, memory: 18694, loss_cls: 0.5728, loss_bbox: 2.3945, loss_obj: 2.1497, loss: 5.1170\n",
      "2022-11-18 18:14:37,117 - mmdet - INFO - Epoch [11][3500/5462]\tlr: 5.000e-06, eta: 2:24:08, time: 0.321, data_time: 0.010, memory: 18694, loss_cls: 0.5720, loss_bbox: 2.3930, loss_obj: 2.1892, loss: 5.1542\n",
      "2022-11-18 18:15:12,847 - mmdet - INFO - Epoch [11][3600/5462]\tlr: 5.000e-06, eta: 2:23:32, time: 0.357, data_time: 0.009, memory: 18694, loss_cls: 0.5766, loss_bbox: 2.4219, loss_obj: 2.2825, loss: 5.2810\n",
      "2022-11-18 18:15:44,284 - mmdet - INFO - Epoch [11][3700/5462]\tlr: 5.000e-06, eta: 2:22:53, time: 0.314, data_time: 0.009, memory: 18694, loss_cls: 0.5788, loss_bbox: 2.4728, loss_obj: 2.1608, loss: 5.2123\n",
      "2022-11-18 18:16:23,573 - mmdet - INFO - Epoch [11][3800/5462]\tlr: 5.000e-06, eta: 2:22:18, time: 0.393, data_time: 0.009, memory: 18694, loss_cls: 0.5683, loss_bbox: 2.3449, loss_obj: 2.2515, loss: 5.1647\n",
      "2022-11-18 18:17:00,379 - mmdet - INFO - Epoch [11][3900/5462]\tlr: 5.000e-06, eta: 2:21:42, time: 0.368, data_time: 0.008, memory: 18694, loss_cls: 0.5675, loss_bbox: 2.3554, loss_obj: 2.0754, loss: 4.9982\n",
      "2022-11-18 18:17:37,396 - mmdet - INFO - Epoch [11][4000/5462]\tlr: 5.000e-06, eta: 2:21:06, time: 0.369, data_time: 0.008, memory: 18694, loss_cls: 0.5692, loss_bbox: 2.3496, loss_obj: 2.1698, loss: 5.0885\n",
      "2022-11-18 18:18:13,921 - mmdet - INFO - Epoch [11][4100/5462]\tlr: 5.000e-06, eta: 2:20:30, time: 0.366, data_time: 0.009, memory: 18694, loss_cls: 0.5692, loss_bbox: 2.3583, loss_obj: 2.0998, loss: 5.0272\n",
      "2022-11-18 18:18:50,484 - mmdet - INFO - Epoch [11][4200/5462]\tlr: 5.000e-06, eta: 2:19:54, time: 0.365, data_time: 0.009, memory: 18694, loss_cls: 0.5704, loss_bbox: 2.3707, loss_obj: 2.1110, loss: 5.0521\n",
      "2022-11-18 18:19:22,828 - mmdet - INFO - Epoch [11][4300/5462]\tlr: 5.000e-06, eta: 2:19:16, time: 0.324, data_time: 0.010, memory: 18694, loss_cls: 0.5741, loss_bbox: 2.4136, loss_obj: 2.1774, loss: 5.1652\n",
      "2022-11-18 18:19:55,437 - mmdet - INFO - Epoch [11][4400/5462]\tlr: 5.000e-06, eta: 2:18:38, time: 0.326, data_time: 0.009, memory: 18694, loss_cls: 0.5671, loss_bbox: 2.3541, loss_obj: 2.1229, loss: 5.0440\n",
      "2022-11-18 18:20:27,998 - mmdet - INFO - Epoch [11][4500/5462]\tlr: 5.000e-06, eta: 2:18:00, time: 0.326, data_time: 0.010, memory: 18694, loss_cls: 0.5746, loss_bbox: 2.4069, loss_obj: 2.1128, loss: 5.0943\n",
      "2022-11-18 18:21:01,767 - mmdet - INFO - Epoch [11][4600/5462]\tlr: 5.000e-06, eta: 2:17:23, time: 0.337, data_time: 0.021, memory: 18694, loss_cls: 0.5773, loss_bbox: 2.4340, loss_obj: 2.1785, loss: 5.1898\n",
      "2022-11-18 18:21:33,096 - mmdet - INFO - Epoch [11][4700/5462]\tlr: 5.000e-06, eta: 2:16:45, time: 0.314, data_time: 0.020, memory: 18694, loss_cls: 0.5672, loss_bbox: 2.3752, loss_obj: 2.1405, loss: 5.0830\n",
      "2022-11-18 18:22:10,141 - mmdet - INFO - Epoch [11][4800/5462]\tlr: 5.000e-06, eta: 2:16:09, time: 0.371, data_time: 0.008, memory: 18694, loss_cls: 0.5712, loss_bbox: 2.3785, loss_obj: 2.2256, loss: 5.1753\n",
      "2022-11-18 18:22:47,478 - mmdet - INFO - Epoch [11][4900/5462]\tlr: 5.000e-06, eta: 2:15:33, time: 0.373, data_time: 0.008, memory: 18694, loss_cls: 0.5693, loss_bbox: 2.3581, loss_obj: 2.1455, loss: 5.0729\n",
      "2022-11-18 18:23:26,030 - mmdet - INFO - Epoch [11][5000/5462]\tlr: 5.000e-06, eta: 2:14:57, time: 0.385, data_time: 0.009, memory: 18694, loss_cls: 0.5678, loss_bbox: 2.3577, loss_obj: 2.1581, loss: 5.0835\n",
      "2022-11-18 18:24:00,745 - mmdet - INFO - Epoch [11][5100/5462]\tlr: 5.000e-06, eta: 2:14:20, time: 0.347, data_time: 0.009, memory: 18694, loss_cls: 0.5711, loss_bbox: 2.4052, loss_obj: 2.1923, loss: 5.1686\n",
      "2022-11-18 18:24:39,081 - mmdet - INFO - Epoch [11][5200/5462]\tlr: 5.000e-06, eta: 2:13:45, time: 0.383, data_time: 0.009, memory: 18694, loss_cls: 0.5655, loss_bbox: 2.3124, loss_obj: 2.0682, loss: 4.9462\n",
      "2022-11-18 18:25:16,282 - mmdet - INFO - Epoch [11][5300/5462]\tlr: 5.000e-06, eta: 2:13:09, time: 0.372, data_time: 0.015, memory: 18694, loss_cls: 0.5689, loss_bbox: 2.3572, loss_obj: 2.1287, loss: 5.0548\n",
      "2022-11-18 18:25:54,615 - mmdet - INFO - Epoch [11][5400/5462]\tlr: 5.000e-06, eta: 2:12:33, time: 0.384, data_time: 0.024, memory: 18694, loss_cls: 0.5669, loss_bbox: 2.3263, loss_obj: 2.0975, loss: 4.9907\n",
      "2022-11-18 18:26:19,203 - mmdet - INFO - Saving checkpoint at 11 epochs\n"
     ]
    },
    {
     "name": "stdout",
     "output_type": "stream",
     "text": [
      "[>>>>>>>>>>>>>>>>>>>>>>>>] 10000/10000, 26.8 task/s, elapsed: 374s, ETA:     0s"
     ]
    },
    {
     "name": "stderr",
     "output_type": "stream",
     "text": [
      "2022-11-18 18:33:06,036 - mmdet - INFO - Evaluating bbox...\n"
     ]
    },
    {
     "name": "stdout",
     "output_type": "stream",
     "text": [
      "Loading and preparing results...\n",
      "DONE (t=1.40s)\n",
      "creating index...\n",
      "index created!\n",
      "Running per image evaluation...\n",
      "Evaluate annotation type *bbox*\n",
      "DONE (t=83.40s).\n",
      "Accumulating evaluation results...\n"
     ]
    },
    {
     "name": "stderr",
     "output_type": "stream",
     "text": [
      "2022-11-18 18:34:47,291 - mmdet - INFO - \n",
      " Average Precision  (AP) @[ IoU=0.50:0.95 | area=   all | maxDets=100 ] = 0.231\n",
      " Average Precision  (AP) @[ IoU=0.50      | area=   all | maxDets=1000 ] = 0.429\n",
      " Average Precision  (AP) @[ IoU=0.75      | area=   all | maxDets=1000 ] = 0.225\n",
      " Average Precision  (AP) @[ IoU=0.50:0.95 | area= small | maxDets=1000 ] = 0.215\n",
      " Average Precision  (AP) @[ IoU=0.50:0.95 | area=medium | maxDets=1000 ] = 0.435\n",
      " Average Precision  (AP) @[ IoU=0.50:0.95 | area= large | maxDets=1000 ] = 0.477\n",
      " Average Recall     (AR) @[ IoU=0.50:0.95 | area=   all | maxDets=100 ] = 0.402\n",
      " Average Recall     (AR) @[ IoU=0.50:0.95 | area=   all | maxDets=300 ] = 0.413\n",
      " Average Recall     (AR) @[ IoU=0.50:0.95 | area=   all | maxDets=1000 ] = 0.414\n",
      " Average Recall     (AR) @[ IoU=0.50:0.95 | area= small | maxDets=1000 ] = 0.391\n",
      " Average Recall     (AR) @[ IoU=0.50:0.95 | area=medium | maxDets=1000 ] = 0.662\n",
      " Average Recall     (AR) @[ IoU=0.50:0.95 | area= large | maxDets=1000 ] = 0.723\n",
      "\n"
     ]
    },
    {
     "name": "stdout",
     "output_type": "stream",
     "text": [
      "DONE (t=13.35s).\n"
     ]
    },
    {
     "name": "stderr",
     "output_type": "stream",
     "text": [
      "2022-11-18 18:34:47,727 - mmdet - INFO - The previous best checkpoint D:\\Homework\\course_cvdl\\task3\\workdirs\\yolox_l_8x8_300e_coco\\best_bbox_mAP_epoch_10.pth was removed\n",
      "2022-11-18 18:34:55,060 - mmdet - INFO - Now best checkpoint is saved as best_bbox_mAP_epoch_11.pth.\n",
      "2022-11-18 18:34:55,061 - mmdet - INFO - Best bbox_mAP is 0.2310 at 11 epoch.\n",
      "2022-11-18 18:34:55,062 - mmdet - INFO - Epoch(val) [11][10000]\tbbox_mAP: 0.2310, bbox_mAP_50: 0.4290, bbox_mAP_75: 0.2250, bbox_mAP_s: 0.2150, bbox_mAP_m: 0.4350, bbox_mAP_l: 0.4770, bbox_mAP_copypaste: 0.231 0.429 0.225 0.215 0.435 0.477\n",
      "2022-11-18 18:35:36,412 - mmdet - INFO - Epoch [12][100/5462]\tlr: 5.000e-06, eta: 2:11:28, time: 0.412, data_time: 0.035, memory: 18694, loss_cls: 0.5650, loss_bbox: 2.3074, loss_obj: 2.1270, loss: 4.9994\n",
      "2022-11-18 18:36:15,180 - mmdet - INFO - Epoch [12][200/5462]\tlr: 5.000e-06, eta: 2:10:53, time: 0.388, data_time: 0.009, memory: 18694, loss_cls: 0.5669, loss_bbox: 2.3327, loss_obj: 2.1800, loss: 5.0796\n",
      "2022-11-18 18:36:53,961 - mmdet - INFO - Epoch [12][300/5462]\tlr: 5.000e-06, eta: 2:10:18, time: 0.388, data_time: 0.009, memory: 18694, loss_cls: 0.5695, loss_bbox: 2.3680, loss_obj: 2.1957, loss: 5.1333\n",
      "2022-11-18 18:37:30,659 - mmdet - INFO - Epoch [12][400/5462]\tlr: 5.000e-06, eta: 2:09:41, time: 0.366, data_time: 0.008, memory: 18694, loss_cls: 0.5727, loss_bbox: 2.3723, loss_obj: 2.1709, loss: 5.1158\n",
      "2022-11-18 18:38:08,026 - mmdet - INFO - Epoch [12][500/5462]\tlr: 5.000e-06, eta: 2:09:05, time: 0.373, data_time: 0.009, memory: 18694, loss_cls: 0.5698, loss_bbox: 2.3577, loss_obj: 2.1802, loss: 5.1076\n",
      "2022-11-18 18:38:41,799 - mmdet - INFO - Epoch [12][600/5462]\tlr: 5.000e-06, eta: 2:08:28, time: 0.338, data_time: 0.009, memory: 18694, loss_cls: 0.5771, loss_bbox: 2.4082, loss_obj: 2.1390, loss: 5.1244\n",
      "2022-11-18 18:39:12,580 - mmdet - INFO - Epoch [12][700/5462]\tlr: 5.000e-06, eta: 2:07:50, time: 0.308, data_time: 0.009, memory: 18694, loss_cls: 0.5711, loss_bbox: 2.3936, loss_obj: 2.1264, loss: 5.0911\n",
      "2022-11-18 18:39:46,538 - mmdet - INFO - Epoch [12][800/5462]\tlr: 5.000e-06, eta: 2:07:13, time: 0.340, data_time: 0.009, memory: 18694, loss_cls: 0.5736, loss_bbox: 2.4114, loss_obj: 2.2046, loss: 5.1897\n",
      "2022-11-18 18:40:23,357 - mmdet - INFO - Epoch [12][900/5462]\tlr: 5.000e-06, eta: 2:06:37, time: 0.368, data_time: 0.009, memory: 18694, loss_cls: 0.5745, loss_bbox: 2.3739, loss_obj: 2.1053, loss: 5.0537\n",
      "2022-11-18 18:40:59,903 - mmdet - INFO - Epoch [12][1000/5462]\tlr: 5.000e-06, eta: 2:06:01, time: 0.366, data_time: 0.009, memory: 18694, loss_cls: 0.5705, loss_bbox: 2.3573, loss_obj: 2.1606, loss: 5.0884\n",
      "2022-11-18 18:41:39,322 - mmdet - INFO - Epoch [12][1100/5462]\tlr: 5.000e-06, eta: 2:05:26, time: 0.394, data_time: 0.009, memory: 18694, loss_cls: 0.5595, loss_bbox: 2.2799, loss_obj: 2.0868, loss: 4.9262\n",
      "2022-11-18 18:42:15,984 - mmdet - INFO - Epoch [12][1200/5462]\tlr: 5.000e-06, eta: 2:04:49, time: 0.367, data_time: 0.013, memory: 18694, loss_cls: 0.5680, loss_bbox: 2.3517, loss_obj: 2.1242, loss: 5.0440\n",
      "2022-11-18 18:42:52,455 - mmdet - INFO - Epoch [12][1300/5462]\tlr: 5.000e-06, eta: 2:04:13, time: 0.365, data_time: 0.009, memory: 18694, loss_cls: 0.5649, loss_bbox: 2.3143, loss_obj: 2.1321, loss: 5.0113\n",
      "2022-11-18 18:43:31,126 - mmdet - INFO - Epoch [12][1400/5462]\tlr: 5.000e-06, eta: 2:03:38, time: 0.386, data_time: 0.008, memory: 18694, loss_cls: 0.5740, loss_bbox: 2.3601, loss_obj: 2.1813, loss: 5.1153\n",
      "2022-11-18 18:44:04,622 - mmdet - INFO - Epoch [12][1500/5462]\tlr: 5.000e-06, eta: 2:03:01, time: 0.335, data_time: 0.009, memory: 18694, loss_cls: 0.5717, loss_bbox: 2.3907, loss_obj: 2.1458, loss: 5.1082\n",
      "2022-11-18 18:44:39,444 - mmdet - INFO - Epoch [12][1600/5462]\tlr: 5.000e-06, eta: 2:02:24, time: 0.348, data_time: 0.009, memory: 18694, loss_cls: 0.5715, loss_bbox: 2.4021, loss_obj: 2.1913, loss: 5.1649\n",
      "2022-11-18 18:45:16,392 - mmdet - INFO - Epoch [12][1700/5462]\tlr: 5.000e-06, eta: 2:01:48, time: 0.369, data_time: 0.009, memory: 18694, loss_cls: 0.5673, loss_bbox: 2.3197, loss_obj: 2.1750, loss: 5.0620\n",
      "2022-11-18 18:45:52,013 - mmdet - INFO - Epoch [12][1800/5462]\tlr: 5.000e-06, eta: 2:01:11, time: 0.356, data_time: 0.009, memory: 18694, loss_cls: 0.5689, loss_bbox: 2.3598, loss_obj: 2.1246, loss: 5.0533\n",
      "2022-11-18 18:46:27,363 - mmdet - INFO - Epoch [12][1900/5462]\tlr: 5.000e-06, eta: 2:00:35, time: 0.354, data_time: 0.009, memory: 18694, loss_cls: 0.5716, loss_bbox: 2.3804, loss_obj: 2.1434, loss: 5.0954\n",
      "2022-11-18 18:47:04,196 - mmdet - INFO - Epoch [12][2000/5462]\tlr: 5.000e-06, eta: 1:59:59, time: 0.368, data_time: 0.009, memory: 18694, loss_cls: 0.5744, loss_bbox: 2.4014, loss_obj: 2.1401, loss: 5.1159\n",
      "2022-11-18 18:47:39,220 - mmdet - INFO - Epoch [12][2100/5462]\tlr: 5.000e-06, eta: 1:59:22, time: 0.350, data_time: 0.009, memory: 18694, loss_cls: 0.5756, loss_bbox: 2.3943, loss_obj: 2.1400, loss: 5.1099\n",
      "2022-11-18 18:48:18,048 - mmdet - INFO - Epoch [12][2200/5462]\tlr: 5.000e-06, eta: 1:58:46, time: 0.388, data_time: 0.009, memory: 18694, loss_cls: 0.5705, loss_bbox: 2.3464, loss_obj: 2.1649, loss: 5.0818\n",
      "2022-11-18 18:48:50,553 - mmdet - INFO - Epoch [12][2300/5462]\tlr: 5.000e-06, eta: 1:58:09, time: 0.325, data_time: 0.010, memory: 18694, loss_cls: 0.5732, loss_bbox: 2.4153, loss_obj: 2.1353, loss: 5.1238\n",
      "2022-11-18 18:49:29,980 - mmdet - INFO - Epoch [12][2400/5462]\tlr: 5.000e-06, eta: 1:57:34, time: 0.395, data_time: 0.009, memory: 18694, loss_cls: 0.5674, loss_bbox: 2.3139, loss_obj: 2.1521, loss: 5.0334\n",
      "2022-11-18 18:50:07,139 - mmdet - INFO - Epoch [12][2500/5462]\tlr: 5.000e-06, eta: 1:56:58, time: 0.372, data_time: 0.009, memory: 18694, loss_cls: 0.5642, loss_bbox: 2.3013, loss_obj: 2.0445, loss: 4.9101\n",
      "2022-11-18 18:50:42,738 - mmdet - INFO - Epoch [12][2600/5462]\tlr: 5.000e-06, eta: 1:56:21, time: 0.357, data_time: 0.009, memory: 18694, loss_cls: 0.5709, loss_bbox: 2.3770, loss_obj: 2.1254, loss: 5.0734\n",
      "2022-11-18 18:51:19,882 - mmdet - INFO - Epoch [12][2700/5462]\tlr: 5.000e-06, eta: 1:55:45, time: 0.370, data_time: 0.008, memory: 18694, loss_cls: 0.5688, loss_bbox: 2.3413, loss_obj: 2.1939, loss: 5.1041\n",
      "2022-11-18 18:51:52,884 - mmdet - INFO - Epoch [12][2800/5462]\tlr: 5.000e-06, eta: 1:55:08, time: 0.331, data_time: 0.009, memory: 18694, loss_cls: 0.5741, loss_bbox: 2.3976, loss_obj: 2.1494, loss: 5.1212\n",
      "2022-11-18 18:52:25,806 - mmdet - INFO - Epoch [12][2900/5462]\tlr: 5.000e-06, eta: 1:54:31, time: 0.328, data_time: 0.008, memory: 18694, loss_cls: 0.5690, loss_bbox: 2.3645, loss_obj: 2.1552, loss: 5.0887\n",
      "2022-11-18 18:53:04,496 - mmdet - INFO - Epoch [12][3000/5462]\tlr: 5.000e-06, eta: 1:53:55, time: 0.387, data_time: 0.009, memory: 18694, loss_cls: 0.5622, loss_bbox: 2.2726, loss_obj: 2.0896, loss: 4.9245\n",
      "2022-11-18 18:53:37,720 - mmdet - INFO - Epoch [12][3100/5462]\tlr: 5.000e-06, eta: 1:53:18, time: 0.332, data_time: 0.009, memory: 18694, loss_cls: 0.5690, loss_bbox: 2.3554, loss_obj: 2.1237, loss: 5.0481\n",
      "2022-11-18 18:54:14,987 - mmdet - INFO - Epoch [12][3200/5462]\tlr: 5.000e-06, eta: 1:52:42, time: 0.373, data_time: 0.009, memory: 18694, loss_cls: 0.5690, loss_bbox: 2.3530, loss_obj: 2.1286, loss: 5.0506\n",
      "2022-11-18 18:54:47,877 - mmdet - INFO - Epoch [12][3300/5462]\tlr: 5.000e-06, eta: 1:52:05, time: 0.330, data_time: 0.010, memory: 18694, loss_cls: 0.5732, loss_bbox: 2.3925, loss_obj: 2.0975, loss: 5.0632\n",
      "2022-11-18 18:55:25,629 - mmdet - INFO - Epoch [12][3400/5462]\tlr: 5.000e-06, eta: 1:51:29, time: 0.378, data_time: 0.008, memory: 18694, loss_cls: 0.5683, loss_bbox: 2.3769, loss_obj: 2.1207, loss: 5.0660\n",
      "2022-11-18 18:56:02,483 - mmdet - INFO - Epoch [12][3500/5462]\tlr: 5.000e-06, eta: 1:50:53, time: 0.368, data_time: 0.008, memory: 18694, loss_cls: 0.5685, loss_bbox: 2.3609, loss_obj: 2.1269, loss: 5.0564\n",
      "2022-11-18 18:56:35,700 - mmdet - INFO - Epoch [12][3600/5462]\tlr: 5.000e-06, eta: 1:50:16, time: 0.333, data_time: 0.009, memory: 18694, loss_cls: 0.5720, loss_bbox: 2.3942, loss_obj: 2.1147, loss: 5.0809\n",
      "2022-11-18 18:57:10,827 - mmdet - INFO - Epoch [12][3700/5462]\tlr: 5.000e-06, eta: 1:49:39, time: 0.350, data_time: 0.008, memory: 18694, loss_cls: 0.5672, loss_bbox: 2.3625, loss_obj: 2.1115, loss: 5.0412\n",
      "2022-11-18 18:57:48,169 - mmdet - INFO - Epoch [12][3800/5462]\tlr: 5.000e-06, eta: 1:49:03, time: 0.374, data_time: 0.009, memory: 18694, loss_cls: 0.5661, loss_bbox: 2.3338, loss_obj: 2.1700, loss: 5.0699\n",
      "2022-11-18 18:58:24,637 - mmdet - INFO - Epoch [12][3900/5462]\tlr: 5.000e-06, eta: 1:48:27, time: 0.365, data_time: 0.009, memory: 18694, loss_cls: 0.5695, loss_bbox: 2.3532, loss_obj: 2.1874, loss: 5.1102\n",
      "2022-11-18 18:58:55,143 - mmdet - INFO - Epoch [12][4000/5462]\tlr: 5.000e-06, eta: 1:47:49, time: 0.305, data_time: 0.008, memory: 18694, loss_cls: 0.5711, loss_bbox: 2.4199, loss_obj: 2.0864, loss: 5.0774\n",
      "2022-11-18 18:59:28,721 - mmdet - INFO - Epoch [12][4100/5462]\tlr: 5.000e-06, eta: 1:47:12, time: 0.335, data_time: 0.008, memory: 18694, loss_cls: 0.5737, loss_bbox: 2.3680, loss_obj: 2.1471, loss: 5.0888\n",
      "2022-11-18 19:00:06,302 - mmdet - INFO - Epoch [12][4200/5462]\tlr: 5.000e-06, eta: 1:46:36, time: 0.376, data_time: 0.009, memory: 18694, loss_cls: 0.5696, loss_bbox: 2.3680, loss_obj: 2.1249, loss: 5.0625\n",
      "2022-11-18 19:00:43,483 - mmdet - INFO - Epoch [12][4300/5462]\tlr: 5.000e-06, eta: 1:46:00, time: 0.373, data_time: 0.009, memory: 18694, loss_cls: 0.5637, loss_bbox: 2.3271, loss_obj: 2.1093, loss: 5.0001\n",
      "2022-11-18 19:01:17,607 - mmdet - INFO - Epoch [12][4400/5462]\tlr: 5.000e-06, eta: 1:45:23, time: 0.341, data_time: 0.008, memory: 18694, loss_cls: 0.5701, loss_bbox: 2.3675, loss_obj: 2.1291, loss: 5.0667\n",
      "2022-11-18 19:01:53,957 - mmdet - INFO - Epoch [12][4500/5462]\tlr: 5.000e-06, eta: 1:44:47, time: 0.364, data_time: 0.009, memory: 18694, loss_cls: 0.5655, loss_bbox: 2.3344, loss_obj: 2.0318, loss: 4.9317\n",
      "2022-11-18 19:02:28,065 - mmdet - INFO - Epoch [12][4600/5462]\tlr: 5.000e-06, eta: 1:44:10, time: 0.340, data_time: 0.008, memory: 18694, loss_cls: 0.5671, loss_bbox: 2.3511, loss_obj: 2.1186, loss: 5.0368\n",
      "2022-11-18 19:03:05,079 - mmdet - INFO - Epoch [12][4700/5462]\tlr: 5.000e-06, eta: 1:43:34, time: 0.371, data_time: 0.009, memory: 18694, loss_cls: 0.5619, loss_bbox: 2.2860, loss_obj: 2.1561, loss: 5.0040\n",
      "2022-11-18 19:03:37,036 - mmdet - INFO - Epoch [12][4800/5462]\tlr: 5.000e-06, eta: 1:42:57, time: 0.319, data_time: 0.009, memory: 18694, loss_cls: 0.5760, loss_bbox: 2.3961, loss_obj: 2.0905, loss: 5.0626\n",
      "2022-11-18 19:04:15,876 - mmdet - INFO - Epoch [12][4900/5462]\tlr: 5.000e-06, eta: 1:42:21, time: 0.388, data_time: 0.010, memory: 18694, loss_cls: 0.5632, loss_bbox: 2.3065, loss_obj: 2.0629, loss: 4.9326\n",
      "2022-11-18 19:04:48,285 - mmdet - INFO - Epoch [12][5000/5462]\tlr: 5.000e-06, eta: 1:41:44, time: 0.324, data_time: 0.009, memory: 18694, loss_cls: 0.5722, loss_bbox: 2.3926, loss_obj: 2.1528, loss: 5.1176\n",
      "2022-11-18 19:05:26,526 - mmdet - INFO - Epoch [12][5100/5462]\tlr: 5.000e-06, eta: 1:41:09, time: 0.383, data_time: 0.010, memory: 18694, loss_cls: 0.5693, loss_bbox: 2.3733, loss_obj: 2.1666, loss: 5.1091\n",
      "2022-11-18 19:06:00,623 - mmdet - INFO - Epoch [12][5200/5462]\tlr: 5.000e-06, eta: 1:40:32, time: 0.341, data_time: 0.008, memory: 18694, loss_cls: 0.5644, loss_bbox: 2.3378, loss_obj: 2.1219, loss: 5.0241\n",
      "2022-11-18 19:06:35,141 - mmdet - INFO - Epoch [12][5300/5462]\tlr: 5.000e-06, eta: 1:39:55, time: 0.345, data_time: 0.011, memory: 18694, loss_cls: 0.5682, loss_bbox: 2.3744, loss_obj: 2.1342, loss: 5.0768\n",
      "2022-11-18 19:07:10,321 - mmdet - INFO - Epoch [12][5400/5462]\tlr: 5.000e-06, eta: 1:39:19, time: 0.352, data_time: 0.008, memory: 18694, loss_cls: 0.5671, loss_bbox: 2.3750, loss_obj: 2.1200, loss: 5.0621\n",
      "2022-11-18 19:07:31,386 - mmdet - INFO - Saving checkpoint at 12 epochs\n"
     ]
    },
    {
     "name": "stdout",
     "output_type": "stream",
     "text": [
      "[>>>>>>>>>>>>>>>>>>>>>>>>] 10000/10000, 26.8 task/s, elapsed: 373s, ETA:     0s"
     ]
    },
    {
     "name": "stderr",
     "output_type": "stream",
     "text": [
      "2022-11-18 19:14:12,322 - mmdet - INFO - Evaluating bbox...\n"
     ]
    },
    {
     "name": "stdout",
     "output_type": "stream",
     "text": [
      "Loading and preparing results...\n",
      "DONE (t=1.29s)\n",
      "creating index...\n",
      "index created!\n",
      "Running per image evaluation...\n",
      "Evaluate annotation type *bbox*\n",
      "DONE (t=82.20s).\n",
      "Accumulating evaluation results...\n"
     ]
    },
    {
     "name": "stderr",
     "output_type": "stream",
     "text": [
      "2022-11-18 19:15:52,124 - mmdet - INFO - \n",
      " Average Precision  (AP) @[ IoU=0.50:0.95 | area=   all | maxDets=100 ] = 0.233\n",
      " Average Precision  (AP) @[ IoU=0.50      | area=   all | maxDets=1000 ] = 0.433\n",
      " Average Precision  (AP) @[ IoU=0.75      | area=   all | maxDets=1000 ] = 0.227\n",
      " Average Precision  (AP) @[ IoU=0.50:0.95 | area= small | maxDets=1000 ] = 0.217\n",
      " Average Precision  (AP) @[ IoU=0.50:0.95 | area=medium | maxDets=1000 ] = 0.438\n",
      " Average Precision  (AP) @[ IoU=0.50:0.95 | area= large | maxDets=1000 ] = 0.485\n",
      " Average Recall     (AR) @[ IoU=0.50:0.95 | area=   all | maxDets=100 ] = 0.404\n",
      " Average Recall     (AR) @[ IoU=0.50:0.95 | area=   all | maxDets=300 ] = 0.416\n",
      " Average Recall     (AR) @[ IoU=0.50:0.95 | area=   all | maxDets=1000 ] = 0.417\n",
      " Average Recall     (AR) @[ IoU=0.50:0.95 | area= small | maxDets=1000 ] = 0.394\n",
      " Average Recall     (AR) @[ IoU=0.50:0.95 | area=medium | maxDets=1000 ] = 0.663\n",
      " Average Recall     (AR) @[ IoU=0.50:0.95 | area= large | maxDets=1000 ] = 0.725\n",
      "\n"
     ]
    },
    {
     "name": "stdout",
     "output_type": "stream",
     "text": [
      "DONE (t=13.36s).\n"
     ]
    },
    {
     "name": "stderr",
     "output_type": "stream",
     "text": [
      "2022-11-18 19:15:52,551 - mmdet - INFO - The previous best checkpoint D:\\Homework\\course_cvdl\\task3\\workdirs\\yolox_l_8x8_300e_coco\\best_bbox_mAP_epoch_11.pth was removed\n",
      "2022-11-18 19:15:59,975 - mmdet - INFO - Now best checkpoint is saved as best_bbox_mAP_epoch_12.pth.\n",
      "2022-11-18 19:15:59,976 - mmdet - INFO - Best bbox_mAP is 0.2330 at 12 epoch.\n",
      "2022-11-18 19:15:59,977 - mmdet - INFO - Epoch(val) [12][10000]\tbbox_mAP: 0.2330, bbox_mAP_50: 0.4330, bbox_mAP_75: 0.2270, bbox_mAP_s: 0.2170, bbox_mAP_m: 0.4380, bbox_mAP_l: 0.4850, bbox_mAP_copypaste: 0.233 0.433 0.227 0.217 0.438 0.485\n",
      "2022-11-18 19:16:40,668 - mmdet - INFO - Epoch [13][100/5462]\tlr: 5.000e-06, eta: 1:38:15, time: 0.405, data_time: 0.035, memory: 18694, loss_cls: 0.5677, loss_bbox: 2.3234, loss_obj: 2.1534, loss: 5.0444\n",
      "2022-11-18 19:17:13,928 - mmdet - INFO - Epoch [13][200/5462]\tlr: 5.000e-06, eta: 1:37:38, time: 0.332, data_time: 0.009, memory: 18694, loss_cls: 0.5775, loss_bbox: 2.4305, loss_obj: 2.1520, loss: 5.1600\n",
      "2022-11-18 19:17:52,426 - mmdet - INFO - Epoch [13][300/5462]\tlr: 5.000e-06, eta: 1:37:03, time: 0.385, data_time: 0.009, memory: 18694, loss_cls: 0.5657, loss_bbox: 2.3228, loss_obj: 2.1876, loss: 5.0761\n",
      "2022-11-18 19:18:31,944 - mmdet - INFO - Epoch [13][400/5462]\tlr: 5.000e-06, eta: 1:36:27, time: 0.396, data_time: 0.015, memory: 18694, loss_cls: 0.5670, loss_bbox: 2.3234, loss_obj: 2.1363, loss: 5.0267\n",
      "2022-11-18 19:19:09,309 - mmdet - INFO - Epoch [13][500/5462]\tlr: 5.000e-06, eta: 1:35:51, time: 0.373, data_time: 0.008, memory: 18694, loss_cls: 0.5683, loss_bbox: 2.3486, loss_obj: 2.1974, loss: 5.1144\n",
      "2022-11-18 19:19:47,299 - mmdet - INFO - Epoch [13][600/5462]\tlr: 5.000e-06, eta: 1:35:16, time: 0.380, data_time: 0.009, memory: 18694, loss_cls: 0.5704, loss_bbox: 2.3606, loss_obj: 2.1660, loss: 5.0970\n",
      "2022-11-18 19:20:24,248 - mmdet - INFO - Epoch [13][700/5462]\tlr: 5.000e-06, eta: 1:34:40, time: 0.369, data_time: 0.011, memory: 18694, loss_cls: 0.5656, loss_bbox: 2.3459, loss_obj: 2.0948, loss: 5.0062\n",
      "2022-11-18 19:20:59,518 - mmdet - INFO - Epoch [13][800/5462]\tlr: 5.000e-06, eta: 1:34:03, time: 0.353, data_time: 0.016, memory: 18694, loss_cls: 0.5734, loss_bbox: 2.4061, loss_obj: 2.1958, loss: 5.1752\n",
      "2022-11-18 19:21:32,227 - mmdet - INFO - Epoch [13][900/5462]\tlr: 5.000e-06, eta: 1:33:26, time: 0.327, data_time: 0.009, memory: 18694, loss_cls: 0.5756, loss_bbox: 2.4229, loss_obj: 2.1940, loss: 5.1925\n",
      "2022-11-18 19:22:09,491 - mmdet - INFO - Epoch [13][1000/5462]\tlr: 5.000e-06, eta: 1:32:50, time: 0.373, data_time: 0.009, memory: 18694, loss_cls: 0.5727, loss_bbox: 2.3554, loss_obj: 2.1562, loss: 5.0843\n",
      "2022-11-18 19:22:45,538 - mmdet - INFO - Epoch [13][1100/5462]\tlr: 5.000e-06, eta: 1:32:14, time: 0.359, data_time: 0.019, memory: 18694, loss_cls: 0.5695, loss_bbox: 2.3615, loss_obj: 2.1345, loss: 5.0656\n",
      "2022-11-18 19:23:19,395 - mmdet - INFO - Epoch [13][1200/5462]\tlr: 5.000e-06, eta: 1:31:37, time: 0.339, data_time: 0.019, memory: 18694, loss_cls: 0.5703, loss_bbox: 2.3836, loss_obj: 2.1382, loss: 5.0922\n",
      "2022-11-18 19:23:55,430 - mmdet - INFO - Epoch [13][1300/5462]\tlr: 5.000e-06, eta: 1:31:01, time: 0.360, data_time: 0.010, memory: 18694, loss_cls: 0.5696, loss_bbox: 2.3485, loss_obj: 2.0802, loss: 4.9983\n",
      "2022-11-18 19:24:32,763 - mmdet - INFO - Epoch [13][1400/5462]\tlr: 5.000e-06, eta: 1:30:25, time: 0.374, data_time: 0.009, memory: 18694, loss_cls: 0.5667, loss_bbox: 2.3383, loss_obj: 2.1279, loss: 5.0330\n",
      "2022-11-18 19:25:08,922 - mmdet - INFO - Epoch [13][1500/5462]\tlr: 5.000e-06, eta: 1:29:49, time: 0.363, data_time: 0.022, memory: 18694, loss_cls: 0.5696, loss_bbox: 2.3713, loss_obj: 2.1575, loss: 5.0985\n",
      "2022-11-18 19:25:47,870 - mmdet - INFO - Epoch [13][1600/5462]\tlr: 5.000e-06, eta: 1:29:13, time: 0.389, data_time: 0.009, memory: 18694, loss_cls: 0.5673, loss_bbox: 2.3251, loss_obj: 2.1363, loss: 5.0287\n",
      "2022-11-18 19:26:20,891 - mmdet - INFO - Epoch [13][1700/5462]\tlr: 5.000e-06, eta: 1:28:36, time: 0.330, data_time: 0.009, memory: 18694, loss_cls: 0.5728, loss_bbox: 2.4029, loss_obj: 2.0929, loss: 5.0686\n",
      "2022-11-18 19:26:52,686 - mmdet - INFO - Epoch [13][1800/5462]\tlr: 5.000e-06, eta: 1:27:59, time: 0.318, data_time: 0.010, memory: 18694, loss_cls: 0.5720, loss_bbox: 2.3712, loss_obj: 2.0943, loss: 5.0375\n",
      "2022-11-18 19:27:28,022 - mmdet - INFO - Epoch [13][1900/5462]\tlr: 5.000e-06, eta: 1:27:23, time: 0.354, data_time: 0.010, memory: 18694, loss_cls: 0.5693, loss_bbox: 2.3627, loss_obj: 2.1336, loss: 5.0656\n",
      "2022-11-18 19:28:05,260 - mmdet - INFO - Epoch [13][2000/5462]\tlr: 5.000e-06, eta: 1:26:47, time: 0.372, data_time: 0.015, memory: 18694, loss_cls: 0.5713, loss_bbox: 2.3604, loss_obj: 2.1637, loss: 5.0953\n",
      "2022-11-18 19:28:39,932 - mmdet - INFO - Epoch [13][2100/5462]\tlr: 5.000e-06, eta: 1:26:10, time: 0.346, data_time: 0.009, memory: 18694, loss_cls: 0.5713, loss_bbox: 2.3861, loss_obj: 2.1319, loss: 5.0894\n",
      "2022-11-18 19:29:17,191 - mmdet - INFO - Epoch [13][2200/5462]\tlr: 5.000e-06, eta: 1:25:34, time: 0.373, data_time: 0.009, memory: 18694, loss_cls: 0.5663, loss_bbox: 2.3230, loss_obj: 2.1294, loss: 5.0187\n",
      "2022-11-18 19:29:49,889 - mmdet - INFO - Epoch [13][2300/5462]\tlr: 5.000e-06, eta: 1:24:57, time: 0.326, data_time: 0.008, memory: 18694, loss_cls: 0.5759, loss_bbox: 2.4031, loss_obj: 2.1449, loss: 5.1240\n",
      "2022-11-18 19:30:26,973 - mmdet - INFO - Epoch [13][2400/5462]\tlr: 5.000e-06, eta: 1:24:21, time: 0.370, data_time: 0.009, memory: 18694, loss_cls: 0.5680, loss_bbox: 2.3484, loss_obj: 2.2075, loss: 5.1239\n",
      "2022-11-18 19:31:06,018 - mmdet - INFO - Epoch [13][2500/5462]\tlr: 5.000e-06, eta: 1:23:46, time: 0.392, data_time: 0.009, memory: 18694, loss_cls: 0.5721, loss_bbox: 2.3724, loss_obj: 2.1996, loss: 5.1441\n",
      "2022-11-18 19:31:39,061 - mmdet - INFO - Epoch [13][2600/5462]\tlr: 5.000e-06, eta: 1:23:09, time: 0.330, data_time: 0.009, memory: 18694, loss_cls: 0.5766, loss_bbox: 2.4243, loss_obj: 2.1175, loss: 5.1184\n",
      "2022-11-18 19:32:17,056 - mmdet - INFO - Epoch [13][2700/5462]\tlr: 5.000e-06, eta: 1:22:33, time: 0.379, data_time: 0.008, memory: 18694, loss_cls: 0.5663, loss_bbox: 2.3134, loss_obj: 2.0682, loss: 4.9480\n",
      "2022-11-18 19:32:48,587 - mmdet - INFO - Epoch [13][2800/5462]\tlr: 5.000e-06, eta: 1:21:56, time: 0.317, data_time: 0.009, memory: 18694, loss_cls: 0.5658, loss_bbox: 2.3827, loss_obj: 2.1364, loss: 5.0848\n",
      "2022-11-18 19:33:20,232 - mmdet - INFO - Epoch [13][2900/5462]\tlr: 5.000e-06, eta: 1:21:19, time: 0.316, data_time: 0.014, memory: 18694, loss_cls: 0.5740, loss_bbox: 2.4229, loss_obj: 2.0661, loss: 5.0630\n",
      "2022-11-18 19:33:54,786 - mmdet - INFO - Epoch [13][3000/5462]\tlr: 5.000e-06, eta: 1:20:42, time: 0.345, data_time: 0.009, memory: 18694, loss_cls: 0.5666, loss_bbox: 2.3492, loss_obj: 2.0561, loss: 4.9719\n",
      "2022-11-18 19:34:29,672 - mmdet - INFO - Epoch [13][3100/5462]\tlr: 5.000e-06, eta: 1:20:06, time: 0.349, data_time: 0.009, memory: 18694, loss_cls: 0.5788, loss_bbox: 2.4120, loss_obj: 2.1595, loss: 5.1503\n",
      "2022-11-18 19:35:04,934 - mmdet - INFO - Epoch [13][3200/5462]\tlr: 5.000e-06, eta: 1:19:30, time: 0.353, data_time: 0.009, memory: 18694, loss_cls: 0.5686, loss_bbox: 2.3748, loss_obj: 2.1611, loss: 5.1045\n",
      "2022-11-18 19:35:41,836 - mmdet - INFO - Epoch [13][3300/5462]\tlr: 5.000e-06, eta: 1:18:54, time: 0.369, data_time: 0.008, memory: 18694, loss_cls: 0.5651, loss_bbox: 2.3070, loss_obj: 2.1063, loss: 4.9784\n",
      "2022-11-18 19:36:17,529 - mmdet - INFO - Epoch [13][3400/5462]\tlr: 5.000e-06, eta: 1:18:17, time: 0.356, data_time: 0.009, memory: 18694, loss_cls: 0.5675, loss_bbox: 2.3391, loss_obj: 2.1144, loss: 5.0210\n",
      "2022-11-18 19:36:50,756 - mmdet - INFO - Epoch [13][3500/5462]\tlr: 5.000e-06, eta: 1:17:41, time: 0.333, data_time: 0.009, memory: 18694, loss_cls: 0.5762, loss_bbox: 2.4273, loss_obj: 2.1827, loss: 5.1862\n",
      "2022-11-18 19:37:27,742 - mmdet - INFO - Epoch [13][3600/5462]\tlr: 5.000e-06, eta: 1:17:05, time: 0.369, data_time: 0.008, memory: 18694, loss_cls: 0.5646, loss_bbox: 2.3134, loss_obj: 2.0936, loss: 4.9716\n",
      "2022-11-18 19:38:02,956 - mmdet - INFO - Epoch [13][3700/5462]\tlr: 5.000e-06, eta: 1:16:28, time: 0.352, data_time: 0.009, memory: 18694, loss_cls: 0.5746, loss_bbox: 2.3944, loss_obj: 2.1753, loss: 5.1443\n",
      "2022-11-18 19:38:38,524 - mmdet - INFO - Epoch [13][3800/5462]\tlr: 5.000e-06, eta: 1:15:52, time: 0.356, data_time: 0.009, memory: 18694, loss_cls: 0.5692, loss_bbox: 2.3642, loss_obj: 2.1465, loss: 5.0800\n",
      "2022-11-18 19:39:11,460 - mmdet - INFO - Epoch [13][3900/5462]\tlr: 5.000e-06, eta: 1:15:15, time: 0.329, data_time: 0.009, memory: 18694, loss_cls: 0.5647, loss_bbox: 2.3360, loss_obj: 2.0935, loss: 4.9943\n",
      "2022-11-18 19:39:42,961 - mmdet - INFO - Epoch [13][4000/5462]\tlr: 5.000e-06, eta: 1:14:38, time: 0.315, data_time: 0.009, memory: 18694, loss_cls: 0.5744, loss_bbox: 2.4249, loss_obj: 2.1466, loss: 5.1459\n",
      "2022-11-18 19:40:20,813 - mmdet - INFO - Epoch [13][4100/5462]\tlr: 5.000e-06, eta: 1:14:02, time: 0.379, data_time: 0.009, memory: 18694, loss_cls: 0.5681, loss_bbox: 2.3353, loss_obj: 2.1136, loss: 5.0170\n",
      "2022-11-18 19:40:55,101 - mmdet - INFO - Epoch [13][4200/5462]\tlr: 5.000e-06, eta: 1:13:26, time: 0.343, data_time: 0.009, memory: 18694, loss_cls: 0.5695, loss_bbox: 2.3794, loss_obj: 2.0874, loss: 5.0364\n",
      "2022-11-18 19:41:30,960 - mmdet - INFO - Epoch [13][4300/5462]\tlr: 5.000e-06, eta: 1:12:50, time: 0.359, data_time: 0.009, memory: 18694, loss_cls: 0.5668, loss_bbox: 2.3425, loss_obj: 2.1244, loss: 5.0337\n",
      "2022-11-18 19:42:09,087 - mmdet - INFO - Epoch [13][4400/5462]\tlr: 5.000e-06, eta: 1:12:14, time: 0.381, data_time: 0.009, memory: 18694, loss_cls: 0.5633, loss_bbox: 2.2937, loss_obj: 2.0952, loss: 4.9522\n",
      "2022-11-18 19:42:43,516 - mmdet - INFO - Epoch [13][4500/5462]\tlr: 5.000e-06, eta: 1:11:37, time: 0.345, data_time: 0.009, memory: 18694, loss_cls: 0.5701, loss_bbox: 2.3693, loss_obj: 2.1679, loss: 5.1073\n",
      "2022-11-18 19:43:17,339 - mmdet - INFO - Epoch [13][4600/5462]\tlr: 5.000e-06, eta: 1:11:01, time: 0.338, data_time: 0.009, memory: 18694, loss_cls: 0.5738, loss_bbox: 2.4016, loss_obj: 2.1511, loss: 5.1266\n",
      "2022-11-18 19:43:55,037 - mmdet - INFO - Epoch [13][4700/5462]\tlr: 5.000e-06, eta: 1:10:25, time: 0.377, data_time: 0.008, memory: 18694, loss_cls: 0.5671, loss_bbox: 2.3220, loss_obj: 2.1206, loss: 5.0097\n",
      "2022-11-18 19:44:30,743 - mmdet - INFO - Epoch [13][4800/5462]\tlr: 5.000e-06, eta: 1:09:49, time: 0.358, data_time: 0.009, memory: 18694, loss_cls: 0.5671, loss_bbox: 2.3541, loss_obj: 2.0954, loss: 5.0166\n",
      "2022-11-18 19:45:04,032 - mmdet - INFO - Epoch [13][4900/5462]\tlr: 5.000e-06, eta: 1:09:12, time: 0.333, data_time: 0.008, memory: 18694, loss_cls: 0.5737, loss_bbox: 2.4036, loss_obj: 2.1430, loss: 5.1203\n",
      "2022-11-18 19:45:40,575 - mmdet - INFO - Epoch [13][5000/5462]\tlr: 5.000e-06, eta: 1:08:36, time: 0.364, data_time: 0.008, memory: 18694, loss_cls: 0.5681, loss_bbox: 2.3587, loss_obj: 2.1473, loss: 5.0740\n",
      "2022-11-18 19:46:18,921 - mmdet - INFO - Epoch [13][5100/5462]\tlr: 5.000e-06, eta: 1:08:00, time: 0.384, data_time: 0.009, memory: 18694, loss_cls: 0.5665, loss_bbox: 2.3378, loss_obj: 2.0838, loss: 4.9881\n",
      "2022-11-18 19:46:53,455 - mmdet - INFO - Epoch [13][5200/5462]\tlr: 5.000e-06, eta: 1:07:24, time: 0.346, data_time: 0.009, memory: 18694, loss_cls: 0.5712, loss_bbox: 2.3670, loss_obj: 2.1252, loss: 5.0634\n",
      "2022-11-18 19:47:26,743 - mmdet - INFO - Epoch [13][5300/5462]\tlr: 5.000e-06, eta: 1:06:47, time: 0.332, data_time: 0.009, memory: 18694, loss_cls: 0.5731, loss_bbox: 2.3804, loss_obj: 2.1019, loss: 5.0553\n",
      "2022-11-18 19:48:02,713 - mmdet - INFO - Epoch [13][5400/5462]\tlr: 5.000e-06, eta: 1:06:11, time: 0.360, data_time: 0.009, memory: 18694, loss_cls: 0.5723, loss_bbox: 2.3744, loss_obj: 2.0751, loss: 5.0218\n",
      "2022-11-18 19:48:22,661 - mmdet - INFO - Saving checkpoint at 13 epochs\n"
     ]
    },
    {
     "name": "stdout",
     "output_type": "stream",
     "text": [
      "[>>>>>>>>>>>>>>>>>>>>>>>>] 10000/10000, 27.5 task/s, elapsed: 364s, ETA:     0s"
     ]
    },
    {
     "name": "stderr",
     "output_type": "stream",
     "text": [
      "2022-11-18 19:54:56,387 - mmdet - INFO - Evaluating bbox...\n"
     ]
    },
    {
     "name": "stdout",
     "output_type": "stream",
     "text": [
      "Loading and preparing results...\n",
      "DONE (t=1.34s)\n",
      "creating index...\n",
      "index created!\n",
      "Running per image evaluation...\n",
      "Evaluate annotation type *bbox*\n",
      "DONE (t=80.75s).\n",
      "Accumulating evaluation results...\n"
     ]
    },
    {
     "name": "stderr",
     "output_type": "stream",
     "text": [
      "2022-11-18 19:56:34,448 - mmdet - INFO - \n",
      " Average Precision  (AP) @[ IoU=0.50:0.95 | area=   all | maxDets=100 ] = 0.235\n",
      " Average Precision  (AP) @[ IoU=0.50      | area=   all | maxDets=1000 ] = 0.435\n",
      " Average Precision  (AP) @[ IoU=0.75      | area=   all | maxDets=1000 ] = 0.229\n",
      " Average Precision  (AP) @[ IoU=0.50:0.95 | area= small | maxDets=1000 ] = 0.219\n",
      " Average Precision  (AP) @[ IoU=0.50:0.95 | area=medium | maxDets=1000 ] = 0.440\n",
      " Average Precision  (AP) @[ IoU=0.50:0.95 | area= large | maxDets=1000 ] = 0.487\n",
      " Average Recall     (AR) @[ IoU=0.50:0.95 | area=   all | maxDets=100 ] = 0.406\n",
      " Average Recall     (AR) @[ IoU=0.50:0.95 | area=   all | maxDets=300 ] = 0.417\n",
      " Average Recall     (AR) @[ IoU=0.50:0.95 | area=   all | maxDets=1000 ] = 0.419\n",
      " Average Recall     (AR) @[ IoU=0.50:0.95 | area= small | maxDets=1000 ] = 0.396\n",
      " Average Recall     (AR) @[ IoU=0.50:0.95 | area=medium | maxDets=1000 ] = 0.664\n",
      " Average Recall     (AR) @[ IoU=0.50:0.95 | area= large | maxDets=1000 ] = 0.725\n",
      "\n"
     ]
    },
    {
     "name": "stdout",
     "output_type": "stream",
     "text": [
      "DONE (t=13.06s).\n"
     ]
    },
    {
     "name": "stderr",
     "output_type": "stream",
     "text": [
      "2022-11-18 19:56:34,870 - mmdet - INFO - The previous best checkpoint D:\\Homework\\course_cvdl\\task3\\workdirs\\yolox_l_8x8_300e_coco\\best_bbox_mAP_epoch_12.pth was removed\n",
      "2022-11-18 19:56:42,173 - mmdet - INFO - Now best checkpoint is saved as best_bbox_mAP_epoch_13.pth.\n",
      "2022-11-18 19:56:42,174 - mmdet - INFO - Best bbox_mAP is 0.2350 at 13 epoch.\n",
      "2022-11-18 19:56:42,175 - mmdet - INFO - Epoch(val) [13][10000]\tbbox_mAP: 0.2350, bbox_mAP_50: 0.4350, bbox_mAP_75: 0.2290, bbox_mAP_s: 0.2190, bbox_mAP_m: 0.4400, bbox_mAP_l: 0.4870, bbox_mAP_copypaste: 0.235 0.435 0.229 0.219 0.440 0.487\n",
      "2022-11-18 19:57:22,516 - mmdet - INFO - Epoch [14][100/5462]\tlr: 5.000e-06, eta: 1:05:10, time: 0.402, data_time: 0.035, memory: 18694, loss_cls: 0.5704, loss_bbox: 2.3738, loss_obj: 2.2043, loss: 5.1485\n",
      "2022-11-18 19:57:54,217 - mmdet - INFO - Epoch [14][200/5462]\tlr: 5.000e-06, eta: 1:04:33, time: 0.317, data_time: 0.009, memory: 18694, loss_cls: 0.5726, loss_bbox: 2.3958, loss_obj: 2.0738, loss: 5.0422\n",
      "2022-11-18 19:58:28,945 - mmdet - INFO - Epoch [14][300/5462]\tlr: 5.000e-06, eta: 1:03:57, time: 0.348, data_time: 0.009, memory: 18694, loss_cls: 0.5674, loss_bbox: 2.3391, loss_obj: 2.0887, loss: 4.9952\n",
      "2022-11-18 19:59:00,356 - mmdet - INFO - Epoch [14][400/5462]\tlr: 5.000e-06, eta: 1:03:20, time: 0.314, data_time: 0.009, memory: 18694, loss_cls: 0.5718, loss_bbox: 2.4007, loss_obj: 2.1160, loss: 5.0885\n",
      "2022-11-18 19:59:37,807 - mmdet - INFO - Epoch [14][500/5462]\tlr: 5.000e-06, eta: 1:02:44, time: 0.374, data_time: 0.008, memory: 18694, loss_cls: 0.5688, loss_bbox: 2.3390, loss_obj: 2.1044, loss: 5.0122\n",
      "2022-11-18 20:00:12,303 - mmdet - INFO - Epoch [14][600/5462]\tlr: 5.000e-06, eta: 1:02:07, time: 0.344, data_time: 0.009, memory: 18694, loss_cls: 0.5742, loss_bbox: 2.3880, loss_obj: 2.1991, loss: 5.1613\n",
      "2022-11-18 20:00:47,162 - mmdet - INFO - Epoch [14][700/5462]\tlr: 5.000e-06, eta: 1:01:31, time: 0.349, data_time: 0.010, memory: 18694, loss_cls: 0.5693, loss_bbox: 2.3558, loss_obj: 2.0844, loss: 5.0095\n",
      "2022-11-18 20:01:18,313 - mmdet - INFO - Epoch [14][800/5462]\tlr: 5.000e-06, eta: 1:00:54, time: 0.311, data_time: 0.009, memory: 18694, loss_cls: 0.5790, loss_bbox: 2.4390, loss_obj: 2.1539, loss: 5.1718\n",
      "2022-11-18 20:01:53,833 - mmdet - INFO - Epoch [14][900/5462]\tlr: 5.000e-06, eta: 1:00:18, time: 0.355, data_time: 0.009, memory: 18694, loss_cls: 0.5695, loss_bbox: 2.3604, loss_obj: 2.0941, loss: 5.0241\n",
      "2022-11-18 20:02:29,870 - mmdet - INFO - Epoch [14][1000/5462]\tlr: 5.000e-06, eta: 0:59:42, time: 0.360, data_time: 0.009, memory: 18694, loss_cls: 0.5658, loss_bbox: 2.3199, loss_obj: 2.1250, loss: 5.0106\n",
      "2022-11-18 20:03:05,856 - mmdet - INFO - Epoch [14][1100/5462]\tlr: 5.000e-06, eta: 0:59:06, time: 0.360, data_time: 0.009, memory: 18694, loss_cls: 0.5734, loss_bbox: 2.3842, loss_obj: 2.1435, loss: 5.1011\n",
      "2022-11-18 20:03:39,398 - mmdet - INFO - Epoch [14][1200/5462]\tlr: 5.000e-06, eta: 0:58:29, time: 0.336, data_time: 0.009, memory: 18694, loss_cls: 0.5696, loss_bbox: 2.3926, loss_obj: 2.1515, loss: 5.1137\n",
      "2022-11-18 20:04:12,895 - mmdet - INFO - Epoch [14][1300/5462]\tlr: 5.000e-06, eta: 0:57:53, time: 0.335, data_time: 0.008, memory: 18694, loss_cls: 0.5657, loss_bbox: 2.3287, loss_obj: 2.0988, loss: 4.9932\n",
      "2022-11-18 20:04:46,744 - mmdet - INFO - Epoch [14][1400/5462]\tlr: 5.000e-06, eta: 0:57:17, time: 0.338, data_time: 0.008, memory: 18694, loss_cls: 0.5710, loss_bbox: 2.3652, loss_obj: 2.1647, loss: 5.1008\n",
      "2022-11-18 20:05:21,794 - mmdet - INFO - Epoch [14][1500/5462]\tlr: 5.000e-06, eta: 0:56:40, time: 0.350, data_time: 0.009, memory: 18694, loss_cls: 0.5658, loss_bbox: 2.3428, loss_obj: 2.1262, loss: 5.0348\n",
      "2022-11-18 20:06:02,373 - mmdet - INFO - Epoch [14][1600/5462]\tlr: 5.000e-06, eta: 0:56:05, time: 0.406, data_time: 0.009, memory: 18694, loss_cls: 0.5613, loss_bbox: 2.2877, loss_obj: 2.1027, loss: 4.9516\n",
      "2022-11-18 20:06:40,441 - mmdet - INFO - Epoch [14][1700/5462]\tlr: 5.000e-06, eta: 0:55:29, time: 0.381, data_time: 0.009, memory: 18694, loss_cls: 0.5698, loss_bbox: 2.3637, loss_obj: 2.1107, loss: 5.0442\n",
      "2022-11-18 20:07:12,982 - mmdet - INFO - Epoch [14][1800/5462]\tlr: 5.000e-06, eta: 0:54:53, time: 0.326, data_time: 0.009, memory: 18694, loss_cls: 0.5726, loss_bbox: 2.4082, loss_obj: 2.1671, loss: 5.1479\n",
      "2022-11-18 20:07:50,022 - mmdet - INFO - Epoch [14][1900/5462]\tlr: 5.000e-06, eta: 0:54:17, time: 0.369, data_time: 0.008, memory: 18694, loss_cls: 0.5707, loss_bbox: 2.3721, loss_obj: 2.1274, loss: 5.0703\n",
      "2022-11-18 20:08:25,456 - mmdet - INFO - Epoch [14][2000/5462]\tlr: 5.000e-06, eta: 0:53:40, time: 0.355, data_time: 0.009, memory: 18694, loss_cls: 0.5761, loss_bbox: 2.4063, loss_obj: 2.1818, loss: 5.1641\n",
      "2022-11-18 20:09:00,044 - mmdet - INFO - Epoch [14][2100/5462]\tlr: 5.000e-06, eta: 0:53:04, time: 0.346, data_time: 0.009, memory: 18694, loss_cls: 0.5725, loss_bbox: 2.3932, loss_obj: 2.1262, loss: 5.0919\n",
      "2022-11-18 20:09:31,957 - mmdet - INFO - Epoch [14][2200/5462]\tlr: 5.000e-06, eta: 0:52:28, time: 0.318, data_time: 0.008, memory: 18694, loss_cls: 0.5712, loss_bbox: 2.3836, loss_obj: 2.1727, loss: 5.1275\n",
      "2022-11-18 20:10:07,906 - mmdet - INFO - Epoch [14][2300/5462]\tlr: 5.000e-06, eta: 0:51:51, time: 0.359, data_time: 0.009, memory: 18694, loss_cls: 0.5681, loss_bbox: 2.3544, loss_obj: 2.0766, loss: 4.9991\n",
      "2022-11-18 20:10:45,760 - mmdet - INFO - Epoch [14][2400/5462]\tlr: 5.000e-06, eta: 0:51:16, time: 0.379, data_time: 0.009, memory: 18694, loss_cls: 0.5634, loss_bbox: 2.3092, loss_obj: 2.1050, loss: 4.9777\n",
      "2022-11-18 20:11:16,454 - mmdet - INFO - Epoch [14][2500/5462]\tlr: 5.000e-06, eta: 0:50:39, time: 0.306, data_time: 0.009, memory: 18694, loss_cls: 0.5728, loss_bbox: 2.4084, loss_obj: 2.0806, loss: 5.0618\n",
      "2022-11-18 20:11:50,804 - mmdet - INFO - Epoch [14][2600/5462]\tlr: 5.000e-06, eta: 0:50:03, time: 0.345, data_time: 0.010, memory: 18694, loss_cls: 0.5743, loss_bbox: 2.4015, loss_obj: 2.1498, loss: 5.1256\n",
      "2022-11-18 20:12:22,267 - mmdet - INFO - Epoch [14][2700/5462]\tlr: 5.000e-06, eta: 0:49:26, time: 0.315, data_time: 0.008, memory: 18694, loss_cls: 0.5733, loss_bbox: 2.4157, loss_obj: 2.1466, loss: 5.1356\n",
      "2022-11-18 20:12:58,567 - mmdet - INFO - Epoch [14][2800/5462]\tlr: 5.000e-06, eta: 0:48:50, time: 0.363, data_time: 0.008, memory: 18694, loss_cls: 0.5703, loss_bbox: 2.3758, loss_obj: 2.1936, loss: 5.1396\n",
      "2022-11-18 20:13:33,713 - mmdet - INFO - Epoch [14][2900/5462]\tlr: 5.000e-06, eta: 0:48:14, time: 0.350, data_time: 0.008, memory: 18694, loss_cls: 0.5708, loss_bbox: 2.3708, loss_obj: 2.1999, loss: 5.1415\n",
      "2022-11-18 20:14:13,622 - mmdet - INFO - Epoch [14][3000/5462]\tlr: 5.000e-06, eta: 0:47:38, time: 0.400, data_time: 0.009, memory: 18694, loss_cls: 0.5676, loss_bbox: 2.3371, loss_obj: 2.1338, loss: 5.0384\n",
      "2022-11-18 20:14:51,354 - mmdet - INFO - Epoch [14][3100/5462]\tlr: 5.000e-06, eta: 0:47:02, time: 0.378, data_time: 0.009, memory: 18694, loss_cls: 0.5669, loss_bbox: 2.3256, loss_obj: 2.0666, loss: 4.9591\n",
      "2022-11-18 20:15:25,581 - mmdet - INFO - Epoch [14][3200/5462]\tlr: 5.000e-06, eta: 0:46:26, time: 0.342, data_time: 0.008, memory: 18694, loss_cls: 0.5671, loss_bbox: 2.3468, loss_obj: 2.1436, loss: 5.0575\n",
      "2022-11-18 20:16:04,935 - mmdet - INFO - Epoch [14][3300/5462]\tlr: 5.000e-06, eta: 0:45:50, time: 0.394, data_time: 0.009, memory: 18694, loss_cls: 0.5700, loss_bbox: 2.3563, loss_obj: 2.1781, loss: 5.1043\n",
      "2022-11-18 20:16:43,925 - mmdet - INFO - Epoch [14][3400/5462]\tlr: 5.000e-06, eta: 0:45:14, time: 0.389, data_time: 0.008, memory: 18694, loss_cls: 0.5646, loss_bbox: 2.3016, loss_obj: 2.1167, loss: 4.9829\n",
      "2022-11-18 20:17:22,725 - mmdet - INFO - Epoch [14][3500/5462]\tlr: 5.000e-06, eta: 0:44:39, time: 0.389, data_time: 0.009, memory: 18694, loss_cls: 0.5635, loss_bbox: 2.3175, loss_obj: 2.0920, loss: 4.9730\n",
      "2022-11-18 20:17:59,806 - mmdet - INFO - Epoch [14][3600/5462]\tlr: 5.000e-06, eta: 0:44:03, time: 0.370, data_time: 0.008, memory: 18694, loss_cls: 0.5638, loss_bbox: 2.3233, loss_obj: 2.1264, loss: 5.0134\n",
      "2022-11-18 20:18:34,031 - mmdet - INFO - Epoch [14][3700/5462]\tlr: 5.000e-06, eta: 0:43:26, time: 0.343, data_time: 0.009, memory: 18694, loss_cls: 0.5649, loss_bbox: 2.3363, loss_obj: 2.0963, loss: 4.9976\n",
      "2022-11-18 20:19:12,083 - mmdet - INFO - Epoch [14][3800/5462]\tlr: 5.000e-06, eta: 0:42:50, time: 0.380, data_time: 0.009, memory: 18694, loss_cls: 0.5659, loss_bbox: 2.3344, loss_obj: 2.1086, loss: 5.0089\n",
      "2022-11-18 20:19:48,446 - mmdet - INFO - Epoch [14][3900/5462]\tlr: 5.000e-06, eta: 0:42:14, time: 0.363, data_time: 0.008, memory: 18694, loss_cls: 0.5630, loss_bbox: 2.2965, loss_obj: 2.0280, loss: 4.8874\n",
      "2022-11-18 20:20:22,484 - mmdet - INFO - Epoch [14][4000/5462]\tlr: 5.000e-06, eta: 0:41:38, time: 0.341, data_time: 0.009, memory: 18694, loss_cls: 0.5675, loss_bbox: 2.3482, loss_obj: 2.1376, loss: 5.0533\n",
      "2022-11-18 20:20:59,347 - mmdet - INFO - Epoch [14][4100/5462]\tlr: 5.000e-06, eta: 0:41:02, time: 0.368, data_time: 0.008, memory: 18694, loss_cls: 0.5664, loss_bbox: 2.3237, loss_obj: 2.1114, loss: 5.0015\n",
      "2022-11-18 20:21:35,418 - mmdet - INFO - Epoch [14][4200/5462]\tlr: 5.000e-06, eta: 0:40:26, time: 0.361, data_time: 0.009, memory: 18694, loss_cls: 0.5635, loss_bbox: 2.3405, loss_obj: 2.1236, loss: 5.0275\n",
      "2022-11-18 20:22:11,720 - mmdet - INFO - Epoch [14][4300/5462]\tlr: 5.000e-06, eta: 0:39:50, time: 0.363, data_time: 0.010, memory: 18694, loss_cls: 0.5698, loss_bbox: 2.4038, loss_obj: 2.1762, loss: 5.1498\n",
      "2022-11-18 20:22:48,591 - mmdet - INFO - Epoch [14][4400/5462]\tlr: 5.000e-06, eta: 0:39:14, time: 0.369, data_time: 0.009, memory: 18694, loss_cls: 0.5726, loss_bbox: 2.3455, loss_obj: 2.0788, loss: 4.9969\n",
      "2022-11-18 20:23:21,724 - mmdet - INFO - Epoch [14][4500/5462]\tlr: 5.000e-06, eta: 0:38:38, time: 0.332, data_time: 0.009, memory: 18694, loss_cls: 0.5747, loss_bbox: 2.4026, loss_obj: 2.1283, loss: 5.1056\n",
      "2022-11-18 20:23:55,810 - mmdet - INFO - Epoch [14][4600/5462]\tlr: 5.000e-06, eta: 0:38:01, time: 0.341, data_time: 0.009, memory: 18694, loss_cls: 0.5733, loss_bbox: 2.3976, loss_obj: 2.1452, loss: 5.1161\n",
      "2022-11-18 20:24:32,776 - mmdet - INFO - Epoch [14][4700/5462]\tlr: 5.000e-06, eta: 0:37:25, time: 0.369, data_time: 0.009, memory: 18694, loss_cls: 0.5652, loss_bbox: 2.3307, loss_obj: 2.1210, loss: 5.0169\n",
      "2022-11-18 20:25:13,352 - mmdet - INFO - Epoch [14][4800/5462]\tlr: 5.000e-06, eta: 0:36:50, time: 0.406, data_time: 0.009, memory: 18694, loss_cls: 0.5648, loss_bbox: 2.3081, loss_obj: 2.1142, loss: 4.9871\n",
      "2022-11-18 20:25:48,732 - mmdet - INFO - Epoch [14][4900/5462]\tlr: 5.000e-06, eta: 0:36:13, time: 0.354, data_time: 0.009, memory: 18694, loss_cls: 0.5628, loss_bbox: 2.3378, loss_obj: 2.0818, loss: 4.9825\n",
      "2022-11-18 20:26:26,454 - mmdet - INFO - Epoch [14][5000/5462]\tlr: 5.000e-06, eta: 0:35:37, time: 0.377, data_time: 0.009, memory: 18694, loss_cls: 0.5684, loss_bbox: 2.3556, loss_obj: 2.1519, loss: 5.0759\n",
      "2022-11-18 20:27:02,593 - mmdet - INFO - Epoch [14][5100/5462]\tlr: 5.000e-06, eta: 0:35:01, time: 0.362, data_time: 0.009, memory: 18694, loss_cls: 0.5593, loss_bbox: 2.3062, loss_obj: 2.0439, loss: 4.9094\n",
      "2022-11-18 20:27:39,132 - mmdet - INFO - Epoch [14][5200/5462]\tlr: 5.000e-06, eta: 0:34:25, time: 0.364, data_time: 0.008, memory: 18694, loss_cls: 0.5623, loss_bbox: 2.3189, loss_obj: 2.0715, loss: 4.9527\n",
      "2022-11-18 20:28:12,952 - mmdet - INFO - Epoch [14][5300/5462]\tlr: 5.000e-06, eta: 0:33:49, time: 0.339, data_time: 0.009, memory: 18694, loss_cls: 0.5707, loss_bbox: 2.3890, loss_obj: 2.1436, loss: 5.1033\n",
      "2022-11-18 20:28:45,631 - mmdet - INFO - Epoch [14][5400/5462]\tlr: 5.000e-06, eta: 0:33:13, time: 0.326, data_time: 0.009, memory: 18694, loss_cls: 0.5698, loss_bbox: 2.3625, loss_obj: 2.0712, loss: 5.0036\n",
      "2022-11-18 20:29:06,678 - mmdet - INFO - Saving checkpoint at 14 epochs\n"
     ]
    },
    {
     "name": "stdout",
     "output_type": "stream",
     "text": [
      "[>>>>>>>>>>>>>>>>>>>>>>>>] 10000/10000, 27.0 task/s, elapsed: 371s, ETA:     0s"
     ]
    },
    {
     "name": "stderr",
     "output_type": "stream",
     "text": [
      "2022-11-18 20:35:48,341 - mmdet - INFO - Evaluating bbox...\n"
     ]
    },
    {
     "name": "stdout",
     "output_type": "stream",
     "text": [
      "Loading and preparing results...\n",
      "DONE (t=1.66s)\n",
      "creating index...\n",
      "index created!\n",
      "Running per image evaluation...\n",
      "Evaluate annotation type *bbox*\n",
      "DONE (t=80.57s).\n",
      "Accumulating evaluation results...\n"
     ]
    },
    {
     "name": "stderr",
     "output_type": "stream",
     "text": [
      "2022-11-18 20:37:26,624 - mmdet - INFO - \n",
      " Average Precision  (AP) @[ IoU=0.50:0.95 | area=   all | maxDets=100 ] = 0.237\n",
      " Average Precision  (AP) @[ IoU=0.50      | area=   all | maxDets=1000 ] = 0.438\n",
      " Average Precision  (AP) @[ IoU=0.75      | area=   all | maxDets=1000 ] = 0.231\n",
      " Average Precision  (AP) @[ IoU=0.50:0.95 | area= small | maxDets=1000 ] = 0.221\n",
      " Average Precision  (AP) @[ IoU=0.50:0.95 | area=medium | maxDets=1000 ] = 0.441\n",
      " Average Precision  (AP) @[ IoU=0.50:0.95 | area= large | maxDets=1000 ] = 0.489\n",
      " Average Recall     (AR) @[ IoU=0.50:0.95 | area=   all | maxDets=100 ] = 0.408\n",
      " Average Recall     (AR) @[ IoU=0.50:0.95 | area=   all | maxDets=300 ] = 0.419\n",
      " Average Recall     (AR) @[ IoU=0.50:0.95 | area=   all | maxDets=1000 ] = 0.420\n",
      " Average Recall     (AR) @[ IoU=0.50:0.95 | area= small | maxDets=1000 ] = 0.398\n",
      " Average Recall     (AR) @[ IoU=0.50:0.95 | area=medium | maxDets=1000 ] = 0.664\n",
      " Average Recall     (AR) @[ IoU=0.50:0.95 | area= large | maxDets=1000 ] = 0.731\n",
      "\n"
     ]
    },
    {
     "name": "stdout",
     "output_type": "stream",
     "text": [
      "DONE (t=13.17s).\n"
     ]
    },
    {
     "name": "stderr",
     "output_type": "stream",
     "text": [
      "2022-11-18 20:37:27,033 - mmdet - INFO - The previous best checkpoint D:\\Homework\\course_cvdl\\task3\\workdirs\\yolox_l_8x8_300e_coco\\best_bbox_mAP_epoch_13.pth was removed\n",
      "2022-11-18 20:37:34,014 - mmdet - INFO - Now best checkpoint is saved as best_bbox_mAP_epoch_14.pth.\n",
      "2022-11-18 20:37:34,015 - mmdet - INFO - Best bbox_mAP is 0.2370 at 14 epoch.\n",
      "2022-11-18 20:37:34,016 - mmdet - INFO - Epoch(val) [14][10000]\tbbox_mAP: 0.2370, bbox_mAP_50: 0.4380, bbox_mAP_75: 0.2310, bbox_mAP_s: 0.2210, bbox_mAP_m: 0.4410, bbox_mAP_l: 0.4890, bbox_mAP_copypaste: 0.237 0.438 0.231 0.221 0.441 0.489\n",
      "2022-11-18 20:38:09,304 - mmdet - INFO - Epoch [15][100/5462]\tlr: 5.000e-06, eta: 0:32:13, time: 0.352, data_time: 0.035, memory: 18694, loss_cls: 0.5705, loss_bbox: 2.3699, loss_obj: 2.0599, loss: 5.0004\n",
      "2022-11-18 20:38:42,532 - mmdet - INFO - Epoch [15][200/5462]\tlr: 5.000e-06, eta: 0:31:36, time: 0.332, data_time: 0.008, memory: 18694, loss_cls: 0.5696, loss_bbox: 2.3835, loss_obj: 2.1174, loss: 5.0705\n",
      "2022-11-18 20:39:14,515 - mmdet - INFO - Epoch [15][300/5462]\tlr: 5.000e-06, eta: 0:31:00, time: 0.320, data_time: 0.008, memory: 18694, loss_cls: 0.5665, loss_bbox: 2.3647, loss_obj: 2.0378, loss: 4.9691\n",
      "2022-11-18 20:39:48,259 - mmdet - INFO - Epoch [15][400/5462]\tlr: 5.000e-06, eta: 0:30:24, time: 0.337, data_time: 0.009, memory: 18694, loss_cls: 0.5735, loss_bbox: 2.3937, loss_obj: 2.1804, loss: 5.1475\n",
      "2022-11-18 20:40:22,342 - mmdet - INFO - Epoch [15][500/5462]\tlr: 5.000e-06, eta: 0:29:48, time: 0.341, data_time: 0.008, memory: 18694, loss_cls: 0.5691, loss_bbox: 2.3760, loss_obj: 2.0220, loss: 4.9671\n",
      "2022-11-18 20:40:57,838 - mmdet - INFO - Epoch [15][600/5462]\tlr: 5.000e-06, eta: 0:29:12, time: 0.355, data_time: 0.008, memory: 18694, loss_cls: 0.5661, loss_bbox: 2.3278, loss_obj: 2.0638, loss: 4.9576\n",
      "2022-11-18 20:41:30,885 - mmdet - INFO - Epoch [15][700/5462]\tlr: 5.000e-06, eta: 0:28:35, time: 0.330, data_time: 0.010, memory: 18694, loss_cls: 0.5667, loss_bbox: 2.3484, loss_obj: 2.0806, loss: 4.9957\n",
      "2022-11-18 20:42:08,449 - mmdet - INFO - Epoch [15][800/5462]\tlr: 5.000e-06, eta: 0:27:59, time: 0.376, data_time: 0.015, memory: 18694, loss_cls: 0.5638, loss_bbox: 2.3140, loss_obj: 2.0995, loss: 4.9773\n",
      "2022-11-18 20:42:43,892 - mmdet - INFO - Epoch [15][900/5462]\tlr: 5.000e-06, eta: 0:27:23, time: 0.355, data_time: 0.009, memory: 18694, loss_cls: 0.5674, loss_bbox: 2.3479, loss_obj: 2.1331, loss: 5.0484\n",
      "2022-11-18 20:43:18,843 - mmdet - INFO - Epoch [15][1000/5462]\tlr: 5.000e-06, eta: 0:26:47, time: 0.350, data_time: 0.008, memory: 18694, loss_cls: 0.5702, loss_bbox: 2.3863, loss_obj: 2.0890, loss: 5.0455\n",
      "2022-11-18 20:43:50,583 - mmdet - INFO - Epoch [15][1100/5462]\tlr: 5.000e-06, eta: 0:26:11, time: 0.317, data_time: 0.008, memory: 18694, loss_cls: 0.5625, loss_bbox: 2.3334, loss_obj: 2.1035, loss: 4.9994\n",
      "2022-11-18 20:44:24,394 - mmdet - INFO - Epoch [15][1200/5462]\tlr: 5.000e-06, eta: 0:25:35, time: 0.338, data_time: 0.009, memory: 18694, loss_cls: 0.5732, loss_bbox: 2.3918, loss_obj: 2.1259, loss: 5.0908\n",
      "2022-11-18 20:45:03,303 - mmdet - INFO - Epoch [15][1300/5462]\tlr: 5.000e-06, eta: 0:24:59, time: 0.389, data_time: 0.009, memory: 18694, loss_cls: 0.5658, loss_bbox: 2.3094, loss_obj: 2.1229, loss: 4.9981\n",
      "2022-11-18 20:45:38,958 - mmdet - INFO - Epoch [15][1400/5462]\tlr: 5.000e-06, eta: 0:24:23, time: 0.356, data_time: 0.009, memory: 18694, loss_cls: 0.5681, loss_bbox: 2.3367, loss_obj: 2.0955, loss: 5.0002\n",
      "2022-11-18 20:46:10,936 - mmdet - INFO - Epoch [15][1500/5462]\tlr: 5.000e-06, eta: 0:23:47, time: 0.320, data_time: 0.009, memory: 18694, loss_cls: 0.5710, loss_bbox: 2.3809, loss_obj: 2.1520, loss: 5.1040\n",
      "2022-11-18 20:46:45,405 - mmdet - INFO - Epoch [15][1600/5462]\tlr: 5.000e-06, eta: 0:23:11, time: 0.345, data_time: 0.009, memory: 18694, loss_cls: 0.5687, loss_bbox: 2.3638, loss_obj: 2.1901, loss: 5.1226\n",
      "2022-11-18 20:47:17,114 - mmdet - INFO - Epoch [15][1700/5462]\tlr: 5.000e-06, eta: 0:22:34, time: 0.316, data_time: 0.011, memory: 18694, loss_cls: 0.5697, loss_bbox: 2.3913, loss_obj: 2.1073, loss: 5.0683\n",
      "2022-11-18 20:47:53,458 - mmdet - INFO - Epoch [15][1800/5462]\tlr: 5.000e-06, eta: 0:21:58, time: 0.364, data_time: 0.010, memory: 18694, loss_cls: 0.5620, loss_bbox: 2.3250, loss_obj: 2.1458, loss: 5.0329\n",
      "2022-11-18 20:48:27,767 - mmdet - INFO - Epoch [15][1900/5462]\tlr: 5.000e-06, eta: 0:21:22, time: 0.342, data_time: 0.009, memory: 18694, loss_cls: 0.5723, loss_bbox: 2.3693, loss_obj: 2.1233, loss: 5.0650\n",
      "2022-11-18 20:49:05,302 - mmdet - INFO - Epoch [15][2000/5462]\tlr: 5.000e-06, eta: 0:20:46, time: 0.375, data_time: 0.009, memory: 18694, loss_cls: 0.5671, loss_bbox: 2.3716, loss_obj: 2.0745, loss: 5.0132\n",
      "2022-11-18 20:49:40,944 - mmdet - INFO - Epoch [15][2100/5462]\tlr: 5.000e-06, eta: 0:20:10, time: 0.356, data_time: 0.010, memory: 18694, loss_cls: 0.5665, loss_bbox: 2.3551, loss_obj: 2.0636, loss: 4.9853\n",
      "2022-11-18 20:50:20,109 - mmdet - INFO - Epoch [15][2200/5462]\tlr: 5.000e-06, eta: 0:19:34, time: 0.392, data_time: 0.010, memory: 18694, loss_cls: 0.5617, loss_bbox: 2.3140, loss_obj: 2.1069, loss: 4.9826\n",
      "2022-11-18 20:50:55,360 - mmdet - INFO - Epoch [15][2300/5462]\tlr: 5.000e-06, eta: 0:18:58, time: 0.354, data_time: 0.009, memory: 18694, loss_cls: 0.5609, loss_bbox: 2.2774, loss_obj: 1.9975, loss: 4.8358\n",
      "2022-11-18 20:51:27,023 - mmdet - INFO - Epoch [15][2400/5462]\tlr: 5.000e-06, eta: 0:18:22, time: 0.317, data_time: 0.008, memory: 18694, loss_cls: 0.5735, loss_bbox: 2.4234, loss_obj: 2.1091, loss: 5.1060\n",
      "2022-11-18 20:52:01,133 - mmdet - INFO - Epoch [15][2500/5462]\tlr: 5.000e-06, eta: 0:17:46, time: 0.340, data_time: 0.008, memory: 18694, loss_cls: 0.5727, loss_bbox: 2.3948, loss_obj: 2.1779, loss: 5.1455\n",
      "2022-11-18 20:52:33,169 - mmdet - INFO - Epoch [15][2600/5462]\tlr: 5.000e-06, eta: 0:17:10, time: 0.320, data_time: 0.009, memory: 18694, loss_cls: 0.5656, loss_bbox: 2.3497, loss_obj: 2.0450, loss: 4.9603\n",
      "2022-11-18 20:53:06,449 - mmdet - INFO - Epoch [15][2700/5462]\tlr: 5.000e-06, eta: 0:16:34, time: 0.334, data_time: 0.009, memory: 18694, loss_cls: 0.5763, loss_bbox: 2.4206, loss_obj: 2.1020, loss: 5.0989\n",
      "2022-11-18 20:53:44,198 - mmdet - INFO - Epoch [15][2800/5462]\tlr: 5.000e-06, eta: 0:15:58, time: 0.377, data_time: 0.008, memory: 18694, loss_cls: 0.5680, loss_bbox: 2.3515, loss_obj: 2.0985, loss: 5.0180\n",
      "2022-11-18 20:54:16,612 - mmdet - INFO - Epoch [15][2900/5462]\tlr: 5.000e-06, eta: 0:15:22, time: 0.324, data_time: 0.009, memory: 18694, loss_cls: 0.5710, loss_bbox: 2.4090, loss_obj: 2.1299, loss: 5.1099\n",
      "2022-11-18 20:54:52,818 - mmdet - INFO - Epoch [15][3000/5462]\tlr: 5.000e-06, eta: 0:14:46, time: 0.362, data_time: 0.009, memory: 18694, loss_cls: 0.5695, loss_bbox: 2.3713, loss_obj: 2.0873, loss: 5.0280\n",
      "2022-11-18 20:55:27,333 - mmdet - INFO - Epoch [15][3100/5462]\tlr: 5.000e-06, eta: 0:14:10, time: 0.345, data_time: 0.009, memory: 18694, loss_cls: 0.5668, loss_bbox: 2.3497, loss_obj: 2.0709, loss: 4.9874\n",
      "2022-11-18 20:56:02,023 - mmdet - INFO - Epoch [15][3200/5462]\tlr: 5.000e-06, eta: 0:13:34, time: 0.347, data_time: 0.009, memory: 18694, loss_cls: 0.5640, loss_bbox: 2.3301, loss_obj: 2.0667, loss: 4.9608\n",
      "2022-11-18 20:56:38,508 - mmdet - INFO - Epoch [15][3300/5462]\tlr: 5.000e-06, eta: 0:12:58, time: 0.364, data_time: 0.008, memory: 18694, loss_cls: 0.5677, loss_bbox: 2.3416, loss_obj: 2.0934, loss: 5.0027\n",
      "2022-11-18 20:57:14,659 - mmdet - INFO - Epoch [15][3400/5462]\tlr: 5.000e-06, eta: 0:12:22, time: 0.361, data_time: 0.009, memory: 18694, loss_cls: 0.5665, loss_bbox: 2.3372, loss_obj: 2.1245, loss: 5.0282\n",
      "2022-11-18 20:57:46,988 - mmdet - INFO - Epoch [15][3500/5462]\tlr: 5.000e-06, eta: 0:11:46, time: 0.324, data_time: 0.009, memory: 18694, loss_cls: 0.5671, loss_bbox: 2.3676, loss_obj: 2.0877, loss: 5.0224\n",
      "2022-11-18 20:58:18,825 - mmdet - INFO - Epoch [15][3600/5462]\tlr: 5.000e-06, eta: 0:11:10, time: 0.318, data_time: 0.008, memory: 18694, loss_cls: 0.5759, loss_bbox: 2.4204, loss_obj: 2.1300, loss: 5.1263\n",
      "2022-11-18 20:58:54,888 - mmdet - INFO - Epoch [15][3700/5462]\tlr: 5.000e-06, eta: 0:10:34, time: 0.359, data_time: 0.008, memory: 18694, loss_cls: 0.5755, loss_bbox: 2.4187, loss_obj: 2.1006, loss: 5.0948\n",
      "2022-11-18 20:59:27,193 - mmdet - INFO - Epoch [15][3800/5462]\tlr: 5.000e-06, eta: 0:09:58, time: 0.324, data_time: 0.009, memory: 18694, loss_cls: 0.5706, loss_bbox: 2.4162, loss_obj: 2.0992, loss: 5.0860\n",
      "2022-11-18 21:00:04,994 - mmdet - INFO - Epoch [15][3900/5462]\tlr: 5.000e-06, eta: 0:09:22, time: 0.377, data_time: 0.008, memory: 18694, loss_cls: 0.5635, loss_bbox: 2.3073, loss_obj: 2.1416, loss: 5.0124\n",
      "2022-11-18 21:00:41,006 - mmdet - INFO - Epoch [15][4000/5462]\tlr: 5.000e-06, eta: 0:08:46, time: 0.361, data_time: 0.010, memory: 18694, loss_cls: 0.5657, loss_bbox: 2.3155, loss_obj: 2.0982, loss: 4.9794\n",
      "2022-11-18 21:01:16,561 - mmdet - INFO - Epoch [15][4100/5462]\tlr: 5.000e-06, eta: 0:08:10, time: 0.355, data_time: 0.009, memory: 18694, loss_cls: 0.5647, loss_bbox: 2.3261, loss_obj: 2.0544, loss: 4.9452\n",
      "2022-11-18 21:01:50,393 - mmdet - INFO - Epoch [15][4200/5462]\tlr: 5.000e-06, eta: 0:07:34, time: 0.339, data_time: 0.009, memory: 18694, loss_cls: 0.5699, loss_bbox: 2.3395, loss_obj: 2.0146, loss: 4.9240\n",
      "2022-11-18 21:02:29,673 - mmdet - INFO - Epoch [15][4300/5462]\tlr: 5.000e-06, eta: 0:06:58, time: 0.392, data_time: 0.008, memory: 18694, loss_cls: 0.5577, loss_bbox: 2.2710, loss_obj: 2.0416, loss: 4.8703\n",
      "2022-11-18 21:03:01,749 - mmdet - INFO - Epoch [15][4400/5462]\tlr: 5.000e-06, eta: 0:06:22, time: 0.322, data_time: 0.010, memory: 18694, loss_cls: 0.5725, loss_bbox: 2.4050, loss_obj: 2.0733, loss: 5.0508\n",
      "2022-11-18 21:03:41,165 - mmdet - INFO - Epoch [15][4500/5462]\tlr: 5.000e-06, eta: 0:05:46, time: 0.393, data_time: 0.009, memory: 18694, loss_cls: 0.5658, loss_bbox: 2.3198, loss_obj: 2.1112, loss: 4.9968\n",
      "2022-11-18 21:04:15,531 - mmdet - INFO - Epoch [15][4600/5462]\tlr: 5.000e-06, eta: 0:05:10, time: 0.344, data_time: 0.009, memory: 18694, loss_cls: 0.5782, loss_bbox: 2.4389, loss_obj: 2.2003, loss: 5.2173\n",
      "2022-11-18 21:04:52,730 - mmdet - INFO - Epoch [15][4700/5462]\tlr: 5.000e-06, eta: 0:04:34, time: 0.373, data_time: 0.009, memory: 18694, loss_cls: 0.5623, loss_bbox: 2.3175, loss_obj: 2.1055, loss: 4.9853\n",
      "2022-11-18 21:05:29,108 - mmdet - INFO - Epoch [15][4800/5462]\tlr: 5.000e-06, eta: 0:03:58, time: 0.363, data_time: 0.008, memory: 18694, loss_cls: 0.5666, loss_bbox: 2.3257, loss_obj: 2.1153, loss: 5.0076\n",
      "2022-11-18 21:06:03,460 - mmdet - INFO - Epoch [15][4900/5462]\tlr: 5.000e-06, eta: 0:03:22, time: 0.344, data_time: 0.009, memory: 18694, loss_cls: 0.5668, loss_bbox: 2.3391, loss_obj: 2.0161, loss: 4.9220\n",
      "2022-11-18 21:06:38,596 - mmdet - INFO - Epoch [15][5000/5462]\tlr: 5.000e-06, eta: 0:02:46, time: 0.352, data_time: 0.009, memory: 18694, loss_cls: 0.5729, loss_bbox: 2.3822, loss_obj: 2.1211, loss: 5.0762\n",
      "2022-11-18 21:07:18,955 - mmdet - INFO - Epoch [15][5100/5462]\tlr: 5.000e-06, eta: 0:02:10, time: 0.403, data_time: 0.009, memory: 18694, loss_cls: 0.5651, loss_bbox: 2.3008, loss_obj: 2.0939, loss: 4.9598\n",
      "2022-11-18 21:07:52,514 - mmdet - INFO - Epoch [15][5200/5462]\tlr: 5.000e-06, eta: 0:01:34, time: 0.336, data_time: 0.010, memory: 18694, loss_cls: 0.5698, loss_bbox: 2.3792, loss_obj: 2.1366, loss: 5.0857\n",
      "2022-11-18 21:08:23,516 - mmdet - INFO - Epoch [15][5300/5462]\tlr: 5.000e-06, eta: 0:00:58, time: 0.310, data_time: 0.008, memory: 18694, loss_cls: 0.5698, loss_bbox: 2.3898, loss_obj: 2.0813, loss: 5.0409\n",
      "2022-11-18 21:08:58,434 - mmdet - INFO - Epoch [15][5400/5462]\tlr: 5.000e-06, eta: 0:00:22, time: 0.349, data_time: 0.009, memory: 18694, loss_cls: 0.5634, loss_bbox: 2.3283, loss_obj: 2.0562, loss: 4.9479\n",
      "2022-11-18 21:09:18,826 - mmdet - INFO - Saving checkpoint at 15 epochs\n"
     ]
    },
    {
     "name": "stdout",
     "output_type": "stream",
     "text": [
      "[>>>>>>>>>>>>>>>>>>>>>>>>] 10000/10000, 26.5 task/s, elapsed: 377s, ETA:     0s"
     ]
    },
    {
     "name": "stderr",
     "output_type": "stream",
     "text": [
      "2022-11-18 21:16:05,201 - mmdet - INFO - Evaluating bbox...\n"
     ]
    },
    {
     "name": "stdout",
     "output_type": "stream",
     "text": [
      "Loading and preparing results...\n",
      "DONE (t=1.43s)\n",
      "creating index...\n",
      "index created!\n",
      "Running per image evaluation...\n",
      "Evaluate annotation type *bbox*\n",
      "DONE (t=81.72s).\n",
      "Accumulating evaluation results...\n"
     ]
    },
    {
     "name": "stderr",
     "output_type": "stream",
     "text": [
      "2022-11-18 21:17:44,808 - mmdet - INFO - \n",
      " Average Precision  (AP) @[ IoU=0.50:0.95 | area=   all | maxDets=100 ] = 0.240\n",
      " Average Precision  (AP) @[ IoU=0.50      | area=   all | maxDets=1000 ] = 0.443\n",
      " Average Precision  (AP) @[ IoU=0.75      | area=   all | maxDets=1000 ] = 0.234\n",
      " Average Precision  (AP) @[ IoU=0.50:0.95 | area= small | maxDets=1000 ] = 0.223\n",
      " Average Precision  (AP) @[ IoU=0.50:0.95 | area=medium | maxDets=1000 ] = 0.444\n",
      " Average Precision  (AP) @[ IoU=0.50:0.95 | area= large | maxDets=1000 ] = 0.490\n",
      " Average Recall     (AR) @[ IoU=0.50:0.95 | area=   all | maxDets=100 ] = 0.411\n",
      " Average Recall     (AR) @[ IoU=0.50:0.95 | area=   all | maxDets=300 ] = 0.421\n",
      " Average Recall     (AR) @[ IoU=0.50:0.95 | area=   all | maxDets=1000 ] = 0.422\n",
      " Average Recall     (AR) @[ IoU=0.50:0.95 | area= small | maxDets=1000 ] = 0.400\n",
      " Average Recall     (AR) @[ IoU=0.50:0.95 | area=medium | maxDets=1000 ] = 0.665\n",
      " Average Recall     (AR) @[ IoU=0.50:0.95 | area= large | maxDets=1000 ] = 0.733\n",
      "\n"
     ]
    },
    {
     "name": "stdout",
     "output_type": "stream",
     "text": [
      "DONE (t=13.21s).\n"
     ]
    },
    {
     "name": "stderr",
     "output_type": "stream",
     "text": [
      "2022-11-18 21:17:45,244 - mmdet - INFO - The previous best checkpoint D:\\Homework\\course_cvdl\\task3\\workdirs\\yolox_l_8x8_300e_coco\\best_bbox_mAP_epoch_14.pth was removed\n",
      "2022-11-18 21:17:52,501 - mmdet - INFO - Now best checkpoint is saved as best_bbox_mAP_epoch_15.pth.\n",
      "2022-11-18 21:17:52,502 - mmdet - INFO - Best bbox_mAP is 0.2400 at 15 epoch.\n",
      "2022-11-18 21:17:52,502 - mmdet - INFO - Epoch(val) [15][10000]\tbbox_mAP: 0.2400, bbox_mAP_50: 0.4430, bbox_mAP_75: 0.2340, bbox_mAP_s: 0.2230, bbox_mAP_m: 0.4440, bbox_mAP_l: 0.4900, bbox_mAP_copypaste: 0.240 0.443 0.234 0.223 0.444 0.490\n"
     ]
    }
   ],
   "source": [
    "cfg = load_config('yolox_l_8x8_300e_coco', data_path=data_path)\n",
    "train(cfg)"
   ],
   "metadata": {
    "collapsed": false,
    "pycharm": {
     "name": "#%%\n"
    }
   }
  }
 ],
 "metadata": {
  "kernelspec": {
   "display_name": "Python 3",
   "language": "python",
   "name": "python3"
  },
  "language_info": {
   "codemirror_mode": {
    "name": "ipython",
    "version": 2
   },
   "file_extension": ".py",
   "mimetype": "text/x-python",
   "name": "python",
   "nbconvert_exporter": "python",
   "pygments_lexer": "ipython2",
   "version": "2.7.6"
  }
 },
 "nbformat": 4,
 "nbformat_minor": 0
}