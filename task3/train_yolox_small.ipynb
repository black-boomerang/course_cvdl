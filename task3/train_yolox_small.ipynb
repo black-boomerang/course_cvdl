{
 "cells": [
  {
   "cell_type": "markdown",
   "source": [
    "# Обучение YOLOX (Small)\n",
    "\n",
    "Загружаем необходимые библиотеки:"
   ],
   "metadata": {
    "collapsed": false,
    "pycharm": {
     "name": "#%% md\n"
    }
   }
  },
  {
   "cell_type": "code",
   "execution_count": 1,
   "outputs": [
    {
     "name": "stderr",
     "output_type": "stream",
     "text": [
      "C:\\Users\\Aleksei\\anaconda3\\envs\\data_science_3.9\\lib\\site-packages\\mmcv\\__init__.py:20: UserWarning: On January 1, 2023, MMCV will release v2.0.0, in which it will remove components related to the training process and add a data transformation module. In addition, it will rename the package names mmcv to mmcv-lite and mmcv-full to mmcv. See https://github.com/open-mmlab/mmcv/blob/master/docs/en/compatibility.md for more details.\n",
      "  warnings.warn(\n"
     ]
    }
   ],
   "source": [
    "import os\n",
    "import warnings\n",
    "\n",
    "from config import load_config\n",
    "from train import train\n",
    "from utils import convert_anns_to_suit_format\n",
    "\n",
    "warnings.filterwarnings('ignore')\n",
    "data_path = r'..\\data'"
   ],
   "metadata": {
    "collapsed": false,
    "pycharm": {
     "name": "#%%\n"
    }
   }
  },
  {
   "cell_type": "markdown",
   "source": [
    "Обучение будем проводить при помощи библиотеки mmdet. Для начала приведём файл с аннотациями к нужному виду и разобьём выборку на обучение и валидацию:"
   ],
   "metadata": {
    "collapsed": false,
    "pycharm": {
     "name": "#%% md\n"
    }
   }
  },
  {
   "cell_type": "code",
   "execution_count": 2,
   "outputs": [],
   "source": [
    "convert_anns_to_suit_format(os.path.join(data_path, 'cocotext.v2.json'),\n",
    "                            os.path.join(data_path, 'cocotext.train.json'),\n",
    "                            os.path.join(data_path, 'cocotext.val.json'))"
   ],
   "metadata": {
    "collapsed": false,
    "pycharm": {
     "name": "#%%\n"
    }
   }
  },
  {
   "cell_type": "markdown",
   "source": [
    "Создаём словарь, в котором названию модели сопоставляется URL предобученной модели (уже есть в репозитории):"
   ],
   "metadata": {
    "collapsed": false,
    "pycharm": {
     "name": "#%% md\n"
    }
   }
  },
  {
   "cell_type": "code",
   "execution_count": 1,
   "outputs": [
    {
     "data": {
      "text/plain": "  0%|          | 0/91 [00:00<?, ?it/s]",
      "application/vnd.jupyter.widget-view+json": {
       "version_major": 2,
       "version_minor": 0,
       "model_id": "3b3f786877504a29b992c7bdab59cc54"
      }
     },
     "metadata": {},
     "output_type": "display_data"
    }
   ],
   "source": [
    "# from utils import get_models_info_file\n",
    "# get_models_info_file('models_info.json')"
   ],
   "metadata": {
    "collapsed": false,
    "pycharm": {
     "name": "#%%\n"
    }
   }
  },
  {
   "cell_type": "markdown",
   "source": [
    "Обучаем модель:"
   ],
   "metadata": {
    "collapsed": false,
    "pycharm": {
     "name": "#%% md\n"
    }
   }
  },
  {
   "cell_type": "markdown",
   "source": [],
   "metadata": {
    "collapsed": false,
    "pycharm": {
     "name": "#%% md\n"
    }
   }
  },
  {
   "cell_type": "code",
   "execution_count": 2,
   "outputs": [
    {
     "name": "stdout",
     "output_type": "stream",
     "text": [
      "loading annotations into memory...\n",
      "Done (t=0.64s)\n",
      "creating index...\n",
      "index created!\n"
     ]
    },
    {
     "name": "stderr",
     "output_type": "stream",
     "text": [
      "2022-11-17 14:54:21,864 - mmdet - INFO - Automatic scaling of learning rate (LR) has been disabled.\n"
     ]
    },
    {
     "name": "stdout",
     "output_type": "stream",
     "text": [
      "loading annotations into memory...\n"
     ]
    },
    {
     "name": "stderr",
     "output_type": "stream",
     "text": [
      "2022-11-17 14:54:22,167 - mmdet - INFO - load checkpoint from local path: D:\\Homework\\course_cvdl\\task3\\weights\\yolox_s_8x8_300e_coco.pth\n",
      "2022-11-17 14:54:22,245 - mmdet - WARNING - The model and loaded state dict do not match exactly\n",
      "\n",
      "size mismatch for bbox_head.multi_level_conv_cls.0.weight: copying a param with shape torch.Size([80, 128, 1, 1]) from checkpoint, the shape in current model is torch.Size([1, 128, 1, 1]).\n",
      "size mismatch for bbox_head.multi_level_conv_cls.0.bias: copying a param with shape torch.Size([80]) from checkpoint, the shape in current model is torch.Size([1]).\n",
      "size mismatch for bbox_head.multi_level_conv_cls.1.weight: copying a param with shape torch.Size([80, 128, 1, 1]) from checkpoint, the shape in current model is torch.Size([1, 128, 1, 1]).\n",
      "size mismatch for bbox_head.multi_level_conv_cls.1.bias: copying a param with shape torch.Size([80]) from checkpoint, the shape in current model is torch.Size([1]).\n",
      "size mismatch for bbox_head.multi_level_conv_cls.2.weight: copying a param with shape torch.Size([80, 128, 1, 1]) from checkpoint, the shape in current model is torch.Size([1, 128, 1, 1]).\n",
      "size mismatch for bbox_head.multi_level_conv_cls.2.bias: copying a param with shape torch.Size([80]) from checkpoint, the shape in current model is torch.Size([1]).\n",
      "2022-11-17 14:54:22,248 - mmdet - INFO - Start running, host: Aleksei@DESKTOP-6FN7PTO, work_dir: D:\\Homework\\course_cvdl\\task3\\workdirs\\yolox_s_8x8_300e_coco\n",
      "2022-11-17 14:54:22,249 - mmdet - INFO - Hooks will be executed in the following order:\n",
      "before_run:\n",
      "(VERY_HIGH   ) YOLOXLrUpdaterHook                 \n",
      "(49          ) ExpMomentumEMAHook                 \n",
      "(NORMAL      ) CheckpointHook                     \n",
      "(LOW         ) EvalHook                           \n",
      "(VERY_LOW    ) TextLoggerHook                     \n",
      "(VERY_LOW    ) TensorboardLoggerHook              \n",
      " -------------------- \n",
      "before_train_epoch:\n",
      "(VERY_HIGH   ) YOLOXLrUpdaterHook                 \n",
      "(48          ) YOLOXModeSwitchHook                \n",
      "(48          ) SyncNormHook                       \n",
      "(49          ) ExpMomentumEMAHook                 \n",
      "(LOW         ) IterTimerHook                      \n",
      "(LOW         ) EvalHook                           \n",
      "(VERY_LOW    ) TextLoggerHook                     \n",
      "(VERY_LOW    ) TensorboardLoggerHook              \n",
      " -------------------- \n",
      "before_train_iter:\n",
      "(VERY_HIGH   ) YOLOXLrUpdaterHook                 \n",
      "(LOW         ) IterTimerHook                      \n",
      "(LOW         ) EvalHook                           \n",
      " -------------------- \n",
      "after_train_iter:\n",
      "(ABOVE_NORMAL) OptimizerHook                      \n",
      "(49          ) ExpMomentumEMAHook                 \n",
      "(NORMAL      ) CheckpointHook                     \n",
      "(LOW         ) IterTimerHook                      \n",
      "(LOW         ) EvalHook                           \n",
      "(VERY_LOW    ) TextLoggerHook                     \n",
      "(VERY_LOW    ) TensorboardLoggerHook              \n",
      " -------------------- \n",
      "after_train_epoch:\n",
      "(48          ) SyncNormHook                       \n",
      "(49          ) ExpMomentumEMAHook                 \n",
      "(NORMAL      ) CheckpointHook                     \n",
      "(LOW         ) EvalHook                           \n",
      "(VERY_LOW    ) TextLoggerHook                     \n",
      "(VERY_LOW    ) TensorboardLoggerHook              \n",
      " -------------------- \n",
      "before_val_epoch:\n",
      "(LOW         ) IterTimerHook                      \n",
      "(VERY_LOW    ) TextLoggerHook                     \n",
      "(VERY_LOW    ) TensorboardLoggerHook              \n",
      " -------------------- \n",
      "before_val_iter:\n",
      "(LOW         ) IterTimerHook                      \n",
      " -------------------- \n",
      "after_val_iter:\n",
      "(LOW         ) IterTimerHook                      \n",
      " -------------------- \n",
      "after_val_epoch:\n",
      "(VERY_LOW    ) TextLoggerHook                     \n",
      "(VERY_LOW    ) TensorboardLoggerHook              \n",
      " -------------------- \n",
      "after_run:\n",
      "(VERY_LOW    ) TextLoggerHook                     \n",
      "(VERY_LOW    ) TensorboardLoggerHook              \n",
      " -------------------- \n",
      "2022-11-17 14:54:22,250 - mmdet - INFO - workflow: [('train', 1)], max: 10 epochs\n"
     ]
    },
    {
     "name": "stdout",
     "output_type": "stream",
     "text": [
      "Done (t=0.22s)\n",
      "creating index...\n",
      "index created!\n"
     ]
    },
    {
     "name": "stderr",
     "output_type": "stream",
     "text": [
      "2022-11-17 14:54:23,147 - mmdet - INFO - Checkpoints will be saved to D:\\Homework\\course_cvdl\\task3\\workdirs\\yolox_s_8x8_300e_coco by HardDiskBackend.\n",
      "C:\\Users\\Aleksei\\anaconda3\\envs\\data_science_3.9\\lib\\site-packages\\mmcv\\runner\\hooks\\evaluation.py:226: UserWarning: runner.meta is None. Creating an empty one.\n",
      "  warnings.warn('runner.meta is None. Creating an empty one.')\n",
      "C:\\Users\\Aleksei\\anaconda3\\envs\\data_science_3.9\\lib\\site-packages\\torch\\functional.py:478: UserWarning: torch.meshgrid: in an upcoming release, it will be required to pass the indexing argument. (Triggered internally at  C:\\cb\\pytorch_1000000000000\\work\\aten\\src\\ATen\\native\\TensorShape.cpp:2895.)\n",
      "  return _VF.meshgrid(tensors, **kwargs)  # type: ignore[attr-defined]\n",
      "2022-11-17 14:55:28,973 - mmdet - INFO - Epoch [1][100/2732]\tlr: 5.000e-06, eta: 4:57:03, time: 0.655, data_time: 0.327, memory: 12317, loss_cls: 0.9077, loss_bbox: 3.7202, loss_obj: 8.7475, loss: 13.3753\n",
      "2022-11-17 14:56:09,953 - mmdet - INFO - Epoch [1][200/2732]\tlr: 5.000e-06, eta: 4:00:22, time: 0.409, data_time: 0.105, memory: 12317, loss_cls: 0.7824, loss_bbox: 3.4273, loss_obj: 5.3131, loss: 9.5227\n",
      "2022-11-17 14:56:48,796 - mmdet - INFO - Epoch [1][300/2732]\tlr: 5.000e-06, eta: 3:38:05, time: 0.389, data_time: 0.106, memory: 12317, loss_cls: 0.7454, loss_bbox: 3.3989, loss_obj: 4.4591, loss: 8.6035\n",
      "2022-11-17 14:57:27,709 - mmdet - INFO - Epoch [1][400/2732]\tlr: 5.000e-06, eta: 3:26:31, time: 0.388, data_time: 0.094, memory: 12321, loss_cls: 0.7246, loss_bbox: 3.2882, loss_obj: 4.1464, loss: 8.1592\n",
      "2022-11-17 14:58:04,743 - mmdet - INFO - Epoch [1][500/2732]\tlr: 5.000e-06, eta: 3:17:43, time: 0.371, data_time: 0.076, memory: 12508, loss_cls: 0.7128, loss_bbox: 3.2869, loss_obj: 3.9706, loss: 7.9702\n",
      "2022-11-17 14:58:42,065 - mmdet - INFO - Epoch [1][600/2732]\tlr: 5.000e-06, eta: 3:11:52, time: 0.373, data_time: 0.082, memory: 12508, loss_cls: 0.7028, loss_bbox: 3.2340, loss_obj: 3.7831, loss: 7.7199\n",
      "2022-11-17 15:01:13,537 - mmdet - INFO - Epoch [1][700/2732]\tlr: 5.000e-06, eta: 4:19:53, time: 1.515, data_time: 1.204, memory: 12508, loss_cls: 0.6955, loss_bbox: 3.1392, loss_obj: 3.7631, loss: 7.5978\n",
      "2022-11-17 15:02:59,117 - mmdet - INFO - Epoch [1][800/2732]\tlr: 5.000e-06, eta: 4:44:51, time: 1.055, data_time: 0.754, memory: 12508, loss_cls: 0.6874, loss_bbox: 3.1176, loss_obj: 3.6209, loss: 7.4260\n",
      "2022-11-17 15:04:05,027 - mmdet - INFO - Epoch [1][900/2732]\tlr: 5.000e-06, eta: 4:44:30, time: 0.659, data_time: 0.370, memory: 12508, loss_cls: 0.6886, loss_bbox: 3.1595, loss_obj: 3.5689, loss: 7.4169\n",
      "2022-11-17 15:05:08,195 - mmdet - INFO - Epoch [1][1000/2732]\tlr: 5.000e-06, eta: 4:42:48, time: 0.632, data_time: 0.347, memory: 12508, loss_cls: 0.6866, loss_bbox: 3.1931, loss_obj: 3.5594, loss: 7.4391\n",
      "2022-11-17 15:06:11,716 - mmdet - INFO - Epoch [1][1100/2732]\tlr: 5.000e-06, eta: 4:41:21, time: 0.635, data_time: 0.355, memory: 12508, loss_cls: 0.6812, loss_bbox: 3.1656, loss_obj: 3.5058, loss: 7.3527\n",
      "2022-11-17 15:07:13,497 - mmdet - INFO - Epoch [1][1200/2732]\tlr: 5.000e-06, eta: 4:39:19, time: 0.617, data_time: 0.314, memory: 12508, loss_cls: 0.6780, loss_bbox: 3.0862, loss_obj: 3.4459, loss: 7.2101\n",
      "2022-11-17 15:07:50,940 - mmdet - INFO - Epoch [1][1300/2732]\tlr: 5.000e-06, eta: 4:29:19, time: 0.374, data_time: 0.086, memory: 12508, loss_cls: 0.6767, loss_bbox: 3.1076, loss_obj: 3.4825, loss: 7.2668\n",
      "2022-11-17 15:08:28,112 - mmdet - INFO - Epoch [1][1400/2732]\tlr: 5.000e-06, eta: 4:20:36, time: 0.372, data_time: 0.095, memory: 12508, loss_cls: 0.6725, loss_bbox: 3.1034, loss_obj: 3.3621, loss: 7.1379\n",
      "2022-11-17 15:09:06,098 - mmdet - INFO - Epoch [1][1500/2732]\tlr: 5.000e-06, eta: 4:13:12, time: 0.380, data_time: 0.095, memory: 12508, loss_cls: 0.6700, loss_bbox: 3.0933, loss_obj: 3.3693, loss: 7.1326\n",
      "2022-11-17 15:09:43,491 - mmdet - INFO - Epoch [1][1600/2732]\tlr: 5.000e-06, eta: 4:06:27, time: 0.373, data_time: 0.071, memory: 12508, loss_cls: 0.6685, loss_bbox: 3.0523, loss_obj: 3.3202, loss: 7.0409\n",
      "2022-11-17 15:10:22,225 - mmdet - INFO - Epoch [1][1700/2732]\tlr: 5.000e-06, eta: 4:00:47, time: 0.387, data_time: 0.085, memory: 12508, loss_cls: 0.6620, loss_bbox: 2.9576, loss_obj: 3.2455, loss: 6.8652\n",
      "2022-11-17 15:10:59,991 - mmdet - INFO - Epoch [1][1800/2732]\tlr: 5.000e-06, eta: 3:55:27, time: 0.378, data_time: 0.088, memory: 12508, loss_cls: 0.6641, loss_bbox: 3.0140, loss_obj: 3.2595, loss: 6.9377\n",
      "2022-11-17 15:11:37,585 - mmdet - INFO - Epoch [1][1900/2732]\tlr: 5.000e-06, eta: 3:50:34, time: 0.376, data_time: 0.097, memory: 12508, loss_cls: 0.6646, loss_bbox: 3.0779, loss_obj: 3.2270, loss: 6.9695\n",
      "2022-11-17 15:12:15,870 - mmdet - INFO - Epoch [1][2000/2732]\tlr: 5.000e-06, eta: 3:46:15, time: 0.382, data_time: 0.095, memory: 12508, loss_cls: 0.6645, loss_bbox: 3.0491, loss_obj: 3.3440, loss: 7.0577\n",
      "2022-11-17 15:12:53,217 - mmdet - INFO - Epoch [1][2100/2732]\tlr: 5.000e-06, eta: 3:42:05, time: 0.373, data_time: 0.072, memory: 12508, loss_cls: 0.6600, loss_bbox: 2.9706, loss_obj: 3.2004, loss: 6.8310\n",
      "2022-11-17 15:13:30,757 - mmdet - INFO - Epoch [1][2200/2732]\tlr: 5.000e-06, eta: 3:38:18, time: 0.376, data_time: 0.097, memory: 12508, loss_cls: 0.6618, loss_bbox: 3.1292, loss_obj: 3.3144, loss: 7.1054\n",
      "2022-11-17 15:14:07,901 - mmdet - INFO - Epoch [1][2300/2732]\tlr: 5.000e-06, eta: 3:34:43, time: 0.372, data_time: 0.087, memory: 12508, loss_cls: 0.6559, loss_bbox: 2.9523, loss_obj: 3.1593, loss: 6.7676\n",
      "2022-11-17 15:14:45,788 - mmdet - INFO - Epoch [1][2400/2732]\tlr: 5.000e-06, eta: 3:31:31, time: 0.379, data_time: 0.069, memory: 12508, loss_cls: 0.6544, loss_bbox: 2.9296, loss_obj: 3.2120, loss: 6.7960\n",
      "2022-11-17 15:15:23,031 - mmdet - INFO - Epoch [1][2500/2732]\tlr: 5.000e-06, eta: 3:28:24, time: 0.373, data_time: 0.086, memory: 12508, loss_cls: 0.6578, loss_bbox: 3.0195, loss_obj: 3.1673, loss: 6.8445\n",
      "2022-11-17 15:16:01,079 - mmdet - INFO - Epoch [1][2600/2732]\tlr: 5.000e-06, eta: 3:25:36, time: 0.381, data_time: 0.086, memory: 12508, loss_cls: 0.6525, loss_bbox: 2.9727, loss_obj: 3.1158, loss: 6.7410\n",
      "2022-11-17 15:16:38,800 - mmdet - INFO - Epoch [1][2700/2732]\tlr: 5.000e-06, eta: 3:22:55, time: 0.377, data_time: 0.079, memory: 12508, loss_cls: 0.6551, loss_bbox: 2.9516, loss_obj: 3.1190, loss: 6.7257\n",
      "2022-11-17 15:16:50,108 - mmdet - INFO - Saving checkpoint at 1 epochs\n"
     ]
    },
    {
     "name": "stdout",
     "output_type": "stream",
     "text": [
      "[>>>>>>>>>>>>>>>>>>>>>>>>] 10000/10000, 18.9 task/s, elapsed: 528s, ETA:     0s"
     ]
    },
    {
     "name": "stderr",
     "output_type": "stream",
     "text": [
      "2022-11-17 15:25:53,852 - mmdet - INFO - Evaluating bbox...\n"
     ]
    },
    {
     "name": "stdout",
     "output_type": "stream",
     "text": [
      "Loading and preparing results...\n",
      "DONE (t=1.95s)\n",
      "creating index...\n",
      "index created!\n",
      "Running per image evaluation...\n",
      "Evaluate annotation type *bbox*\n",
      "DONE (t=105.11s).\n",
      "Accumulating evaluation results...\n"
     ]
    },
    {
     "name": "stderr",
     "output_type": "stream",
     "text": [
      "2022-11-17 15:28:01,637 - mmdet - INFO - \n",
      " Average Precision  (AP) @[ IoU=0.50:0.95 | area=   all | maxDets=100 ] = 0.094\n",
      " Average Precision  (AP) @[ IoU=0.50      | area=   all | maxDets=1000 ] = 0.222\n",
      " Average Precision  (AP) @[ IoU=0.75      | area=   all | maxDets=1000 ] = 0.068\n",
      " Average Precision  (AP) @[ IoU=0.50:0.95 | area= small | maxDets=1000 ] = 0.085\n",
      " Average Precision  (AP) @[ IoU=0.50:0.95 | area=medium | maxDets=1000 ] = 0.200\n",
      " Average Precision  (AP) @[ IoU=0.50:0.95 | area= large | maxDets=1000 ] = 0.113\n",
      " Average Recall     (AR) @[ IoU=0.50:0.95 | area=   all | maxDets=100 ] = 0.252\n",
      " Average Recall     (AR) @[ IoU=0.50:0.95 | area=   all | maxDets=300 ] = 0.267\n",
      " Average Recall     (AR) @[ IoU=0.50:0.95 | area=   all | maxDets=1000 ] = 0.269\n",
      " Average Recall     (AR) @[ IoU=0.50:0.95 | area= small | maxDets=1000 ] = 0.249\n",
      " Average Recall     (AR) @[ IoU=0.50:0.95 | area=medium | maxDets=1000 ] = 0.492\n",
      " Average Recall     (AR) @[ IoU=0.50:0.95 | area= large | maxDets=1000 ] = 0.308\n",
      "\n"
     ]
    },
    {
     "name": "stdout",
     "output_type": "stream",
     "text": [
      "DONE (t=16.88s).\n"
     ]
    },
    {
     "name": "stderr",
     "output_type": "stream",
     "text": [
      "2022-11-17 15:28:06,270 - mmdet - INFO - Now best checkpoint is saved as best_bbox_mAP_epoch_1.pth.\n",
      "2022-11-17 15:28:06,271 - mmdet - INFO - Best bbox_mAP is 0.0940 at 1 epoch.\n",
      "2022-11-17 15:28:06,271 - mmdet - INFO - Epoch(val) [1][10000]\tbbox_mAP: 0.0940, bbox_mAP_50: 0.2220, bbox_mAP_75: 0.0680, bbox_mAP_s: 0.0850, bbox_mAP_m: 0.2000, bbox_mAP_l: 0.1130, bbox_mAP_copypaste: 0.094 0.222 0.068 0.085 0.200 0.113\n",
      "2022-11-17 15:28:48,793 - mmdet - INFO - Epoch [2][100/2732]\tlr: 5.000e-06, eta: 3:18:29, time: 0.421, data_time: 0.131, memory: 12508, loss_cls: 0.6530, loss_bbox: 3.0211, loss_obj: 3.0716, loss: 6.7458\n",
      "2022-11-17 15:29:27,798 - mmdet - INFO - Epoch [2][200/2732]\tlr: 5.000e-06, eta: 3:16:21, time: 0.390, data_time: 0.073, memory: 12508, loss_cls: 0.6518, loss_bbox: 2.9257, loss_obj: 3.1207, loss: 6.6982\n",
      "2022-11-17 15:30:06,519 - mmdet - INFO - Epoch [2][300/2732]\tlr: 5.000e-06, eta: 3:14:16, time: 0.387, data_time: 0.073, memory: 12508, loss_cls: 0.6507, loss_bbox: 2.9529, loss_obj: 3.1777, loss: 6.7813\n",
      "2022-11-17 15:30:44,880 - mmdet - INFO - Epoch [2][400/2732]\tlr: 5.000e-06, eta: 3:12:13, time: 0.384, data_time: 0.064, memory: 12508, loss_cls: 0.6533, loss_bbox: 2.9579, loss_obj: 3.1879, loss: 6.7990\n",
      "2022-11-17 15:31:23,166 - mmdet - INFO - Epoch [2][500/2732]\tlr: 5.000e-06, eta: 3:10:16, time: 0.383, data_time: 0.073, memory: 12508, loss_cls: 0.6457, loss_bbox: 2.9166, loss_obj: 3.1248, loss: 6.6871\n",
      "2022-11-17 15:32:01,255 - mmdet - INFO - Epoch [2][600/2732]\tlr: 5.000e-06, eta: 3:08:21, time: 0.381, data_time: 0.065, memory: 12508, loss_cls: 0.6487, loss_bbox: 2.9400, loss_obj: 3.0670, loss: 6.6557\n",
      "2022-11-17 15:32:39,399 - mmdet - INFO - Epoch [2][700/2732]\tlr: 5.000e-06, eta: 3:06:31, time: 0.381, data_time: 0.067, memory: 12508, loss_cls: 0.6492, loss_bbox: 2.9452, loss_obj: 3.1730, loss: 6.7674\n",
      "2022-11-17 15:33:17,315 - mmdet - INFO - Epoch [2][800/2732]\tlr: 5.000e-06, eta: 3:04:44, time: 0.379, data_time: 0.061, memory: 12508, loss_cls: 0.6471, loss_bbox: 2.8757, loss_obj: 3.0976, loss: 6.6204\n",
      "2022-11-17 15:33:54,953 - mmdet - INFO - Epoch [2][900/2732]\tlr: 5.000e-06, eta: 3:03:00, time: 0.377, data_time: 0.077, memory: 12508, loss_cls: 0.6471, loss_bbox: 2.9853, loss_obj: 3.1412, loss: 6.7736\n",
      "2022-11-17 15:34:33,016 - mmdet - INFO - Epoch [2][1000/2732]\tlr: 5.000e-06, eta: 3:01:21, time: 0.381, data_time: 0.077, memory: 12508, loss_cls: 0.6475, loss_bbox: 2.9908, loss_obj: 3.1788, loss: 6.8172\n",
      "2022-11-17 15:35:11,152 - mmdet - INFO - Epoch [2][1100/2732]\tlr: 5.000e-06, eta: 2:59:45, time: 0.381, data_time: 0.089, memory: 12508, loss_cls: 0.6496, loss_bbox: 3.0236, loss_obj: 3.1450, loss: 6.8182\n",
      "2022-11-17 15:35:48,986 - mmdet - INFO - Epoch [2][1200/2732]\tlr: 5.000e-06, eta: 2:58:12, time: 0.379, data_time: 0.060, memory: 12508, loss_cls: 0.6486, loss_bbox: 2.9539, loss_obj: 3.1109, loss: 6.7134\n",
      "2022-11-17 15:36:26,886 - mmdet - INFO - Epoch [2][1300/2732]\tlr: 5.000e-06, eta: 2:56:41, time: 0.378, data_time: 0.060, memory: 12508, loss_cls: 0.6492, loss_bbox: 2.9597, loss_obj: 3.1384, loss: 6.7474\n",
      "2022-11-17 15:37:05,292 - mmdet - INFO - Epoch [2][1400/2732]\tlr: 5.000e-06, eta: 2:55:15, time: 0.384, data_time: 0.075, memory: 12508, loss_cls: 0.6447, loss_bbox: 2.9279, loss_obj: 3.0432, loss: 6.6158\n",
      "2022-11-17 15:37:42,841 - mmdet - INFO - Epoch [2][1500/2732]\tlr: 5.000e-06, eta: 2:53:47, time: 0.376, data_time: 0.063, memory: 12508, loss_cls: 0.6427, loss_bbox: 2.8921, loss_obj: 3.0561, loss: 6.5909\n",
      "2022-11-17 15:38:21,072 - mmdet - INFO - Epoch [2][1600/2732]\tlr: 5.000e-06, eta: 2:52:26, time: 0.382, data_time: 0.092, memory: 12508, loss_cls: 0.6488, loss_bbox: 3.0368, loss_obj: 3.0769, loss: 6.7624\n",
      "2022-11-17 15:38:59,083 - mmdet - INFO - Epoch [2][1700/2732]\tlr: 5.000e-06, eta: 2:51:04, time: 0.379, data_time: 0.044, memory: 12508, loss_cls: 0.6427, loss_bbox: 2.9108, loss_obj: 3.0331, loss: 6.5866\n",
      "2022-11-17 15:39:36,542 - mmdet - INFO - Epoch [2][1800/2732]\tlr: 5.000e-06, eta: 2:49:42, time: 0.375, data_time: 0.050, memory: 12508, loss_cls: 0.6441, loss_bbox: 2.8894, loss_obj: 3.0738, loss: 6.6072\n",
      "2022-11-17 15:40:13,419 - mmdet - INFO - Epoch [2][1900/2732]\tlr: 5.000e-06, eta: 2:48:19, time: 0.369, data_time: 0.060, memory: 12508, loss_cls: 0.6467, loss_bbox: 2.9345, loss_obj: 3.0413, loss: 6.6225\n",
      "2022-11-17 15:40:49,919 - mmdet - INFO - Epoch [2][2000/2732]\tlr: 5.000e-06, eta: 2:46:57, time: 0.365, data_time: 0.064, memory: 12508, loss_cls: 0.6444, loss_bbox: 2.9589, loss_obj: 2.9920, loss: 6.5953\n",
      "2022-11-17 15:41:26,678 - mmdet - INFO - Epoch [2][2100/2732]\tlr: 5.000e-06, eta: 2:45:37, time: 0.367, data_time: 0.064, memory: 12508, loss_cls: 0.6422, loss_bbox: 2.8874, loss_obj: 3.0278, loss: 6.5574\n",
      "2022-11-17 15:42:03,222 - mmdet - INFO - Epoch [2][2200/2732]\tlr: 5.000e-06, eta: 2:44:18, time: 0.365, data_time: 0.054, memory: 12508, loss_cls: 0.6385, loss_bbox: 2.8776, loss_obj: 2.9376, loss: 6.4537\n",
      "2022-11-17 15:42:39,637 - mmdet - INFO - Epoch [2][2300/2732]\tlr: 5.000e-06, eta: 2:43:00, time: 0.364, data_time: 0.053, memory: 12508, loss_cls: 0.6393, loss_bbox: 2.8669, loss_obj: 3.0262, loss: 6.5325\n",
      "2022-11-17 15:43:16,152 - mmdet - INFO - Epoch [2][2400/2732]\tlr: 5.000e-06, eta: 2:41:45, time: 0.365, data_time: 0.061, memory: 12508, loss_cls: 0.6426, loss_bbox: 2.9153, loss_obj: 3.0063, loss: 6.5642\n",
      "2022-11-17 15:43:52,805 - mmdet - INFO - Epoch [2][2500/2732]\tlr: 5.000e-06, eta: 2:40:31, time: 0.366, data_time: 0.060, memory: 12508, loss_cls: 0.6383, loss_bbox: 2.8814, loss_obj: 3.0697, loss: 6.5894\n",
      "2022-11-17 15:44:29,469 - mmdet - INFO - Epoch [2][2600/2732]\tlr: 5.000e-06, eta: 2:39:18, time: 0.366, data_time: 0.056, memory: 12508, loss_cls: 0.6371, loss_bbox: 2.8764, loss_obj: 2.9281, loss: 6.4415\n",
      "2022-11-17 15:45:06,042 - mmdet - INFO - Epoch [2][2700/2732]\tlr: 5.000e-06, eta: 2:38:07, time: 0.366, data_time: 0.052, memory: 12508, loss_cls: 0.6350, loss_bbox: 2.8372, loss_obj: 3.0387, loss: 6.5110\n",
      "2022-11-17 15:45:16,875 - mmdet - INFO - Saving checkpoint at 2 epochs\n"
     ]
    },
    {
     "name": "stdout",
     "output_type": "stream",
     "text": [
      "[>>>>>>>>>>>>>>>>>>>>>>>>] 10000/10000, 38.2 task/s, elapsed: 262s, ETA:     0s"
     ]
    },
    {
     "name": "stderr",
     "output_type": "stream",
     "text": [
      "2022-11-17 15:49:53,406 - mmdet - INFO - Evaluating bbox...\n"
     ]
    },
    {
     "name": "stdout",
     "output_type": "stream",
     "text": [
      "Loading and preparing results...\n",
      "DONE (t=1.47s)\n",
      "creating index...\n",
      "index created!\n",
      "Running per image evaluation...\n",
      "Evaluate annotation type *bbox*\n",
      "DONE (t=100.66s).\n",
      "Accumulating evaluation results...\n"
     ]
    },
    {
     "name": "stderr",
     "output_type": "stream",
     "text": [
      "2022-11-17 15:51:54,591 - mmdet - INFO - \n",
      " Average Precision  (AP) @[ IoU=0.50:0.95 | area=   all | maxDets=100 ] = 0.115\n",
      " Average Precision  (AP) @[ IoU=0.50      | area=   all | maxDets=1000 ] = 0.255\n",
      " Average Precision  (AP) @[ IoU=0.75      | area=   all | maxDets=1000 ] = 0.091\n",
      " Average Precision  (AP) @[ IoU=0.50:0.95 | area= small | maxDets=1000 ] = 0.104\n",
      " Average Precision  (AP) @[ IoU=0.50:0.95 | area=medium | maxDets=1000 ] = 0.249\n",
      " Average Precision  (AP) @[ IoU=0.50:0.95 | area= large | maxDets=1000 ] = 0.192\n",
      " Average Recall     (AR) @[ IoU=0.50:0.95 | area=   all | maxDets=100 ] = 0.275\n",
      " Average Recall     (AR) @[ IoU=0.50:0.95 | area=   all | maxDets=300 ] = 0.290\n",
      " Average Recall     (AR) @[ IoU=0.50:0.95 | area=   all | maxDets=1000 ] = 0.292\n",
      " Average Recall     (AR) @[ IoU=0.50:0.95 | area= small | maxDets=1000 ] = 0.272\n",
      " Average Recall     (AR) @[ IoU=0.50:0.95 | area=medium | maxDets=1000 ] = 0.512\n",
      " Average Recall     (AR) @[ IoU=0.50:0.95 | area= large | maxDets=1000 ] = 0.450\n",
      "\n"
     ]
    },
    {
     "name": "stdout",
     "output_type": "stream",
     "text": [
      "DONE (t=15.52s).\n"
     ]
    },
    {
     "name": "stderr",
     "output_type": "stream",
     "text": [
      "2022-11-17 15:51:55,084 - mmdet - INFO - The previous best checkpoint D:\\Homework\\course_cvdl\\task3\\workdirs\\yolox_s_8x8_300e_coco\\best_bbox_mAP_epoch_1.pth was removed\n",
      "2022-11-17 15:51:56,915 - mmdet - INFO - Now best checkpoint is saved as best_bbox_mAP_epoch_2.pth.\n",
      "2022-11-17 15:51:56,916 - mmdet - INFO - Best bbox_mAP is 0.1150 at 2 epoch.\n",
      "2022-11-17 15:51:56,916 - mmdet - INFO - Epoch(val) [2][10000]\tbbox_mAP: 0.1150, bbox_mAP_50: 0.2550, bbox_mAP_75: 0.0910, bbox_mAP_s: 0.1040, bbox_mAP_m: 0.2490, bbox_mAP_l: 0.1920, bbox_mAP_copypaste: 0.115 0.255 0.091 0.104 0.249 0.192\n",
      "2022-11-17 15:52:38,570 - mmdet - INFO - Epoch [3][100/2732]\tlr: 5.000e-06, eta: 2:36:09, time: 0.416, data_time: 0.100, memory: 12508, loss_cls: 0.6378, loss_bbox: 2.8735, loss_obj: 3.0236, loss: 6.5348\n",
      "2022-11-17 15:53:16,495 - mmdet - INFO - Epoch [3][200/2732]\tlr: 5.000e-06, eta: 2:35:06, time: 0.379, data_time: 0.077, memory: 12508, loss_cls: 0.6391, loss_bbox: 2.9125, loss_obj: 2.9555, loss: 6.5070\n",
      "2022-11-17 15:53:54,493 - mmdet - INFO - Epoch [3][300/2732]\tlr: 5.000e-06, eta: 2:34:04, time: 0.379, data_time: 0.062, memory: 12508, loss_cls: 0.6376, loss_bbox: 2.8866, loss_obj: 3.0111, loss: 6.5353\n",
      "2022-11-17 15:54:33,662 - mmdet - INFO - Epoch [3][400/2732]\tlr: 5.000e-06, eta: 2:33:08, time: 0.392, data_time: 0.083, memory: 12508, loss_cls: 0.6357, loss_bbox: 2.8586, loss_obj: 2.9404, loss: 6.4347\n",
      "2022-11-17 15:55:12,475 - mmdet - INFO - Epoch [3][500/2732]\tlr: 5.000e-06, eta: 2:32:11, time: 0.388, data_time: 0.064, memory: 12508, loss_cls: 0.6358, loss_bbox: 2.8017, loss_obj: 2.9654, loss: 6.4030\n",
      "2022-11-17 15:55:51,106 - mmdet - INFO - Epoch [3][600/2732]\tlr: 5.000e-06, eta: 2:31:13, time: 0.386, data_time: 0.083, memory: 12508, loss_cls: 0.6395, loss_bbox: 2.8997, loss_obj: 3.0099, loss: 6.5491\n",
      "2022-11-17 15:56:28,879 - mmdet - INFO - Epoch [3][700/2732]\tlr: 5.000e-06, eta: 2:30:14, time: 0.378, data_time: 0.080, memory: 12508, loss_cls: 0.6378, loss_bbox: 2.8642, loss_obj: 2.9259, loss: 6.4279\n",
      "2022-11-17 15:57:14,215 - mmdet - INFO - Epoch [3][800/2732]\tlr: 5.000e-06, eta: 2:29:41, time: 0.453, data_time: 0.167, memory: 12508, loss_cls: 0.6435, loss_bbox: 3.0229, loss_obj: 3.0135, loss: 6.6799\n",
      "2022-11-17 15:57:57,117 - mmdet - INFO - Epoch [3][900/2732]\tlr: 5.000e-06, eta: 2:28:59, time: 0.429, data_time: 0.135, memory: 12508, loss_cls: 0.6402, loss_bbox: 2.8870, loss_obj: 2.9561, loss: 6.4833\n",
      "2022-11-17 15:58:42,375 - mmdet - INFO - Epoch [3][1000/2732]\tlr: 5.000e-06, eta: 2:28:25, time: 0.453, data_time: 0.155, memory: 12508, loss_cls: 0.6328, loss_bbox: 2.8375, loss_obj: 2.9284, loss: 6.3986\n",
      "2022-11-17 15:59:24,250 - mmdet - INFO - Epoch [3][1100/2732]\tlr: 5.000e-06, eta: 2:27:39, time: 0.418, data_time: 0.119, memory: 12508, loss_cls: 0.6387, loss_bbox: 2.8888, loss_obj: 2.9662, loss: 6.4937\n",
      "2022-11-17 16:00:06,434 - mmdet - INFO - Epoch [3][1200/2732]\tlr: 5.000e-06, eta: 2:26:55, time: 0.422, data_time: 0.128, memory: 12508, loss_cls: 0.6365, loss_bbox: 2.9098, loss_obj: 2.9568, loss: 6.5032\n",
      "2022-11-17 16:00:50,570 - mmdet - INFO - Epoch [3][1300/2732]\tlr: 5.000e-06, eta: 2:26:16, time: 0.441, data_time: 0.146, memory: 12508, loss_cls: 0.6328, loss_bbox: 2.8316, loss_obj: 2.9507, loss: 6.4151\n",
      "2022-11-17 16:01:33,630 - mmdet - INFO - Epoch [3][1400/2732]\tlr: 5.000e-06, eta: 2:25:35, time: 0.430, data_time: 0.150, memory: 12508, loss_cls: 0.6380, loss_bbox: 2.8900, loss_obj: 2.9266, loss: 6.4545\n",
      "2022-11-17 16:02:14,372 - mmdet - INFO - Epoch [3][1500/2732]\tlr: 5.000e-06, eta: 2:24:46, time: 0.408, data_time: 0.118, memory: 12508, loss_cls: 0.6328, loss_bbox: 2.8421, loss_obj: 2.9028, loss: 6.3777\n",
      "2022-11-17 16:02:57,532 - mmdet - INFO - Epoch [3][1600/2732]\tlr: 5.000e-06, eta: 2:24:05, time: 0.432, data_time: 0.133, memory: 12508, loss_cls: 0.6335, loss_bbox: 2.8479, loss_obj: 2.9167, loss: 6.3981\n",
      "2022-11-17 16:03:37,776 - mmdet - INFO - Epoch [3][1700/2732]\tlr: 5.000e-06, eta: 2:23:16, time: 0.402, data_time: 0.125, memory: 12508, loss_cls: 0.6363, loss_bbox: 2.9557, loss_obj: 2.9454, loss: 6.5373\n",
      "2022-11-17 16:04:18,309 - mmdet - INFO - Epoch [3][1800/2732]\tlr: 5.000e-06, eta: 2:22:27, time: 0.406, data_time: 0.115, memory: 12508, loss_cls: 0.6393, loss_bbox: 2.8917, loss_obj: 2.9568, loss: 6.4878\n",
      "2022-11-17 16:04:55,727 - mmdet - INFO - Epoch [3][1900/2732]\tlr: 5.000e-06, eta: 2:21:30, time: 0.374, data_time: 0.092, memory: 12508, loss_cls: 0.6347, loss_bbox: 2.8644, loss_obj: 2.9252, loss: 6.4243\n",
      "2022-11-17 16:05:35,589 - mmdet - INFO - Epoch [3][2000/2732]\tlr: 5.000e-06, eta: 2:20:41, time: 0.398, data_time: 0.119, memory: 12508, loss_cls: 0.6372, loss_bbox: 2.9072, loss_obj: 2.8939, loss: 6.4383\n",
      "2022-11-17 16:06:12,915 - mmdet - INFO - Epoch [3][2100/2732]\tlr: 5.000e-06, eta: 2:19:45, time: 0.373, data_time: 0.083, memory: 12508, loss_cls: 0.6310, loss_bbox: 2.8091, loss_obj: 2.8777, loss: 6.3177\n",
      "2022-11-17 16:06:51,197 - mmdet - INFO - Epoch [3][2200/2732]\tlr: 5.000e-06, eta: 2:18:52, time: 0.383, data_time: 0.092, memory: 12508, loss_cls: 0.6339, loss_bbox: 2.8757, loss_obj: 2.9364, loss: 6.4459\n",
      "2022-11-17 16:07:28,521 - mmdet - INFO - Epoch [3][2300/2732]\tlr: 5.000e-06, eta: 2:17:56, time: 0.373, data_time: 0.085, memory: 12508, loss_cls: 0.6346, loss_bbox: 2.8724, loss_obj: 2.9015, loss: 6.4084\n",
      "2022-11-17 16:08:06,439 - mmdet - INFO - Epoch [3][2400/2732]\tlr: 5.000e-06, eta: 2:17:03, time: 0.380, data_time: 0.096, memory: 12508, loss_cls: 0.6346, loss_bbox: 2.8549, loss_obj: 2.8509, loss: 6.3405\n",
      "2022-11-17 16:08:44,898 - mmdet - INFO - Epoch [3][2500/2732]\tlr: 5.000e-06, eta: 2:16:12, time: 0.384, data_time: 0.094, memory: 12508, loss_cls: 0.6318, loss_bbox: 2.8346, loss_obj: 2.9076, loss: 6.3740\n",
      "2022-11-17 16:09:22,501 - mmdet - INFO - Epoch [3][2600/2732]\tlr: 5.000e-06, eta: 2:15:18, time: 0.377, data_time: 0.073, memory: 12508, loss_cls: 0.6286, loss_bbox: 2.7797, loss_obj: 2.8463, loss: 6.2546\n",
      "2022-11-17 16:10:01,206 - mmdet - INFO - Epoch [3][2700/2732]\tlr: 5.000e-06, eta: 2:14:28, time: 0.387, data_time: 0.089, memory: 12508, loss_cls: 0.6315, loss_bbox: 2.8200, loss_obj: 2.9636, loss: 6.4151\n",
      "2022-11-17 16:10:14,134 - mmdet - INFO - Saving checkpoint at 3 epochs\n"
     ]
    },
    {
     "name": "stdout",
     "output_type": "stream",
     "text": [
      "[>>>>>>>>>>>>>>>>>>>>>>>>] 10000/10000, 37.2 task/s, elapsed: 269s, ETA:     0s"
     ]
    },
    {
     "name": "stderr",
     "output_type": "stream",
     "text": [
      "2022-11-17 16:15:04,666 - mmdet - INFO - Evaluating bbox...\n"
     ]
    },
    {
     "name": "stdout",
     "output_type": "stream",
     "text": [
      "Loading and preparing results...\n",
      "DONE (t=1.58s)\n",
      "creating index...\n",
      "index created!\n",
      "Running per image evaluation...\n",
      "Evaluate annotation type *bbox*\n",
      "DONE (t=103.99s).\n",
      "Accumulating evaluation results...\n"
     ]
    },
    {
     "name": "stderr",
     "output_type": "stream",
     "text": [
      "2022-11-17 16:17:10,661 - mmdet - INFO - \n",
      " Average Precision  (AP) @[ IoU=0.50:0.95 | area=   all | maxDets=100 ] = 0.124\n",
      " Average Precision  (AP) @[ IoU=0.50      | area=   all | maxDets=1000 ] = 0.271\n",
      " Average Precision  (AP) @[ IoU=0.75      | area=   all | maxDets=1000 ] = 0.100\n",
      " Average Precision  (AP) @[ IoU=0.50:0.95 | area= small | maxDets=1000 ] = 0.112\n",
      " Average Precision  (AP) @[ IoU=0.50:0.95 | area=medium | maxDets=1000 ] = 0.267\n",
      " Average Precision  (AP) @[ IoU=0.50:0.95 | area= large | maxDets=1000 ] = 0.246\n",
      " Average Recall     (AR) @[ IoU=0.50:0.95 | area=   all | maxDets=100 ] = 0.285\n",
      " Average Recall     (AR) @[ IoU=0.50:0.95 | area=   all | maxDets=300 ] = 0.301\n",
      " Average Recall     (AR) @[ IoU=0.50:0.95 | area=   all | maxDets=1000 ] = 0.303\n",
      " Average Recall     (AR) @[ IoU=0.50:0.95 | area= small | maxDets=1000 ] = 0.283\n",
      " Average Recall     (AR) @[ IoU=0.50:0.95 | area=medium | maxDets=1000 ] = 0.525\n",
      " Average Recall     (AR) @[ IoU=0.50:0.95 | area= large | maxDets=1000 ] = 0.507\n",
      "\n"
     ]
    },
    {
     "name": "stdout",
     "output_type": "stream",
     "text": [
      "DONE (t=16.64s).\n"
     ]
    },
    {
     "name": "stderr",
     "output_type": "stream",
     "text": [
      "2022-11-17 16:17:11,171 - mmdet - INFO - The previous best checkpoint D:\\Homework\\course_cvdl\\task3\\workdirs\\yolox_s_8x8_300e_coco\\best_bbox_mAP_epoch_2.pth was removed\n",
      "2022-11-17 16:17:13,270 - mmdet - INFO - Now best checkpoint is saved as best_bbox_mAP_epoch_3.pth.\n",
      "2022-11-17 16:17:13,270 - mmdet - INFO - Best bbox_mAP is 0.1240 at 3 epoch.\n",
      "2022-11-17 16:17:13,271 - mmdet - INFO - Epoch(val) [3][10000]\tbbox_mAP: 0.1240, bbox_mAP_50: 0.2710, bbox_mAP_75: 0.1000, bbox_mAP_s: 0.1120, bbox_mAP_m: 0.2670, bbox_mAP_l: 0.2460, bbox_mAP_copypaste: 0.124 0.271 0.100 0.112 0.267 0.246\n",
      "2022-11-17 16:17:54,950 - mmdet - INFO - Epoch [4][100/2732]\tlr: 5.000e-06, eta: 2:13:00, time: 0.416, data_time: 0.105, memory: 12508, loss_cls: 0.6310, loss_bbox: 2.8409, loss_obj: 2.8543, loss: 6.3262\n",
      "2022-11-17 16:18:32,726 - mmdet - INFO - Epoch [4][200/2732]\tlr: 5.000e-06, eta: 2:12:09, time: 0.378, data_time: 0.062, memory: 12508, loss_cls: 0.6253, loss_bbox: 2.7862, loss_obj: 2.8102, loss: 6.2216\n",
      "2022-11-17 16:19:10,868 - mmdet - INFO - Epoch [4][300/2732]\tlr: 5.000e-06, eta: 2:11:19, time: 0.381, data_time: 0.053, memory: 12508, loss_cls: 0.6342, loss_bbox: 2.8402, loss_obj: 2.8650, loss: 6.3394\n",
      "2022-11-17 16:19:48,229 - mmdet - INFO - Epoch [4][400/2732]\tlr: 5.000e-06, eta: 2:10:27, time: 0.374, data_time: 0.071, memory: 12508, loss_cls: 0.6313, loss_bbox: 2.8795, loss_obj: 2.8682, loss: 6.3790\n",
      "2022-11-17 16:20:25,812 - mmdet - INFO - Epoch [4][500/2732]\tlr: 5.000e-06, eta: 2:09:36, time: 0.376, data_time: 0.063, memory: 12508, loss_cls: 0.6292, loss_bbox: 2.7998, loss_obj: 2.8609, loss: 6.2900\n",
      "2022-11-17 16:21:03,349 - mmdet - INFO - Epoch [4][600/2732]\tlr: 5.000e-06, eta: 2:08:46, time: 0.376, data_time: 0.061, memory: 12508, loss_cls: 0.6305, loss_bbox: 2.8606, loss_obj: 2.8624, loss: 6.3536\n",
      "2022-11-17 16:21:41,080 - mmdet - INFO - Epoch [4][700/2732]\tlr: 5.000e-06, eta: 2:07:56, time: 0.377, data_time: 0.054, memory: 12508, loss_cls: 0.6291, loss_bbox: 2.8162, loss_obj: 2.8679, loss: 6.3133\n",
      "2022-11-17 16:22:18,635 - mmdet - INFO - Epoch [4][800/2732]\tlr: 5.000e-06, eta: 2:07:06, time: 0.376, data_time: 0.059, memory: 12508, loss_cls: 0.6304, loss_bbox: 2.8403, loss_obj: 2.8524, loss: 6.3231\n",
      "2022-11-17 16:22:56,595 - mmdet - INFO - Epoch [4][900/2732]\tlr: 5.000e-06, eta: 2:06:17, time: 0.379, data_time: 0.072, memory: 12508, loss_cls: 0.6322, loss_bbox: 2.8497, loss_obj: 2.8415, loss: 6.3234\n",
      "2022-11-17 16:23:33,857 - mmdet - INFO - Epoch [4][1000/2732]\tlr: 5.000e-06, eta: 2:05:27, time: 0.373, data_time: 0.069, memory: 12508, loss_cls: 0.6334, loss_bbox: 2.8847, loss_obj: 2.8385, loss: 6.3565\n",
      "2022-11-17 16:24:11,271 - mmdet - INFO - Epoch [4][1100/2732]\tlr: 5.000e-06, eta: 2:04:37, time: 0.374, data_time: 0.086, memory: 12508, loss_cls: 0.6351, loss_bbox: 2.9343, loss_obj: 2.8779, loss: 6.4473\n",
      "2022-11-17 16:24:48,682 - mmdet - INFO - Epoch [4][1200/2732]\tlr: 5.000e-06, eta: 2:03:48, time: 0.374, data_time: 0.058, memory: 12508, loss_cls: 0.6279, loss_bbox: 2.8011, loss_obj: 2.8243, loss: 6.2533\n",
      "2022-11-17 16:25:26,153 - mmdet - INFO - Epoch [4][1300/2732]\tlr: 5.000e-06, eta: 2:02:59, time: 0.374, data_time: 0.081, memory: 12508, loss_cls: 0.6330, loss_bbox: 2.8750, loss_obj: 2.8733, loss: 6.3814\n",
      "2022-11-17 16:26:04,063 - mmdet - INFO - Epoch [4][1400/2732]\tlr: 5.000e-06, eta: 2:02:11, time: 0.379, data_time: 0.078, memory: 12508, loss_cls: 0.6305, loss_bbox: 2.8804, loss_obj: 2.8407, loss: 6.3516\n",
      "2022-11-17 16:26:41,428 - mmdet - INFO - Epoch [4][1500/2732]\tlr: 5.000e-06, eta: 2:01:22, time: 0.373, data_time: 0.051, memory: 12508, loss_cls: 0.6276, loss_bbox: 2.7899, loss_obj: 2.8189, loss: 6.2363\n",
      "2022-11-17 16:27:18,580 - mmdet - INFO - Epoch [4][1600/2732]\tlr: 5.000e-06, eta: 2:00:34, time: 0.372, data_time: 0.068, memory: 12508, loss_cls: 0.6313, loss_bbox: 2.8765, loss_obj: 2.8832, loss: 6.3911\n",
      "2022-11-17 16:27:55,847 - mmdet - INFO - Epoch [4][1700/2732]\tlr: 5.000e-06, eta: 1:59:45, time: 0.373, data_time: 0.070, memory: 12508, loss_cls: 0.6272, loss_bbox: 2.8210, loss_obj: 2.8213, loss: 6.2695\n",
      "2022-11-17 16:28:33,464 - mmdet - INFO - Epoch [4][1800/2732]\tlr: 5.000e-06, eta: 1:58:58, time: 0.376, data_time: 0.074, memory: 12508, loss_cls: 0.6263, loss_bbox: 2.8308, loss_obj: 2.8259, loss: 6.2829\n",
      "2022-11-17 16:29:11,052 - mmdet - INFO - Epoch [4][1900/2732]\tlr: 5.000e-06, eta: 1:58:11, time: 0.376, data_time: 0.079, memory: 12508, loss_cls: 0.6304, loss_bbox: 2.8626, loss_obj: 2.8294, loss: 6.3224\n",
      "2022-11-17 16:29:48,701 - mmdet - INFO - Epoch [4][2000/2732]\tlr: 5.000e-06, eta: 1:57:23, time: 0.377, data_time: 0.077, memory: 12508, loss_cls: 0.6302, loss_bbox: 2.8757, loss_obj: 2.8308, loss: 6.3367\n",
      "2022-11-17 16:30:25,951 - mmdet - INFO - Epoch [4][2100/2732]\tlr: 5.000e-06, eta: 1:56:36, time: 0.372, data_time: 0.064, memory: 12508, loss_cls: 0.6292, loss_bbox: 2.8441, loss_obj: 2.8977, loss: 6.3710\n",
      "2022-11-17 16:31:03,367 - mmdet - INFO - Epoch [4][2200/2732]\tlr: 5.000e-06, eta: 1:55:49, time: 0.374, data_time: 0.070, memory: 12508, loss_cls: 0.6315, loss_bbox: 2.8618, loss_obj: 2.8436, loss: 6.3369\n",
      "2022-11-17 16:31:40,913 - mmdet - INFO - Epoch [4][2300/2732]\tlr: 5.000e-06, eta: 1:55:02, time: 0.375, data_time: 0.069, memory: 12508, loss_cls: 0.6298, loss_bbox: 2.8440, loss_obj: 2.8594, loss: 6.3332\n",
      "2022-11-17 16:32:17,691 - mmdet - INFO - Epoch [4][2400/2732]\tlr: 5.000e-06, eta: 1:54:14, time: 0.368, data_time: 0.070, memory: 12508, loss_cls: 0.6353, loss_bbox: 2.9498, loss_obj: 2.8588, loss: 6.4439\n",
      "2022-11-17 16:32:54,025 - mmdet - INFO - Epoch [4][2500/2732]\tlr: 5.000e-06, eta: 1:53:26, time: 0.363, data_time: 0.065, memory: 12508, loss_cls: 0.6259, loss_bbox: 2.8366, loss_obj: 2.8365, loss: 6.2991\n",
      "2022-11-17 16:33:30,973 - mmdet - INFO - Epoch [4][2600/2732]\tlr: 5.000e-06, eta: 1:52:39, time: 0.369, data_time: 0.058, memory: 12508, loss_cls: 0.6235, loss_bbox: 2.7520, loss_obj: 2.8147, loss: 6.1903\n",
      "2022-11-17 16:34:08,113 - mmdet - INFO - Epoch [4][2700/2732]\tlr: 5.000e-06, eta: 1:51:52, time: 0.372, data_time: 0.055, memory: 12508, loss_cls: 0.6282, loss_bbox: 2.7705, loss_obj: 2.8972, loss: 6.2958\n",
      "2022-11-17 16:34:19,845 - mmdet - INFO - Saving checkpoint at 4 epochs\n"
     ]
    },
    {
     "name": "stdout",
     "output_type": "stream",
     "text": [
      "[>>>>>>>>>>>>>>>>>>>>>>>>] 10000/10000, 35.3 task/s, elapsed: 283s, ETA:     0s"
     ]
    },
    {
     "name": "stderr",
     "output_type": "stream",
     "text": [
      "2022-11-17 16:39:18,502 - mmdet - INFO - Evaluating bbox...\n"
     ]
    },
    {
     "name": "stdout",
     "output_type": "stream",
     "text": [
      "Loading and preparing results...\n",
      "DONE (t=1.46s)\n",
      "creating index...\n",
      "index created!\n",
      "Running per image evaluation...\n",
      "Evaluate annotation type *bbox*\n",
      "DONE (t=102.15s).\n",
      "Accumulating evaluation results...\n"
     ]
    },
    {
     "name": "stderr",
     "output_type": "stream",
     "text": [
      "2022-11-17 16:41:21,393 - mmdet - INFO - \n",
      " Average Precision  (AP) @[ IoU=0.50:0.95 | area=   all | maxDets=100 ] = 0.131\n",
      " Average Precision  (AP) @[ IoU=0.50      | area=   all | maxDets=1000 ] = 0.281\n",
      " Average Precision  (AP) @[ IoU=0.75      | area=   all | maxDets=1000 ] = 0.107\n",
      " Average Precision  (AP) @[ IoU=0.50:0.95 | area= small | maxDets=1000 ] = 0.118\n",
      " Average Precision  (AP) @[ IoU=0.50:0.95 | area=medium | maxDets=1000 ] = 0.282\n",
      " Average Precision  (AP) @[ IoU=0.50:0.95 | area= large | maxDets=1000 ] = 0.277\n",
      " Average Recall     (AR) @[ IoU=0.50:0.95 | area=   all | maxDets=100 ] = 0.292\n",
      " Average Recall     (AR) @[ IoU=0.50:0.95 | area=   all | maxDets=300 ] = 0.308\n",
      " Average Recall     (AR) @[ IoU=0.50:0.95 | area=   all | maxDets=1000 ] = 0.311\n",
      " Average Recall     (AR) @[ IoU=0.50:0.95 | area= small | maxDets=1000 ] = 0.291\n",
      " Average Recall     (AR) @[ IoU=0.50:0.95 | area=medium | maxDets=1000 ] = 0.527\n",
      " Average Recall     (AR) @[ IoU=0.50:0.95 | area= large | maxDets=1000 ] = 0.518\n",
      "\n"
     ]
    },
    {
     "name": "stdout",
     "output_type": "stream",
     "text": [
      "DONE (t=15.72s).\n"
     ]
    },
    {
     "name": "stderr",
     "output_type": "stream",
     "text": [
      "2022-11-17 16:41:21,858 - mmdet - INFO - The previous best checkpoint D:\\Homework\\course_cvdl\\task3\\workdirs\\yolox_s_8x8_300e_coco\\best_bbox_mAP_epoch_3.pth was removed\n",
      "2022-11-17 16:41:24,006 - mmdet - INFO - Now best checkpoint is saved as best_bbox_mAP_epoch_4.pth.\n",
      "2022-11-17 16:41:24,007 - mmdet - INFO - Best bbox_mAP is 0.1310 at 4 epoch.\n",
      "2022-11-17 16:41:24,008 - mmdet - INFO - Epoch(val) [4][10000]\tbbox_mAP: 0.1310, bbox_mAP_50: 0.2810, bbox_mAP_75: 0.1070, bbox_mAP_s: 0.1180, bbox_mAP_m: 0.2820, bbox_mAP_l: 0.2770, bbox_mAP_copypaste: 0.131 0.281 0.107 0.118 0.282 0.277\n",
      "2022-11-17 16:42:03,899 - mmdet - INFO - Epoch [5][100/2732]\tlr: 5.000e-06, eta: 1:50:38, time: 0.398, data_time: 0.098, memory: 12508, loss_cls: 0.6290, loss_bbox: 2.8272, loss_obj: 2.7776, loss: 6.2338\n",
      "2022-11-17 16:42:40,875 - mmdet - INFO - Epoch [5][200/2732]\tlr: 5.000e-06, eta: 1:49:51, time: 0.369, data_time: 0.070, memory: 12508, loss_cls: 0.6290, loss_bbox: 2.8415, loss_obj: 2.8335, loss: 6.3039\n",
      "2022-11-17 16:43:17,749 - mmdet - INFO - Epoch [5][300/2732]\tlr: 5.000e-06, eta: 1:49:05, time: 0.368, data_time: 0.058, memory: 12508, loss_cls: 0.6269, loss_bbox: 2.7866, loss_obj: 2.8522, loss: 6.2656\n",
      "2022-11-17 16:43:54,174 - mmdet - INFO - Epoch [5][400/2732]\tlr: 5.000e-06, eta: 1:48:19, time: 0.365, data_time: 0.068, memory: 12508, loss_cls: 0.6270, loss_bbox: 2.8079, loss_obj: 2.7779, loss: 6.2128\n",
      "2022-11-17 16:44:31,132 - mmdet - INFO - Epoch [5][500/2732]\tlr: 5.000e-06, eta: 1:47:33, time: 0.369, data_time: 0.059, memory: 12508, loss_cls: 0.6275, loss_bbox: 2.7773, loss_obj: 2.8943, loss: 6.2990\n",
      "2022-11-17 16:45:08,168 - mmdet - INFO - Epoch [5][600/2732]\tlr: 5.000e-06, eta: 1:46:47, time: 0.370, data_time: 0.054, memory: 12508, loss_cls: 0.6260, loss_bbox: 2.7934, loss_obj: 2.8153, loss: 6.2347\n",
      "2022-11-17 16:45:44,914 - mmdet - INFO - Epoch [5][700/2732]\tlr: 5.000e-06, eta: 1:46:01, time: 0.368, data_time: 0.072, memory: 12508, loss_cls: 0.6306, loss_bbox: 2.8476, loss_obj: 2.8004, loss: 6.2785\n",
      "2022-11-17 16:46:21,650 - mmdet - INFO - Epoch [5][800/2732]\tlr: 5.000e-06, eta: 1:45:16, time: 0.367, data_time: 0.066, memory: 12508, loss_cls: 0.6277, loss_bbox: 2.7864, loss_obj: 2.7777, loss: 6.1918\n",
      "2022-11-17 16:46:58,483 - mmdet - INFO - Epoch [5][900/2732]\tlr: 5.000e-06, eta: 1:44:31, time: 0.368, data_time: 0.062, memory: 12508, loss_cls: 0.6260, loss_bbox: 2.8094, loss_obj: 2.7876, loss: 6.2230\n",
      "2022-11-17 16:47:35,133 - mmdet - INFO - Epoch [5][1000/2732]\tlr: 5.000e-06, eta: 1:43:45, time: 0.367, data_time: 0.069, memory: 12508, loss_cls: 0.6272, loss_bbox: 2.8206, loss_obj: 2.8101, loss: 6.2578\n",
      "2022-11-17 16:48:12,011 - mmdet - INFO - Epoch [5][1100/2732]\tlr: 5.000e-06, eta: 1:43:00, time: 0.369, data_time: 0.062, memory: 12508, loss_cls: 0.6291, loss_bbox: 2.8430, loss_obj: 2.8588, loss: 6.3310\n",
      "2022-11-17 16:48:49,064 - mmdet - INFO - Epoch [5][1200/2732]\tlr: 5.000e-06, eta: 1:42:15, time: 0.370, data_time: 0.056, memory: 12508, loss_cls: 0.6216, loss_bbox: 2.7594, loss_obj: 2.7865, loss: 6.1675\n",
      "2022-11-17 16:49:26,500 - mmdet - INFO - Epoch [5][1300/2732]\tlr: 5.000e-06, eta: 1:41:31, time: 0.375, data_time: 0.059, memory: 12508, loss_cls: 0.6216, loss_bbox: 2.7478, loss_obj: 2.7557, loss: 6.1252\n",
      "2022-11-17 16:50:03,909 - mmdet - INFO - Epoch [5][1400/2732]\tlr: 5.000e-06, eta: 1:40:48, time: 0.374, data_time: 0.071, memory: 12508, loss_cls: 0.6247, loss_bbox: 2.7972, loss_obj: 2.7748, loss: 6.1966\n",
      "2022-11-17 16:50:40,650 - mmdet - INFO - Epoch [5][1500/2732]\tlr: 5.000e-06, eta: 1:40:03, time: 0.368, data_time: 0.060, memory: 12508, loss_cls: 0.6258, loss_bbox: 2.8335, loss_obj: 2.8266, loss: 6.2860\n",
      "2022-11-17 16:51:17,588 - mmdet - INFO - Epoch [5][1600/2732]\tlr: 5.000e-06, eta: 1:39:19, time: 0.369, data_time: 0.064, memory: 12508, loss_cls: 0.6244, loss_bbox: 2.7960, loss_obj: 2.8155, loss: 6.2358\n",
      "2022-11-17 16:51:54,439 - mmdet - INFO - Epoch [5][1700/2732]\tlr: 5.000e-06, eta: 1:38:34, time: 0.368, data_time: 0.059, memory: 12508, loss_cls: 0.6243, loss_bbox: 2.8116, loss_obj: 2.7781, loss: 6.2140\n",
      "2022-11-17 16:52:31,417 - mmdet - INFO - Epoch [5][1800/2732]\tlr: 5.000e-06, eta: 1:37:50, time: 0.370, data_time: 0.062, memory: 12508, loss_cls: 0.6247, loss_bbox: 2.8168, loss_obj: 2.7559, loss: 6.1973\n",
      "2022-11-17 16:53:07,831 - mmdet - INFO - Epoch [5][1900/2732]\tlr: 5.000e-06, eta: 1:37:06, time: 0.365, data_time: 0.061, memory: 12508, loss_cls: 0.6237, loss_bbox: 2.7746, loss_obj: 2.7969, loss: 6.1952\n",
      "2022-11-17 16:53:44,550 - mmdet - INFO - Epoch [5][2000/2732]\tlr: 5.000e-06, eta: 1:36:22, time: 0.367, data_time: 0.073, memory: 12508, loss_cls: 0.6275, loss_bbox: 2.8464, loss_obj: 2.8221, loss: 6.2960\n",
      "2022-11-17 16:54:22,570 - mmdet - INFO - Epoch [5][2100/2732]\tlr: 5.000e-06, eta: 1:35:39, time: 0.380, data_time: 0.078, memory: 12508, loss_cls: 0.6255, loss_bbox: 2.8144, loss_obj: 2.8069, loss: 6.2468\n",
      "2022-11-17 16:54:59,990 - mmdet - INFO - Epoch [5][2200/2732]\tlr: 5.000e-06, eta: 1:34:56, time: 0.374, data_time: 0.070, memory: 12508, loss_cls: 0.6257, loss_bbox: 2.7674, loss_obj: 2.8373, loss: 6.2304\n",
      "2022-11-17 16:55:36,979 - mmdet - INFO - Epoch [5][2300/2732]\tlr: 5.000e-06, eta: 1:34:12, time: 0.370, data_time: 0.062, memory: 12508, loss_cls: 0.6225, loss_bbox: 2.7694, loss_obj: 2.7819, loss: 6.1739\n",
      "2022-11-17 16:56:14,190 - mmdet - INFO - Epoch [5][2400/2732]\tlr: 5.000e-06, eta: 1:33:29, time: 0.372, data_time: 0.075, memory: 12508, loss_cls: 0.6259, loss_bbox: 2.8131, loss_obj: 2.7975, loss: 6.2365\n",
      "2022-11-17 16:56:51,110 - mmdet - INFO - Epoch [5][2500/2732]\tlr: 5.000e-06, eta: 1:32:46, time: 0.369, data_time: 0.060, memory: 12508, loss_cls: 0.6201, loss_bbox: 2.7482, loss_obj: 2.7069, loss: 6.0752\n",
      "2022-11-17 16:57:28,308 - mmdet - INFO - Epoch [5][2600/2732]\tlr: 5.000e-06, eta: 1:32:03, time: 0.372, data_time: 0.057, memory: 12508, loss_cls: 0.6216, loss_bbox: 2.7410, loss_obj: 2.8448, loss: 6.2074\n",
      "2022-11-17 16:58:05,415 - mmdet - INFO - Epoch [5][2700/2732]\tlr: 5.000e-06, eta: 1:31:20, time: 0.371, data_time: 0.062, memory: 12508, loss_cls: 0.6214, loss_bbox: 2.7681, loss_obj: 2.7205, loss: 6.1100\n",
      "2022-11-17 16:58:16,716 - mmdet - INFO - Saving checkpoint at 5 epochs\n"
     ]
    },
    {
     "name": "stdout",
     "output_type": "stream",
     "text": [
      "[>>>>>>>>>>>>>>>>>>>>>>>>] 10000/10000, 38.0 task/s, elapsed: 263s, ETA:     0s"
     ]
    },
    {
     "name": "stderr",
     "output_type": "stream",
     "text": [
      "2022-11-17 17:02:56,264 - mmdet - INFO - Evaluating bbox...\n"
     ]
    },
    {
     "name": "stdout",
     "output_type": "stream",
     "text": [
      "Loading and preparing results...\n",
      "DONE (t=1.53s)\n",
      "creating index...\n",
      "index created!\n",
      "Running per image evaluation...\n",
      "Evaluate annotation type *bbox*\n",
      "DONE (t=104.35s).\n",
      "Accumulating evaluation results...\n"
     ]
    },
    {
     "name": "stderr",
     "output_type": "stream",
     "text": [
      "2022-11-17 17:05:02,061 - mmdet - INFO - \n",
      " Average Precision  (AP) @[ IoU=0.50:0.95 | area=   all | maxDets=100 ] = 0.135\n",
      " Average Precision  (AP) @[ IoU=0.50      | area=   all | maxDets=1000 ] = 0.288\n",
      " Average Precision  (AP) @[ IoU=0.75      | area=   all | maxDets=1000 ] = 0.113\n",
      " Average Precision  (AP) @[ IoU=0.50:0.95 | area= small | maxDets=1000 ] = 0.122\n",
      " Average Precision  (AP) @[ IoU=0.50:0.95 | area=medium | maxDets=1000 ] = 0.289\n",
      " Average Precision  (AP) @[ IoU=0.50:0.95 | area= large | maxDets=1000 ] = 0.295\n",
      " Average Recall     (AR) @[ IoU=0.50:0.95 | area=   all | maxDets=100 ] = 0.298\n",
      " Average Recall     (AR) @[ IoU=0.50:0.95 | area=   all | maxDets=300 ] = 0.315\n",
      " Average Recall     (AR) @[ IoU=0.50:0.95 | area=   all | maxDets=1000 ] = 0.317\n",
      " Average Recall     (AR) @[ IoU=0.50:0.95 | area= small | maxDets=1000 ] = 0.297\n",
      " Average Recall     (AR) @[ IoU=0.50:0.95 | area=medium | maxDets=1000 ] = 0.538\n",
      " Average Recall     (AR) @[ IoU=0.50:0.95 | area= large | maxDets=1000 ] = 0.530\n",
      "\n"
     ]
    },
    {
     "name": "stdout",
     "output_type": "stream",
     "text": [
      "DONE (t=16.03s).\n"
     ]
    },
    {
     "name": "stderr",
     "output_type": "stream",
     "text": [
      "2022-11-17 17:05:02,578 - mmdet - INFO - The previous best checkpoint D:\\Homework\\course_cvdl\\task3\\workdirs\\yolox_s_8x8_300e_coco\\best_bbox_mAP_epoch_4.pth was removed\n",
      "2022-11-17 17:05:04,469 - mmdet - INFO - Now best checkpoint is saved as best_bbox_mAP_epoch_5.pth.\n",
      "2022-11-17 17:05:04,469 - mmdet - INFO - Best bbox_mAP is 0.1350 at 5 epoch.\n",
      "2022-11-17 17:05:04,470 - mmdet - INFO - Epoch(val) [5][10000]\tbbox_mAP: 0.1350, bbox_mAP_50: 0.2880, bbox_mAP_75: 0.1130, bbox_mAP_s: 0.1220, bbox_mAP_m: 0.2890, bbox_mAP_l: 0.2950, bbox_mAP_copypaste: 0.135 0.288 0.113 0.122 0.289 0.295\n",
      "2022-11-17 17:05:49,004 - mmdet - INFO - Epoch [6][100/2732]\tlr: 5.000e-06, eta: 1:30:19, time: 0.445, data_time: 0.125, memory: 12508, loss_cls: 0.6219, loss_bbox: 2.7565, loss_obj: 2.7763, loss: 6.1547\n",
      "2022-11-17 17:06:38,178 - mmdet - INFO - Epoch [6][200/2732]\tlr: 5.000e-06, eta: 1:29:48, time: 0.491, data_time: 0.182, memory: 12508, loss_cls: 0.6244, loss_bbox: 2.7833, loss_obj: 2.8091, loss: 6.2168\n",
      "2022-11-17 17:07:20,641 - mmdet - INFO - Epoch [6][300/2732]\tlr: 5.000e-06, eta: 1:29:10, time: 0.425, data_time: 0.101, memory: 12508, loss_cls: 0.6243, loss_bbox: 2.7925, loss_obj: 2.8021, loss: 6.2189\n",
      "2022-11-17 17:08:03,694 - mmdet - INFO - Epoch [6][400/2732]\tlr: 5.000e-06, eta: 1:28:33, time: 0.431, data_time: 0.121, memory: 12508, loss_cls: 0.6216, loss_bbox: 2.7717, loss_obj: 2.7211, loss: 6.1143\n",
      "2022-11-17 17:08:48,364 - mmdet - INFO - Epoch [6][500/2732]\tlr: 5.000e-06, eta: 1:27:57, time: 0.446, data_time: 0.143, memory: 12508, loss_cls: 0.6223, loss_bbox: 2.7767, loss_obj: 2.7353, loss: 6.1343\n",
      "2022-11-17 17:09:32,193 - mmdet - INFO - Epoch [6][600/2732]\tlr: 5.000e-06, eta: 1:27:20, time: 0.438, data_time: 0.123, memory: 12508, loss_cls: 0.6211, loss_bbox: 2.7354, loss_obj: 2.7935, loss: 6.1500\n",
      "2022-11-17 17:10:15,382 - mmdet - INFO - Epoch [6][700/2732]\tlr: 5.000e-06, eta: 1:26:43, time: 0.432, data_time: 0.121, memory: 12508, loss_cls: 0.6206, loss_bbox: 2.7714, loss_obj: 2.7609, loss: 6.1529\n",
      "2022-11-17 17:10:55,425 - mmdet - INFO - Epoch [6][800/2732]\tlr: 5.000e-06, eta: 1:26:03, time: 0.401, data_time: 0.088, memory: 12508, loss_cls: 0.6217, loss_bbox: 2.7494, loss_obj: 2.7505, loss: 6.1215\n",
      "2022-11-17 17:11:35,496 - mmdet - INFO - Epoch [6][900/2732]\tlr: 5.000e-06, eta: 1:25:22, time: 0.400, data_time: 0.085, memory: 12508, loss_cls: 0.6218, loss_bbox: 2.7627, loss_obj: 2.8437, loss: 6.2282\n",
      "2022-11-17 17:12:16,880 - mmdet - INFO - Epoch [6][1000/2732]\tlr: 5.000e-06, eta: 1:24:43, time: 0.414, data_time: 0.100, memory: 12508, loss_cls: 0.6171, loss_bbox: 2.7253, loss_obj: 2.7522, loss: 6.0945\n",
      "2022-11-17 17:12:54,775 - mmdet - INFO - Epoch [6][1100/2732]\tlr: 5.000e-06, eta: 1:24:01, time: 0.378, data_time: 0.065, memory: 12508, loss_cls: 0.6241, loss_bbox: 2.7960, loss_obj: 2.7608, loss: 6.1809\n",
      "2022-11-17 17:13:34,497 - mmdet - INFO - Epoch [6][1200/2732]\tlr: 5.000e-06, eta: 1:23:21, time: 0.398, data_time: 0.081, memory: 12508, loss_cls: 0.6209, loss_bbox: 2.7419, loss_obj: 2.7631, loss: 6.1259\n",
      "2022-11-17 17:14:13,303 - mmdet - INFO - Epoch [6][1300/2732]\tlr: 5.000e-06, eta: 1:22:40, time: 0.388, data_time: 0.087, memory: 12508, loss_cls: 0.6266, loss_bbox: 2.8188, loss_obj: 2.8025, loss: 6.2479\n",
      "2022-11-17 17:14:51,773 - mmdet - INFO - Epoch [6][1400/2732]\tlr: 5.000e-06, eta: 1:21:58, time: 0.385, data_time: 0.070, memory: 12508, loss_cls: 0.6211, loss_bbox: 2.7564, loss_obj: 2.8079, loss: 6.1854\n",
      "2022-11-17 17:15:31,488 - mmdet - INFO - Epoch [6][1500/2732]\tlr: 5.000e-06, eta: 1:21:18, time: 0.397, data_time: 0.088, memory: 12508, loss_cls: 0.6220, loss_bbox: 2.7901, loss_obj: 2.7458, loss: 6.1579\n",
      "2022-11-17 17:16:10,396 - mmdet - INFO - Epoch [6][1600/2732]\tlr: 5.000e-06, eta: 1:20:37, time: 0.389, data_time: 0.070, memory: 12508, loss_cls: 0.6209, loss_bbox: 2.7095, loss_obj: 2.7307, loss: 6.0611\n",
      "2022-11-17 17:16:48,394 - mmdet - INFO - Epoch [6][1700/2732]\tlr: 5.000e-06, eta: 1:19:55, time: 0.380, data_time: 0.055, memory: 12508, loss_cls: 0.6219, loss_bbox: 2.7291, loss_obj: 2.8051, loss: 6.1561\n",
      "2022-11-17 17:17:28,537 - mmdet - INFO - Epoch [6][1800/2732]\tlr: 5.000e-06, eta: 1:19:15, time: 0.401, data_time: 0.099, memory: 12508, loss_cls: 0.6243, loss_bbox: 2.8127, loss_obj: 2.8014, loss: 6.2384\n",
      "2022-11-17 17:18:05,966 - mmdet - INFO - Epoch [6][1900/2732]\tlr: 5.000e-06, eta: 1:18:33, time: 0.375, data_time: 0.077, memory: 12508, loss_cls: 0.6223, loss_bbox: 2.8028, loss_obj: 2.7208, loss: 6.1459\n",
      "2022-11-17 17:18:43,657 - mmdet - INFO - Epoch [6][2000/2732]\tlr: 5.000e-06, eta: 1:17:51, time: 0.377, data_time: 0.060, memory: 12508, loss_cls: 0.6209, loss_bbox: 2.7548, loss_obj: 2.8186, loss: 6.1944\n",
      "2022-11-17 17:19:22,385 - mmdet - INFO - Epoch [6][2100/2732]\tlr: 5.000e-06, eta: 1:17:10, time: 0.387, data_time: 0.063, memory: 12508, loss_cls: 0.6187, loss_bbox: 2.7205, loss_obj: 2.7631, loss: 6.1023\n",
      "2022-11-17 17:20:01,199 - mmdet - INFO - Epoch [6][2200/2732]\tlr: 5.000e-06, eta: 1:16:29, time: 0.388, data_time: 0.079, memory: 12508, loss_cls: 0.6203, loss_bbox: 2.7551, loss_obj: 2.7589, loss: 6.1343\n",
      "2022-11-17 17:20:39,580 - mmdet - INFO - Epoch [6][2300/2732]\tlr: 5.000e-06, eta: 1:15:48, time: 0.384, data_time: 0.062, memory: 12508, loss_cls: 0.6192, loss_bbox: 2.7274, loss_obj: 2.7325, loss: 6.0792\n",
      "2022-11-17 17:21:17,077 - mmdet - INFO - Epoch [6][2400/2732]\tlr: 5.000e-06, eta: 1:15:06, time: 0.376, data_time: 0.070, memory: 12508, loss_cls: 0.6222, loss_bbox: 2.8131, loss_obj: 2.7692, loss: 6.2045\n",
      "2022-11-17 17:21:57,054 - mmdet - INFO - Epoch [6][2500/2732]\tlr: 5.000e-06, eta: 1:14:26, time: 0.399, data_time: 0.090, memory: 12508, loss_cls: 0.6222, loss_bbox: 2.7589, loss_obj: 2.7492, loss: 6.1303\n",
      "2022-11-17 17:22:36,111 - mmdet - INFO - Epoch [6][2600/2732]\tlr: 5.000e-06, eta: 1:13:45, time: 0.390, data_time: 0.075, memory: 12508, loss_cls: 0.6229, loss_bbox: 2.7694, loss_obj: 2.7558, loss: 6.1481\n",
      "2022-11-17 17:23:13,955 - mmdet - INFO - Epoch [6][2700/2732]\tlr: 5.000e-06, eta: 1:13:04, time: 0.378, data_time: 0.072, memory: 12508, loss_cls: 0.6233, loss_bbox: 2.8204, loss_obj: 2.7647, loss: 6.2085\n",
      "2022-11-17 17:23:25,515 - mmdet - INFO - Saving checkpoint at 6 epochs\n"
     ]
    },
    {
     "name": "stdout",
     "output_type": "stream",
     "text": [
      "[>>>>>>>>>>>>>>>>>>>>>>>>] 10000/10000, 37.3 task/s, elapsed: 268s, ETA:     0s"
     ]
    },
    {
     "name": "stderr",
     "output_type": "stream",
     "text": [
      "2022-11-17 17:28:10,791 - mmdet - INFO - Evaluating bbox...\n"
     ]
    },
    {
     "name": "stdout",
     "output_type": "stream",
     "text": [
      "Loading and preparing results...\n",
      "DONE (t=1.47s)\n",
      "creating index...\n",
      "index created!\n",
      "Running per image evaluation...\n",
      "Evaluate annotation type *bbox*\n",
      "DONE (t=104.02s).\n",
      "Accumulating evaluation results...\n"
     ]
    },
    {
     "name": "stderr",
     "output_type": "stream",
     "text": [
      "2022-11-17 17:30:15,750 - mmdet - INFO - \n",
      " Average Precision  (AP) @[ IoU=0.50:0.95 | area=   all | maxDets=100 ] = 0.137\n",
      " Average Precision  (AP) @[ IoU=0.50      | area=   all | maxDets=1000 ] = 0.291\n",
      " Average Precision  (AP) @[ IoU=0.75      | area=   all | maxDets=1000 ] = 0.115\n",
      " Average Precision  (AP) @[ IoU=0.50:0.95 | area= small | maxDets=1000 ] = 0.124\n",
      " Average Precision  (AP) @[ IoU=0.50:0.95 | area=medium | maxDets=1000 ] = 0.297\n",
      " Average Precision  (AP) @[ IoU=0.50:0.95 | area= large | maxDets=1000 ] = 0.310\n",
      " Average Recall     (AR) @[ IoU=0.50:0.95 | area=   all | maxDets=100 ] = 0.301\n",
      " Average Recall     (AR) @[ IoU=0.50:0.95 | area=   all | maxDets=300 ] = 0.317\n",
      " Average Recall     (AR) @[ IoU=0.50:0.95 | area=   all | maxDets=1000 ] = 0.320\n",
      " Average Recall     (AR) @[ IoU=0.50:0.95 | area= small | maxDets=1000 ] = 0.299\n",
      " Average Recall     (AR) @[ IoU=0.50:0.95 | area=medium | maxDets=1000 ] = 0.545\n",
      " Average Recall     (AR) @[ IoU=0.50:0.95 | area= large | maxDets=1000 ] = 0.545\n",
      "\n"
     ]
    },
    {
     "name": "stdout",
     "output_type": "stream",
     "text": [
      "DONE (t=15.83s).\n"
     ]
    },
    {
     "name": "stderr",
     "output_type": "stream",
     "text": [
      "2022-11-17 17:30:16,249 - mmdet - INFO - The previous best checkpoint D:\\Homework\\course_cvdl\\task3\\workdirs\\yolox_s_8x8_300e_coco\\best_bbox_mAP_epoch_5.pth was removed\n",
      "2022-11-17 17:30:17,681 - mmdet - INFO - Now best checkpoint is saved as best_bbox_mAP_epoch_6.pth.\n",
      "2022-11-17 17:30:17,682 - mmdet - INFO - Best bbox_mAP is 0.1370 at 6 epoch.\n",
      "2022-11-17 17:30:17,683 - mmdet - INFO - Epoch(val) [6][10000]\tbbox_mAP: 0.1370, bbox_mAP_50: 0.2910, bbox_mAP_75: 0.1150, bbox_mAP_s: 0.1240, bbox_mAP_m: 0.2970, bbox_mAP_l: 0.3100, bbox_mAP_copypaste: 0.137 0.291 0.115 0.124 0.297 0.310\n",
      "2022-11-17 17:30:58,645 - mmdet - INFO - Epoch [7][100/2732]\tlr: 5.000e-06, eta: 1:12:03, time: 0.408, data_time: 0.092, memory: 12508, loss_cls: 0.6207, loss_bbox: 2.7689, loss_obj: 2.7123, loss: 6.1019\n",
      "2022-11-17 17:31:36,085 - mmdet - INFO - Epoch [7][200/2732]\tlr: 5.000e-06, eta: 1:11:21, time: 0.375, data_time: 0.066, memory: 12508, loss_cls: 0.6196, loss_bbox: 2.7910, loss_obj: 2.7550, loss: 6.1656\n",
      "2022-11-17 17:32:13,476 - mmdet - INFO - Epoch [7][300/2732]\tlr: 5.000e-06, eta: 1:10:40, time: 0.374, data_time: 0.066, memory: 12508, loss_cls: 0.6230, loss_bbox: 2.7835, loss_obj: 2.7057, loss: 6.1122\n",
      "2022-11-17 17:32:50,858 - mmdet - INFO - Epoch [7][400/2732]\tlr: 5.000e-06, eta: 1:09:58, time: 0.374, data_time: 0.077, memory: 12508, loss_cls: 0.6214, loss_bbox: 2.8001, loss_obj: 2.7345, loss: 6.1561\n",
      "2022-11-17 17:33:28,447 - mmdet - INFO - Epoch [7][500/2732]\tlr: 5.000e-06, eta: 1:09:17, time: 0.375, data_time: 0.052, memory: 12508, loss_cls: 0.6174, loss_bbox: 2.7339, loss_obj: 2.7691, loss: 6.1205\n",
      "2022-11-17 17:34:06,215 - mmdet - INFO - Epoch [7][600/2732]\tlr: 5.000e-06, eta: 1:08:36, time: 0.378, data_time: 0.065, memory: 12508, loss_cls: 0.6191, loss_bbox: 2.7566, loss_obj: 2.7479, loss: 6.1236\n",
      "2022-11-17 17:34:43,721 - mmdet - INFO - Epoch [7][700/2732]\tlr: 5.000e-06, eta: 1:07:55, time: 0.375, data_time: 0.061, memory: 12508, loss_cls: 0.6234, loss_bbox: 2.7999, loss_obj: 2.7751, loss: 6.1984\n",
      "2022-11-17 17:35:20,999 - mmdet - INFO - Epoch [7][800/2732]\tlr: 5.000e-06, eta: 1:07:13, time: 0.374, data_time: 0.064, memory: 12508, loss_cls: 0.6192, loss_bbox: 2.7495, loss_obj: 2.7267, loss: 6.0953\n",
      "2022-11-17 17:35:58,070 - mmdet - INFO - Epoch [7][900/2732]\tlr: 5.000e-06, eta: 1:06:32, time: 0.371, data_time: 0.054, memory: 12508, loss_cls: 0.6198, loss_bbox: 2.7655, loss_obj: 2.7156, loss: 6.1010\n",
      "2022-11-17 17:36:35,910 - mmdet - INFO - Epoch [7][1000/2732]\tlr: 5.000e-06, eta: 1:05:51, time: 0.378, data_time: 0.067, memory: 12508, loss_cls: 0.6229, loss_bbox: 2.8069, loss_obj: 2.7455, loss: 6.1753\n",
      "2022-11-17 17:37:13,482 - mmdet - INFO - Epoch [7][1100/2732]\tlr: 5.000e-06, eta: 1:05:10, time: 0.376, data_time: 0.057, memory: 12508, loss_cls: 0.6192, loss_bbox: 2.7429, loss_obj: 2.7909, loss: 6.1531\n",
      "2022-11-17 17:37:51,291 - mmdet - INFO - Epoch [7][1200/2732]\tlr: 5.000e-06, eta: 1:04:29, time: 0.378, data_time: 0.069, memory: 12508, loss_cls: 0.6218, loss_bbox: 2.7825, loss_obj: 2.7078, loss: 6.1120\n",
      "2022-11-17 17:38:28,788 - mmdet - INFO - Epoch [7][1300/2732]\tlr: 5.000e-06, eta: 1:03:48, time: 0.375, data_time: 0.064, memory: 12508, loss_cls: 0.6208, loss_bbox: 2.7761, loss_obj: 2.6732, loss: 6.0701\n",
      "2022-11-17 17:39:06,566 - mmdet - INFO - Epoch [7][1400/2732]\tlr: 5.000e-06, eta: 1:03:07, time: 0.378, data_time: 0.057, memory: 12508, loss_cls: 0.6179, loss_bbox: 2.7306, loss_obj: 2.7540, loss: 6.1024\n",
      "2022-11-17 17:39:44,360 - mmdet - INFO - Epoch [7][1500/2732]\tlr: 5.000e-06, eta: 1:02:26, time: 0.378, data_time: 0.065, memory: 12508, loss_cls: 0.6214, loss_bbox: 2.7864, loss_obj: 2.7166, loss: 6.1244\n",
      "2022-11-17 17:40:22,210 - mmdet - INFO - Epoch [7][1600/2732]\tlr: 5.000e-06, eta: 1:01:46, time: 0.378, data_time: 0.072, memory: 12508, loss_cls: 0.6229, loss_bbox: 2.8017, loss_obj: 2.7501, loss: 6.1748\n",
      "2022-11-17 17:40:59,798 - mmdet - INFO - Epoch [7][1700/2732]\tlr: 5.000e-06, eta: 1:01:05, time: 0.376, data_time: 0.068, memory: 12508, loss_cls: 0.6189, loss_bbox: 2.7775, loss_obj: 2.7590, loss: 6.1553\n",
      "2022-11-17 17:41:37,464 - mmdet - INFO - Epoch [7][1800/2732]\tlr: 5.000e-06, eta: 1:00:24, time: 0.377, data_time: 0.058, memory: 12508, loss_cls: 0.6199, loss_bbox: 2.7732, loss_obj: 2.7641, loss: 6.1572\n",
      "2022-11-17 17:42:14,979 - mmdet - INFO - Epoch [7][1900/2732]\tlr: 5.000e-06, eta: 0:59:43, time: 0.375, data_time: 0.065, memory: 12508, loss_cls: 0.6173, loss_bbox: 2.7431, loss_obj: 2.6884, loss: 6.0487\n",
      "2022-11-17 17:42:52,331 - mmdet - INFO - Epoch [7][2000/2732]\tlr: 5.000e-06, eta: 0:59:02, time: 0.374, data_time: 0.071, memory: 12508, loss_cls: 0.6193, loss_bbox: 2.7642, loss_obj: 2.6976, loss: 6.0810\n",
      "2022-11-17 17:43:29,655 - mmdet - INFO - Epoch [7][2100/2732]\tlr: 5.000e-06, eta: 0:58:22, time: 0.373, data_time: 0.063, memory: 12508, loss_cls: 0.6183, loss_bbox: 2.7493, loss_obj: 2.6834, loss: 6.0510\n",
      "2022-11-17 17:44:07,131 - mmdet - INFO - Epoch [7][2200/2732]\tlr: 5.000e-06, eta: 0:57:41, time: 0.375, data_time: 0.051, memory: 12508, loss_cls: 0.6138, loss_bbox: 2.6842, loss_obj: 2.6544, loss: 5.9524\n",
      "2022-11-17 17:44:44,838 - mmdet - INFO - Epoch [7][2300/2732]\tlr: 5.000e-06, eta: 0:57:00, time: 0.377, data_time: 0.074, memory: 12508, loss_cls: 0.6209, loss_bbox: 2.7891, loss_obj: 2.6962, loss: 6.1062\n",
      "2022-11-17 17:45:22,457 - mmdet - INFO - Epoch [7][2400/2732]\tlr: 5.000e-06, eta: 0:56:20, time: 0.376, data_time: 0.069, memory: 12508, loss_cls: 0.6203, loss_bbox: 2.7888, loss_obj: 2.7412, loss: 6.1503\n",
      "2022-11-17 17:45:59,837 - mmdet - INFO - Epoch [7][2500/2732]\tlr: 5.000e-06, eta: 0:55:39, time: 0.373, data_time: 0.065, memory: 12508, loss_cls: 0.6217, loss_bbox: 2.7919, loss_obj: 2.7053, loss: 6.1188\n",
      "2022-11-17 17:46:37,345 - mmdet - INFO - Epoch [7][2600/2732]\tlr: 5.000e-06, eta: 0:54:59, time: 0.376, data_time: 0.053, memory: 12508, loss_cls: 0.6171, loss_bbox: 2.7451, loss_obj: 2.7022, loss: 6.0643\n",
      "2022-11-17 17:47:13,818 - mmdet - INFO - Epoch [7][2700/2732]\tlr: 5.000e-06, eta: 0:54:18, time: 0.364, data_time: 0.060, memory: 12508, loss_cls: 0.6188, loss_bbox: 2.7310, loss_obj: 2.6799, loss: 6.0296\n",
      "2022-11-17 17:47:25,294 - mmdet - INFO - Saving checkpoint at 7 epochs\n"
     ]
    },
    {
     "name": "stdout",
     "output_type": "stream",
     "text": [
      "[>>>>>>>>>>>>>>>>>>>>>>>>] 10000/10000, 36.2 task/s, elapsed: 277s, ETA:     0s"
     ]
    },
    {
     "name": "stderr",
     "output_type": "stream",
     "text": [
      "2022-11-17 17:52:17,551 - mmdet - INFO - Evaluating bbox...\n"
     ]
    },
    {
     "name": "stdout",
     "output_type": "stream",
     "text": [
      "Loading and preparing results...\n",
      "DONE (t=1.47s)\n",
      "creating index...\n",
      "index created!\n",
      "Running per image evaluation...\n",
      "Evaluate annotation type *bbox*\n",
      "DONE (t=105.12s).\n",
      "Accumulating evaluation results...\n"
     ]
    },
    {
     "name": "stderr",
     "output_type": "stream",
     "text": [
      "2022-11-17 17:54:23,930 - mmdet - INFO - \n",
      " Average Precision  (AP) @[ IoU=0.50:0.95 | area=   all | maxDets=100 ] = 0.140\n",
      " Average Precision  (AP) @[ IoU=0.50      | area=   all | maxDets=1000 ] = 0.296\n",
      " Average Precision  (AP) @[ IoU=0.75      | area=   all | maxDets=1000 ] = 0.118\n",
      " Average Precision  (AP) @[ IoU=0.50:0.95 | area= small | maxDets=1000 ] = 0.126\n",
      " Average Precision  (AP) @[ IoU=0.50:0.95 | area=medium | maxDets=1000 ] = 0.303\n",
      " Average Precision  (AP) @[ IoU=0.50:0.95 | area= large | maxDets=1000 ] = 0.314\n",
      " Average Recall     (AR) @[ IoU=0.50:0.95 | area=   all | maxDets=100 ] = 0.304\n",
      " Average Recall     (AR) @[ IoU=0.50:0.95 | area=   all | maxDets=300 ] = 0.320\n",
      " Average Recall     (AR) @[ IoU=0.50:0.95 | area=   all | maxDets=1000 ] = 0.323\n",
      " Average Recall     (AR) @[ IoU=0.50:0.95 | area= small | maxDets=1000 ] = 0.302\n",
      " Average Recall     (AR) @[ IoU=0.50:0.95 | area=medium | maxDets=1000 ] = 0.548\n",
      " Average Recall     (AR) @[ IoU=0.50:0.95 | area= large | maxDets=1000 ] = 0.552\n",
      "\n"
     ]
    },
    {
     "name": "stdout",
     "output_type": "stream",
     "text": [
      "DONE (t=16.00s).\n"
     ]
    },
    {
     "name": "stderr",
     "output_type": "stream",
     "text": [
      "2022-11-17 17:54:24,448 - mmdet - INFO - The previous best checkpoint D:\\Homework\\course_cvdl\\task3\\workdirs\\yolox_s_8x8_300e_coco\\best_bbox_mAP_epoch_6.pth was removed\n",
      "2022-11-17 17:54:26,259 - mmdet - INFO - Now best checkpoint is saved as best_bbox_mAP_epoch_7.pth.\n",
      "2022-11-17 17:54:26,260 - mmdet - INFO - Best bbox_mAP is 0.1400 at 7 epoch.\n",
      "2022-11-17 17:54:26,261 - mmdet - INFO - Epoch(val) [7][10000]\tbbox_mAP: 0.1400, bbox_mAP_50: 0.2960, bbox_mAP_75: 0.1180, bbox_mAP_s: 0.1260, bbox_mAP_m: 0.3030, bbox_mAP_l: 0.3140, bbox_mAP_copypaste: 0.140 0.296 0.118 0.126 0.303 0.314\n",
      "2022-11-17 17:55:07,195 - mmdet - INFO - Epoch [8][100/2732]\tlr: 5.000e-06, eta: 0:53:21, time: 0.408, data_time: 0.080, memory: 12508, loss_cls: 0.6189, loss_bbox: 2.7197, loss_obj: 2.6636, loss: 6.0022\n",
      "2022-11-17 17:55:44,587 - mmdet - INFO - Epoch [8][200/2732]\tlr: 5.000e-06, eta: 0:52:40, time: 0.374, data_time: 0.070, memory: 12508, loss_cls: 0.6215, loss_bbox: 2.8057, loss_obj: 2.6934, loss: 6.1206\n",
      "2022-11-17 17:56:22,186 - mmdet - INFO - Epoch [8][300/2732]\tlr: 5.000e-06, eta: 0:52:00, time: 0.376, data_time: 0.056, memory: 12508, loss_cls: 0.6173, loss_bbox: 2.7408, loss_obj: 2.7078, loss: 6.0659\n",
      "2022-11-17 17:56:59,708 - mmdet - INFO - Epoch [8][400/2732]\tlr: 5.000e-06, eta: 0:51:20, time: 0.375, data_time: 0.069, memory: 12508, loss_cls: 0.6203, loss_bbox: 2.7736, loss_obj: 2.7522, loss: 6.1461\n",
      "2022-11-17 17:57:37,213 - mmdet - INFO - Epoch [8][500/2732]\tlr: 5.000e-06, eta: 0:50:39, time: 0.375, data_time: 0.058, memory: 12508, loss_cls: 0.6185, loss_bbox: 2.7349, loss_obj: 2.7257, loss: 6.0791\n",
      "2022-11-17 17:58:15,058 - mmdet - INFO - Epoch [8][600/2732]\tlr: 5.000e-06, eta: 0:49:59, time: 0.378, data_time: 0.064, memory: 12508, loss_cls: 0.6215, loss_bbox: 2.7543, loss_obj: 2.6753, loss: 6.0511\n",
      "2022-11-17 17:58:52,186 - mmdet - INFO - Epoch [8][700/2732]\tlr: 5.000e-06, eta: 0:49:19, time: 0.372, data_time: 0.054, memory: 12508, loss_cls: 0.6190, loss_bbox: 2.7588, loss_obj: 2.7029, loss: 6.0807\n",
      "2022-11-17 17:59:30,070 - mmdet - INFO - Epoch [8][800/2732]\tlr: 5.000e-06, eta: 0:48:39, time: 0.379, data_time: 0.060, memory: 12508, loss_cls: 0.6133, loss_bbox: 2.6891, loss_obj: 2.6346, loss: 5.9370\n",
      "2022-11-17 18:00:07,972 - mmdet - INFO - Epoch [8][900/2732]\tlr: 5.000e-06, eta: 0:47:59, time: 0.379, data_time: 0.061, memory: 12508, loss_cls: 0.6157, loss_bbox: 2.7120, loss_obj: 2.7077, loss: 6.0354\n",
      "2022-11-17 18:00:45,491 - mmdet - INFO - Epoch [8][1000/2732]\tlr: 5.000e-06, eta: 0:47:18, time: 0.376, data_time: 0.065, memory: 12508, loss_cls: 0.6190, loss_bbox: 2.7625, loss_obj: 2.7380, loss: 6.1194\n",
      "2022-11-17 18:01:22,648 - mmdet - INFO - Epoch [8][1100/2732]\tlr: 5.000e-06, eta: 0:46:38, time: 0.371, data_time: 0.053, memory: 12508, loss_cls: 0.6221, loss_bbox: 2.7985, loss_obj: 2.7791, loss: 6.1997\n",
      "2022-11-17 18:02:00,232 - mmdet - INFO - Epoch [8][1200/2732]\tlr: 5.000e-06, eta: 0:45:58, time: 0.376, data_time: 0.074, memory: 12508, loss_cls: 0.6212, loss_bbox: 2.7906, loss_obj: 2.6990, loss: 6.1108\n",
      "2022-11-17 18:02:37,917 - mmdet - INFO - Epoch [8][1300/2732]\tlr: 5.000e-06, eta: 0:45:18, time: 0.377, data_time: 0.071, memory: 12508, loss_cls: 0.6209, loss_bbox: 2.7933, loss_obj: 2.6900, loss: 6.1042\n",
      "2022-11-17 18:03:15,346 - mmdet - INFO - Epoch [8][1400/2732]\tlr: 5.000e-06, eta: 0:44:38, time: 0.375, data_time: 0.058, memory: 12508, loss_cls: 0.6156, loss_bbox: 2.7242, loss_obj: 2.6664, loss: 6.0063\n",
      "2022-11-17 18:03:52,551 - mmdet - INFO - Epoch [8][1500/2732]\tlr: 5.000e-06, eta: 0:43:58, time: 0.372, data_time: 0.061, memory: 12508, loss_cls: 0.6211, loss_bbox: 2.8148, loss_obj: 2.6838, loss: 6.1198\n",
      "2022-11-17 18:04:30,152 - mmdet - INFO - Epoch [8][1600/2732]\tlr: 5.000e-06, eta: 0:43:18, time: 0.376, data_time: 0.068, memory: 12508, loss_cls: 0.6172, loss_bbox: 2.7516, loss_obj: 2.7222, loss: 6.0909\n",
      "2022-11-17 18:05:07,499 - mmdet - INFO - Epoch [8][1700/2732]\tlr: 5.000e-06, eta: 0:42:38, time: 0.373, data_time: 0.064, memory: 12508, loss_cls: 0.6169, loss_bbox: 2.7309, loss_obj: 2.6727, loss: 6.0206\n",
      "2022-11-17 18:05:45,464 - mmdet - INFO - Epoch [8][1800/2732]\tlr: 5.000e-06, eta: 0:41:58, time: 0.379, data_time: 0.067, memory: 12508, loss_cls: 0.6158, loss_bbox: 2.7304, loss_obj: 2.6663, loss: 6.0125\n",
      "2022-11-17 18:06:22,868 - mmdet - INFO - Epoch [8][1900/2732]\tlr: 5.000e-06, eta: 0:41:18, time: 0.375, data_time: 0.056, memory: 12508, loss_cls: 0.6143, loss_bbox: 2.7093, loss_obj: 2.6790, loss: 6.0026\n",
      "2022-11-17 18:07:00,484 - mmdet - INFO - Epoch [8][2000/2732]\tlr: 5.000e-06, eta: 0:40:38, time: 0.376, data_time: 0.061, memory: 12508, loss_cls: 0.6175, loss_bbox: 2.7160, loss_obj: 2.7424, loss: 6.0759\n",
      "2022-11-17 18:07:40,340 - mmdet - INFO - Epoch [8][2100/2732]\tlr: 5.000e-06, eta: 0:39:59, time: 0.399, data_time: 0.084, memory: 12508, loss_cls: 0.6185, loss_bbox: 2.7345, loss_obj: 2.7349, loss: 6.0879\n",
      "2022-11-17 18:08:24,336 - mmdet - INFO - Epoch [8][2200/2732]\tlr: 5.000e-06, eta: 0:39:21, time: 0.440, data_time: 0.136, memory: 12508, loss_cls: 0.6193, loss_bbox: 2.7786, loss_obj: 2.6958, loss: 6.0936\n",
      "2022-11-17 18:09:03,855 - mmdet - INFO - Epoch [8][2300/2732]\tlr: 5.000e-06, eta: 0:38:42, time: 0.396, data_time: 0.091, memory: 12508, loss_cls: 0.6206, loss_bbox: 2.7992, loss_obj: 2.6929, loss: 6.1127\n",
      "2022-11-17 18:09:47,757 - mmdet - INFO - Epoch [8][2400/2732]\tlr: 5.000e-06, eta: 0:38:03, time: 0.439, data_time: 0.126, memory: 12508, loss_cls: 0.6163, loss_bbox: 2.7253, loss_obj: 2.6766, loss: 6.0183\n",
      "2022-11-17 18:10:28,490 - mmdet - INFO - Epoch [8][2500/2732]\tlr: 5.000e-06, eta: 0:37:24, time: 0.407, data_time: 0.097, memory: 12508, loss_cls: 0.6214, loss_bbox: 2.7694, loss_obj: 2.7010, loss: 6.0918\n",
      "2022-11-17 18:11:09,984 - mmdet - INFO - Epoch [8][2600/2732]\tlr: 5.000e-06, eta: 0:36:45, time: 0.415, data_time: 0.117, memory: 12508, loss_cls: 0.6175, loss_bbox: 2.7453, loss_obj: 2.6546, loss: 6.0175\n",
      "2022-11-17 18:11:52,349 - mmdet - INFO - Epoch [8][2700/2732]\tlr: 5.000e-06, eta: 0:36:07, time: 0.423, data_time: 0.126, memory: 12508, loss_cls: 0.6211, loss_bbox: 2.7707, loss_obj: 2.6594, loss: 6.0513\n",
      "2022-11-17 18:12:04,604 - mmdet - INFO - Saving checkpoint at 8 epochs\n"
     ]
    },
    {
     "name": "stdout",
     "output_type": "stream",
     "text": [
      "[>>>>>>>>>>>>>>>>>>>>>>>>] 10000/10000, 37.8 task/s, elapsed: 265s, ETA:     0s"
     ]
    },
    {
     "name": "stderr",
     "output_type": "stream",
     "text": [
      "2022-11-17 18:16:44,975 - mmdet - INFO - Evaluating bbox...\n"
     ]
    },
    {
     "name": "stdout",
     "output_type": "stream",
     "text": [
      "Loading and preparing results...\n",
      "DONE (t=1.56s)\n",
      "creating index...\n",
      "index created!\n",
      "Running per image evaluation...\n",
      "Evaluate annotation type *bbox*\n",
      "DONE (t=104.01s).\n",
      "Accumulating evaluation results...\n"
     ]
    },
    {
     "name": "stderr",
     "output_type": "stream",
     "text": [
      "2022-11-17 18:18:50,321 - mmdet - INFO - \n",
      " Average Precision  (AP) @[ IoU=0.50:0.95 | area=   all | maxDets=100 ] = 0.141\n",
      " Average Precision  (AP) @[ IoU=0.50      | area=   all | maxDets=1000 ] = 0.298\n",
      " Average Precision  (AP) @[ IoU=0.75      | area=   all | maxDets=1000 ] = 0.120\n",
      " Average Precision  (AP) @[ IoU=0.50:0.95 | area= small | maxDets=1000 ] = 0.128\n",
      " Average Precision  (AP) @[ IoU=0.50:0.95 | area=medium | maxDets=1000 ] = 0.307\n",
      " Average Precision  (AP) @[ IoU=0.50:0.95 | area= large | maxDets=1000 ] = 0.318\n",
      " Average Recall     (AR) @[ IoU=0.50:0.95 | area=   all | maxDets=100 ] = 0.305\n",
      " Average Recall     (AR) @[ IoU=0.50:0.95 | area=   all | maxDets=300 ] = 0.322\n",
      " Average Recall     (AR) @[ IoU=0.50:0.95 | area=   all | maxDets=1000 ] = 0.324\n",
      " Average Recall     (AR) @[ IoU=0.50:0.95 | area= small | maxDets=1000 ] = 0.303\n",
      " Average Recall     (AR) @[ IoU=0.50:0.95 | area=medium | maxDets=1000 ] = 0.553\n",
      " Average Recall     (AR) @[ IoU=0.50:0.95 | area= large | maxDets=1000 ] = 0.560\n",
      "\n"
     ]
    },
    {
     "name": "stdout",
     "output_type": "stream",
     "text": [
      "DONE (t=15.93s).\n"
     ]
    },
    {
     "name": "stderr",
     "output_type": "stream",
     "text": [
      "2022-11-17 18:18:50,831 - mmdet - INFO - The previous best checkpoint D:\\Homework\\course_cvdl\\task3\\workdirs\\yolox_s_8x8_300e_coco\\best_bbox_mAP_epoch_7.pth was removed\n",
      "2022-11-17 18:18:53,597 - mmdet - INFO - Now best checkpoint is saved as best_bbox_mAP_epoch_8.pth.\n",
      "2022-11-17 18:18:53,598 - mmdet - INFO - Best bbox_mAP is 0.1410 at 8 epoch.\n",
      "2022-11-17 18:18:53,599 - mmdet - INFO - Epoch(val) [8][10000]\tbbox_mAP: 0.1410, bbox_mAP_50: 0.2980, bbox_mAP_75: 0.1200, bbox_mAP_s: 0.1280, bbox_mAP_m: 0.3070, bbox_mAP_l: 0.3180, bbox_mAP_copypaste: 0.141 0.298 0.120 0.128 0.307 0.318\n",
      "2022-11-17 18:19:41,348 - mmdet - INFO - Epoch [9][100/2732]\tlr: 5.000e-06, eta: 0:35:14, time: 0.476, data_time: 0.165, memory: 12508, loss_cls: 0.6187, loss_bbox: 2.7501, loss_obj: 2.7204, loss: 6.0892\n",
      "2022-11-17 18:20:26,450 - mmdet - INFO - Epoch [9][200/2732]\tlr: 5.000e-06, eta: 0:34:36, time: 0.451, data_time: 0.155, memory: 12508, loss_cls: 0.6200, loss_bbox: 2.7635, loss_obj: 2.7211, loss: 6.1045\n",
      "2022-11-17 18:21:09,464 - mmdet - INFO - Epoch [9][300/2732]\tlr: 5.000e-06, eta: 0:33:57, time: 0.430, data_time: 0.137, memory: 12508, loss_cls: 0.6191, loss_bbox: 2.8150, loss_obj: 2.7087, loss: 6.1428\n",
      "2022-11-17 18:21:53,037 - mmdet - INFO - Epoch [9][400/2732]\tlr: 5.000e-06, eta: 0:33:18, time: 0.436, data_time: 0.117, memory: 12508, loss_cls: 0.6151, loss_bbox: 2.6884, loss_obj: 2.6630, loss: 5.9664\n",
      "2022-11-17 18:22:32,630 - mmdet - INFO - Epoch [9][500/2732]\tlr: 5.000e-06, eta: 0:32:39, time: 0.396, data_time: 0.067, memory: 12508, loss_cls: 0.6137, loss_bbox: 2.7037, loss_obj: 2.6867, loss: 6.0041\n",
      "2022-11-17 18:23:12,111 - mmdet - INFO - Epoch [9][600/2732]\tlr: 5.000e-06, eta: 0:32:00, time: 0.395, data_time: 0.082, memory: 12508, loss_cls: 0.6129, loss_bbox: 2.7042, loss_obj: 2.6937, loss: 6.0108\n",
      "2022-11-17 18:23:50,817 - mmdet - INFO - Epoch [9][700/2732]\tlr: 5.000e-06, eta: 0:31:20, time: 0.387, data_time: 0.069, memory: 12508, loss_cls: 0.6162, loss_bbox: 2.7186, loss_obj: 2.7024, loss: 6.0373\n",
      "2022-11-17 18:24:28,819 - mmdet - INFO - Epoch [9][800/2732]\tlr: 5.000e-06, eta: 0:30:40, time: 0.380, data_time: 0.076, memory: 12508, loss_cls: 0.6177, loss_bbox: 2.7752, loss_obj: 2.6728, loss: 6.0656\n",
      "2022-11-17 18:25:06,971 - mmdet - INFO - Epoch [9][900/2732]\tlr: 5.000e-06, eta: 0:30:00, time: 0.381, data_time: 0.057, memory: 12508, loss_cls: 0.6147, loss_bbox: 2.6986, loss_obj: 2.6713, loss: 5.9845\n",
      "2022-11-17 18:25:44,845 - mmdet - INFO - Epoch [9][1000/2732]\tlr: 5.000e-06, eta: 0:29:21, time: 0.379, data_time: 0.068, memory: 12508, loss_cls: 0.6178, loss_bbox: 2.7584, loss_obj: 2.6486, loss: 6.0249\n",
      "2022-11-17 18:26:23,488 - mmdet - INFO - Epoch [9][1100/2732]\tlr: 5.000e-06, eta: 0:28:41, time: 0.387, data_time: 0.087, memory: 12508, loss_cls: 0.6166, loss_bbox: 2.7641, loss_obj: 2.6830, loss: 6.0638\n",
      "2022-11-17 18:27:01,310 - mmdet - INFO - Epoch [9][1200/2732]\tlr: 5.000e-06, eta: 0:28:01, time: 0.379, data_time: 0.075, memory: 12508, loss_cls: 0.6179, loss_bbox: 2.7713, loss_obj: 2.6275, loss: 6.0167\n",
      "2022-11-17 18:27:39,450 - mmdet - INFO - Epoch [9][1300/2732]\tlr: 5.000e-06, eta: 0:27:22, time: 0.381, data_time: 0.074, memory: 12508, loss_cls: 0.6208, loss_bbox: 2.7670, loss_obj: 2.6469, loss: 6.0347\n",
      "2022-11-17 18:28:16,763 - mmdet - INFO - Epoch [9][1400/2732]\tlr: 5.000e-06, eta: 0:26:42, time: 0.373, data_time: 0.054, memory: 12508, loss_cls: 0.6139, loss_bbox: 2.6917, loss_obj: 2.6573, loss: 5.9629\n",
      "2022-11-17 18:28:54,424 - mmdet - INFO - Epoch [9][1500/2732]\tlr: 5.000e-06, eta: 0:26:02, time: 0.377, data_time: 0.072, memory: 12508, loss_cls: 0.6204, loss_bbox: 2.7936, loss_obj: 2.7221, loss: 6.1361\n",
      "2022-11-17 18:29:32,361 - mmdet - INFO - Epoch [9][1600/2732]\tlr: 5.000e-06, eta: 0:25:22, time: 0.379, data_time: 0.067, memory: 12508, loss_cls: 0.6152, loss_bbox: 2.7246, loss_obj: 2.6753, loss: 6.0151\n",
      "2022-11-17 18:30:10,173 - mmdet - INFO - Epoch [9][1700/2732]\tlr: 5.000e-06, eta: 0:24:43, time: 0.378, data_time: 0.067, memory: 12508, loss_cls: 0.6150, loss_bbox: 2.7045, loss_obj: 2.6923, loss: 6.0117\n",
      "2022-11-17 18:30:48,077 - mmdet - INFO - Epoch [9][1800/2732]\tlr: 5.000e-06, eta: 0:24:03, time: 0.378, data_time: 0.059, memory: 12508, loss_cls: 0.6172, loss_bbox: 2.7273, loss_obj: 2.6675, loss: 6.0119\n",
      "2022-11-17 18:31:26,031 - mmdet - INFO - Epoch [9][1900/2732]\tlr: 5.000e-06, eta: 0:23:23, time: 0.380, data_time: 0.069, memory: 12508, loss_cls: 0.6157, loss_bbox: 2.7402, loss_obj: 2.6178, loss: 5.9738\n",
      "2022-11-17 18:32:04,313 - mmdet - INFO - Epoch [9][2000/2732]\tlr: 5.000e-06, eta: 0:22:44, time: 0.382, data_time: 0.076, memory: 12508, loss_cls: 0.6160, loss_bbox: 2.7376, loss_obj: 2.6193, loss: 5.9729\n",
      "2022-11-17 18:32:44,036 - mmdet - INFO - Epoch [9][2100/2732]\tlr: 5.000e-06, eta: 0:22:05, time: 0.397, data_time: 0.103, memory: 12508, loss_cls: 0.6193, loss_bbox: 2.7851, loss_obj: 2.7140, loss: 6.1184\n",
      "2022-11-17 18:33:21,937 - mmdet - INFO - Epoch [9][2200/2732]\tlr: 5.000e-06, eta: 0:21:25, time: 0.380, data_time: 0.074, memory: 12508, loss_cls: 0.6140, loss_bbox: 2.7147, loss_obj: 2.6605, loss: 5.9893\n",
      "2022-11-17 18:33:59,274 - mmdet - INFO - Epoch [9][2300/2732]\tlr: 5.000e-06, eta: 0:20:45, time: 0.373, data_time: 0.059, memory: 12508, loss_cls: 0.6169, loss_bbox: 2.7421, loss_obj: 2.6783, loss: 6.0374\n",
      "2022-11-17 18:34:39,802 - mmdet - INFO - Epoch [9][2400/2732]\tlr: 5.000e-06, eta: 0:20:06, time: 0.405, data_time: 0.095, memory: 12508, loss_cls: 0.6148, loss_bbox: 2.7242, loss_obj: 2.6902, loss: 6.0291\n",
      "2022-11-17 18:35:18,678 - mmdet - INFO - Epoch [9][2500/2732]\tlr: 5.000e-06, eta: 0:19:27, time: 0.389, data_time: 0.073, memory: 12508, loss_cls: 0.6154, loss_bbox: 2.6974, loss_obj: 2.7142, loss: 6.0271\n",
      "2022-11-17 18:35:57,767 - mmdet - INFO - Epoch [9][2600/2732]\tlr: 5.000e-06, eta: 0:18:47, time: 0.390, data_time: 0.085, memory: 12508, loss_cls: 0.6179, loss_bbox: 2.7794, loss_obj: 2.6732, loss: 6.0705\n",
      "2022-11-17 18:36:36,501 - mmdet - INFO - Epoch [9][2700/2732]\tlr: 5.000e-06, eta: 0:18:08, time: 0.387, data_time: 0.058, memory: 12508, loss_cls: 0.6134, loss_bbox: 2.6915, loss_obj: 2.6969, loss: 6.0019\n",
      "2022-11-17 18:36:47,731 - mmdet - INFO - Saving checkpoint at 9 epochs\n"
     ]
    },
    {
     "name": "stdout",
     "output_type": "stream",
     "text": [
      "[>>>>>>>>>>>>>>>>>>>>>>>>] 10000/10000, 37.3 task/s, elapsed: 268s, ETA:     0s"
     ]
    },
    {
     "name": "stderr",
     "output_type": "stream",
     "text": [
      "2022-11-17 18:41:32,772 - mmdet - INFO - Evaluating bbox...\n"
     ]
    },
    {
     "name": "stdout",
     "output_type": "stream",
     "text": [
      "Loading and preparing results...\n",
      "DONE (t=1.49s)\n",
      "creating index...\n",
      "index created!\n",
      "Running per image evaluation...\n",
      "Evaluate annotation type *bbox*\n",
      "DONE (t=104.83s).\n",
      "Accumulating evaluation results...\n"
     ]
    },
    {
     "name": "stderr",
     "output_type": "stream",
     "text": [
      "2022-11-17 18:43:38,810 - mmdet - INFO - \n",
      " Average Precision  (AP) @[ IoU=0.50:0.95 | area=   all | maxDets=100 ] = 0.143\n",
      " Average Precision  (AP) @[ IoU=0.50      | area=   all | maxDets=1000 ] = 0.301\n",
      " Average Precision  (AP) @[ IoU=0.75      | area=   all | maxDets=1000 ] = 0.121\n",
      " Average Precision  (AP) @[ IoU=0.50:0.95 | area= small | maxDets=1000 ] = 0.129\n",
      " Average Precision  (AP) @[ IoU=0.50:0.95 | area=medium | maxDets=1000 ] = 0.310\n",
      " Average Precision  (AP) @[ IoU=0.50:0.95 | area= large | maxDets=1000 ] = 0.322\n",
      " Average Recall     (AR) @[ IoU=0.50:0.95 | area=   all | maxDets=100 ] = 0.307\n",
      " Average Recall     (AR) @[ IoU=0.50:0.95 | area=   all | maxDets=300 ] = 0.323\n",
      " Average Recall     (AR) @[ IoU=0.50:0.95 | area=   all | maxDets=1000 ] = 0.326\n",
      " Average Recall     (AR) @[ IoU=0.50:0.95 | area= small | maxDets=1000 ] = 0.305\n",
      " Average Recall     (AR) @[ IoU=0.50:0.95 | area=medium | maxDets=1000 ] = 0.556\n",
      " Average Recall     (AR) @[ IoU=0.50:0.95 | area= large | maxDets=1000 ] = 0.566\n",
      "\n"
     ]
    },
    {
     "name": "stdout",
     "output_type": "stream",
     "text": [
      "DONE (t=15.91s).\n"
     ]
    },
    {
     "name": "stderr",
     "output_type": "stream",
     "text": [
      "2022-11-17 18:43:39,311 - mmdet - INFO - The previous best checkpoint D:\\Homework\\course_cvdl\\task3\\workdirs\\yolox_s_8x8_300e_coco\\best_bbox_mAP_epoch_8.pth was removed\n",
      "2022-11-17 18:43:41,096 - mmdet - INFO - Now best checkpoint is saved as best_bbox_mAP_epoch_9.pth.\n",
      "2022-11-17 18:43:41,097 - mmdet - INFO - Best bbox_mAP is 0.1430 at 9 epoch.\n",
      "2022-11-17 18:43:41,098 - mmdet - INFO - Epoch(val) [9][10000]\tbbox_mAP: 0.1430, bbox_mAP_50: 0.3010, bbox_mAP_75: 0.1210, bbox_mAP_s: 0.1290, bbox_mAP_m: 0.3100, bbox_mAP_l: 0.3220, bbox_mAP_copypaste: 0.143 0.301 0.121 0.129 0.310 0.322\n",
      "2022-11-17 18:44:22,008 - mmdet - INFO - Epoch [10][100/2732]\tlr: 5.000e-06, eta: 0:17:15, time: 0.408, data_time: 0.094, memory: 12508, loss_cls: 0.6169, loss_bbox: 2.7712, loss_obj: 2.6305, loss: 6.0186\n",
      "2022-11-17 18:44:59,096 - mmdet - INFO - Epoch [10][200/2732]\tlr: 5.000e-06, eta: 0:16:35, time: 0.370, data_time: 0.057, memory: 12508, loss_cls: 0.6153, loss_bbox: 2.7516, loss_obj: 2.6770, loss: 6.0439\n",
      "2022-11-17 18:45:36,496 - mmdet - INFO - Epoch [10][300/2732]\tlr: 5.000e-06, eta: 0:15:56, time: 0.374, data_time: 0.045, memory: 12508, loss_cls: 0.6120, loss_bbox: 2.6967, loss_obj: 2.6876, loss: 5.9963\n",
      "2022-11-17 18:46:13,644 - mmdet - INFO - Epoch [10][400/2732]\tlr: 5.000e-06, eta: 0:15:16, time: 0.372, data_time: 0.062, memory: 12508, loss_cls: 0.6141, loss_bbox: 2.6838, loss_obj: 2.6715, loss: 5.9694\n",
      "2022-11-17 18:46:51,060 - mmdet - INFO - Epoch [10][500/2732]\tlr: 5.000e-06, eta: 0:14:37, time: 0.374, data_time: 0.062, memory: 12508, loss_cls: 0.6144, loss_bbox: 2.7075, loss_obj: 2.6093, loss: 5.9312\n",
      "2022-11-17 18:47:28,476 - mmdet - INFO - Epoch [10][600/2732]\tlr: 5.000e-06, eta: 0:13:57, time: 0.374, data_time: 0.073, memory: 12508, loss_cls: 0.6181, loss_bbox: 2.8132, loss_obj: 2.6728, loss: 6.1041\n",
      "2022-11-17 18:48:06,308 - mmdet - INFO - Epoch [10][700/2732]\tlr: 5.000e-06, eta: 0:13:18, time: 0.378, data_time: 0.076, memory: 12508, loss_cls: 0.6150, loss_bbox: 2.7805, loss_obj: 2.6190, loss: 6.0145\n",
      "2022-11-17 18:48:44,407 - mmdet - INFO - Epoch [10][800/2732]\tlr: 5.000e-06, eta: 0:12:38, time: 0.381, data_time: 0.073, memory: 12508, loss_cls: 0.6191, loss_bbox: 2.7797, loss_obj: 2.6472, loss: 6.0460\n",
      "2022-11-17 18:49:22,069 - mmdet - INFO - Epoch [10][900/2732]\tlr: 5.000e-06, eta: 0:11:59, time: 0.377, data_time: 0.074, memory: 12508, loss_cls: 0.6153, loss_bbox: 2.7705, loss_obj: 2.6208, loss: 6.0066\n",
      "2022-11-17 18:49:58,558 - mmdet - INFO - Epoch [10][1000/2732]\tlr: 5.000e-06, eta: 0:11:20, time: 0.365, data_time: 0.064, memory: 12508, loss_cls: 0.6182, loss_bbox: 2.7930, loss_obj: 2.6868, loss: 6.0980\n",
      "2022-11-17 18:50:35,432 - mmdet - INFO - Epoch [10][1100/2732]\tlr: 5.000e-06, eta: 0:10:40, time: 0.369, data_time: 0.081, memory: 12508, loss_cls: 0.6229, loss_bbox: 2.8124, loss_obj: 2.6957, loss: 6.1310\n",
      "2022-11-17 18:51:12,607 - mmdet - INFO - Epoch [10][1200/2732]\tlr: 5.000e-06, eta: 0:10:01, time: 0.371, data_time: 0.057, memory: 12508, loss_cls: 0.6181, loss_bbox: 2.7149, loss_obj: 2.6880, loss: 6.0209\n",
      "2022-11-17 18:51:48,834 - mmdet - INFO - Epoch [10][1300/2732]\tlr: 5.000e-06, eta: 0:09:21, time: 0.363, data_time: 0.070, memory: 12508, loss_cls: 0.6197, loss_bbox: 2.7782, loss_obj: 2.6948, loss: 6.0927\n",
      "2022-11-17 18:52:25,597 - mmdet - INFO - Epoch [10][1400/2732]\tlr: 5.000e-06, eta: 0:08:42, time: 0.368, data_time: 0.059, memory: 12508, loss_cls: 0.6140, loss_bbox: 2.7225, loss_obj: 2.7014, loss: 6.0378\n",
      "2022-11-17 18:53:02,917 - mmdet - INFO - Epoch [10][1500/2732]\tlr: 5.000e-06, eta: 0:08:03, time: 0.372, data_time: 0.057, memory: 12508, loss_cls: 0.6126, loss_bbox: 2.6783, loss_obj: 2.6155, loss: 5.9064\n",
      "2022-11-17 18:53:39,501 - mmdet - INFO - Epoch [10][1600/2732]\tlr: 5.000e-06, eta: 0:07:23, time: 0.367, data_time: 0.065, memory: 12508, loss_cls: 0.6177, loss_bbox: 2.7800, loss_obj: 2.6338, loss: 6.0316\n",
      "2022-11-17 18:54:15,982 - mmdet - INFO - Epoch [10][1700/2732]\tlr: 5.000e-06, eta: 0:06:44, time: 0.365, data_time: 0.067, memory: 12508, loss_cls: 0.6112, loss_bbox: 2.6861, loss_obj: 2.6043, loss: 5.9016\n",
      "2022-11-17 18:54:52,774 - mmdet - INFO - Epoch [10][1800/2732]\tlr: 5.000e-06, eta: 0:06:05, time: 0.368, data_time: 0.067, memory: 12508, loss_cls: 0.6156, loss_bbox: 2.7321, loss_obj: 2.7160, loss: 6.0637\n",
      "2022-11-17 18:55:29,763 - mmdet - INFO - Epoch [10][1900/2732]\tlr: 5.000e-06, eta: 0:05:25, time: 0.370, data_time: 0.071, memory: 12508, loss_cls: 0.6178, loss_bbox: 2.7567, loss_obj: 2.7010, loss: 6.0754\n",
      "2022-11-17 18:56:06,756 - mmdet - INFO - Epoch [10][2000/2732]\tlr: 5.000e-06, eta: 0:04:46, time: 0.369, data_time: 0.077, memory: 12508, loss_cls: 0.6137, loss_bbox: 2.7345, loss_obj: 2.6620, loss: 6.0102\n",
      "2022-11-17 18:56:43,674 - mmdet - INFO - Epoch [10][2100/2732]\tlr: 5.000e-06, eta: 0:04:07, time: 0.370, data_time: 0.068, memory: 12508, loss_cls: 0.6154, loss_bbox: 2.7308, loss_obj: 2.6686, loss: 6.0148\n",
      "2022-11-17 18:57:20,570 - mmdet - INFO - Epoch [10][2200/2732]\tlr: 5.000e-06, eta: 0:03:28, time: 0.368, data_time: 0.056, memory: 12508, loss_cls: 0.6129, loss_bbox: 2.6825, loss_obj: 2.6556, loss: 5.9511\n",
      "2022-11-17 18:57:56,982 - mmdet - INFO - Epoch [10][2300/2732]\tlr: 5.000e-06, eta: 0:02:49, time: 0.365, data_time: 0.062, memory: 12508, loss_cls: 0.6145, loss_bbox: 2.7506, loss_obj: 2.6312, loss: 5.9962\n",
      "2022-11-17 18:58:33,595 - mmdet - INFO - Epoch [10][2400/2732]\tlr: 5.000e-06, eta: 0:02:09, time: 0.366, data_time: 0.072, memory: 12508, loss_cls: 0.6125, loss_bbox: 2.7091, loss_obj: 2.6020, loss: 5.9236\n",
      "2022-11-17 18:59:10,746 - mmdet - INFO - Epoch [10][2500/2732]\tlr: 5.000e-06, eta: 0:01:30, time: 0.371, data_time: 0.062, memory: 12508, loss_cls: 0.6124, loss_bbox: 2.6813, loss_obj: 2.6825, loss: 5.9763\n",
      "2022-11-17 18:59:47,351 - mmdet - INFO - Epoch [10][2600/2732]\tlr: 5.000e-06, eta: 0:00:51, time: 0.366, data_time: 0.055, memory: 12508, loss_cls: 0.6113, loss_bbox: 2.7011, loss_obj: 2.5771, loss: 5.8894\n",
      "2022-11-17 19:00:24,424 - mmdet - INFO - Epoch [10][2700/2732]\tlr: 5.000e-06, eta: 0:00:12, time: 0.371, data_time: 0.051, memory: 12508, loss_cls: 0.6119, loss_bbox: 2.6637, loss_obj: 2.6452, loss: 5.9208\n",
      "2022-11-17 19:00:35,317 - mmdet - INFO - Saving checkpoint at 10 epochs\n"
     ]
    },
    {
     "name": "stdout",
     "output_type": "stream",
     "text": [
      "[>>>>>>>>>>>>>>>>>>>>>>>>] 10000/10000, 36.0 task/s, elapsed: 278s, ETA:     0s"
     ]
    },
    {
     "name": "stderr",
     "output_type": "stream",
     "text": [
      "2022-11-17 19:05:29,236 - mmdet - INFO - Evaluating bbox...\n"
     ]
    },
    {
     "name": "stdout",
     "output_type": "stream",
     "text": [
      "Loading and preparing results...\n",
      "DONE (t=1.89s)\n",
      "creating index...\n",
      "index created!\n",
      "Running per image evaluation...\n",
      "Evaluate annotation type *bbox*\n",
      "DONE (t=103.86s).\n",
      "Accumulating evaluation results...\n"
     ]
    },
    {
     "name": "stderr",
     "output_type": "stream",
     "text": [
      "2022-11-17 19:07:34,557 - mmdet - INFO - \n",
      " Average Precision  (AP) @[ IoU=0.50:0.95 | area=   all | maxDets=100 ] = 0.144\n",
      " Average Precision  (AP) @[ IoU=0.50      | area=   all | maxDets=1000 ] = 0.303\n",
      " Average Precision  (AP) @[ IoU=0.75      | area=   all | maxDets=1000 ] = 0.123\n",
      " Average Precision  (AP) @[ IoU=0.50:0.95 | area= small | maxDets=1000 ] = 0.130\n",
      " Average Precision  (AP) @[ IoU=0.50:0.95 | area=medium | maxDets=1000 ] = 0.313\n",
      " Average Precision  (AP) @[ IoU=0.50:0.95 | area= large | maxDets=1000 ] = 0.322\n",
      " Average Recall     (AR) @[ IoU=0.50:0.95 | area=   all | maxDets=100 ] = 0.309\n",
      " Average Recall     (AR) @[ IoU=0.50:0.95 | area=   all | maxDets=300 ] = 0.325\n",
      " Average Recall     (AR) @[ IoU=0.50:0.95 | area=   all | maxDets=1000 ] = 0.328\n",
      " Average Recall     (AR) @[ IoU=0.50:0.95 | area= small | maxDets=1000 ] = 0.307\n",
      " Average Recall     (AR) @[ IoU=0.50:0.95 | area=medium | maxDets=1000 ] = 0.559\n",
      " Average Recall     (AR) @[ IoU=0.50:0.95 | area= large | maxDets=1000 ] = 0.567\n",
      "\n"
     ]
    },
    {
     "name": "stdout",
     "output_type": "stream",
     "text": [
      "DONE (t=16.10s).\n"
     ]
    },
    {
     "name": "stderr",
     "output_type": "stream",
     "text": [
      "2022-11-17 19:07:35,037 - mmdet - INFO - The previous best checkpoint D:\\Homework\\course_cvdl\\task3\\workdirs\\yolox_s_8x8_300e_coco\\best_bbox_mAP_epoch_9.pth was removed\n",
      "2022-11-17 19:07:36,853 - mmdet - INFO - Now best checkpoint is saved as best_bbox_mAP_epoch_10.pth.\n",
      "2022-11-17 19:07:36,854 - mmdet - INFO - Best bbox_mAP is 0.1440 at 10 epoch.\n",
      "2022-11-17 19:07:36,855 - mmdet - INFO - Epoch(val) [10][10000]\tbbox_mAP: 0.1440, bbox_mAP_50: 0.3030, bbox_mAP_75: 0.1230, bbox_mAP_s: 0.1300, bbox_mAP_m: 0.3130, bbox_mAP_l: 0.3220, bbox_mAP_copypaste: 0.144 0.303 0.123 0.130 0.313 0.322\n"
     ]
    }
   ],
   "source": [
    "cfg = load_config('yolox_s_8x8_300e_coco', data_path=data_path)\n",
    "train(cfg)"
   ],
   "metadata": {
    "collapsed": false,
    "pycharm": {
     "name": "#%%\n"
    }
   }
  }
 ],
 "metadata": {
  "kernelspec": {
   "display_name": "Python 3",
   "language": "python",
   "name": "python3"
  },
  "language_info": {
   "codemirror_mode": {
    "name": "ipython",
    "version": 2
   },
   "file_extension": ".py",
   "mimetype": "text/x-python",
   "name": "python",
   "nbconvert_exporter": "python",
   "pygments_lexer": "ipython2",
   "version": "2.7.6"
  }
 },
 "nbformat": 4,
 "nbformat_minor": 0
}